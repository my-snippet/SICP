{
 "cells": [
  {
   "cell_type": "markdown",
   "metadata": {},
   "source": [
    "1. 소개\n",
    "===\n",
    "\n",
    "이 문서는 SICP를 다룹니다. 책에 나온 개념과 예제를 다루며, 때로는 새롭게 문제를 정의해서 풀 예정입니다.  \n",
    "SICP의 공식언어는 Scheme이지만, Python, Haskell을 이용하여 문제를 풀어보기도 할 것입니다.\n",
    "\n",
    "***\n",
    "\n",
    "제목 : 컴퓨터 프로그램의 구조와 해석  \n",
    "원서 : Structure and Interpretation of Computer Programs  \n",
    "저자 : 해럴드 에빌슨, 제럴드 제이 서스먼, 줄리 서스먼  \n",
    "역자 : 김재우, 안윤호, 김수정, 김정민 이광근  \n",
    "출판사 : 인사이트  \n",
    "출판일 : 2008. 9  \n",
    "\n",
    "책 표지 뒷면에 크게 적혀있는 ‘컴퓨터과학 입문교과서'라는 말이 있지만, 이게 진정 입문서라면 대다수가 그    \n",
    "문을 열어보지도 못한 채 돌아서야 했을 것입니다. 다행히도 저의 전공 교수님들은 이 책을 입문서로 가르치지   \n",
    "않을 뿐 아니라, 다른 어느 과목에서도 가르치지 않습니다. 물론, 이 책은 대단한 책임에 틀림이 없습니다.   \n",
    "그렇지만 지금까지 가르쳐주지 않아준 것에 감사하고 있습니다. 그 덕분에 지금 이 책을 보고 있는 것 같습니다.  \n",
    "\n",
    "이전 버전의 소개에는 약간의 미사여구로 이 책을 공부하면서 얻을 수 있는 효과를 설명했는데(지금 이 문서는   \n",
    "다시 정렬하고 있는 중입니다), 그런 것은 자제하려고 합니다. 그 이유는 SICP이든, 함수형 언어이든, 함수형   \n",
    "프로그램이든, 포장된 경향을 보았기 때문입니다. 예를 들어, 어떤 포스트에는 'SICP N번은 보고와라'같은   \n",
    "무술 고수나 할 것 같은 명령 같은 조언이 있는가 하면, 또 다른 포스트에는 함수형언어를 하려면 명상을 하라는  \n",
    "마치 도인이 도닦는 것처럼 표현해놓은 조언 역시 보았습니다. 이런 유형의 글들은 보기에 따라 틀린 말은 아닐   \n",
    "수 있지만 맞는 말도 아니라고 생각합니다. 그런 사고방식보다는 [모나드 괴담](https://e.xtendo.org/haskell/ko/monad_fear/slide#1)에서 키노루님이 모나드에 대해   \n",
    "언급하신 것과 마찬가지로 이런 것들 역시 실용성에 무게를 두어 사용하는 것이 더 '실용적인' 자세인 것   \n",
    "같습니다. 신비화하여 묘사할 수록 사람들은 멀어질 것이라 생각합니다.    \n",
    "\n",
    "이 책은 약간 ['수학의 정석'](https://namu.wiki/w/%EC%88%98%ED%95%99%EC%9D%98%20%EC%A0%95%EC%84%9D)같은 느낌이 납니다. 여러 개념을 폭넓게 다루고 있고, 문제들이 많지는 않지만  \n",
    " 쉽지는 않은 책입니다. 그래서 그런지 '수학의정석'만큼이나 오해가 있는 것 같습니다. 이 책은 좋은 책이지만   \n",
    " 바이블이 아닙니다. 컨텐츠가 좋다고 해도 호불호가 갈릴 수 있는 책이고, 보면 좋지만 보지 않아도 별   \n",
    " 상관없다고 생각합니다.    \n",
    "\n",
    "***\n",
    "\n",
    "자비스가 밝히는 고차원 프로시저의 유용성\n",
    "===\n",
    "\n",
    "영화 ‘아이언맨’을 떠올려보았습니다. 만약 자비스가 말만 할 줄알고 멍청했다면 토니 스타크'를 귀찮게 했을  \n",
    "것입니다. 예를 들어, 토니스타크가 구해야 하는 신호가 있다고 가정합니다. 근데 그 함수가 너무 들쑥날쑥했기  \n",
    "때문에 자비스에게 신호 함수를 다듬으라고(smoothing) 명령합니다.\n",
    "\n",
    "> “자비스, 이 f에 smoothing을 n번 해둬.”\n",
    "\n",
    "이 때, 자비스가 똑똑하다면 말이 끝나기가 무섭게 연산 결과를 말해주겠지만 멍청한 자비스라면 먼저,  \n",
    "smoothing이 뭔지 물어볼 것입니다. 여기에 토니스타크가 'smoothing이란 $f(x_n)$를 그 주변 값  \n",
    "( $f(x_{n-1})$, $f(x_{n+1})$ )들과 평균한 것이라고 가르쳐 줄 수 있을 것입니다. 하지만 자비스가 멍청하다면  \n",
    "'그렇다면 평균은 무엇입니까?'하고 물어볼 것입니다. 이것은 여러번 주인을 귀찮게 해야 답을 구할 수가 있다는  \n",
    "뜻입니다.\n",
    "\n",
    "이렇듯 smoothing이라는 하나의 명령은 여러 하부 절차sub procedure로 이루어져 있는 묶음 프로시저  \n",
    "compound procedure입니다. 묶음 프로시저를 잘 만들면 사람을 귀찮게 안하고 원하는 일을 손쉽고   \n",
    "빠르게 할 수가 있습니다. 영화 속에 자비스는 묶음 프로시저로 가득할 것입니다.  \n",
    "\n",
    "***\n",
    "\n",
    "1장에서 해보는 것\n",
    "===\n",
    "\n",
    "프로시저를 만들어보는 여러가지 문제를 풀어봅니다.\n",
    "\n",
    "> 재귀-반복 연산 비교, n 제곱근 구하기, 반복함수, 합성함수, 최대 공약수, 소수 찾기, 파스칼의 삼각형  \n",
    "n번째 수 찾기, 이름 없는 함수 이용하기(lambda), 황금비 구하기, 돈을 여러 동전으로 바꾸기, 지수 함수  \n",
    "만들기, 지수 함수 값 빠르게 구하기, 이분법을 이용한 방정식의 해 찾기, 미분하기, 적분하기(simpson 공식  \n",
    "등 이용), 고정점 찾기를 이용한 여러가지 문제 풀이(삼각함수 값, n 제곱근), 연속 분수 프로시저를 이용한  \n",
    "문제 풀이(자연 상수 구하기, $tan(x)$ 값 구하기), 프로시저를 인자로 받아 더 고차원 프로시저로 만들기,  \n",
    "...\n",
    "\n",
    "등을 해보게 됩니다. 그 과정에서 (책에서 언급했듯이) ‘데이터’와 ‘프로시저’의 경계가 허물어진다고 합니다(?).\n",
    "\n",
    "***"
   ]
  },
  {
   "cell_type": "markdown",
   "metadata": {},
   "source": [
    "2. 개발 환경 설정( MAC OS X 기준 )\n",
    "===\n",
    "\n",
    "1) 터미널 환경이 익숙치 않은 경우\n",
    "---\n",
    "[Racket](http://www.racket-lang.org/)을 권합니다. GUI 에디터라서, 쓰기 편합니다. 그냥 설치만 하면 사용가능합니다.\n",
    "\n",
    "2) 터미널 환경이 익숙한 경우\n",
    "---\n",
    "Emacs로 [Mit-Scheme](https://www.gnu.org/software/mit-scheme/)을 사용하시길 권합니다. 라이브러리가 없어서 고생할 일은 없을 것입니다.  \n",
    "홈페이지에서 다운로드 받으시거나, `$ brew install mit-scheme`을 통해 설치 가능합니다.  \n",
    "\n",
    "\n",
    "### 2-1) Emacs 설정  \n",
    "`~/.emacs.d/init.el` 또는 `~/.emacs` 파일에 아래의 코드를 붙여넣습니다.\n",
    "```\n",
    "(setq scheme-program-name \"/usr/local/bin/mit-scheme\")\n",
    "(require 'xscheme)\n",
    "```\n",
    "\n",
    "### 2-2) Meta 키 설정( iTerm 사용시 )  \n",
    "만약, MAC OS X 환경에서 실행중이라면 옵션 키를 메타 키로 활성화해주시기 바랍니다. 예를들어 터미널로   \n",
    "iTerm을 사용하고 있다면, iTerm 북마크 바에서 `Preferences -> Profiles -> Keys ->   \n",
    "Left option key acts as:`를 +Esc로 맞춰주시면 됩니다.\n",
    "\n",
    "***\n",
    "\n",
    "3) 개발 환경 테스트\n",
    "---\n",
    "이 에디터 상에서(Jupyter) 테스트를 직접 구현하는 것이 바람직하겠지만, 약간 문제가 생겨서 추후에 개발  \n",
    "실력을 더 기른 뒤 Mit-Scheme용 커널을 만들어 테스트하도록 하겠습니다. 대신 [이전에 테스트한 자료](http://wikibootup.github.io/sicp/Q-mit-scheme-in-emacs.html)로  \n",
    "대체하겠습니다. \n",
    "\n",
    "- 문제 1. Jupyter와 Emacs 설정이 호환되지 않는 다는 점,  \n",
    "- 문제 2. 현재 사용하는 커널인 [calysto_scheme](https://github.com/wikibootup/calysto_scheme)은 Mit-Scheme에 맞춰져 있지 않다는 점\n",
    "\n",
    "***"
   ]
  },
  {
   "cell_type": "markdown",
   "metadata": {},
   "source": [
    "3. Basic concepts\n",
    "===\n",
    "\n",
    "마법사 책이라 불리는 이유?\n",
    "===\n",
    "1장 도입부를 다소 낭만적인(철학적인) 이야기로 시작하는 것이 흥미롭습니다. [인간오성론의 한 부분](http://sarabander.github.io/sicp/html/Chapter-1.xhtml#Chapter-1)을   \n",
    "인용했는데, 이것은 아이디어를 프로시저에 비유할 수 있기 때문에 발췌한 것 같습니다. 그리고는 1장을 펼치면,   \n",
    "더 낭만적이되어, 프로그램을 마법에 비유하여 설명합니다. \"우리는 컴퓨터의 혼을 만들어내는 사람들이다( we   \n",
    "conjure the spirits of the computer with our spells )\". 하지만 이 첫 장 이후로는 이런 이야기는 나오지  \n",
    "않습니다. 어쩌면 지쳤을 때 첫 장을 펴보고 힘 좀 내라고 이런 글을만들었는지도 모르겠습니다.  \n",
    "\n",
    "\n",
    "데이터와 프로시저  \n",
    "===  \n",
    "이 책에서 __프로시저__라고 부르는 것은 타 프로그래밍 언어에서 말하는 '함수'와 거의 같습니다. 구분하려 애쓰지   \n",
    "않아도 상관없습니다. '프로시저를 데이터처럼 쓴다'가 이 장의 주요 주제라는 생각을 합니다. 이 말은 일련의  \n",
    "프로세스의 결과(수행된 프로시저)를 개발자에겐 하나의 프로시저 이름으로, 컴퓨터에겐 하나의 값으로 사용한다는  \n",
    "말입니다. 이 말은 함수형 프로그래밍과 연관이 있습니다. 그래서 함수형 언어의 개념을 소개하는 장이기도 합니다.  \n",
    "\n",
    "The Elements of Programming\n",
    "===\n",
    "개발자는 식Expression을 만드는 사람이고, 계산Evaluation은 컴퓨터가 합니다. 그리고 식과 계산 사이에는  \n",
    "Evaluator라고 불리는 계산을 하는 프로그램이 있어, 이 둘 사이를 이어주는 역할을 합니다. 4장 이후에  \n",
    "본격적으로 계산을 하는 프로그램Evaluator을 만듭니다. 결국 '하나의 시스템을 이루는 커다란 프로그램은 그   \n",
    "시스템을 위한 언어실행기'라는 정의를 내리는 부분에 다다르면 새삼 놀랍게 느껴질 것입니다.  \n",
    "\n",
    "'인자 먼저' 또는 '정의대로'\n",
    "===\n",
    "'정의대로 계산법'Normal-order evaluation은 [게으른 계산lazy evaluation, or call-by-need](https://en.wikipedia.org/wiki/Lazy_evaluation)  \n",
    "이라고 불리는 함수형 언어의 특성으로 이어집니다. SICP에서는 3장에서 스트림을 통해서 그 응용을 해보게  \n",
    "됩니다. * 필요할 때 더 불러쓴다는( more evaluation by need ) 개념은 하스켈에서는 기본으로 하고 있고,  \n",
    "파이썬에서는 제너레이터를 이용하여 구현이 가능할 것입니다.   \n",
    "\n",
    "Compound & Abstraction\n",
    "===\n",
    "객체지향 프로그래밍을 생각해보겠습니다. 개발자는 하나의 사물 또는 공통된 성질을 가진 데이터를 모아 클래스를   \n",
    "만듭니다. 예를 들어, '가수'라는 클래스 안에는 가수 이름, 음악 장르, 소속사 등의 속성들을 넣을 수 있을 것  \n",
    "입니다. 그리고 '가수'는 여러 직업 중에 하나이므로 '직업'이라는 상위 클래스로부터 상속을 받을 수도 있을 것  \n",
    "입니다.   \n"
   ]
  },
  {
   "cell_type": "code",
   "execution_count": 1,
   "metadata": {
    "collapsed": false
   },
   "outputs": [
    {
     "name": "stdout",
     "output_type": "stream",
     "text": [
      "Boys 2 Men is the best R&B group\n"
     ]
    }
   ],
   "source": [
    "# reference for Compound & Abstraction\n",
    "\n",
    "class Job:\n",
    "    def __init__(self, job, wage):\n",
    "        self.job = job\n",
    "        self.wage = wage\n",
    "        \n",
    "        \n",
    "class Singer(Job):\n",
    "    def __init__(self, name, genre, agency=\"\", members=1, wage=0):\n",
    "        super(Singer, self).__init__(\"singer\", wage)\n",
    "        self.name = name\n",
    "        self.genre = genre\n",
    "        self.agency = agency\n",
    "        self.members = members\n",
    "        \n",
    "    @property\n",
    "    def isGroup(self):\n",
    "        if self.members == 1:\n",
    "            return \"singer\"\n",
    "        elif self.members > 1:\n",
    "            return \"group\"\n",
    "        else:\n",
    "            raise ValueError(\"No available value, at least 1 member required\")\n",
    "        \n",
    "        \n",
    "boys2men = Singer(name=\"Boys 2 Men\", genre=\"R&B\", members=3)\n",
    "print(\"%s is the best %s %s\" % (boys2men.name, boys2men.genre, \n",
    "                                boys2men.isGroup))"
   ]
  },
  {
   "cell_type": "markdown",
   "metadata": {},
   "source": [
    "이처럼 가수와 직업이라는 클래스는 서로 관계가 있는 복합Compound 관계가 있음을 알 수 있습니다. 함수형  \n",
    "언어에서도 이처럼 개념이 서로 뭉쳐서Compound 하나로 표현Abstraction되는 개념을 가지고 있습니다.   \n",
    "프로시저를 데이터처럼 쓴다는 개념을 이용하면 더 큰 단위의 프로시저에서 작은 프로시저들을 사용하기   \n",
    "수월해진다는 것을 알 수 있습니다. ( 클래스에서의 상속 관계와는 다릅니다 )  \n",
    "\n",
    "***"
   ]
  },
  {
   "cell_type": "markdown",
   "metadata": {},
   "source": [
    "4. 문제풀이\n",
    "==="
   ]
  },
  {
   "cell_type": "markdown",
   "metadata": {},
   "source": [
    "***\n",
    "\n",
    "Exercise 1.4\n",
    "===\n",
    "프로시저를 데이터처럼 쓴다는 것이 무엇인지 보여주는 예제입니다. 더하기+, 빼기- 같은 연산자가  \n",
    "술어Predicate와 식 사이에서 어떻게 상호작용하는지 볼 수 있는 예제입니다."
   ]
  },
  {
   "cell_type": "code",
   "execution_count": 1,
   "metadata": {
    "collapsed": false
   },
   "outputs": [],
   "source": [
    "(define (a-plus-abs-b a b)\n",
    "  ((if (> b 0) + -) a b))"
   ]
  },
  {
   "cell_type": "code",
   "execution_count": 2,
   "metadata": {
    "collapsed": false
   },
   "outputs": [
    {
     "data": {
      "text/plain": [
       "2"
      ]
     },
     "execution_count": 2,
     "metadata": {},
     "output_type": "execute_result"
    }
   ],
   "source": [
    ";; a = 1, b = {-1, 0, 1}\n",
    "(a-plus-abs-b 1 (- 1))"
   ]
  },
  {
   "cell_type": "code",
   "execution_count": 3,
   "metadata": {
    "collapsed": false
   },
   "outputs": [
    {
     "data": {
      "text/plain": [
       "1"
      ]
     },
     "execution_count": 3,
     "metadata": {},
     "output_type": "execute_result"
    }
   ],
   "source": [
    "(a-plus-abs-b 1 0)"
   ]
  },
  {
   "cell_type": "code",
   "execution_count": 4,
   "metadata": {
    "collapsed": false
   },
   "outputs": [
    {
     "data": {
      "text/plain": [
       "2"
      ]
     },
     "execution_count": 4,
     "metadata": {},
     "output_type": "execute_result"
    }
   ],
   "source": [
    "(a-plus-abs-b 1 1)"
   ]
  },
  {
   "cell_type": "markdown",
   "metadata": {},
   "source": [
    "***\n",
    "\n",
    "Exercise 1.5\n",
    "===\n",
    "지금까지 말한 것을 보면 scheme은 함수형언어이고, 게으른 계산 방식을 가지고 있어야 할 것 같지만  \n",
    "그렇지는 않습니다. '인자 먼저' 입니다. 따라서 아래의 식을 계산하면 0이 아니라 프로시저 p에 의해  \n",
    "무한루프에 빠집니다. * 하스켈 버전과 비교해보면 차이점이 분명하게 보입니다."
   ]
  },
  {
   "cell_type": "code",
   "execution_count": 1,
   "metadata": {
    "collapsed": false
   },
   "outputs": [],
   "source": [
    ";; Scheme : Applicative order\n",
    "\n",
    "(define (p) (p))\n",
    "\n",
    "(define (test x y)\n",
    "  (if (= x 0)\n",
    "      0\n",
    "      y))\n",
    "\n",
    ";; (test 0 (p))"
   ]
  },
  {
   "cell_type": "code",
   "execution_count": 1,
   "metadata": {
    "collapsed": true
   },
   "outputs": [],
   "source": [
    ";; Python : Applicative order\n",
    "\n",
    "def p():\n",
    "    return p()\n",
    "    \n",
    "def test(x, y):\n",
    "    if x == 0:\n",
    "        return 0\n",
    "    else:\n",
    "        return y\n",
    "\n",
    "# test(0, p())"
   ]
  },
  {
   "cell_type": "code",
   "execution_count": 1,
   "metadata": {
    "collapsed": false
   },
   "outputs": [
    {
     "data": {
      "text/plain": [
       "0"
      ]
     },
     "metadata": {},
     "output_type": "display_data"
    }
   ],
   "source": [
    "-- Haskell : Normal order(Lazy Evaluaton)\n",
    "\n",
    "p = p\n",
    "test x y =\n",
    "    if x == 0\n",
    "    then 0\n",
    "    else p\n",
    "    \n",
    "test 0 p"
   ]
  },
  {
   "cell_type": "markdown",
   "metadata": {
    "collapsed": true
   },
   "source": [
    "***\n",
    "\n",
    "[Exercise 1.6](https://github.com/my-snippet/SICP/blob/master/sicp/ex-1-6.scm)\n",
    "===\n",
    "cond를 이용해 `new-if`를 정의하는 문제였습니다. 얼핏 보면 될 것 같지만 `Stack overflow`를   \n",
    "일으킵니다. 그 이유는 scheme에서 정의된 if는 특별한 형태special-form라서 술어predicate를 먼저   \n",
    "파악합니다( `To evaluate an if expression, the interpreter starts by \n",
    "evaluating the <predicate part> of the expression` ). 그래서 술어에 맞지 않는  \n",
    "식expression은 실행하지 않습니다. 하지만 cond로 흉내낸 new-if는 일단 프로시저를 수행하는  \n",
    "applicative order를 따르기 때문에 무한루프에 빠지게 됩니다.  \n",
    "\n",
    "참고 자료  \n",
    "http://community.schemewiki.org/?sicp-ex-1.6  \n",
    "http://www.billthelizard.com/2009/10/sicp-exercises-16-18.html  \n"
   ]
  },
  {
   "cell_type": "code",
   "execution_count": 1,
   "metadata": {
    "collapsed": true
   },
   "outputs": [],
   "source": [
    "(define (new-if predicate\n",
    "                then-clause\n",
    "\t\t\t\telse-clause)\n",
    "  (cond (predicate then-clause)\n",
    "\t\t(else else-clause)))"
   ]
  },
  {
   "cell_type": "markdown",
   "metadata": {},
   "source": [
    "*** \n",
    "\n",
    "[Exercise 1.7](https://github.com/my-snippet/SICP/blob/master/sicp/ex-1-7.scm)\n",
    "===\n"
   ]
  },
  {
   "cell_type": "markdown",
   "metadata": {},
   "source": [
    "사실 뉴튼 방법은 천재가 아니라면 그렇게 직관적으로 와닿는 방법은 아닌 듯 합니다. 하지만 다른 방법들을   \n",
    "사용해 보면, 훌륭한 방법임을 알게 됩니다. 예를 들어, 추측값guess과 목표값x 사이에 따로 연산 없이 평균을  \n",
    "내는 것으로 마친다면, 추측값의 제곱은 목표값에 가까워지지 못합니다. 예를 들어, 평균값만으로  \n",
    "추측값guess을 조정improve해나간다면, '목표값의 제곱근'이 아니라 목표값에 가까워지게 됩니다.\n",
    "\n"
   ]
  },
  {
   "cell_type": "code",
   "execution_count": 1,
   "metadata": {
    "collapsed": false
   },
   "outputs": [
    {
     "data": {
      "text/plain": [
       "1.9990234375"
      ]
     },
     "execution_count": 1,
     "metadata": {},
     "output_type": "execute_result"
    }
   ],
   "source": [
    "(define (average x y)\n",
    "  (/ (+ x y) 2))\n",
    "\n",
    "(define (averages-of-average x y n)\n",
    "  (if (= n 0) \n",
    "      x\n",
    "      (averages-of-average (average x y) y (- n 1))))\n",
    "\n",
    "\n",
    "(averages-of-average 1.0 2 10)"
   ]
  },
  {
   "cell_type": "markdown",
   "metadata": {},
   "source": [
    "문제에서 요구한 대로 추측값을 조금씩slightly 수정해나가는 방식 역시 문제를 안고 있습니다. 예를 들어  \n",
    "조정값이 $5*10^{-4}$이면( 오차범위 $10^{-3}$로 맞춰두고 ), $abs(guess - x) = 9.999...* 10^{-4}$인   \n",
    "경우 너무 많은 조정이 필요합니다. 목표값 사이를 왔다 갔다 하면서 좀처럼 가까워지지 못합니다. 뉴튼법과   \n",
    "비교해 보면 이 방법의 비효율성이 명확하게 드러납니다. 함수 호출 횟수 차이가 상당합니다. 5의 제곱근을  \n",
    "구하는 과정에서 뉴튼법으로는 4회 만에 성공한 반면, 조금씩 수정하는 방식으로는 2472회 만에 성공하였습니다."
   ]
  },
  {
   "cell_type": "code",
   "execution_count": 4,
   "metadata": {
    "collapsed": true
   },
   "outputs": [],
   "source": [
    "(load \"ex-1-7.scm\")"
   ]
  },
  {
   "cell_type": "code",
   "execution_count": 5,
   "metadata": {
    "collapsed": false
   },
   "outputs": [
    {
     "data": {
      "text/plain": [
       "(0 3 3 4 4)"
      ]
     },
     "execution_count": 5,
     "metadata": {},
     "output_type": "execute_result"
    }
   ],
   "source": [
    "(map (lambda (x) (sqrt-newton-law x)) (list 1 2 3 4 5))"
   ]
  },
  {
   "cell_type": "code",
   "execution_count": 6,
   "metadata": {
    "collapsed": false
   },
   "outputs": [
    {
     "data": {
      "text/plain": [
       "(0 828 1464 2000 2472)"
      ]
     },
     "execution_count": 6,
     "metadata": {},
     "output_type": "execute_result"
    }
   ],
   "source": [
    "(map (lambda (x) (sqrt-slightly x)) (list 1 2 3 4 5))"
   ]
  },
  {
   "cell_type": "markdown",
   "metadata": {},
   "source": [
    "*** \n",
    "\n",
    "[Exercise 1.8](https://github.com/my-snippet/SICP/blob/master/sicp/ex-1-8.scm)\n",
    "===\n",
    "\n",
    "이 문제는 square 프로시저에서 improve만 수정하면 됩니다. 문제에 나온 공식대로 수정하면 잘 작동합니다."
   ]
  },
  {
   "cell_type": "code",
   "execution_count": 2,
   "metadata": {
    "collapsed": false
   },
   "outputs": [],
   "source": [
    "(load \"ex-1-8.scm\")\n",
    "(load \"lib/basic/operations.scm\")"
   ]
  },
  {
   "cell_type": "code",
   "execution_count": 3,
   "metadata": {
    "collapsed": false
   },
   "outputs": [
    {
     "data": {
      "text/plain": [
       "(1.0 2.000004911675504 3.0000005410641766 4.000017449510739 5.000000000287929 6.000000000047538 7.000001795382107 8.00000003355707 9.000000000053902 10.000000145265767)"
      ]
     },
     "execution_count": 3,
     "metadata": {},
     "output_type": "execute_result"
    }
   ],
   "source": [
    ";; test : 1^3 2^3 ... 10^3\n",
    "(map (lambda (x) (cube-root (power x 3))) (list 1 2 3 4 5 6 7 8 9 10))"
   ]
  },
  {
   "cell_type": "markdown",
   "metadata": {},
   "source": [
    "*** \n",
    "\n",
    "Exercise 1.9\n",
    "===\n",
    "재귀recursive와 반복iterative의 차이를 쉽게 알 수 있는 좋은 문제입니다. 재귀 프로시저의 경우,   \n",
    "조건predicate을 만족한 것 만으로는 값을 알 수가 없습니다. 끝 지점tail에서 부터 미뤄둔 연산을 수행해야   \n",
    "합니다. 반면, 반복 프로시저의 경우 조건을 만족하면 거기에 목표값이 있으며 돌아갈 지점은 존재하지 않습니다.  \n",
    "이것은 저장 공간의 차이이기도 합니다. 재귀의 경우 호출한 횟수 만큼의 공간을 필요로 하는 반면, 반복의 경우  \n",
    "저장 공간을 재사용할substitution 뿐입니다. 그러므로 첫번째 예제는 재귀, 두번째는 반복입니다."
   ]
  },
  {
   "cell_type": "code",
   "execution_count": null,
   "metadata": {
    "collapsed": true
   },
   "outputs": [],
   "source": [
    "(define (+ a b)\n",
    "  (if (= a 0) \n",
    "      b \n",
    "      (inc (+ (dec a) b))))\n",
    "\n",
    "(define (+ a b)\n",
    "  (if (= a 0) \n",
    "      b \n",
    "      (+ (dec a) (inc b))))"
   ]
  },
  {
   "cell_type": "markdown",
   "metadata": {},
   "source": [
    "*** \n",
    "\n",
    "[Exercise 1.10](https://github.com/my-snippet/SICP/blob/master/sicp/ex-1-10.scm)\n",
    "===\n",
    "애커만Ackermann이 왜 이런 함수를 만들었는지는 모르겠습니다. 그렇지만 이 함수는 재귀 공부를 하기에 좋은  \n",
    "예제입니다. 이 함수는 자기(현재 실행중인 프로시저)를 호출하는 과정이 특이한데, 호출 인자에 또 자기를   \n",
    "호출하기 때문입니다. 함수의 흐름을 파악하기 위해서 첫번째 인자x와 두번째 인자y의 차이점을 주목해   \n",
    "보겠습니다. \n",
    "\n",
    "x=1인 경우 y값이 커질 수록 지수합의 관계를 보입니다. 예를 들어, $x = 1, y = n$이면 결과값은 $2^{n}$입니다.  \n",
    "x=2인 경우 y의 크기에 비례해서 지수승의 관계를 보입니다. 글로 표현하기가 어려운데, 이전 결과를 지수로 하는  \n",
    "2의 거듭제곱 형태입니다. 예를 들어, $x = 2, y = 3$이면 결과값은 $2^{2^{2^2}}$입니다. 그리고 상상하고 싶지는 않지만  \n",
    "$x=n$인 경우를 생각해보겠습니다. 수학적으로는 어떻게 정의되는지는 모르겠지만 이것이 재귀 프로그램이라는  \n",
    "것을 생각해본다면 해답을 구할 수 있습니다. '큰 문제는 작은 문제로 치환이 가능하고, 작은 문제의 답을 알고  \n",
    "있다면 큰 문제의 값을 구할 수 있다'는 참 명제로 답을 구해보겠습니다. 예를 들어, `(A 3 3)`의 문제는  \n",
    "`(A 2 4)`의 문제로 치환 가능합니다. 그리고 `(A 3 2)`의 문제는 `(A 2 2)`의 문제로 치환 가능합니다.  \n",
    "이것은 재귀 호출이 종결되는 시점으로부터 가장 작은 단위의 함수의 결과값을 정리해나가면서 나온  \n",
    "부분함수들입니다.\n",
    "\n",
    "문제에서 요구한 함수를 수학적으로 정의해보면  \n",
    "### $f(n) = 2n$,  $g(n) = 2^n$,  $g(n) = 2^n$,  \n",
    "### $h(n) =  2^{h(n-1)} = 2^{2^{h(n-2)}} = ... = 2^{2^{2^{...^{2^{2^2}}}}}$\n",
    "\n",
    "* $h(n)$의 경우 더 명쾌한 형태가 있을 것 같은데 잘 모르겠습니다.\n",
    "\n",
    "\n",
    "* pow 프로시저는 Calysto Scheme 3에 내장된 것으로, 원래 문제를 풀 때는  \n",
    "`lib/basic/operations.scm`에 정의한 power 프로시저를 사용하였습니다.  \n",
    "[테스트 코드 참조](https://github.com/my-snippet/SICP/blob/master/sicp/ex-1-10-test.scm)"
   ]
  },
  {
   "cell_type": "code",
   "execution_count": 5,
   "metadata": {
    "collapsed": true
   },
   "outputs": [],
   "source": [
    "(define (A x y)\n",
    "  (cond ((= y 0) 0)\n",
    "\t\t((= x 0) (* 2 y))\n",
    "\t\t((= y 1) 2)\n",
    "\t\t(else (A (- x 1)\n",
    "\t\t\t\t (A x (- y 1))))))"
   ]
  },
  {
   "cell_type": "code",
   "execution_count": 6,
   "metadata": {
    "collapsed": false
   },
   "outputs": [
    {
     "data": {
      "text/plain": [
       "#t"
      ]
     },
     "execution_count": 6,
     "metadata": {},
     "output_type": "execute_result"
    }
   ],
   "source": [
    "(and (= (A 1 10) (pow 2 10))\n",
    "     (= (A 2 2) (pow 2 2))\n",
    "     (= (A 2 3) (pow 2 (pow 2 2)))\n",
    "     (= (A 2 4) (pow 2 (pow 2 (pow 2 2))))\n",
    "     (= (A 3 2) (A 2 2))\n",
    "     (= (A 3 3) (A 2 4)))"
   ]
  },
  {
   "cell_type": "markdown",
   "metadata": {},
   "source": [
    "[Chapter 1.2.2](https://github.com/my-snippet/SICP/blob/master/sicp/chap-1-2-2.scm)\n",
    "===\n",
    "* 이 챕터에서는 실행기가 식의 값을 구할 때( $3+4*2$ 같은 계산 ) Tree recursion을 사용하고  \n",
    "있다는 것을 알게되었는데, 이것이 인상깊었습니다. [Reference](https://mitpress.mit.edu/sicp/full-text/book/book-Z-H-10.html#%_sec_1.1.3)\n",
    "\n",
    "여러 갈래로 되도는Tree recursive 프로세스의 예로 드는 두가지는 사실 낯선 것이 아닙니다. 피보나치   \n",
    "수열이나 동전 교환 문제 같은 것은 프로그래밍을 처음 배우는 사람들이 팩토리얼 다음으로 배울 것입니다.   \n",
    "그러나 조금 더 깊게 생각해보면 이것들, 깊이가 있는 내용입니다. 이 문제들은 하나의 큰 함수를 풀기 위해   \n",
    "두개 이상의 작은 함수 간의 연산을 필요로 하기 때문에 크기가 지수적으로 커집니다. 그래서 이런 문제를   \n",
    "해결하기 위해서 반복 프로시저로 변경하면 좋습니다.  \n",
    "\n",
    "그래도 피보나치 수열의 경우에는 반복하는 프로시저로 만들기가 쉽습니다. $a_{n+2} \\leftarrow a_{n+1} + a_{n}$이므로  \n",
    "다음 함수를 건낼 때 이전 항의 합을 더해주는 형태로 만들면( $a_{next} \\leftarrow a + b$, $b_{next} \\leftarrow a$ ), 프로세스  \n",
    "수행시 종이 접듯이folding 결과값이 만들어지다가 조건을 만족하면 프로시저는 결과값 $b$을 내놓고  \n",
    "종료됩니다."
   ]
  },
  {
   "cell_type": "code",
   "execution_count": 8,
   "metadata": {
    "collapsed": true
   },
   "outputs": [],
   "source": [
    "(define (fib n)\n",
    "  (fib-iter 1 0 n))\n",
    "\n",
    "(define (fib-iter a b count)\n",
    "  (if (= count 0)\n",
    "      b\n",
    "      (fib-iter (+ a b) a (- count 1))))"
   ]
  },
  {
   "cell_type": "markdown",
   "metadata": {},
   "source": [
    "하지만 동전 교환 문제의 경우, 덮어쓰기substitution를 하지 않고는 어떻게 문제를 해결할 수 있을지   \n",
    "모르겠습니다. 반복 프로시저라면 가장 깊은(가장 작은) 프로시저에 결과값이 있어야 하는데 그렇게 만들지  \n",
    "못하고 자꾸 되돌아가는 재귀 구조를 만들 수 밖에 없는 것은 이 문제가 피보나치와 달리 경우의 수를 가지고  \n",
    "있기 때문일 것입니다.\n",
    "\n",
    "* 덮어쓰기substitution를 이용한 해결책을 조금 더 설명하면, 동적 프로그래밍Dynamic Programming이라  \n",
    "알려져 있는 방식으로, 코드 수행을 위해 할당한 벡터에 모든 경우의 수에 대한 값을 기록, 축적하면서  \n",
    "나아가다가 결과값에 도달하도록 만들 수 있습니다. [Reference](http://www.algorithmist.com/index.php/Coin_Change)\n",
    "\n",
    "\n",
    "* 아래 코드의 경우, 프로시저 간 방향이 한 갈래로 나아가는 듯 보이지만 결국 작은 프로시저의 값을 큰  \n",
    "프로시저에서 요구합니다. 따라서 프로세스가 수행된 모양은 여러 갈래로 되도는Tree recursive 프로세스와  \n",
    "다를 바가 없을 것입니다."
   ]
  },
  {
   "cell_type": "code",
   "execution_count": null,
   "metadata": {
    "collapsed": true
   },
   "outputs": [],
   "source": [
    "(define (cc-new amount kinds-of-coins count)\n",
    "  (cond ((= amount 0) (+ count 1))\n",
    "\t\t((or (< amount 0) (= kinds-of-coins 0)) count)\n",
    "\t\t(else (cc-iter (- amount (first-denomination kinds-of-coins))\n",
    "\t\t\t\t\t   kinds-of-coins\n",
    "\t\t\t\t\t   (cc-iter amount (- kinds-of-coins 1) count)))))"
   ]
  },
  {
   "cell_type": "markdown",
   "metadata": {},
   "source": [
    "*** \n",
    "\n",
    "[Exercise 1.11](https://github.com/my-snippet/SICP/blob/master/sicp/ex-1-11.scm)\n",
    "===\n",
    "\n",
    "'이 문제는 내 깜냥(?)으로는 반복 프로시저 못 만들겠다'고 엄살을 부렸지만, 답을 알고보니 할 수 있었는데(  \n",
    "그런 발상을) 겁이 나서 안한 것이었습니다.   \n",
    "\n",
    "n을 줄이며 구하는 것이든, 늘리며 구하는 것이든 아이디어는 같습니다. 그것은 '$f(n)$이 인자값이 줄어든 f   \n",
    "함수 3개의 합'으로 분리된다는 것입니다. $f(1)$부터 그 값을 적어보면,\n",
    "\n",
    "$f(n) = \\begin{cases} n &\\mbox{if } n < 3 \\\\ \n",
    "f(n) = f(n-1) + 2f(n-2) + 3f(n-3) & \\mbox{otherwise } \\end{cases} $\n",
    "\n",
    "$f(1) = 1$,  \n",
    "$f(2) = 2$,  \n",
    "$f(3) = f(2) + 2f(1) + 3f(0)$,  \n",
    "$f(4) = f(3) + 2f(2) + 3f(3)$, ...\n",
    "\n",
    "마치 슬롯머신이 돌아가듯이, n이 바뀔 때 마다 세개의 인자값을 바꿔주면 됩니다. 이 때, 이전 3개의 프로시저  \n",
    "값을 알고있어야 하므로 프로시저의 세가지 인자값은 $a=f(0), b=f(1), c=f(2)$으로 설정하여 시작합니다.   \n",
    "만약, $n>3$이면 함수는 자기호출을 하면서 인자값을 바꿔줍니다. 그 흐름이 아래와 같습니다. \n",
    "\n",
    "처음 호출 : $a \\leftarrow f(0),\\ b \\leftarrow f(1),\\ c \\leftarrow f(2)$  \n",
    "\n",
    "두 번째 : $a \\leftarrow f(1) = b,\\ b \\leftarrow f(2) = c,\\ c \\leftarrow f(2) + 2f(1) + 3f(0)$  \n",
    "\n",
    "세 번째 : $a \\leftarrow f(2) = b,\\ b \\leftarrow f(2) + 2f(1) + 3f(0),\\ c \\leftarrow f(3) + 2f(2) + 3f(1)$  \n",
    "\n",
    "이런 흐름을 이용해 $f(n)$의 값을 구할 수가 있습니다. 예를 들어, $f(4)$의 값을 알고싶다면 함수가 네 번째 호출을  \n",
    "했을 때의 a 값을 돌려주면 됩니다. [Reference](https://github.com/my-snippet/SICP/blob/master/sicp/ex-1-11-test.scm)"
   ]
  },
  {
   "cell_type": "markdown",
   "metadata": {},
   "source": [
    "*** \n",
    "\n",
    "[Exercise 1.12](https://github.com/my-snippet/SICP/blob/master/sicp/ex-1-12.scm)\n",
    "===\n",
    "\n",
    "이전에 파스칼의 삼각형을 푸는 재귀적 구현의 예는 이전에 구현한 바 있습니다. [Reference](http://wikibootup.github.io/sicp/1-5-pascal-triangle.html) 하지만 저장공간을  \n",
    "할당해서 메모하는 것(memoization)은 배재하기로 한다면( 작은 문제를 푼 값들을 저장해놓고 큰 문제를 풀   \n",
    "때 그것들을 불러올 수 없기 때문에 ), 파스칼 값을 구하기 위해 __파스칼 삼각형의 점화식__을 이용하여   \n",
    "구현하는 것은 재귀적 구현이기 때문에(심지어 여러 갈래로 되도는 Tree recursive 구조) 인자에 따라   \n",
    "복잡도가 엄청나게 늘어날 것입니다. 따라서 그것보다는 __이항전개 공식__을 사용하여 파스칼 값을 구하는 것(  \n",
    "팩토리얼 반복 프로세스)이 시간적으로나 공간활용 면에서나 더 효율적일 것입니다.\n",
    "\n",
    "- ### $_nC_k = \\frac{_nP_k}{k!}$  \n",
    "\n",
    "\n",
    "- n개에서 k개를 뽑는 조합combination값 = n번째 줄( 행row )에 k번째( 열col ) 파스칼 값\n",
    "\n",
    "\n",
    "- 순열과 조합은 단순히 팩토리얼 연산만 구하면 되므로, 반복iterative 프로시저 형태로만 팩토리얼을 구현하면  \n",
    "인자값이 늘어난다고 해서 연산수가 엄청나게 늘어나는 일은 피할 수 있습니다.\n",
    "\n",
    "\n",
    "- 파스칼 값 1부터 100 정도`(pascal 1000)`는 바로 구할 수 있습니다. 하지만 `(pascal 1000)`은  \n",
    "참아주기에는 조금 긴 것 같습니다( 5초 이상 )."
   ]
  },
  {
   "cell_type": "code",
   "execution_count": 1,
   "metadata": {
    "collapsed": false
   },
   "outputs": [],
   "source": [
    "(load \"ex-1-12.scm\")"
   ]
  },
  {
   "cell_type": "code",
   "execution_count": 2,
   "metadata": {
    "collapsed": false
   },
   "outputs": [
    {
     "data": {
      "text/plain": [
       "(1 1 1 1 2 1 1 3 3 1 1 4 6 4 1 1 5 10 10 5 1 1 6 15 20 15 6 1 1 7 21 35 35 21 7 1 1 8 28 56 70 56 28 8 1 1 9 36 84 126 126 84 36 9 1 1 10 45 120 210 252 210 120 45 10 1 1 11 55 165 330 462 462 330 165 55 11 1 1 12 66 220 495 792 924 792 495 220)"
      ]
     },
     "execution_count": 2,
     "metadata": {},
     "output_type": "execute_result"
    }
   ],
   "source": [
    "(pascal 100)"
   ]
  },
  {
   "cell_type": "markdown",
   "metadata": {},
   "source": [
    "*** \n",
    "\n",
    "[Exercise 1.13](https://github.com/my-snippet/SICP/blob/master/sicp/ex-1-13.scm)\n",
    "===\n",
    "일단, $Fib(n) = \\frac{(\\phi^n - \\psi^n)}{\\sqrt 5}$이라고 가정하고 아래의 case analysis에 나타난 인자값을 대입해보겠습니다.\n",
    "\n",
    "$Fib(n) = \\begin{cases}0 &\\mbox{if } n = 0 \\\\\n",
    "1 &\\mbox{if } n = 1 \\\\ \n",
    "Fib(n-1) + Fib(n-2) & \\mbox{otherwise } \\end{cases} $\n",
    "\n",
    "- ### $Fib(0) = \\frac{(\\phi^0 - \\psi^0)}{\\sqrt 5}$ = 0\n",
    "\n",
    "- ### $Fib(1) = \\frac{(\\phi^1 - \\psi^1)}{\\sqrt 5} = \\frac{\\sqrt 5}{\\sqrt 5} = 1$\n",
    "\n",
    "- ### $Fib(n) = \\frac{(\\phi^n - \\psi^n)}{\\sqrt 5} = \\frac{(\\phi^{n-1} - \\psi^{n-1})}{\\sqrt 5} + \\frac{(\\phi^{n-2} - \\psi^{n-2})}{\\sqrt 5}$  \n",
    "여기서, $\\phi = \\frac{1+\\sqrt 5}{2}, \\psi = \\frac{1-\\sqrt 5}{2}$로 정의되고, 이것은 $\\phi^2 + \\phi + 1 = 0$의 해이기도 하므로\n",
    "\n",
    "### $\\frac{(\\phi^{n-1} + \\phi^{n-2}) - (\\psi^{n-1} + \\psi^{n-2})}{\\sqrt 5} = \\frac{(\\phi + 1)\\phi^{n-2} - (\\psi + 1)\\psi^{n-2}}{\\sqrt 5} = \\frac{(\\phi^n - \\psi^n)}{\\sqrt 5} = Fib(n)$\n",
    "\n",
    "[Reference](http://www.enigmaticape.com/blog/sicp-exercise-1-13)"
   ]
  },
  {
   "cell_type": "markdown",
   "metadata": {},
   "source": [
    "- 아래 코드는 피보나치 수열$Fib(n)$의 값이 황금비$ = \\frac{\\phi^2}{\\sqrt 5}$에 근접해가는지 테스트합니다. n=0일 때부터  \n",
    "점진적으로 n=35까지 감소함을 확인할 수 있습니다. \n",
    "\n",
    "\n",
    "- 여기서 발생하는 예외는 n=36부터인데, 그 이유는 [부동소수점 연산](https://ko.wikipedia.org/wiki/%EB%B6%80%EB%8F%99%EC%86%8C%EC%88%98%EC%A0%90)의 한계 때문이라고 추측합니다. [Reference](https://github.com/my-snippet/SICP/blob/master/sicp/ex-1-13-test.scm) "
   ]
  },
  {
   "cell_type": "code",
   "execution_count": 1,
   "metadata": {
    "collapsed": true
   },
   "outputs": [],
   "source": [
    "(load \"ex-1-13.scm\")\n",
    "(load \"lib/basic/operations.scm\")"
   ]
  },
  {
   "cell_type": "code",
   "execution_count": 2,
   "metadata": {
    "collapsed": false
   },
   "outputs": [
    {
     "name": "stdout",
     "output_type": "stream",
     "text": [
      "0.4472135954999579\n",
      "0.27639320225002106\n",
      "0.1708203932499368\n",
      "0.10557280900008426\n",
      "0.06524758424985277\n",
      "0.04032522475023104\n",
      "0.024922359499621294\n",
      "0.015402865250608855\n",
      "0.009519494249012439\n",
      "0.0058833710015946394\n",
      "0.003636123247424905\n",
      "0.0022472477541697344\n",
      "0.001388875493262276\n",
      "0.0008583722608932476\n",
      "0.0005305032323690284\n",
      "0.0003278690285242192\n",
      "0.00020263420390165265\n",
      "0.00012523482473625336\n",
      "7.739937927908613e-05\n",
      "4.7835445002419874e-05\n",
      "2.956393473141361e-05\n",
      "1.8271510271006264e-05\n",
      "1.1292424460407346e-05\n",
      "6.979083991609514e-06\n",
      "4.313340468797833e-06\n",
      "2.665736246854067e-06\n",
      "1.64761149790138e-06\n",
      "1.0181101970374584e-06\n",
      "6.2951585277915e-07\n",
      "3.8853613659739494e-07\n",
      "2.4097971618175507e-07\n",
      "1.4738179743289948e-07\n",
      "9.359791874885559e-08\n",
      "5.3551048040390015e-08\n",
      "4.0046870708465576e-08\n",
      "1.30385160446167e-08\n"
     ]
    },
    {
     "data": {
      "text/plain": [
       "#t"
      ]
     },
     "execution_count": 2,
     "metadata": {},
     "output_type": "execute_result"
    }
   ],
   "source": [
    "(gradually-decreasing fib (lambda (n) (/ (power phi n) (sqrt 5))) 35)"
   ]
  },
  {
   "cell_type": "code",
   "execution_count": null,
   "metadata": {
    "collapsed": true
   },
   "outputs": [],
   "source": []
  }
 ],
 "metadata": {
  "kernelspec": {
   "display_name": "Calysto Scheme 3",
   "language": "scheme",
   "name": "calysto_scheme"
  },
  "language_info": {
   "codemirror_mode": {
    "name": "scheme"
   },
   "mimetype": "text/x-scheme",
   "name": "scheme",
   "pygments_lexer": "scheme"
  }
 },
 "nbformat": 4,
 "nbformat_minor": 0
}
