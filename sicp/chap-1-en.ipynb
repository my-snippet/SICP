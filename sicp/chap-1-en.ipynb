{
 "cells": [
  {
   "cell_type": "markdown",
   "metadata": {},
   "source": [
    "1. Introduction  \n",
    "===  \n",
    "* This is the second version that will be written in English. The first was Korean language. If you   \n",
    "find an awkward sentence or an ungracious sentence, the reason will probably be due to my lack  \n",
    "of English skills.      \n",
    "\n",
    "This document covers the SICP. It covers the concepts and examples in the book, and sometimes it   \n",
    "will make some new exercises. Scheme was used to programming the contents of SICP, but, this   \n",
    "document will also use Python, Haskell together to solve the exercises in the book.   \n",
    "\n",
    "***\n",
    "\n",
    "Title: Structure and Interpretation of Computer Programs  \n",
    "Translation : 컴퓨터 프로그램의 구조와 해석  \n",
    "Author: Harold in bilseun, Saskatchewan Gerald J. distant, distant Julie Caucasus  \n",
    "Translator: 김재우, 안윤호, 김수정, 김정민 이광근  \n",
    "Publisher: The MIT Press  \n",
    "Publication date: September 1, 1996\n",
    "\n",
    "A sentence on the back of the book cover(translation ver.) says that this is a \"Computer science for  \n",
    "beginner\". But If this was truly for the beginners, they would give up to study programming.   \n",
    "Luckily, my major professors have not teached this book in any classes. Of course, this book is no   \n",
    "doubt that it is a great book. But I give thanks that they have not teached this book so far. Thanks  \n",
    "to that, I am maybe now studying this book.    \n",
    "\n",
    "The previous document version introduced SICP with a bit of flowery describing the effects that can     \n",
    "be achieved by studying this book( Now that this document is being rewritten ). But I will try to     \n",
    "refrain some flowery description because Whether SICP, or functional language, or functional   \n",
    "programs, I saw often exaggerated tendencies. For example, in some post there was an advice like   \n",
    "'Come after reading SICP N times'  that a kungfu master seemed to say. In another post, someone said   \n",
    "\"To use a functional language, let the meditation\" that a monk seemed to say. I think These types of   \n",
    "posts are not saying the wrong depending on the view, but it seems that it is also not the right.   \n",
    "rather than such a way of thinking, it is more 'pragmatic' attitude to put the weight on practical   \n",
    "use as 'keynoru' talked about monads in the [ ghost story of monads](https://e.xtendo.org/haskell/ko/monad_fear/slide#1). The more someone mystify  \n",
    "these things, the more people will move away from these things.     \n",
    " \n",
    "This book seems a little like ['수학의 정석Standard of Mathmatics'](https://namu.wiki/w/%EC%88%98%ED%95%99%EC%9D%98%20%EC%A0%95%EC%84%9D)( It is a famous korean math book ).  \n",
    "SICP covers a wide range of different concepts and although it has not many exercises, it is not easy  \n",
    "to solve.   \n",
    "\n",
    "because of these reasons, It may have many misunderstandings as much as '수학의 정석Standard of  \n",
    "Mathmatics'. This book is a good book, but it is not the Bible.  \n",
    "\n",
    "***\n",
    "\n",
    "The availability of high-level procedure from Jarvis\n",
    "===\n",
    "\n",
    "I thought the movie \"Iron Man.\" If Jarvis had bothered Tony Stark if he was stupid. For example, it  \n",
    "assumes that Tony Stark had to get a signal for some reasons. But as the signal was too jagged, he  \n",
    "commanded Jarvis to smooth the signal.\n",
    "\n",
    "> “Jarvis, Smooth N times to This signal 'f'.”\n",
    "\n",
    "At this time, if Jarvis was smart, he would finish it as soon as he commanded. But as he was stupid,  \n",
    "he asked what is 'smoothing'. Tony Stark could answer for this question \"Smoothing is an average  \n",
    "value of $f(x_n)$ and its surrounding values( $f(x_{n-1})$, $f(x_{n+1})$ )\". But as Jarvis was stupid, he had to  \n",
    "ask \"what is average, then?\". It shows that Jarvis have to bother Tony Stark many times for solving  \n",
    "problems if he does not know the meaning of command.\n",
    "\n",
    "That is, Smoothing is a compound procedure which has multiple sub procedure. When you create a   \n",
    "compound procedure well, you will can deal with your work easily without bothering other coworker.  \n",
    "\n",
    "Jarvis in the movie must have a full of compound procedures.  \n",
    "\n",
    "***\n",
    "\n",
    "What will you do in the Chapter 1?\n",
    "===\n",
    "It will makes you to create many procedures to be able to solve many problems.\n",
    "\n",
    "> Comparison between Recursive & Iterative, N th root, Repeated function, Composite function, GCD,   \n",
    "Prime algorhythm, Pascal's Triangle, N th number search, Anonymous function( lambda ), the golden   \n",
    "ratio algorhythm, Coin exchange, Exponent n algorhythm, Exponent n more fast, A method to find a   \n",
    "solution of equation using half-interval method, The differential, The integral ( simpson formula,   \n",
    "etc ), Solving several problems using fixed point( trigonometric values, N th roo ), Problem solving  \n",
    "using a continued fraction( natural constant, $tan(x)$), Taking a procedure as an argument to make   \n",
    "more high-level procedures,   \n",
    "...\n",
    "\n",
    "will do and so on.\n",
    "\n",
    "In the process of that, as mentioned in the book, the boundaries between 'data' and 'procedure' will  \n",
    "be collapsed(?).\n",
    "\n",
    "***"
   ]
  },
  {
   "cell_type": "markdown",
   "metadata": {},
   "source": [
    "2. Development environment configuration( MAC OS X )\n",
    "===\n",
    "\n",
    "1) If you are not familiar with the terminal environment\n",
    "---\n",
    "I recommend you to use [Racket](http://www.racket-lang.org/) Because it is GUI editor which is easy  \n",
    "to use. You can use this just after install it.\n",
    "\n",
    "2)If you are familiar with the terminal environment\n",
    "---\n",
    "I recommend you to use [Mit-Scheme](https://www.gnu.org/software/mit-scheme/) in Emacs environment. You will not suffer from libraries if you  \n",
    "use this.  \n",
    "\n",
    "You can download it in the hompage above, or can be installed through __brew__.  \n",
    "`$ brew install mit-scheme`.\n",
    "\n",
    "\n",
    "\n",
    "### 2-1) Emacs configurations  \n",
    "Insert the following code in `~/.emacs.d/init.el` or `~/.emacs` file.\n",
    "```\n",
    "(setq scheme-program-name \"/usr/local/bin/mit-scheme\")\n",
    "(require 'xscheme)\n",
    "```\n",
    "\n",
    "### 2-2) Meta key configuration( iTerm )  \n",
    "If you are MAC OS X user, it will be good to activate your option key as a meta key. For example If  \n",
    "you use iTerm as terminal program, set `Preferences -> Profiles -> Keys -> Left  \n",
    "option key acts as:` as `+Esc`( in the iTerm bookmark bar ).\n",
    "\n",
    "***\n",
    "\n",
    "3) Testing Development environment\n",
    "---\n",
    "Although it is desirable to implement the test on this editor (Jupyter) directly, a few issues occured.  \n",
    "I will test it later after I am more proficient at programming and making a kernel for MIT-Scheme.  \n",
    "\n",
    "Instead, I substituted [previous test](http://wikibootup.github.io/sicp/Q-mit-scheme-in-emacs.html) for it.\n",
    "\n",
    "- Problem 1. Jupyter and Emacs settings are incompatible each other  \n",
    "- Problem 2. The kernel that is currently using([calysto_scheme](https://github.com/wikibootup/calysto_scheme)) is not set to the Mit-Scheme\n",
    "\n",
    "***"
   ]
  },
  {
   "cell_type": "markdown",
   "metadata": {},
   "source": [
    "3. Basic concepts\n",
    "===\n",
    "\n",
    "Why it is called book called Wizard book?\n",
    "===\n",
    "It is interesting that the chapter 1 begins with a sentimental(philosophical) story. It quoted   \n",
    "[A part of An Essay Concerning Human Understanding](http://sarabander.github.io/sicp/html/Chapter-1.xhtml#Chapter-1) because its idea may be compared with  \n",
    "procedure. And if you unfold the chapter 1, it will be more sentimental that It will compare the   \n",
    "program with a spell. \"we conjure the spirits of the computer with our spells\". However this kinds   \n",
    "of stories are not shown up after the introduction. Maybe it was contained for our motivation for   \n",
    "when we get tired.  \n",
    "\n",
    "Data and procedures  \n",
    "===  \n",
    "A procedure which is called in the book is almost like a 'function' which is called in other books.   \n",
    "It will does not matter although if you do not to try to know the differences between them. I think   \n",
    "that 'Use a procedure, like data' is the main idea of this chapter. This means that a series of  \n",
    "a result of process is used as a procedure name by developer, and as a value by computer. this also  \n",
    "is associated with a functional programming. therefore this chapter also introduces a concept of a  \n",
    "functional programming.  \n",
    "\n",
    "The Elements of Programming\n",
    "===\n",
    "Developer is the person who makes __Expression__, and __Evaluation__ is calculated on the computer.   \n",
    "There is a program which connects expression with evaluation called __Evaluator__. This book makes   \n",
    "us to make an language evalutor after Chap 4. If you make it to the description 'A program that   \n",
    "makes a big system is the evaluator for the system', you will feel something fresh again. \n",
    "\n",
    "'Applicative order' or 'Normal order'\n",
    "===\n",
    "Normal-order evaluation is led to [lazy evaluation, or call-by-need](https://en.wikipedia.org/wiki/Lazy_evaluation)  that is called a feature of functional  \n",
    "languages. this book makes us to apply it using Stream in chapter 3. * The concept, more evaluation   \n",
    "by need, is a basic background of Haskell, and in Python, it will be able to be implemented by the   \n",
    "use of the generator or something else.  \n",
    "\n",
    "Compound & Abstraction\n",
    "===\n",
    "Consider the object-oriented programming. Developers make the classess with an collected data that   \n",
    "have the common properties. For example, 'Singer' class can have some attributes such as artist  \n",
    "name, music genre, and agency name.  "
   ]
  },
  {
   "cell_type": "code",
   "execution_count": 1,
   "metadata": {
    "collapsed": false
   },
   "outputs": [
    {
     "name": "stdout",
     "output_type": "stream",
     "text": [
      "Boys 2 Men is the best R&B group\n"
     ]
    }
   ],
   "source": [
    "# reference for Compound & Abstraction\n",
    "\n",
    "class Job:\n",
    "    def __init__(self, job, wage):\n",
    "        self.job = job\n",
    "        self.wage = wage\n",
    "        \n",
    "        \n",
    "class Singer(Job):\n",
    "    def __init__(self, name, genre, agency=\"\", members=1, wage=0):\n",
    "        super(Singer, self).__init__(\"singer\", wage)\n",
    "        self.name = name\n",
    "        self.genre = genre\n",
    "        self.agency = agency\n",
    "        self.members = members\n",
    "        \n",
    "    @property\n",
    "    def isGroup(self):\n",
    "        if self.members == 1:\n",
    "            return \"singer\"\n",
    "        elif self.members > 1:\n",
    "            return \"group\"\n",
    "        else:\n",
    "            raise ValueError(\"No available value, at least 1 member required\")\n",
    "        \n",
    "        \n",
    "boys2men = Singer(name=\"Boys 2 Men\", genre=\"R&B\", members=3)\n",
    "print(\"%s is the best %s %s\" % (boys2men.name, boys2men.genre, \n",
    "                                boys2men.isGroup))"
   ]
  },
  {
   "cell_type": "markdown",
   "metadata": {},
   "source": [
    "The above example shows the compound relationship between Singer class and Job class. A similar   \n",
    "thing which compounds one or more things as an abstraction  form happens In functional languages.   \n",
    "With the concept of procedure usage as a data makes a convinience to use procedures because a big  \n",
    "procedure controls the small procedures( It is different from the inheritance relationship of the  \n",
    "class ).  \n",
    "\n",
    "***"
   ]
  },
  {
   "cell_type": "markdown",
   "metadata": {},
   "source": [
    "4. Solutions of exercise\n",
    "==="
   ]
  },
  {
   "cell_type": "markdown",
   "metadata": {},
   "source": [
    "***\n",
    "\n",
    "Exercise 1.4\n",
    "===\n",
    "This is an example showing what means that the procedure is used as a data. It shows how the   \n",
    "operators like plus (+), minus(-) interacts between predicate and expressions.  "
   ]
  },
  {
   "cell_type": "code",
   "execution_count": 1,
   "metadata": {
    "collapsed": false
   },
   "outputs": [],
   "source": [
    "(define (a-plus-abs-b a b)\n",
    "  ((if (> b 0) + -) a b))"
   ]
  },
  {
   "cell_type": "code",
   "execution_count": 2,
   "metadata": {
    "collapsed": false
   },
   "outputs": [
    {
     "data": {
      "text/plain": [
       "2"
      ]
     },
     "execution_count": 2,
     "metadata": {},
     "output_type": "execute_result"
    }
   ],
   "source": [
    ";; a = 1, b = {-1, 0, 1}\n",
    "(a-plus-abs-b 1 (- 1))"
   ]
  },
  {
   "cell_type": "code",
   "execution_count": 3,
   "metadata": {
    "collapsed": false
   },
   "outputs": [
    {
     "data": {
      "text/plain": [
       "1"
      ]
     },
     "execution_count": 3,
     "metadata": {},
     "output_type": "execute_result"
    }
   ],
   "source": [
    "(a-plus-abs-b 1 0)"
   ]
  },
  {
   "cell_type": "code",
   "execution_count": 4,
   "metadata": {
    "collapsed": false
   },
   "outputs": [
    {
     "data": {
      "text/plain": [
       "2"
      ]
     },
     "execution_count": 4,
     "metadata": {},
     "output_type": "execute_result"
    }
   ],
   "source": [
    "(a-plus-abs-b 1 1)"
   ]
  },
  {
   "cell_type": "markdown",
   "metadata": {},
   "source": [
    "***\n",
    "\n",
    "Exercise 1.5\n",
    "===\n",
    "Come to think of what this document has said so far, the scheme seems to be a functional language   \n",
    "that seems to use a lazy calculation method, but this guess is not correct. it uses a 'Normal order'   \n",
    "calculation. Thereofore when calculating the following equation is not zero. rather it causes an   \n",
    "infinite loop. * Compared to the Haskell version, the difference is clearly visible.  "
   ]
  },
  {
   "cell_type": "code",
   "execution_count": 1,
   "metadata": {
    "collapsed": false
   },
   "outputs": [],
   "source": [
    ";; Scheme : Applicative order\n",
    "\n",
    "(define (p) (p))\n",
    "\n",
    "(define (test x y)\n",
    "  (if (= x 0)\n",
    "      0\n",
    "      y))\n",
    "\n",
    ";; (test 0 (p))"
   ]
  },
  {
   "cell_type": "code",
   "execution_count": 1,
   "metadata": {
    "collapsed": true
   },
   "outputs": [],
   "source": [
    ";; Python : Applicative order\n",
    "\n",
    "def p():\n",
    "    return p()\n",
    "    \n",
    "def test(x, y):\n",
    "    if x == 0:\n",
    "        return 0\n",
    "    else:\n",
    "        return y\n",
    "\n",
    "# test(0, p())"
   ]
  },
  {
   "cell_type": "code",
   "execution_count": 1,
   "metadata": {
    "collapsed": false
   },
   "outputs": [
    {
     "data": {
      "text/plain": [
       "0"
      ]
     },
     "metadata": {},
     "output_type": "display_data"
    }
   ],
   "source": [
    "-- Haskell : Normal order(Lazy Evaluaton)\n",
    "\n",
    "p = p\n",
    "test x y =\n",
    "    if x == 0\n",
    "    then 0\n",
    "    else p\n",
    "    \n",
    "test 0 p"
   ]
  },
  {
   "cell_type": "markdown",
   "metadata": {
    "collapsed": true
   },
   "source": [
    "***\n",
    "\n",
    "[Exercise 1.6](https://github.com/my-snippet/SICP/blob/master/sicp/ex-1-6.scm)\n",
    "===\n",
    "It was a problem to define the 'new-if' using 'cond'. It seems to be correct but it causes `Stack   \n",
    "overflow` actually. The reason is that the if statement of scheme is a special-form that evaluates   \n",
    "predicate first( `To evaluate an if expression, the interpreter starts by  \n",
    "evaluating the <predicate part> of the expression` ). Therefore it does not evaluate  \n",
    "an expression that does not satisfy the predicate. However new-if imitated by a cond evaluates the  \n",
    "procedure first because it uses the applicative order. As a result it will be stuck into an infinite loop.  \n",
    "\n",
    "References     \n",
    "http://community.schemewiki.org/?sicp-ex-1.6  \n",
    "http://www.billthelizard.com/2009/10/sicp-exercises-16-18.html  \n"
   ]
  },
  {
   "cell_type": "code",
   "execution_count": 1,
   "metadata": {
    "collapsed": true
   },
   "outputs": [],
   "source": [
    "(define (new-if predicate\n",
    "                then-clause\n",
    "\t\t\t\telse-clause)\n",
    "  (cond (predicate then-clause)\n",
    "\t\t(else else-clause)))"
   ]
  },
  {
   "cell_type": "markdown",
   "metadata": {},
   "source": [
    "*** \n",
    "\n",
    "[Exercise 1.7](https://github.com/my-snippet/SICP/blob/master/sicp/ex-1-7.scm)\n",
    "===\n"
   ]
  },
  {
   "cell_type": "markdown",
   "metadata": {},
   "source": [
    "In fact, Newton's method does not seem to be intuitive for ordinary people. But if you use the other   \n",
    "method to find the root, you will know Newton's method is a good way. For example the average   \n",
    "without any additional operation between guess value and the target value x, the square of guess   \n",
    "value will not be close to a target value. If you adjust the guess value using average only, the guess  \n",
    "will be close to the target value, not the square value. ( Following code shows this. )"
   ]
  },
  {
   "cell_type": "code",
   "execution_count": 1,
   "metadata": {
    "collapsed": false
   },
   "outputs": [
    {
     "data": {
      "text/plain": [
       "1.9990234375"
      ]
     },
     "execution_count": 1,
     "metadata": {},
     "output_type": "execute_result"
    }
   ],
   "source": [
    "(define (average x y)\n",
    "  (/ (+ x y) 2))\n",
    "\n",
    "(define (averages-of-average x y n)\n",
    "  (if (= n 0) \n",
    "      x\n",
    "      (averages-of-average (average x y) y (- n 1))))\n",
    "\n",
    "\n",
    "(averages-of-average 1.0 2 10)"
   ]
  },
  {
   "cell_type": "markdown",
   "metadata": {},
   "source": [
    "As required by the problem, the method to adjust the guess 'slightly' also have a problem. For   \n",
    "example, If adjustment value is $ 5 * 10 ^ {- 4} $( tolerance is set to $ 10 ^ {- 3}$), and if  \n",
    "$ abs (guess - x) = 9.999 ... * 10 ^ {- 4}$, then it will be needed that too much adjustments. The guess  \n",
    "value will not be close to target value, it will move back and forth of the target. Compared to  \n",
    "Newton's law it reveals the ineffectiveness of this approach clearly. there is a big difference of the  \n",
    "number of function calls. In the process of calculating the square root of 5 with Newton's law it  \n",
    "finished only in 4 times, while the method to change the guess slightly finished in 12472 times."
   ]
  },
  {
   "cell_type": "code",
   "execution_count": 4,
   "metadata": {
    "collapsed": true
   },
   "outputs": [],
   "source": [
    "(load \"ex-1-7.scm\")"
   ]
  },
  {
   "cell_type": "code",
   "execution_count": 5,
   "metadata": {
    "collapsed": false
   },
   "outputs": [
    {
     "data": {
      "text/plain": [
       "(0 3 3 4 4)"
      ]
     },
     "execution_count": 5,
     "metadata": {},
     "output_type": "execute_result"
    }
   ],
   "source": [
    "(map (lambda (x) (sqrt-newton-law x)) (list 1 2 3 4 5))"
   ]
  },
  {
   "cell_type": "code",
   "execution_count": 6,
   "metadata": {
    "collapsed": false
   },
   "outputs": [
    {
     "data": {
      "text/plain": [
       "(0 828 1464 2000 2472)"
      ]
     },
     "execution_count": 6,
     "metadata": {},
     "output_type": "execute_result"
    }
   ],
   "source": [
    "(map (lambda (x) (sqrt-slightly x)) (list 1 2 3 4 5))"
   ]
  },
  {
   "cell_type": "markdown",
   "metadata": {},
   "source": [
    "*** \n",
    "\n",
    "[Exercise 1.8](https://github.com/my-snippet/SICP/blob/master/sicp/ex-1-8.scm)\n",
    "===\n",
    "\n",
    "This problem can be solved just adjusting the improve procedure in the square procedure. It works  \n",
    "After modifying the improve method to the formula in the Exercise."
   ]
  },
  {
   "cell_type": "code",
   "execution_count": 2,
   "metadata": {
    "collapsed": false
   },
   "outputs": [],
   "source": [
    "(load \"ex-1-8.scm\")\n",
    "(load \"lib/basic/operations.scm\")"
   ]
  },
  {
   "cell_type": "code",
   "execution_count": 3,
   "metadata": {
    "collapsed": false
   },
   "outputs": [
    {
     "data": {
      "text/plain": [
       "(1.0 2.000004911675504 3.0000005410641766 4.000017449510739 5.000000000287929 6.000000000047538 7.000001795382107 8.00000003355707 9.000000000053902 10.000000145265767)"
      ]
     },
     "execution_count": 3,
     "metadata": {},
     "output_type": "execute_result"
    }
   ],
   "source": [
    ";; test : 1^3 2^3 ... 10^3\n",
    "(map (lambda (x) (cube-root (power x 3))) (list 1 2 3 4 5 6 7 8 9 10))"
   ]
  },
  {
   "cell_type": "markdown",
   "metadata": {},
   "source": [
    "*** \n",
    "\n",
    "Exercise 1.9\n",
    "===\n",
    "It is a good example that can easily tell the difference between recursive and iterative. For a   \n",
    "recursive procedure we cannot find the value even though it satisfies the final predicate. It must   \n",
    "be evaluated from the end point of tail to start point of head that have been delayed. On the other   \n",
    "hand, for the iterative if it satisfies the predicate, then there is the target value at the end   \n",
    "point and the space to return to the previous function does not exist. This is also the difference   \n",
    "of the space. For the recursion it requires spaces as much as the calling numbers, but for the   \n",
    "iterative it reuses present space. Therefore the first example is the recursion, the second is the   \n",
    "iteration.    "
   ]
  },
  {
   "cell_type": "code",
   "execution_count": null,
   "metadata": {
    "collapsed": true
   },
   "outputs": [],
   "source": [
    "(define (+ a b)\n",
    "  (if (= a 0) \n",
    "      b \n",
    "      (inc (+ (dec a) b))))\n",
    "\n",
    "(define (+ a b)\n",
    "  (if (= a 0) \n",
    "      b \n",
    "      (+ (dec a) (inc b))))"
   ]
  },
  {
   "cell_type": "markdown",
   "metadata": {},
   "source": [
    "*** \n",
    "\n",
    "[Exercise 1.10](https://github.com/my-snippet/SICP/blob/master/sicp/ex-1-10.scm)\n",
    "===\n",
    "I do not know why Ackermann made this. However this function is good to learn the recursion. This   \n",
    "function is unique in terms of the method to call function itself( a procedure that is now being   \n",
    "processed ) recursively because it calls the fuction itself when passing the arguments in the   \n",
    "process of the calling function itself. In order to understand the flow of the function let me note   \n",
    "the differences between the first parameter x and the second parameter y  \n",
    "\n",
    "When x = 1 and if y value grows gradually, then the complexity will be the sum of exponential. For  \n",
    "example, if x = 1, y = n, the result value is $2 ^ {n}$. When x = 2, then the complexity will be growing in  \n",
    "proportion to the size of y. It is difficult to express in writing, it is the form of exponential of 2 that  \n",
    "have the previous result as an exponential. For example, if $ x = 2, y = $ 3, then the result value is  \n",
    "$2^{2^{2^2}}$. And let me consider the case where $ x = n $ even though I do not want to imagine this. I do not  \n",
    "know how this is defined in math, but it can be solved when you think that this is a recursive   \n",
    "program. 'If a big problem can be replaced with a small problem, and if the process knows the   \n",
    "solution of the small problem, then it is able to find the solution of the big problem', let me find   \n",
    "the solution using above the proposition. For example, the problem `(A 3 3)` can be replaced as the   \n",
    "problem of `(A 2 4)`. And the problem of `(A 3 2)` can be replaced as a problem of `(A 2 2)`. These   \n",
    "are the parts of the function after evaluating from the smallest unit of function results that this   \n",
    "is the point from which the recursive call was terminated.  \n",
    "\n",
    "Let's say a mathmatical definition required by this exercise,  \n",
    "### $f(n) = 2n$,  $g(n) = 2^n$,  $g(n) = 2^n$,  \n",
    "### $h(n) =  2^{h(n-1)} = 2^{2^{h(n-2)}} = ... = 2^{2^{2^{...^{2^{2^2}}}}}$\n",
    "\n",
    "* For $h(n)$ there may be more clearer form but I do not know.\n",
    "\n",
    "\n",
    "* pow procedure is embedded in Calysto Scheme 3, I used the 'power' procedure defined in  \n",
    "`lib/basic/operations.scm`.  \n",
    "[Test code reference](https://github.com/my-snippet/SICP/blob/master/sicp/ex-1-10-test.scm)"
   ]
  },
  {
   "cell_type": "code",
   "execution_count": 5,
   "metadata": {
    "collapsed": true
   },
   "outputs": [],
   "source": [
    "(define (A x y)\n",
    "  (cond ((= y 0) 0)\n",
    "\t\t((= x 0) (* 2 y))\n",
    "\t\t((= y 1) 2)\n",
    "\t\t(else (A (- x 1)\n",
    "\t\t\t\t (A x (- y 1))))))"
   ]
  },
  {
   "cell_type": "code",
   "execution_count": 6,
   "metadata": {
    "collapsed": false
   },
   "outputs": [
    {
     "data": {
      "text/plain": [
       "#t"
      ]
     },
     "execution_count": 6,
     "metadata": {},
     "output_type": "execute_result"
    }
   ],
   "source": [
    "(and (= (A 1 10) (pow 2 10))\n",
    "     (= (A 2 2) (pow 2 2))\n",
    "     (= (A 2 3) (pow 2 (pow 2 2)))\n",
    "     (= (A 2 4) (pow 2 (pow 2 (pow 2 2))))\n",
    "     (= (A 3 2) (A 2 2))\n",
    "     (= (A 3 3) (A 2 4)))"
   ]
  },
  {
   "cell_type": "markdown",
   "metadata": {},
   "source": [
    "[Chapter 1.2.2](https://github.com/my-snippet/SICP/blob/master/sicp/chap-1-2-2.scm)\n",
    "===\n",
    "* In this chapter I was impressed that I found that the evaluator uses the Tree recursion when  \n",
    "evaluating expressions( like $3+4*2$ ) [Reference](https://mitpress.mit.edu/sicp/full-text/book/book-Z-H-10.html#%_sec_1.1.3)\n",
    "\n",
    "In fact the two cases to explain the tree recursive in this book are not unfamiliar. The Fibonacci   \n",
    "sequence or Coin exchange problem is the second thing what people learn after Factorial problem.   \n",
    "However if you consider it more deeply you will know this is a higher level problem than you thought   \n",
    "it before. The order of growth of the process increases exponentially because these problems require   \n",
    "the operations of two or more than smaller functions to solve a function. Therefore It is more good   \n",
    "to implement this problem using an iterative procedure.  \n",
    "\n",
    "Because of $a_{n+2} \\leftarrow a_{n+1} + a_{n}$ If the form is implemented by adding the sum of the   \n",
    "previous terms when passing next function( $a_{next} \\leftarrow a + b$, $b_{next} \\leftarrow a$ ),   \n",
    "When performing the process it will be processed like folding papers first, and if it satisfies a   \n",
    "condition, then the procedure will return the result value $b$ and terminate process.  "
   ]
  },
  {
   "cell_type": "code",
   "execution_count": 8,
   "metadata": {
    "collapsed": true
   },
   "outputs": [],
   "source": [
    "(define (fib n)\n",
    "  (fib-iter 1 0 n))\n",
    "\n",
    "(define (fib-iter a b count)\n",
    "  (if (= count 0)\n",
    "      b\n",
    "      (fib-iter (+ a b) a (- count 1))))"
   ]
  },
  {
   "cell_type": "markdown",
   "metadata": {},
   "source": [
    "However, in case of the coin exchange problem, I do not know how can I solve the problem without   \n",
    "overwriting substitution. To implement it by iterative procedure the result value should be at the   \n",
    "deepest procedure(  smallest procedure ), however the reason why it cannot be implemented like the   \n",
    "above but implemented recursive structures is that this problem has the number of cases unlke   \n",
    "Fibonacci.  \n",
    "\n",
    "Let's say more about the solution using substitution, this is called the Dynamic Programming method,    \n",
    "It can reach a result value as recording and assigning(substituting) the number of all cases in a    \n",
    "vector that is assigned to perform code. [Reference](http://www.algorithmist.com/index.php/Coin_Change)   \n",
    "\n",
    "* In the code below, it seems to have one branch between procedures. But big procedures require the   \n",
    "result of smaller procedure. Therefore, the shape of this process is not different from the Tree   \n",
    "recursive process with multiple branches.  "
   ]
  },
  {
   "cell_type": "code",
   "execution_count": null,
   "metadata": {
    "collapsed": true
   },
   "outputs": [],
   "source": [
    "(define (cc-iter amount kinds-of-coins count)\n",
    "  (cond ((= amount 0) (+ count 1))\n",
    "\t\t((or (< amount 0) (= kinds-of-coins 0)) count)\n",
    "\t\t(else (cc-iter (- amount (first-denomination kinds-of-coins))\n",
    "\t\t\t\t\t   kinds-of-coins\n",
    "\t\t\t\t\t   (cc-iter amount (- kinds-of-coins 1) count)))))"
   ]
  },
  {
   "cell_type": "markdown",
   "metadata": {},
   "source": [
    "*** \n",
    "\n",
    "[Exercise 1.11](https://github.com/my-snippet/SICP/blob/master/sicp/ex-1-11.scm)\n",
    "===\n",
    "It does not matter whether it decreases n or increases n to obtain the result, because the idea is  \n",
    "same. Let me describe the value from  $f(1)$,\n",
    "\n",
    "$f(n) = \\begin{cases} n &\\mbox{if } n < 3 \\\\ \n",
    "f(n) = f(n-1) + 2f(n-2) + 3f(n-3) & \\mbox{otherwise } \\end{cases} $\n",
    "\n",
    "$f(1) = 1$,  \n",
    "$f(2) = 2$,  \n",
    "$f(3) = f(2) + 2f(1) + 3f(0)$,  \n",
    "$f(4) = f(3) + 2f(2) + 3f(3)$, ...\n",
    "\n",
    "As if a slot machine is circling, you should change the 3 argument values when the value n is   \n",
    "changed. at this time, procedure arguements are set to $a=f(0), b=f(1), c=f(2)$ in the first because   \n",
    "the process should knows previous 3 argument values. If $n>3$ function will change argument values   \n",
    "calling itself. The flow is shown below.  \n",
    "\n",
    "First call : $a \\leftarrow f(0),\\ b \\leftarrow f(1),\\ c \\leftarrow f(2)$  \n",
    "\n",
    "Second : $a \\leftarrow f(1) = b,\\ b \\leftarrow f(2) = c,\\ c \\leftarrow f(2) + 2f(1) + 3f(0)$  \n",
    "\n",
    "Third : $a \\leftarrow f(2) = b,\\ b \\leftarrow f(2) + 2f(1) + 3f(0),\\ c \\leftarrow f(3) + 2f(2) + 3f(1)$  \n",
    "\n",
    "Using this flow, the process can get the result value of $ f(n)$. For example If you want to know   \n",
    "the value of the $f(4)$, you should make the function to return a( the first argument ) when called   \n",
    "to fourth recursive call. [Reference](https://github.com/my-snippet/SICP/blob/master/sicp/ex-1-11-test.scm)  "
   ]
  },
  {
   "cell_type": "markdown",
   "metadata": {},
   "source": [
    "*** \n",
    "\n",
    "[Exercise 1.12](https://github.com/my-snippet/SICP/blob/master/sicp/ex-1-12.scm)\n",
    "===\n",
    "\n",
    "I described before the Example of recursive implementation to solve the triangle. [Reference](http://wikibootup.github.io/sicp/1-5-pascal-triangle.html) However   \n",
    "if you decide to exclude the memoization method which allocates space to assign the data( because of   \n",
    "that It does not assign the result data of smaller problem, process cannot load the data when it   \n",
    "should evaluate the big problem ), what you use __the recurrence relation of Pascal's triangle__ to find   \n",
    "the value of Pascal will increase the complexity dramatically because it is recursive structure( It   \n",
    "is even the tree recursive structure ). Therefore it would be better in terms of both the time or   \n",
    "space that you use __the binomial expansion__ formula than using the above recurrence to find the value   \n",
    "of Pascal.  \n",
    "\n",
    "- $_nC_k = \\frac{_nP_k}{k!}$  \n",
    "\n",
    "\n",
    "- The combination value that combines k from among n = k-th column in the n-th row\n",
    "\n",
    "\n",
    "- Even though the argument value increases, it can avoid that the number of operations increase  \n",
    "dramatically If factorial is implemented using iterative form of procedure.\n",
    "\n",
    "\n",
    "Pascal value about from 1 to 100 `( pascal 100 )` can be obtained immediately. But `(pascal 1000)`  \n",
    "seems too long to wait( more than 5 seconds ).\n"
   ]
  },
  {
   "cell_type": "code",
   "execution_count": 1,
   "metadata": {
    "collapsed": false
   },
   "outputs": [],
   "source": [
    "(load \"ex-1-12.scm\")"
   ]
  },
  {
   "cell_type": "code",
   "execution_count": 2,
   "metadata": {
    "collapsed": false
   },
   "outputs": [
    {
     "data": {
      "text/plain": [
       "(1 1 1 1 2 1 1 3 3 1 1 4 6 4 1 1 5 10 10 5 1 1 6 15 20 15 6 1 1 7 21 35 35 21 7 1 1 8 28 56 70 56 28 8 1 1 9 36 84 126 126 84 36 9 1 1 10 45 120 210 252 210 120 45 10 1 1 11 55 165 330 462 462 330 165 55 11 1 1 12 66 220 495 792 924 792 495 220)"
      ]
     },
     "execution_count": 2,
     "metadata": {},
     "output_type": "execute_result"
    }
   ],
   "source": [
    "(pascal 100)"
   ]
  },
  {
   "cell_type": "markdown",
   "metadata": {},
   "source": [
    "*** \n",
    "\n",
    "[Exercise 1.13](https://github.com/my-snippet/SICP/blob/master/sicp/ex-1-13.scm)\n",
    "===\n",
    "First, let me substitutes the argument in the case analysis below assuming the $Fib(n) = \\frac{(\\phi^n - \\psi^n)}{\\sqrt 5}$\n",
    "\n",
    "$Fib(n) = \\begin{cases}0 &\\mbox{if } n = 0 \\\\\n",
    "1 &\\mbox{if } n = 1 \\\\ \n",
    "Fib(n-1) + Fib(n-2) & \\mbox{otherwise } \\end{cases} $\n",
    "\n",
    "- $Fib(0) = \\frac{(\\phi^0 - \\psi^0)}{\\sqrt 5}$ = 0\n",
    "\n",
    "\n",
    "- $Fib(1) = \\frac{(\\phi^1 - \\psi^1)}{\\sqrt 5} = \\frac{\\sqrt 5}{\\sqrt 5} = 1$\n",
    "\n",
    "\n",
    "- $Fib(n) = \\frac{(\\phi^n - \\psi^n)}{\\sqrt 5} = \\frac{(\\phi^{n-1} - \\psi^{n-1})}{\\sqrt 5} + \\frac{(\\phi^{n-2} - \\psi^{n-2})}{\\sqrt 5}$  \n",
    "And it is defined that $\\phi = \\frac{1+\\sqrt 5}{2}, \\psi = \\frac{1-\\sqrt 5}{2}$, this also is the solution of $\\phi^2 + \\phi + 1 = 0$\n",
    "\n",
    "### $\\frac{(\\phi^{n-1} + \\phi^{n-2}) - (\\psi^{n-1} + \\psi^{n-2})}{\\sqrt 5} = \\frac{(\\phi + 1)\\phi^{n-2} - (\\psi + 1)\\psi^{n-2}}{\\sqrt 5} = \\frac{(\\phi^n - \\psi^n)}{\\sqrt 5} = Fib(n)$\n",
    "\n",
    "[Reference](http://www.enigmaticape.com/blog/sicp-exercise-1-13)"
   ]
  },
  {
   "cell_type": "markdown",
   "metadata": {},
   "source": [
    "- The following code tests whether the value of the Fibonacci sequence $ Fib (n) $ closes  to the  \n",
    "golden ratio $ = \\frac{\\phi ^ 2} {\\sqrt 5} $ or not. You can see it gradually decreases from n = 0 to n = 35.\n",
    "\n",
    "\n",
    "- Exception occurs from at n = 36, I guess it is because of the limitation of  \n",
    "__[floating point operations](https://ko.wikipedia.org/wiki/%EB%B6%80%EB%8F%99%EC%86%8C%EC%88%98%EC%A0%90)__. [Test Reference](https://github.com/my-snippet/SICP/blob/master/sicp/ex-1-13-test.scm) "
   ]
  },
  {
   "cell_type": "code",
   "execution_count": 1,
   "metadata": {
    "collapsed": true
   },
   "outputs": [],
   "source": [
    "(load \"ex-1-13.scm\")\n",
    "(load \"lib/basic/operations.scm\")"
   ]
  },
  {
   "cell_type": "code",
   "execution_count": 2,
   "metadata": {
    "collapsed": false
   },
   "outputs": [
    {
     "name": "stdout",
     "output_type": "stream",
     "text": [
      "0.4472135954999579\n",
      "0.27639320225002106\n",
      "0.1708203932499368\n",
      "0.10557280900008426\n",
      "0.06524758424985277\n",
      "0.04032522475023104\n",
      "0.024922359499621294\n",
      "0.015402865250608855\n",
      "0.009519494249012439\n",
      "0.0058833710015946394\n",
      "0.003636123247424905\n",
      "0.0022472477541697344\n",
      "0.001388875493262276\n",
      "0.0008583722608932476\n",
      "0.0005305032323690284\n",
      "0.0003278690285242192\n",
      "0.00020263420390165265\n",
      "0.00012523482473625336\n",
      "7.739937927908613e-05\n",
      "4.7835445002419874e-05\n",
      "2.956393473141361e-05\n",
      "1.8271510271006264e-05\n",
      "1.1292424460407346e-05\n",
      "6.979083991609514e-06\n",
      "4.313340468797833e-06\n",
      "2.665736246854067e-06\n",
      "1.64761149790138e-06\n",
      "1.0181101970374584e-06\n",
      "6.2951585277915e-07\n",
      "3.8853613659739494e-07\n",
      "2.4097971618175507e-07\n",
      "1.4738179743289948e-07\n",
      "9.359791874885559e-08\n",
      "5.3551048040390015e-08\n",
      "4.0046870708465576e-08\n",
      "1.30385160446167e-08\n"
     ]
    },
    {
     "data": {
      "text/plain": [
       "#t"
      ]
     },
     "execution_count": 2,
     "metadata": {},
     "output_type": "execute_result"
    }
   ],
   "source": [
    "(gradually-decreasing fib (lambda (n) (/ (power phi n) (sqrt 5))) 35)"
   ]
  },
  {
   "cell_type": "markdown",
   "metadata": {},
   "source": [
    "*** \n",
    "\n",
    "[Exercise 1.14](https://github.com/my-snippet/SICP/blob/master/sicp/ex-1-14.png)\n",
    "===\n",
    "- Graph  \n",
    "The algorithm of coin exchange is the implementation cosidered to all the number of all cases.   \n",
    "Therefore, the number of coins affects the order of the growth of this process a lot rather than the   \n",
    "amount of money. For example, although If process has a lot of money but if the number is 1, then it   \n",
    "will have only 1 coin combination, however if the number of coins are at least 2, then the coin   \n",
    "combination will be increased.  This algorithm just takes one coin at each cases, let's look at an   \n",
    "example below.  \n",
    "\n",
    "__a. exchange money in one coin __  \n",
    "- It takes 100 times when exchanging 100 cents using 1 cent  \n",
    "- It takes n times when exchanging n cents using 1 cent  \n",
    "- It takes $\\frac{n}{k}$ times when exchanging n cents using k cent  \n",
    "\n",
    "In this case, if n is sufficiently larger than k, complexity( time complexity ) is $\\theta (n)$.\n",
    "\n",
    "__b. exchange money in two coins( 'a' cent, b cent )__\n",
    "- zero 'a' cent, $\\frac{n}{b}$ b cents\n",
    "\n",
    "\n",
    "- one 'a' cent, $\\frac{n-a}{b}$ b cents\n",
    "\n",
    "\n",
    "- two 'a' cents, $\\frac{n-2a}{b}$ b cents  \n",
    "...  \n",
    "\n",
    "- $\\frac{n}{a}$ 'a' cents, zero b cent\n",
    "\n",
    "In this case, possible combinations of coins is close to the complexity n, however the real   \n",
    "complexity is $\\theta(n^2)$  because the algorithm of the problem pulls the money one by one.  \n",
    "\n",
    "__b. exchange money in three kinds of coins(a coin, b coin, c coin)__  \n",
    "- For the first if it is assumed that process picks 'a' coin only k times,  then the original problem   \n",
    "will be changed to the problem of chainging money with b cent and c cent. in this case, the   \n",
    "complexity is $\\theta(\\frac{n^3}{a})=\\theta(n^3)$ because the possible combination of 'a' cent is $\\frac{n}{a}$  \n",
    "\n",
    "***\n",
    "\n",
    "- Space complexity of this problem is $ \\theta (n) $ same as the case of Fibonacci. The reason is   \n",
    "that the recursive process does not evaluate all of the recursive at once, rather it evaluates  \n",
    "one branch at a time, therefore the size of stack is in proportion to the depth of recursion only.  \n",
    "-> \"We only care about how many stack frames there are at a time\"  \n",
    "[quoted from the question of Quora](https://www.quora.com/What-is-the-space-complexity-of-a-recursive-fibonacci-function).  \n",
    "\n",
    "\n",
    "***\n",
    "\n",
    "__References__\n",
    "\n",
    "[Complexity calculation of coin exchange](http://yati-sagade.github.io/2015/04/12/sicp-change-growth/)  \n",
    "[Space complexity of the Fibonacci function](https://www.youtube.com/watch?v=dxyYP3BSdcQ)  \n",
    "[Space complexity of recursive functions](https://www.quora.com/What-is-the-space-complexity-of-a-recursive-fibonacci-function)  \n"
   ]
  },
  {
   "cell_type": "markdown",
   "metadata": {},
   "source": [
    "*** \n",
    "\n",
    "Exercise 1.15\n",
    "===\n",
    "This is not for memorizing the method to transform `sin x`. You just need to know how the argument   \n",
    "decreases. When the process does a recursive call, it divides the argument( the size of the problem   \n",
    ") by 3. In other words, the complexity of the process( time and space ) is to be the logarithmic order  \n",
    "because the size of the problem is reduced to $\\frac{1}{3}$ whenever the recursive function is called.  \n",
    "- $\\theta(log_3a) = \\theta(\\frac{log_a}{log_3}) = \\theta({log_a})$\n",
    "\n",
    "\n",
    "- You can see that 'n'( the number of calling 'p' ) will be '$n=5$' from '$12.5 < 0.1 * 3^n$'."
   ]
  },
  {
   "cell_type": "markdown",
   "metadata": {},
   "source": [
    "*** \n",
    "\n",
    "[Exercise 1.16](https://github.com/my-snippet/SICP/blob/master/sicp/ex-1-16.scm)\n",
    "===\n",
    "The key is that a zero expontials of all numbers are 1. The exponential argument should start with   \n",
    "the original exponential value, not from zero because whenever the function is called it should be   \n",
    "divided by 2( $\\frac{n}{2}$ ). ( If you start from zero then multiplication is no available, and start with 1 then  \n",
    "the procedure should have an exception for when n = 0 ) The problem can be solved that if the  \n",
    "procedure can operate in case of both the exponential is even and odd.  \n",
    "\n",
    "1. Result value starts with 1 which is an exponential of all numbers. $result \\leftarrow 1 $\n",
    "2. Result value will be multiplied by base if the exponential is odd. $n\\leftarrow n-1$, $result \\leftarrow result * b $\n",
    "3. The exponential will be in half and the base will be doubled if the exponential is even. $n\\leftarrow \\frac{n}{2}$, $b \\leftarrow b^2$\n",
    "\n",
    "\n",
    "- You can quickly check the output of the 4 exponential of n without the size of stack problem  \n",
    "from the code below."
   ]
  },
  {
   "cell_type": "code",
   "execution_count": 1,
   "metadata": {
    "collapsed": false
   },
   "outputs": [],
   "source": [
    "(load \"ex-1-16.scm\")\n",
    "(load \"lib/basic/operations.scm\")"
   ]
  },
  {
   "cell_type": "code",
   "execution_count": 2,
   "metadata": {
    "collapsed": false
   },
   "outputs": [
    {
     "data": {
      "text/plain": [
       "(4 16 64 256 1024 1048576 4194304 16777216 67108864 268435456 1073741824 1099511627776 4398046511104 17592186044416 70368744177664 281474976710656 1125899906842624)"
      ]
     },
     "execution_count": 2,
     "metadata": {},
     "output_type": "execute_result"
    }
   ],
   "source": [
    "(map (lambda (n) (fast-expt2 4 n)) (list 1 2 3 4 5 10 11 12 13 14 15 20 21 22 23 24 25))"
   ]
  },
  {
   "cell_type": "markdown",
   "metadata": {},
   "source": [
    "*** \n",
    "\n",
    "[Exercise 1.17 ~ 1.18](https://github.com/my-snippet/SICP/blob/master/sicp/ex-1-17.scm)\n",
    "===\n",
    "This problem can be solved using the same idea of [Exercise 1.16](https://github.com/my-snippet/SICP/blob/master/sicp/ex-1-16.scm). [Reference : Test code](https://github.com/my-snippet/SICP/blob/master/sicp/ex-1-17-test.scm)\n",
    "\n",
    "- If b which is the required number of addition of a is even, then a will be doubled, otherwise  \n",
    "b will be divided by 2. For example, 2x10 = 4x5 = 4 + 4x4 = 4 + 8x2 = 4 + 16x1 = 4 + 16 = 20"
   ]
  },
  {
   "cell_type": "code",
   "execution_count": 2,
   "metadata": {
    "collapsed": true
   },
   "outputs": [],
   "source": [
    "(load \"ex-1-17.scm\")"
   ]
  },
  {
   "cell_type": "code",
   "execution_count": 3,
   "metadata": {
    "collapsed": false
   },
   "outputs": [
    {
     "data": {
      "text/plain": [
       "#t"
      ]
     },
     "execution_count": 3,
     "metadata": {},
     "output_type": "execute_result"
    }
   ],
   "source": [
    ";; iterative\n",
    ";; \"17 * 0 = 0 * 17 = 0\"\n",
    ";; \"(17 * 17) - (17 * 16) = 17\"\n",
    "(and (= (*_ 17 0) 0) (= (*_ 0 17) 0)\n",
    "     (= (- (*_ 17 17) (*_ 17 16)) 17))"
   ]
  },
  {
   "cell_type": "code",
   "execution_count": 4,
   "metadata": {
    "collapsed": false
   },
   "outputs": [
    {
     "data": {
      "text/plain": [
       "#t"
      ]
     },
     "execution_count": 4,
     "metadata": {},
     "output_type": "execute_result"
    }
   ],
   "source": [
    ";; recursive\n",
    "(and (= (*_ 17 0) 0) (= (*_ 0 17) 0)\n",
    "     (= (- (*-recursive 17 17) (*-recursive 17 16)) 17))"
   ]
  },
  {
   "cell_type": "markdown",
   "metadata": {
    "collapsed": true
   },
   "source": [
    "*** \n",
    "\n",
    "[Exercise 1.19](https://github.com/my-snippet/SICP/blob/master/sicp/ex-1-19.scm)\n",
    "===\n",
    "Let $T_{pq}$ be a rule called T when $p=0, q=1$. Then $T_{pq}(a,b)$ follows the rules below.\n",
    "\n",
    "$a \\leftarrow bq+ aq + ap$  \n",
    "$b \\leftarrow bp + aq$\n",
    "\n",
    "At this point, When $T_{pq}$ is applied double, let this will be $T_{pq}^2$. If the expression $T_{pq}^2 = T_{p'q'}$ is  \n",
    "satisfied by $p=p', q=q'$, then  $T_{pq}^{2n} = T_{p'q'}^n$. That is, Whenever a condition $p=p', q=q'$  \n",
    "which satisfies $T_{pq}^2 = T_{p'q'}$ can be induced, the number of remaining operations will be  \n",
    "reduced to $ \\frac {1} {2}$.\n",
    "\n",
    "Then let's find $p', q'$ values applying T two times. I will find 'b' only because it is enough to  \n",
    "find a one of either a or b \n",
    "\n",
    "$b_2 \\leftarrow b_1p + a_1q = (bp + aq)p + (bq+ aq + ap)q = (q^2+2pq)a+(p^2 +q^2)b$\n",
    "\n",
    "$\\therefore\\ p'=q^2+2pq, q = p^2 +q^2$\n",
    "\n",
    "- When you try to find the solution, it will be not easy if you use the substitution to find the rule   \n",
    "between $p,q$ and $p',q'$. because if you do not know the value of $p', q'$, you will not know   \n",
    "whether it is a linear equation or a quadratic equation. Therefore It would be better doing a lot of   \n",
    "practice looking at the problem in various perspectives.  "
   ]
  },
  {
   "cell_type": "code",
   "execution_count": 3,
   "metadata": {
    "collapsed": true
   },
   "outputs": [],
   "source": [
    "(load \"ex-1-19.scm\")"
   ]
  },
  {
   "cell_type": "code",
   "execution_count": 4,
   "metadata": {
    "collapsed": false
   },
   "outputs": [
    {
     "data": {
      "text/plain": [
       "(1 1 2 3 5 55 89 144 233 377 610 12586269025 20365011074 32951280099 53316291173 86267571272 139583862445)"
      ]
     },
     "execution_count": 4,
     "metadata": {},
     "output_type": "execute_result"
    }
   ],
   "source": [
    "(map (lambda (n) (fib-advanced n)) \n",
    "     (list 1 2 3 4 5 10 11 12 13 14 15 50 51 52 53 54 55))"
   ]
  },
  {
   "cell_type": "markdown",
   "metadata": {},
   "source": [
    "*** \n",
    "\n",
    "Chapter 1.2.5\n",
    "===\n",
    "SICP is not just full of the contents like 'Try use the A function', 'Try to Implement the A   \n",
    "function'. Rather it has many exercises which asks the reason of a result or the process of an   \n",
    "expression. For example, 'what happens if you evaluate the work \"a\" with the way of p? and how about   \n",
    "the way of q?' or 'why the work \"c\" cannot work with the way of \"r\"?' and something else. This   \n",
    "style also seems to make a controversial to this book.  \n",
    "\n",
    "In the above context I think understanding and interpreting the algorithms are important to this chapter.  \n",
    "It introduces the Euclidean algorithm to obtain the greatest common divisor GCD. The GCD and the LCM is  \n",
    "an easy formula to apply using simply memorizing. But if you want to understand it seems to be one of the  \n",
    "things that continues to be difficult as the 'Fibonacci function.  \n",
    "\n",
    "Although you will know the complexity of this algorithm is the logarithmic order with the [Lamé's Theorem](https://mitpress.mit.edu/sicp/chapter1/footnode.html#2407)  \n",
    "as in the book(  $\\theta (log n)$, \"n\" is the smaller value among the arguments of the gcd procedure ), you can  \n",
    "find this without above theorem because the argument value will be divided by at least 2 whenever a  \n",
    "recursive call. [Reference](https://opentutorials.org/course/1685/9533)\n",
    "\n",
    "It helped little by little that I had tried to interpret the [Demonstration using the reductio ad absurdam](https://ko.wikipedia.org/wiki/%EC%9C%A0%ED%81%B4%EB%A6%AC%EB%93%9C_%ED%98%B8%EC%A0%9C%EB%B2%95) and  \n",
    "to watch visually the [Descrition using a line or shape](https://en.wikipedia.org/wiki/Euclidean_algorithm) But after I had seen the several proofs, the following  \n",
    "proof was best understood. [Reference](http://suhak.tistory.com/275)\n",
    "\n",
    "- __If__ $d = gcd(a,b)$, $a = qb + r,\\ a > b$, __then__ $d\\ |\\ a\\ \\land\\ d\\ |\\ b$, $d\\ |\\ (a-qb)\\ = d\\ |\\ r$  \n",
    "$\\therefore\\ gcd(a,b) = gcd(b,r)$\n",
    "\n",
    "As a result, I thought it was a good example to think about the ongoing interaction between two  \n",
    "parameters."
   ]
  },
  {
   "cell_type": "markdown",
   "metadata": {
    "collapsed": true
   },
   "source": [
    "*** \n",
    "\n",
    "Exercise 1.20\n",
    "===\n",
    "At this point, you might think the solution is 1+2+4+7=14 but [__It ain't over till it's over__](https://en.wikipedia.org/wiki/Yogi_Berra), In the process of  \n",
    "returning the second argument of the final result, 'r'( the operations remaining ) should be added to the  \n",
    "second argument. Therefore the solution is 18. [Reference](http://www.billthelizard.com/2010/01/sicp-exercise-120-gcd.html)  \n",
    "\n",
    "- If a process had followed the normal-order, it would be 4 same as the number of recursive calls."
   ]
  },
  {
   "cell_type": "markdown",
   "metadata": {},
   "source": [
    "*** \n",
    "\n",
    "Chapter 1.2.6\n",
    "===\n",
    "__Searching for divisors__   \n",
    "The key is that the smallest divisor of n called 'a' will be equal to n with muliplying the GCD value b   \n",
    "$n = ab$.The proposition that a smallest divisor satisfying the $a^2 \\gt n$ does not exist is true because the   \n",
    "maximum 'a' value is only when $ a = b $. [Reference](https://opentutorials.org/module/1544/9531)   \n",
    "\n",
    "__Searching for primes__  \n",
    "Primes can be thought as the values that does not have any divisor. Therefore it can be found using   \n",
    "the procedure to find divisors. If you use the searching divisors algorithm to find a prime, then the  \n",
    "complexity of the algorithm will be the same as that procedure. ( From $a^2 \\le n$ to $\\theta(\\sqrt n)$ )  \n",
    "\n",
    "Primes also can be found using Fermat’s Little Theorem although it may seems to not be intuitive.   \n",
    "Maybe there are many proofs of this theorem, but I think the Euler's theorem seems to be the one of   \n",
    "the most clean proof.  \n",
    "\n",
    "__Proof of Euler's theorem__  \n",
    "$\\phi(n)$ is the number of primes between n and the natural numbers less than or equal to n. Let's define  \n",
    "a set which have the values that satisfies $\\phi(n)$ be $P = \\left\\{p_1, p_2, ..., p_{\\phi(n)}\\right\\} $, and a set that have the  \n",
    "elements of P multiplied to each elements by unknown number 'a' that is a prime to n be  \n",
    "$P' = \\left\\{ap_1, ap_2, ..., ap_{\\phi(n)}\\right\\}$. At this time, the values consisting of the product of each element of P,  \n",
    "$P_m = p_1p_2...p_{\\phi(n)}$, and other values consisting of the product of each element of P',  \n",
    "$P'_m = ap_1ap_2...ap_{\\phi(n)} = a^{\\phi(n)}p_1p_2...p_{\\phi(n)}$ also does not have any divisor to integer n.  Therefore if  \n",
    "$(P_m \\mod n) = k$, then $(P'_m \\mod n) = a^{\\phi(n)}k = a^{\\phi(n)}(P_m \\mod n)$, ${a^{\\phi(n)} \\equiv 1}$ is established.  \n",
    "[Reference](https://en.wikipedia.org/wiki/Euler%27s_theorem)\n",
    "\n",
    "__Proof of Fermat's theorem__      \n",
    "If n is a prime, then $\\phi(n) = n-1$. Fermat's theorem can be proved from Euler's theorem.  \n",
    "${a^{n-1} \\equiv 1}\\ (\\mod n)$"
   ]
  },
  {
   "cell_type": "markdown",
   "metadata": {},
   "source": [
    "*** \n",
    "\n",
    "[Exercise 1.22](https://github.com/my-snippet/SICP/blob/master/sicp/ex-1-22-test.scm)\n",
    "===\n",
    "[Exercise 1.23](https://github.com/my-snippet/SICP/blob/master/sicp/ex-1-23-test.scm)\n",
    "===\n",
    "[Exercise 1.24](https://github.com/my-snippet/SICP/blob/master/sicp/ex-1-24-test.scm)\n",
    "===\n",
    "Here it checks whether the actual operation times match the theoretical time complexities through  \n",
    "these exercises. In case of Fermat's method([Exercise 1.24](https://github.com/my-snippet/SICP/blob/master/sicp/ex-1-24-test.scm)) it seems to be slow when the argument  \n",
    "value is small because it tests many times to down the percentage of the failure, but when the  \n",
    "argument value gradually increase it will overtake the first case because the order of growth of the  \n",
    "Fermat's test is logarithmic.\n",
    "\n",
    "If the previous searching primes method is improved by `next`([Exercise 1.23](https://github.com/my-snippet/SICP/blob/master/sicp/ex-1-23-test.scm)), The operation speed  \n",
    "should be doubled theoretically, but in actually it will shows the slower improvement of speed(  \n",
    "approximately 1.44 times ) because of [ calling procedures, returns, judging predicates, addition  \n",
    "operations, etc  ]. ( For example, I checked that the speed was improved when the predicates had  \n",
    "been removed )\n",
    "\n",
    "In case of the common searching primes methods([Exercise 1.22](https://github.com/my-snippet/SICP/blob/master/sicp/ex-1-22-test.scm)) it shows almost same speed as  \n",
    "the theoretical value $\\theta(\\sqrt n)$"
   ]
  },
  {
   "cell_type": "markdown",
   "metadata": {},
   "source": [
    "*** \n",
    "\n",
    "Exercise 1.25\n",
    "===\n",
    "When you use `fast-expt` to operate the exponential expressions and if 'n' is big(  For example,   \n",
    "`n=1000` ), you might face the situation that the process should operate $a^{1000}$ when $a=999$, If unlucky.   \n",
    "Although the complexity is just a logarithmic order, There is the danger factor of `Data Overflow`   \n",
    "because the amount of operations will increase a lot. it would be better to use the   \n",
    "$(x^2 \\mod n) = ((x \\mod n)^2 \\mod n)$ operation when the process faces an even exponential using   \n",
    "the $(xy \\mod n) = ((x \\mod n)(y \\mod n) \\mod n)$ method.  "
   ]
  },
  {
   "cell_type": "markdown",
   "metadata": {},
   "source": [
    "*** \n",
    "\n",
    "Exercise 1.26\n",
    "===\n",
    "squaring a value using the `square` procedure when it is even also means that it makes the value   \n",
    "already obtained double. however if it takes the method to multiply the results each other from   \n",
    "evaluating the same operation twice, you cannot the advantage from decreasing the exponential to   \n",
    "$\\frac{1}{2}$ because the required operations will be doubled whenever the exponential is even.  "
   ]
  },
  {
   "cell_type": "markdown",
   "metadata": {
    "collapsed": true
   },
   "source": [
    "*** \n",
    "\n",
    "[Exercise 1.27](https://github.com/my-snippet/SICP/blob/master/sicp/ex-1-27.scm)\n",
    "===\n",
    "If a that satisfies $1\\le a \\lt n$ ${a^{n} \\equiv a}\\ (mod\\ n)$ it will be either a prime or a Carmichael number. the  \n",
    "problem tests it. [Reference](https://github.com/my-snippet/SICP/blob/master/sicp/ex-1-27-test.scm)"
   ]
  },
  {
   "cell_type": "code",
   "execution_count": 1,
   "metadata": {
    "collapsed": true
   },
   "outputs": [],
   "source": [
    "(load \"ex-1-27.scm\")\n",
    "(load \"lib/basic/operations.scm\")"
   ]
  },
  {
   "cell_type": "code",
   "execution_count": 2,
   "metadata": {
    "collapsed": false
   },
   "outputs": [
    {
     "data": {
      "text/plain": [
       "#t"
      ]
     },
     "execution_count": 2,
     "metadata": {},
     "output_type": "execute_result"
    }
   ],
   "source": [
    ";; \"Prime numbers can pass Carmichael test\"\n",
    "(and (carmichael? 2)\n",
    "     (carmichael? 3)\n",
    "     (carmichael? 5))"
   ]
  },
  {
   "cell_type": "code",
   "execution_count": 3,
   "metadata": {
    "collapsed": false
   },
   "outputs": [
    {
     "data": {
      "text/plain": [
       "#t"
      ]
     },
     "execution_count": 3,
     "metadata": {},
     "output_type": "execute_result"
    }
   ],
   "source": [
    ";;\"a number which is not Prime and Carmichael,\n",
    ";; cannot pass carmichael? test\"\n",
    "(not (and (carmichael? 4)\n",
    "          (carmichael? 9)\n",
    "          (carmichael? 16)))"
   ]
  },
  {
   "cell_type": "code",
   "execution_count": 4,
   "metadata": {
    "collapsed": false
   },
   "outputs": [
    {
     "data": {
      "text/plain": [
       "#t"
      ]
     },
     "execution_count": 4,
     "metadata": {},
     "output_type": "execute_result"
    }
   ],
   "source": [
    ";; 561 = 3 * 187, 1105 = 5 * 221, 1729 = 7 * 247\n",
    ";; \"First 3 Carmichaels detection\"\n",
    "(and (carmichael? (* 3 187))\n",
    "     (carmichael? (* 5 221))\n",
    "     (carmichael? (* 7 247)))"
   ]
  },
  {
   "cell_type": "markdown",
   "metadata": {},
   "source": [
    "*** \n",
    "\n",
    "[Exercise 1.28](https://github.com/my-snippet/SICP/blob/master/sicp/ex-1-28.scm)\n",
    "===\n",
    "다른 문제도 그렇지만 특히 이 문제는 구현보다는 분석이 중요하다고 생각합니다.\n",
    "\n",
    "밀러-라빈 알고리즘을 증명하고, 해석하고, 코드로 만들어놓은 자료들은 많습니다. 하지만 대개는 너무  \n",
    "생략했거나, 너무 복잡하거나, 너무 부실한 터라 제대로 된 이해를 하기가 쉽지 않습니다. 그나마  \n",
    "[cornell univ' reference](http://www.cs.cornell.edu/courses/cs4820/2010sp/handouts/MillerRabin.pdf)에 나온 설명이 차근차근 잘 설명되어 있어, 참고하기에 좋은 것 같습니다. 이  \n",
    "자료들을 읽다보면 결국, `modulo` 연산의 기초를 알고있어야, 밀러-라빈을 포함한 '소수 찾기'  \n",
    "알고리즘을 제대로 이해할 수 있다는 사실을 알게됩니다.\n",
    "\n",
    "그런 의미에서 지금까지 풀어온 '소수 찾기' 문제들은 사실 [`modulo` 연산의 중요성](https://en.wikipedia.org/wiki/Modulo_operation)  을 일깨워주는  \n",
    "것이며, 이러한 아이디어들을 [컴퓨터가 나머지 연산시 사용한다는 것](https://en.wikipedia.org/wiki/Modulo_operation)을 간접적으로 알려주는 소챕터가  \n",
    "아닌지 생각해보게 되었습니다.\n",
    "\n",
    "문제 풀이 자체는 단순합니다. [Exercise 1.27](https://github.com/my-snippet/SICP/blob/master/sicp/ex-1-27.scm)에서 '카마이클 수'를  \n",
    "찾아낼 때 페르마 검사fermat test를 실시했던 것처럼, (하기에는) 간단한 검사를 해주면 됩니다. 만약,  \n",
    "소수가 아닌데 $a^{2it} \\equiv 1$`(mod n-1)`을 만족하는 수가 있다면 그 수는 페르마 검사를 무효화시키는  \n",
    "값이라고 판단, 소수가 아니라고 결론내리는 것입니다."
   ]
  },
  {
   "cell_type": "markdown",
   "metadata": {
    "collapsed": true
   },
   "source": [
    "*** \n",
    "\n",
    "Chapter 1.3.1\n",
    "===\n",
    "지금까지 프로시저와 프로세스의 관계를 생각해보았습니다. 그리고 프로시저를 데이터처럼 쓰는 경험을 통해  \n",
    "'x는 x가 아니라는 것'을 몸소 체험하게 되었습니다. 마치 ['이것은 파이프가 아니다'](https://ko.wikipedia.org/wiki/%EC%9D%B4%EB%AF%B8%EC%A7%80%EC%9D%98_%EB%B0%B0%EB%B0%98)를 떠올리게 합니다.\n",
    "\n",
    "프로그래밍은 정보를 암기하는 방식으로는 조금도 잘할 수가 없기 때문에, 좋은 방법론이 필요합니다.  \n",
    "그렇지만 사람마다 그 방법론은 다를 수 있고, 때에 따라 유연한 대처가 필요하다는 생각을 합니다.  \n",
    "['지식의 단련법' 참조](http://www.kyobobook.co.kr/product/detailViewKor.laf?ejkGb=KOR&mallGb=KOR&barcode=9788992492515&orderClick=LAG&Kc=)\n",
    "\n",
    "여러가지 방법론이 있을테고, 사실 저는 그것들을 잘 모릅니다. 하지만 기본은 '프로그램을 분석하고 만드는  \n",
    "일을 게을리 하지 않는 것'에 있을 것이라는 생각을 하고 있습니다.\n",
    "\n",
    "그런 의미에서 SICP의 내용은 '__분석$\\circlearrowleft$ 코딩__'이 순환하는 밸런스가 잘 맞는 편인 것같습니다.\n",
    "\n",
    "__Sum as an Evaluator__  \n",
    "이 챕터에서 배우는 `sum` 프로시저는 사실 간단한 실행기Evaluator의 예입니다. 수학 기호인 $\\sum$과 __거의__   \n",
    "일치하기도 하는데, 이것은 '필요한 연산을, 일정 주기에 걸쳐서, 각각의 인자에 적용한 결과를 모두 더해   \n",
    "내놓는 실행기'입니다. \n",
    "\n",
    "실행기가 온전하게 구현되어 있다면, 수정해야하는 것은 실행기에 넣어줄 연산들이지 실행기가 아닙니다.  \n",
    "예를 들어, a부터 b까지의 정수를 합할 때에는, 아래와 같이 `identity` 프로시저로 실행기에 넣어도   \n",
    "탈이 안나도록 해줍니다."
   ]
  },
  {
   "cell_type": "code",
   "execution_count": 1,
   "metadata": {
    "collapsed": true
   },
   "outputs": [],
   "source": [
    "(define (identity x) x)\n",
    "\n",
    "(define (sum-integers a b)\n",
    "  (sum identity a inc b))"
   ]
  },
  {
   "cell_type": "markdown",
   "metadata": {},
   "source": [
    "*** \n",
    "\n",
    "[Exercise 1.29](https://github.com/my-snippet/SICP/blob/master/sicp/ex-1-29.scm)\n",
    "===\n",
    "테스트가 부실하지만 일단 [파이썬으로 구현한 예제](http://wikibootup.github.io/sicp/1-3-simpson-rule.html)로 대체합니다."
   ]
  },
  {
   "cell_type": "markdown",
   "metadata": {},
   "source": [
    "*** \n",
    "\n",
    "[Exercise 1.31](https://github.com/my-snippet/SICP/blob/master/sicp/ex-1-31.scm)\n",
    "===\n",
    "\n",
    "$\\frac{\\pi}{4} = \\frac{2\\cdot4\\cdot4\\cdot6\\cdot6\\cdot8\\cdot\\cdot\\cdot}{3\\cdot3\\cdot5\\cdot5\\cdot7\\cdot7\\cdot\\cdot\\cdot}$\n",
    "---\n",
    "\n",
    "왠지 $\\cdot\\cdot\\cdot$ 때문에 대충 공식대로 수들을 많이 곱해주면 $\\pi$에 근접한 값이 나올 것 같지만, 아닙니다. 예를 들어,  \n",
    "k번째 연산에 불필요한 수 p를 곱할 경우 이미 $\\pi$에 근접한 값에 p를 곱하는 셈이므로 완전히 벗어난 값을  \n",
    "반환해주게 됩니다. \n",
    "\n",
    "또한, 곱하기 연산을 계속 수행하다보면 값이 너무 커질 수 있기 때문에, 분자와 분모를 나눠서 계산하지  \n",
    "말고, 분자-분모가 묶인 상태를 부분곱(k번째 연산 결과)으로 두기로 합니다. 즉,\n",
    "\n",
    "$\\pi = 4 \\cdot \\frac{3^2-1}{3} \\cdot \\frac{5^2-1}{5} \\cdot \\frac{7^2-1}{7} \\cdot\\cdot\\cdot \\frac{(2k+3)^2-1}{2k+3} \\cdot\\cdot\\cdot \\frac{n^2-1}{n}$\n",
    "---\n",
    "- 왠지, $\\prod$로 묶고싶지만 이 수식은 프로그램 구현을 위한 것이므로, 그보다는 차라리 점화식처럼  \n",
    "나타내는 것이 보기에 더 나을 것 같습니다.\n",
    "\n",
    "\n",
    "- 아래 프로그램을 통해 항을 곱해가는 횟수 n을 늘려감에 따라 점점 $\\pi=3.14159$에 가까워지는  \n",
    "( 오차율이 줄어드는 ) 것을 확인할 수 있습니다.\n",
    "\n",
    "\n",
    "- [Test Reference](https://github.com/my-snippet/SICP/blob/master/sicp/ex-1-31-test.scm)"
   ]
  },
  {
   "cell_type": "code",
   "execution_count": 1,
   "metadata": {
    "collapsed": true
   },
   "outputs": [],
   "source": [
    "(load \"ex-1-31.scm\")\n",
    "(load \"lib/basic/operations.scm\")"
   ]
  },
  {
   "cell_type": "code",
   "execution_count": 2,
   "metadata": {
    "collapsed": false
   },
   "outputs": [
    {
     "name": "stdout",
     "output_type": "stream",
     "text": [
      "0.8584100000000001\n",
      "0.015749689217565255\n",
      "0.007866428081303223\n",
      "0.005242997381667003\n",
      "0.003932095703313543\n",
      "0.0031458154669592453\n",
      "0.0026217373885986106\n",
      "0.0022474491960977616\n",
      "0.001966762206808248\n",
      "0.0017484673859411437\n",
      "0.0015738424191980016\n"
     ]
    },
    {
     "data": {
      "text/plain": [
       "#t"
      ]
     },
     "execution_count": 2,
     "metadata": {},
     "output_type": "execute_result"
    }
   ],
   "source": [
    ";; \"pi-using-product gradually close to 3.14\"\n",
    "(gradually-closing pi-using-product\n",
    "                   3.14159\n",
    "                   1000\n",
    "                   (lambda (x) (+ x 100)))"
   ]
  },
  {
   "cell_type": "markdown",
   "metadata": {},
   "source": [
    "*** \n",
    "\n",
    "[Exercise 1.32](https://github.com/my-snippet/SICP/blob/master/sicp/ex-1-32.scm)\n",
    "===\n",
    "함수형 언어에서 [Fold](https://en.wikipedia.org/wiki/Fold_(higher-order_function)라고 알려진 개념입니다. Chapter1.2.6에서 나온 `sum`과 유사한데, 이것은 __'필요한  \n",
    "연산을, 일정 주기에 걸쳐서, 각각의 인자에 적용하되, 그 과정에서 이전 결과가 다음 결과와 필요한 방식으로  \n",
    "계속해서 엮이는folded 연산'__입니다. 보통은 차례열sequence 데이터를 인자로 받아 그것을  \n",
    "구간interval으로 삼아서 연산을 하지만, 여기서는 시작점과 끝점을 인자로 받아서 `next`라는 연산으로  \n",
    "주기를 조정하였습니다. [Test reference](https://github.com/my-snippet/SICP/blob/master/sicp/ex-1-32-test.scm)"
   ]
  },
  {
   "cell_type": "markdown",
   "metadata": {},
   "source": [
    "*** \n",
    "\n",
    "[Exercise 1.33](https://github.com/my-snippet/SICP/blob/master/sicp/ex-1-33.scm)\n",
    "===\n",
    "프로그램에서의 __필터filter__는 술어predicate가 참이면 해당 데이터를 포함하고, 거짓이면 포함하지 않는  \n",
    "것입니다. * 이 때의 '포함하지 않는다'의 의미는 엮지않는다(do not fold)의 개념입니다.  \n",
    "[Test reference](https://github.com/my-snippet/SICP/blob/master/sicp/ex-1-33-test.scm)"
   ]
  },
  {
   "cell_type": "markdown",
   "metadata": {},
   "source": [
    "*** \n",
    "\n",
    "[Chapter 1.3.3](https://github.com/my-snippet/SICP/blob/master/sicp/chap-1-3-3.scm)\n",
    "===\n",
    "__이진 검색으로 방정식의 해 찾기__  \n",
    "[이진 검색Binary Search](https://en.wikipedia.org/wiki/Binary_search_algorithm)이라고도 알려져 있는 방법입니다. $f(x) = 0$이 위치하는 지점을 찾기 위해 부호가  \n",
    "'분명하게 갈리는(+,-) 일정 구간을 잡고, 그 구간에 반을 쪼개고, 그 쪼개진 값이 음수면 오른쪽에 있는  \n",
    "부분을, 양수면 왼쪽에 있는 부분을 다시 반 쪼개고, ...' 이런 반복을 해서 해를 찾는 방법인데, 여기서 해는  \n",
    "정확한 값이 아닌 오차범위error tolerance 안에 포함된 근사값으로 나타납니다. 즉, 해가 1개가 아니며  \n",
    "구간을 가집니다. 그런 이유로 이 프로그램의 복잡도는 $\\theta(log(\\frac{L}{T}))$, `(구간 길이 L, 오차 범위T )`으로  \n",
    "주어지게 됩니다.\n",
    "\n",
    "* 해가 1개이면 자연스럽게 $\\theta(log(L))$이 성립합니다. \n",
    "* 이 프로그램을 통해 예외처리 error를 배우기도 합니다( 구간 양 끝의 부호가 다르지 않다면(+,-), 오류 ).\n",
    "\n",
    "__고정점 찾기__  \n",
    "고정점을 찾기 위해서 '반복적으로 동일한 매핑 연산$ \\mapsto$을 수행하면서, 값의 변동이 일정 구간으로 수렴하도록  \n",
    "만드는 방법'을 사용합니다. 이 때 흥미로운게 평균average 연산으로 잦아들게damping 만드는 방법입니다.  \n",
    "이 방법의 아이디어는 '해solution가 어차피 현재 매핑된 값(또는 추측값)과 다음 매핑될 값 사이에 존재'한다는  \n",
    "것에 착안해서, 이 둘 사이에 평균값을 매핑해주는 것입니다. 이 방법은 해에 빠르게 접근할 수 있도록  \n",
    "도와주기도 하며, n 제곱근 연산 등을 구할 때에는 절대적으로 필요하기도 합니다.\n",
    "\n",
    "[Test reference](https://github.com/my-snippet/SICP/blob/master/sicp/chap-1-3-3-test.scm)"
   ]
  },
  {
   "cell_type": "markdown",
   "metadata": {},
   "source": [
    "*** \n",
    "\n",
    "[Exercise 1.36](https://github.com/my-snippet/SICP/blob/master/sicp/ex-1-36-test.scm)\n",
    "===\n",
    "평균average 연산으로 잦아들게damping 만드는 방법이 고정점을 찾는데 효율적인 방법임을 보여주는  \n",
    "예제입니다. 아래의 문제에서는 잦아들게 한 경우, 하지 않은 경우보다 거의 4배 빠르게 고정점에  \n",
    "다다감을 확인할 수 있습니다.\n",
    "\n",
    "- 현재 커널에 `display` 프로시저가 지원되지 않아, 파이썬으로 재구현한 예제입니다."
   ]
  },
  {
   "cell_type": "code",
   "execution_count": 1,
   "metadata": {
    "collapsed": true
   },
   "outputs": [],
   "source": [
    "from math import log2\n",
    "from statistics import mean\n",
    "\n",
    "from ex_1_36 import fixed_point"
   ]
  },
  {
   "cell_type": "code",
   "execution_count": 2,
   "metadata": {
    "collapsed": false
   },
   "outputs": [
    {
     "name": "stdout",
     "output_type": "stream",
     "text": [
      "1th : 2.0\n",
      "2th : 9.965784284662087\n",
      "3th : 3.004472209841214\n",
      "4th : 6.279195757507157\n",
      "5th : 3.759850702401539\n",
      "6th : 5.215843784925896\n",
      "7th : 4.182207192401397\n",
      "8th : 4.82776509834459\n",
      "9th : 4.387593384662677\n",
      "10th : 4.671250085763899\n",
      "11th : 4.481403616895052\n",
      "12th : 4.605365746092901\n",
      "13th : 4.523084967871886\n",
      "14th : 4.577114682047342\n",
      "15th : 4.541382480151454\n",
      "16th : 4.564903245230834\n",
      "17th : 4.5493726793033415\n",
      "18th : 4.5596064919132875\n",
      "19th : 4.552853875788271\n",
      "20th : 4.557305529748263\n",
      "21th : 4.554369064436181\n",
      "22th : 4.556305311532999\n",
      "23th : 4.555028263573554\n",
      "24th : 4.5558703967028515\n",
      "25th : 4.555315001192078\n",
      "26th : 4.5556812635433275\n",
      "27th : 4.555439715736846\n",
      "28th : 4.555599009998291\n",
      "29th : 4.555493957531389\n",
      "30th : 4.555563237292885\n",
      "31th : 4.55551754841765\n",
      "32th : 4.5555476793063985\n",
      "33th : 4.555527808516254\n",
      "34th : 4.555540912917958\n"
     ]
    }
   ],
   "source": [
    "x = fixed_point(lambda x: log2(1000) / log2(x), 2.0) \n",
    "x"
   ]
  },
  {
   "cell_type": "code",
   "execution_count": 3,
   "metadata": {
    "collapsed": false
   },
   "outputs": [
    {
     "name": "stdout",
     "output_type": "stream",
     "text": [
      "1th : 2.0\n",
      "2th : 5.9828921423310435\n",
      "3th : 4.922168721308343\n",
      "4th : 4.628224318195455\n",
      "5th : 4.568346513136242\n",
      "6th : 4.5577305909237005\n",
      "7th : 4.555909809045131\n",
      "8th : 4.555599411610624\n",
      "9th : 4.5555465521473675\n"
     ]
    }
   ],
   "source": [
    "x2 = fixed_point(lambda x: mean([x, log2(1000) / log2(x)]), 2.0)\n",
    "x2"
   ]
  },
  {
   "cell_type": "markdown",
   "metadata": {
    "collapsed": true
   },
   "source": [
    "*** \n",
    "\n",
    "[Exercise 1.37](https://github.com/my-snippet/SICP/blob/master/sicp/ex-1-37.scm)\n",
    "===\n",
    "$\\frac {N_1}{D_1 + NextRecursiveFunction}$\n",
    "---\n",
    "재귀적 구현은 단순하게 위처럼 다음 재귀함수를 분모에 더해주는 것만으로 구현 가능합니다. 이 문제는  \n",
    "반복iterative 구현이 인상적입니다. 재귀적 구현 순서의 거꾸로 시작하되, 인덱스 k를 거꾸로 매기는  \n",
    "것으로 문제가 풀립니다. [Test reference](https://github.com/my-snippet/SICP/blob/master/sicp/ex-1-37-test.scm)\n",
    "\n",
    "- 아래 구현이 소수점 4자리까지 일치하지 못하고 끝난 이유는 오차범위(0.0001 미만의 오차이면  \n",
    "통과)로 술어를 정했기 때문입니다. 소수점을 매칭시켜가며 테스트를 짜야하는게 맞지만, 일단  \n",
    "이것으로 대체하겠습니다."
   ]
  },
  {
   "cell_type": "code",
   "execution_count": 2,
   "metadata": {
    "collapsed": false
   },
   "outputs": [],
   "source": [
    "(load \"ex-1-37.scm\")\n",
    "(load \"lib/basic/operations.scm\")"
   ]
  },
  {
   "cell_type": "code",
   "execution_count": 3,
   "metadata": {
    "collapsed": false
   },
   "outputs": [
    {
     "name": "stdout",
     "output_type": "stream",
     "text": [
      "1.0\n",
      "0.5\n",
      "0.6666666666666666\n",
      "0.6000000000000001\n",
      "0.625\n",
      "0.6153846153846154\n",
      "0.6190476190476191\n",
      "0.6176470588235294\n",
      "0.6181818181818182\n",
      "0.6179775280898876\n"
     ]
    },
    {
     "data": {
      "text/plain": [
       "10"
      ]
     },
     "execution_count": 3,
     "metadata": {},
     "output_type": "execute_result"
    }
   ],
   "source": [
    "(find-n-when-satisfy-tolerance\n",
    " (lambda (k) (cont-frac-iter (lambda (i) 1.0)\n",
    "\t\t\t\t\t\t\t (lambda (i) 1.0)\n",
    "\t\t\t\t\t\t\t k))\n",
    " (/ 1 1.6180327868852458) 0.0001 1 inc)"
   ]
  },
  {
   "cell_type": "markdown",
   "metadata": {},
   "source": [
    "*** \n",
    "\n",
    "[Exercise 1.38](https://github.com/my-snippet/SICP/blob/master/sicp/ex-1-38.scm), [Exercise 1.39](https://github.com/my-snippet/SICP/blob/master/sicp/ex-1-39.scm)\n",
    "===\n",
    "[Exercise 1.37](https://github.com/my-snippet/SICP/blob/master/sicp/ex-1-37.scm)에서 구현한 연속분수프로시저 cont-frac을 응용하는 예제입니다. 분자와 분모가 인덱스의  \n",
    "변화에 따라 어떻게 변할지 규칙을 정해주는 것, 그리고 cont-frac에 들어갈 규칙에 맞게 적합하게 식을  \n",
    "수정하는 것, 또 cont-frac에 무리하게 끼워넣지 말고 몇가지 항은 빼서 계산하는 것이 도움이 되었던  \n",
    "것 같습니다.\n",
    "\n",
    "- Exercise 1.39에서 tan 함수 구현시 $x = -\\frac{1}{x}(-x^2)$으로 수정한 것이 도움이 되었습니다."
   ]
  },
  {
   "cell_type": "markdown",
   "metadata": {},
   "source": [
    "*** \n",
    "\n",
    "Chapter 1.3.4\n",
    "===  \n",
    "이 챕터는 프로시저를 인자로 받는 프로시저가 그 인자를 이용해서 새로운 프로시저로 만드는 예들을 보여줍니다.   \n",
    "이런 아이디어를 통해서 합성함수, improve, 연속적인 average damping, $g(x)=0$이 되는 술어를   \n",
    "만족하도록 만드는 newton method 등을 구현해볼 수 있게 됩니다. 이 챕터의 연습문제들은 단순 계산   \n",
    "문제라서 그리 어렵지 않습니다. 대신 다른 링크에서 해당 문제들을 분석해놓은 자료들을 보는게 도움이 되는 것   \n",
    "같아 링크를 첨부합니다.\n",
    "\n",
    "Exercise 1.40  \n",
    "[cubic reference 1](http://www.billthelizard.com/2010/08/sicp-140-zeros-of-cubic-function.html), [cubic reference 2](http://community.schemewiki.org/?sicp-ex-1.40)\n",
    "\n",
    "Exercise 1.45  \n",
    "[n th root reference 1](http://www.billthelizard.com/2010/08/sicp-145-computing-nth-roots.html), [n th root reference 2](http://community.schemewiki.org/?sicp-ex-1.45)\n",
    "\n",
    "다른 언어에서는 기본적으로 구현되는 기능들을 구현해보는 것은 호기심을 풀어주고 원리를 이해시켜주기는   \n",
    "하지만, 어쩌면 결과적으로 비실용적인 일인지도 모르겠습니다. 아래는 Haskell의 기본 함수built-in  \n",
    "function들입니다. ( 연습문제에서 구현한 것과 기능적으로 같습니다 )  \n",
    "[Code reference](http://learnyouahaskell.com/higher-order-functions)"
   ]
  },
  {
   "cell_type": "code",
   "execution_count": 1,
   "metadata": {
    "collapsed": false
   },
   "outputs": [
    {
     "data": {
      "text/plain": [
       "[-14,-15,-27]"
      ]
     },
     "metadata": {},
     "output_type": "display_data"
    }
   ],
   "source": [
    "map (negate . sum . tail) [[1..5],[3..6],[1..7]]  "
   ]
  }
 ],
 "metadata": {
  "kernelspec": {
   "display_name": "Haskell",
   "language": "haskell",
   "name": "haskell"
  },
  "language_info": {
   "codemirror_mode": "ihaskell",
   "file_extension": ".hs",
   "name": "haskell",
   "version": "7.10.2"
  }
 },
 "nbformat": 4,
 "nbformat_minor": 0
}
