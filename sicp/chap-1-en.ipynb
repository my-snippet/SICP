{
 "cells": [
  {
   "cell_type": "markdown",
   "metadata": {},
   "source": [
    "1. Introduction  \n",
    "===  \n",
    "* This is the second version that will be written in English. The first was Korean language. If you   \n",
    "find an awkward sentence or an ungracious sentence, the reason will probably be due to my lack  \n",
    "of English skills.      \n",
    "\n",
    "This document covers the SICP. It covers the concepts and examples in the book, and sometimes it   \n",
    "will make some new exercises. Scheme was used to programming the contents of SICP, but, this   \n",
    "document will also use Python, Haskell together to solve the exercises in the book.   \n",
    "\n",
    "***\n",
    "\n",
    "Title: Structure and Interpretation of Computer Programs  \n",
    "Translation : 컴퓨터 프로그램의 구조와 해석  \n",
    "Author: Harold in bilseun, Saskatchewan Gerald J. distant, distant Julie Caucasus  \n",
    "Translator: 김재우, 안윤호, 김수정, 김정민 이광근  \n",
    "Publisher: The MIT Press  \n",
    "Publication date: September 1, 1996\n",
    "\n",
    "A sentence on the back of the book cover(translation ver.) says that this is a \"Computer science for  \n",
    "beginner\". But If this was truly for the beginners, they would give up to study programming.   \n",
    "Luckily, my major professors have not teached this book in any classes. Of course, this book is no   \n",
    "doubt that it is a great book. But I give thanks that they have not teached this book so far. Thanks  \n",
    "to that, I am maybe now studying this book.    \n",
    "\n",
    "The previous document version introduced SICP with a bit of flowery describing the effects that can     \n",
    "be achieved by studying this book( Now that this document is being rewritten ). But I will try to     \n",
    "refrain some flowery description because Whether SICP, or functional language, or functional   \n",
    "programs, I saw often exaggerated tendencies. For example, in some post there is an advice like   \n",
    "'Come after reading SICP N times'  that a kungfu master seems to say. In another post, someone said   \n",
    "\"To use a functional language, let the meditation\" that a monk seems to say. I think These types of   \n",
    "posts are not saying the wrong depending on the view, but it seems that it is also not the right.   \n",
    "rather than such a way of thinking, it is more 'pragmatic' attitude to put the weight on practical   \n",
    "use as 'keynoru' talked about monads in the [ ghost story of monads](https://e.xtendo.org/haskell/ko/monad_fear/slide#1). The more someone mystify  \n",
    "these things, the more people will move away from these things.     \n",
    " \n",
    "This book seems a little like ['수학의 정석Standard of Mathmatics'](https://namu.wiki/w/%EC%88%98%ED%95%99%EC%9D%98%20%EC%A0%95%EC%84%9D)( It is a famous korean math book ).  \n",
    "SICP covers a wide range of different concepts and although it has not many exercises, it is not easy  \n",
    "to solve.   \n",
    "\n",
    "because of these reasons, It may have many misunderstandings as much as '수학의 정석Standard of  \n",
    "Mathmatics'. This book is a good book, but it is not the Bible.  \n",
    "\n",
    "***\n",
    "\n",
    "The availability of high-level procedure from Jarvis\n",
    "===\n",
    "\n",
    "I thought the movie \"Iron Man.\" If Jarvis had bothered Tony Stark if he was stupid. For example, it  \n",
    "assumes that Tony Stark had to get a signal for some reasons. But as the signal was too jagged, he  \n",
    "commanded Jarvis to smooth the signal.\n",
    "\n",
    "> “Jarvis, Smooth N times to This signal 'f'.”\n",
    "\n",
    "At this time, if Jarvis was smart, he would finish it as soon as he commanded. But as he was stupid,  \n",
    "he asked what is 'smoothing'. Tony Stark could answer for this question \"Smoothing is an average  \n",
    "value of $f(x_n)$ and its surrounding values( $f(x_{n-1})$, $f(x_{n+1})$ )\". But as Jarvis was stupid, he had to  \n",
    "ask \"what is average, then?\". It shows that Jarvis have to bother Tony Stark many times for solving  \n",
    "problems if he does not know the meaning of command.\n",
    "\n",
    "That is, Smoothing is a compound procedure which has multiple sub procedure. When you create a   \n",
    "compound procedure well, you will can deal with your work easily without bothering other coworker.  \n",
    "\n",
    "Jarvis in the movie must have a full of compound procedures.  \n",
    "\n",
    "***\n",
    "\n",
    "What will you do in the Chapter 1?\n",
    "===\n",
    "It will makes you to create many procedures to be able to solve many problems.\n",
    "\n",
    "> Comparison between Recursive & Iterative, N th root, Repeated function, Composite function, GCD,   \n",
    "Prime algorhythm, Pascal's Triangle, N th number search, Anonymous function( lambda ), the golden   \n",
    "ratio algorhythm, Coin exchange, Exponent n algorhythm, Exponent n more fast, A method to find a   \n",
    "solution of equation using half-interval method, The differential, The integral ( simpson formula,   \n",
    "etc ), Solving several problems using fixed point( trigonometric values, N th roo ), Problem solving  \n",
    "using a continued fraction( natural constant, $tan(x)$), Taking a procedure as an argument to make   \n",
    "more high-level procedures,   \n",
    "...\n",
    "\n",
    "will do and so on.\n",
    "\n",
    "In the process of that, as mentioned in the book, the boundaries between 'data' and 'procedure' will  \n",
    "be collapsed(?).\n",
    "\n",
    "***"
   ]
  },
  {
   "cell_type": "markdown",
   "metadata": {},
   "source": [
    "2. Development environment configuration( MAC OS X )\n",
    "===\n",
    "\n",
    "1) If you are not familiar with the terminal environment\n",
    "---\n",
    "I recommend you to use [Racket](http://www.racket-lang.org/) Because it is GUI editor which is easy  \n",
    "to use. You can use this just after install it.\n",
    "\n",
    "2)If you are familiar with the terminal environment\n",
    "---\n",
    "I recommend you to use [Mit-Scheme](https://www.gnu.org/software/mit-scheme/) in Emacs environment. You will not suffer from libraries if you  \n",
    "use this.  \n",
    "\n",
    "You can download it in the hompage above, or can be installed through __brew__.  \n",
    "`$ brew install mit-scheme`.\n",
    "\n",
    "\n",
    "\n",
    "### 2-1) Emacs configurations  \n",
    "Insert the following code in `~/.emacs.d/init.el` or `~/.emacs` file.\n",
    "```\n",
    "(setq scheme-program-name \"/usr/local/bin/mit-scheme\")\n",
    "(require 'xscheme)\n",
    "```\n",
    "\n",
    "### 2-2) Meta key configuration( iTerm )  \n",
    "If you are MAC OS X user, it will be good to activate your option key as a meta key. For example If  \n",
    "you use iTerm as terminal program, set `Preferences -> Profiles -> Keys -> Left  \n",
    "option key acts as:` as `+Esc`( in the iTerm bookmark bar ).\n",
    "\n",
    "***\n",
    "\n",
    "3) Testing Development environment\n",
    "---\n",
    "Although it is desirable to implement the test on this editor (Jupyter) directly, a few issues occured.  \n",
    "I will test it later after I am more proficient at programming and making a kernel for MIT-Scheme.  \n",
    "\n",
    "Instead, I substituted [previous test](http://wikibootup.github.io/sicp/Q-mit-scheme-in-emacs.html) for it.\n",
    "\n",
    "- Problem 1. Jupyter and Emacs settings are incompatible each other  \n",
    "- Problem 2. The kernel that is currently using([calysto_scheme](https://github.com/wikibootup/calysto_scheme)) is not set to the Mit-Scheme\n",
    "\n",
    "***"
   ]
  },
  {
   "cell_type": "markdown",
   "metadata": {},
   "source": [
    "3. Basic concepts\n",
    "===\n",
    "\n",
    "Why it is called book called Wizard book?\n",
    "===\n",
    "It is interesting that the chapter 1 begins with a sentimental(philosophical) story. It quoted   \n",
    "[A part of An Essay Concerning Human Understanding](http://sarabander.github.io/sicp/html/Chapter-1.xhtml#Chapter-1) because its idea may be compared with  \n",
    "procedure. And if you unfold the chapter 1, it will be more sentimental that It will compare the   \n",
    "program with a spell. \"we conjure the spirits of the computer with our spells\". However this kinds   \n",
    "of stories are not shown up after the introduction. Maybe it was contained for our motivation for   \n",
    "when we get tired.  \n",
    "\n",
    "Data and procedures  \n",
    "===  \n",
    "A procedure which is called in the book is almost like a 'function' which is called in other books.   \n",
    "It will does not matter although if you do not to try to know the differences between them. I think   \n",
    "that 'Writes the procedure, like data' is the main idea of this chapter. This means that a series of  \n",
    "a result of process is used as a procedure name by developer, and as a value by computer. this also  \n",
    "is associated with a functional programming. therefore this chapter also introduces a concept of a  \n",
    "functional programming.  \n",
    "\n",
    "The Elements of Programming\n",
    "===\n",
    "개발자는 식Expression을 만드는 사람이고, 계산Evaluation은 컴퓨터가 합니다. 그리고 식과 계산 사이에는  \n",
    "Evaluator라고 불리는 계산을 하는 프로그램이 있어, 이 둘 사이를 이어주는 역할을 합니다. 4장 이후에  \n",
    "본격적으로 계산을 하는 프로그램Evaluator을 만듭니다. 결국 '하나의 시스템을 이루는 커다란 프로그램은 그   \n",
    "시스템을 위한 언어실행기'라는 정의를 내리는 부분에 다다르면 새삼 놀랍게 느껴질 것입니다.  \n",
    "\n",
    "'인자 먼저' 또는 '정의대로'\n",
    "===\n",
    "'정의대로 계산법'Normal-order evaluation은 [게으른 계산lazy evaluation, or call-by-need](https://en.wikipedia.org/wiki/Lazy_evaluation)  \n",
    "이라고 불리는 함수형 언어의 특성으로 이어집니다. SICP에서는 3장에서 스트림을 통해서 그 응용을 해보게  \n",
    "됩니다. * 필요할 때 더 불러쓴다는( more evaluation by need ) 개념은 하스켈에서는 기본으로 하고 있고,  \n",
    "파이썬에서는 제너레이터를 이용하여 구현이 가능할 것입니다.   \n",
    "\n",
    "Compound & Abstraction\n",
    "===\n",
    "객체지향 프로그래밍을 생각해보겠습니다. 개발자는 하나의 사물 또는 공통된 성질을 가진 데이터를 모아 클래스를   \n",
    "만듭니다. 예를 들어, '가수'라는 클래스 안에는 가수 이름, 음악 장르, 소속사 등의 속성들을 넣을 수 있을 것  \n",
    "입니다. 그리고 '가수'는 여러 직업 중에 하나이므로 '직업'이라는 상위 클래스로부터 상속을 받을 수도 있을 것  \n",
    "입니다.   \n"
   ]
  },
  {
   "cell_type": "code",
   "execution_count": 1,
   "metadata": {
    "collapsed": false
   },
   "outputs": [
    {
     "name": "stdout",
     "output_type": "stream",
     "text": [
      "Boys 2 Men is the best R&B group\n"
     ]
    }
   ],
   "source": [
    "# reference for Compound & Abstraction\n",
    "\n",
    "class Job:\n",
    "    def __init__(self, job, wage):\n",
    "        self.job = job\n",
    "        self.wage = wage\n",
    "        \n",
    "        \n",
    "class Singer(Job):\n",
    "    def __init__(self, name, genre, agency=\"\", members=1, wage=0):\n",
    "        super(Singer, self).__init__(\"singer\", wage)\n",
    "        self.name = name\n",
    "        self.genre = genre\n",
    "        self.agency = agency\n",
    "        self.members = members\n",
    "        \n",
    "    @property\n",
    "    def isGroup(self):\n",
    "        if self.members == 1:\n",
    "            return \"singer\"\n",
    "        elif self.members > 1:\n",
    "            return \"group\"\n",
    "        else:\n",
    "            raise ValueError(\"No available value, at least 1 member required\")\n",
    "        \n",
    "        \n",
    "boys2men = Singer(name=\"Boys 2 Men\", genre=\"R&B\", members=3)\n",
    "print(\"%s is the best %s %s\" % (boys2men.name, boys2men.genre, \n",
    "                                boys2men.isGroup))"
   ]
  },
  {
   "cell_type": "markdown",
   "metadata": {},
   "source": [
    "이처럼 가수와 직업이라는 클래스는 서로 관계가 있는 복합Compound 관계가 있음을 알 수 있습니다. 함수형  \n",
    "언어에서도 이처럼 개념이 서로 뭉쳐서Compound 하나로 표현Abstraction되는 개념을 가지고 있습니다.   \n",
    "프로시저를 데이터처럼 쓴다는 개념을 이용하면 더 큰 단위의 프로시저에서 작은 프로시저들을 사용하기   \n",
    "수월해진다는 것을 알 수 있습니다. ( 클래스에서의 상속 관계와는 다릅니다 )  \n",
    "\n",
    "***"
   ]
  },
  {
   "cell_type": "markdown",
   "metadata": {},
   "source": [
    "4. 문제풀이\n",
    "==="
   ]
  },
  {
   "cell_type": "markdown",
   "metadata": {},
   "source": [
    "***\n",
    "\n",
    "Exercise 1.4\n",
    "===\n",
    "프로시저를 데이터처럼 쓴다는 것이 무엇인지 보여주는 예제입니다. 더하기+, 빼기- 같은 연산자가  \n",
    "술어Predicate와 식 사이에서 어떻게 상호작용하는지 볼 수 있는 예제입니다."
   ]
  },
  {
   "cell_type": "code",
   "execution_count": 1,
   "metadata": {
    "collapsed": false
   },
   "outputs": [],
   "source": [
    "(define (a-plus-abs-b a b)\n",
    "  ((if (> b 0) + -) a b))"
   ]
  },
  {
   "cell_type": "code",
   "execution_count": 2,
   "metadata": {
    "collapsed": false
   },
   "outputs": [
    {
     "data": {
      "text/plain": [
       "2"
      ]
     },
     "execution_count": 2,
     "metadata": {},
     "output_type": "execute_result"
    }
   ],
   "source": [
    ";; a = 1, b = {-1, 0, 1}\n",
    "(a-plus-abs-b 1 (- 1))"
   ]
  },
  {
   "cell_type": "code",
   "execution_count": 3,
   "metadata": {
    "collapsed": false
   },
   "outputs": [
    {
     "data": {
      "text/plain": [
       "1"
      ]
     },
     "execution_count": 3,
     "metadata": {},
     "output_type": "execute_result"
    }
   ],
   "source": [
    "(a-plus-abs-b 1 0)"
   ]
  },
  {
   "cell_type": "code",
   "execution_count": 4,
   "metadata": {
    "collapsed": false
   },
   "outputs": [
    {
     "data": {
      "text/plain": [
       "2"
      ]
     },
     "execution_count": 4,
     "metadata": {},
     "output_type": "execute_result"
    }
   ],
   "source": [
    "(a-plus-abs-b 1 1)"
   ]
  },
  {
   "cell_type": "markdown",
   "metadata": {},
   "source": [
    "***\n",
    "\n",
    "Exercise 1.5\n",
    "===\n",
    "지금까지 말한 것을 보면 scheme은 함수형언어이고, 게으른 계산 방식을 가지고 있어야 할 것 같지만  \n",
    "그렇지는 않습니다. '인자 먼저' 입니다. 따라서 아래의 식을 계산하면 0이 아니라 프로시저 p에 의해  \n",
    "무한루프에 빠집니다. * 하스켈 버전과 비교해보면 차이점이 분명하게 보입니다."
   ]
  },
  {
   "cell_type": "code",
   "execution_count": 1,
   "metadata": {
    "collapsed": false
   },
   "outputs": [],
   "source": [
    ";; Scheme : Applicative order\n",
    "\n",
    "(define (p) (p))\n",
    "\n",
    "(define (test x y)\n",
    "  (if (= x 0)\n",
    "      0\n",
    "      y))\n",
    "\n",
    ";; (test 0 (p))"
   ]
  },
  {
   "cell_type": "code",
   "execution_count": 1,
   "metadata": {
    "collapsed": true
   },
   "outputs": [],
   "source": [
    ";; Python : Applicative order\n",
    "\n",
    "def p():\n",
    "    return p()\n",
    "    \n",
    "def test(x, y):\n",
    "    if x == 0:\n",
    "        return 0\n",
    "    else:\n",
    "        return y\n",
    "\n",
    "# test(0, p())"
   ]
  },
  {
   "cell_type": "code",
   "execution_count": 1,
   "metadata": {
    "collapsed": false
   },
   "outputs": [
    {
     "data": {
      "text/plain": [
       "0"
      ]
     },
     "metadata": {},
     "output_type": "display_data"
    }
   ],
   "source": [
    "-- Haskell : Normal order(Lazy Evaluaton)\n",
    "\n",
    "p = p\n",
    "test x y =\n",
    "    if x == 0\n",
    "    then 0\n",
    "    else p\n",
    "    \n",
    "test 0 p"
   ]
  },
  {
   "cell_type": "markdown",
   "metadata": {
    "collapsed": true
   },
   "source": [
    "***\n",
    "\n",
    "[Exercise 1.6](https://github.com/my-snippet/SICP/blob/master/sicp/ex-1-6.scm)\n",
    "===\n",
    "cond를 이용해 `new-if`를 정의하는 문제였습니다. 얼핏 보면 될 것 같지만 `Stack overflow`를   \n",
    "일으킵니다. 그 이유는 scheme에서 정의된 if는 특별한 형태special-form라서 술어predicate를 먼저   \n",
    "파악합니다( `To evaluate an if expression, the interpreter starts by \n",
    "evaluating the <predicate part> of the expression` ). 그래서 술어에 맞지 않는  \n",
    "식expression은 실행하지 않습니다. 하지만 cond로 흉내낸 new-if는 일단 프로시저를 수행하는  \n",
    "applicative order를 따르기 때문에 무한루프에 빠지게 됩니다.  \n",
    "\n",
    "참고 자료  \n",
    "http://community.schemewiki.org/?sicp-ex-1.6  \n",
    "http://www.billthelizard.com/2009/10/sicp-exercises-16-18.html  \n"
   ]
  },
  {
   "cell_type": "code",
   "execution_count": 1,
   "metadata": {
    "collapsed": true
   },
   "outputs": [],
   "source": [
    "(define (new-if predicate\n",
    "                then-clause\n",
    "\t\t\t\telse-clause)\n",
    "  (cond (predicate then-clause)\n",
    "\t\t(else else-clause)))"
   ]
  },
  {
   "cell_type": "markdown",
   "metadata": {},
   "source": [
    "*** \n",
    "\n",
    "[Exercise 1.7](https://github.com/my-snippet/SICP/blob/master/sicp/ex-1-7.scm)\n",
    "===\n"
   ]
  },
  {
   "cell_type": "markdown",
   "metadata": {},
   "source": [
    "사실 뉴튼 방법은 천재가 아니라면 그렇게 직관적으로 와닿는 방법은 아닌 듯 합니다. 하지만 다른 방법들을   \n",
    "사용해 보면, 훌륭한 방법임을 알게 됩니다. 예를 들어, 추측값guess과 목표값x 사이에 따로 연산 없이 평균을  \n",
    "내는 것으로 마친다면, 추측값의 제곱은 목표값에 가까워지지 못합니다. 예를 들어, 평균값만으로  \n",
    "추측값guess을 조정improve해나간다면, '목표값의 제곱근'이 아니라 목표값에 가까워지게 됩니다.\n",
    "\n"
   ]
  },
  {
   "cell_type": "code",
   "execution_count": 1,
   "metadata": {
    "collapsed": false
   },
   "outputs": [
    {
     "data": {
      "text/plain": [
       "1.9990234375"
      ]
     },
     "execution_count": 1,
     "metadata": {},
     "output_type": "execute_result"
    }
   ],
   "source": [
    "(define (average x y)\n",
    "  (/ (+ x y) 2))\n",
    "\n",
    "(define (averages-of-average x y n)\n",
    "  (if (= n 0) \n",
    "      x\n",
    "      (averages-of-average (average x y) y (- n 1))))\n",
    "\n",
    "\n",
    "(averages-of-average 1.0 2 10)"
   ]
  },
  {
   "cell_type": "markdown",
   "metadata": {},
   "source": [
    "문제에서 요구한 대로 추측값을 조금씩slightly 수정해나가는 방식 역시 문제를 안고 있습니다. 예를 들어  \n",
    "조정값이 $5*10^{-4}$이면( 오차범위 $10^{-3}$로 맞춰두고 ), $abs(guess - x) = 9.999...* 10^{-4}$인   \n",
    "경우 너무 많은 조정이 필요합니다. 목표값 사이를 왔다 갔다 하면서 좀처럼 가까워지지 못합니다. 뉴튼법과   \n",
    "비교해 보면 이 방법의 비효율성이 명확하게 드러납니다. 함수 호출 횟수 차이가 상당합니다. 5의 제곱근을  \n",
    "구하는 과정에서 뉴튼법으로는 4회 만에 성공한 반면, 조금씩 수정하는 방식으로는 2472회 만에 성공하였습니다."
   ]
  },
  {
   "cell_type": "code",
   "execution_count": 4,
   "metadata": {
    "collapsed": true
   },
   "outputs": [],
   "source": [
    "(load \"ex-1-7.scm\")"
   ]
  },
  {
   "cell_type": "code",
   "execution_count": 5,
   "metadata": {
    "collapsed": false
   },
   "outputs": [
    {
     "data": {
      "text/plain": [
       "(0 3 3 4 4)"
      ]
     },
     "execution_count": 5,
     "metadata": {},
     "output_type": "execute_result"
    }
   ],
   "source": [
    "(map (lambda (x) (sqrt-newton-law x)) (list 1 2 3 4 5))"
   ]
  },
  {
   "cell_type": "code",
   "execution_count": 6,
   "metadata": {
    "collapsed": false
   },
   "outputs": [
    {
     "data": {
      "text/plain": [
       "(0 828 1464 2000 2472)"
      ]
     },
     "execution_count": 6,
     "metadata": {},
     "output_type": "execute_result"
    }
   ],
   "source": [
    "(map (lambda (x) (sqrt-slightly x)) (list 1 2 3 4 5))"
   ]
  },
  {
   "cell_type": "markdown",
   "metadata": {},
   "source": [
    "*** \n",
    "\n",
    "[Exercise 1.8](https://github.com/my-snippet/SICP/blob/master/sicp/ex-1-8.scm)\n",
    "===\n",
    "\n",
    "이 문제는 square 프로시저에서 improve만 수정하면 됩니다. 문제에 나온 공식대로 수정하면 잘 작동합니다."
   ]
  },
  {
   "cell_type": "code",
   "execution_count": 2,
   "metadata": {
    "collapsed": false
   },
   "outputs": [],
   "source": [
    "(load \"ex-1-8.scm\")\n",
    "(load \"lib/basic/operations.scm\")"
   ]
  },
  {
   "cell_type": "code",
   "execution_count": 3,
   "metadata": {
    "collapsed": false
   },
   "outputs": [
    {
     "data": {
      "text/plain": [
       "(1.0 2.000004911675504 3.0000005410641766 4.000017449510739 5.000000000287929 6.000000000047538 7.000001795382107 8.00000003355707 9.000000000053902 10.000000145265767)"
      ]
     },
     "execution_count": 3,
     "metadata": {},
     "output_type": "execute_result"
    }
   ],
   "source": [
    ";; test : 1^3 2^3 ... 10^3\n",
    "(map (lambda (x) (cube-root (power x 3))) (list 1 2 3 4 5 6 7 8 9 10))"
   ]
  },
  {
   "cell_type": "markdown",
   "metadata": {},
   "source": [
    "*** \n",
    "\n",
    "Exercise 1.9\n",
    "===\n",
    "재귀recursive와 반복iterative의 차이를 쉽게 알 수 있는 좋은 문제입니다. 재귀 프로시저의 경우,   \n",
    "조건predicate을 만족한 것 만으로는 값을 알 수가 없습니다. 끝 지점tail에서 부터 미뤄둔 연산을 수행해야   \n",
    "합니다. 반면, 반복 프로시저의 경우 조건을 만족하면 거기에 목표값이 있으며 돌아갈 지점은 존재하지 않습니다.  \n",
    "이것은 저장 공간의 차이이기도 합니다. 재귀의 경우 호출한 횟수 만큼의 공간을 필요로 하는 반면, 반복의 경우  \n",
    "저장 공간을 재사용할substitution 뿐입니다. 그러므로 첫번째 예제는 재귀, 두번째는 반복입니다."
   ]
  },
  {
   "cell_type": "code",
   "execution_count": null,
   "metadata": {
    "collapsed": true
   },
   "outputs": [],
   "source": [
    "(define (+ a b)\n",
    "  (if (= a 0) \n",
    "      b \n",
    "      (inc (+ (dec a) b))))\n",
    "\n",
    "(define (+ a b)\n",
    "  (if (= a 0) \n",
    "      b \n",
    "      (+ (dec a) (inc b))))"
   ]
  },
  {
   "cell_type": "markdown",
   "metadata": {},
   "source": [
    "*** \n",
    "\n",
    "[Exercise 1.10](https://github.com/my-snippet/SICP/blob/master/sicp/ex-1-10.scm)\n",
    "===\n",
    "애커만Ackermann이 왜 이런 함수를 만들었는지는 모르겠습니다. 그렇지만 이 함수는 재귀 공부를 하기에 좋은  \n",
    "예제입니다. 이 함수는 자기(현재 실행중인 프로시저)를 호출하는 과정이 특이한데, 호출 인자에 또 자기를   \n",
    "호출하기 때문입니다. 함수의 흐름을 파악하기 위해서 첫번째 인자x와 두번째 인자y의 차이점을 주목해   \n",
    "보겠습니다. \n",
    "\n",
    "x=1인 경우 y값이 커질 수록 지수합의 관계를 보입니다. 예를 들어, $x = 1, y = n$이면 결과값은 $2^{n}$입니다.  \n",
    "x=2인 경우 y의 크기에 비례해서 지수승의 관계를 보입니다. 글로 표현하기가 어려운데, 이전 결과를 지수로 하는  \n",
    "2의 거듭제곱 형태입니다. 예를 들어, $x = 2, y = 3$이면 결과값은 $2^{2^{2^2}}$입니다. 그리고 상상하고 싶지는 않지만  \n",
    "$x=n$인 경우를 생각해보겠습니다. 수학적으로는 어떻게 정의되는지는 모르겠지만 이것이 재귀 프로그램이라는  \n",
    "것을 생각해본다면 해답을 구할 수 있습니다. '큰 문제는 작은 문제로 치환이 가능하고, 작은 문제의 답을 알고  \n",
    "있다면 큰 문제의 값을 구할 수 있다'는 참 명제로 답을 구해보겠습니다. 예를 들어, `(A 3 3)`의 문제는  \n",
    "`(A 2 4)`의 문제로 치환 가능합니다. 그리고 `(A 3 2)`의 문제는 `(A 2 2)`의 문제로 치환 가능합니다.  \n",
    "이것은 재귀 호출이 종결되는 시점으로부터 가장 작은 단위의 함수의 결과값을 정리해나가면서 나온  \n",
    "부분함수들입니다.\n",
    "\n",
    "문제에서 요구한 함수를 수학적으로 정의해보면  \n",
    "### $f(n) = 2n$,  $g(n) = 2^n$,  $g(n) = 2^n$,  \n",
    "### $h(n) =  2^{h(n-1)} = 2^{2^{h(n-2)}} = ... = 2^{2^{2^{...^{2^{2^2}}}}}$\n",
    "\n",
    "* $h(n)$의 경우 더 명쾌한 형태가 있을 것 같은데 잘 모르겠습니다.\n",
    "\n",
    "\n",
    "* pow 프로시저는 Calysto Scheme 3에 내장된 것으로, 원래 문제를 풀 때는  \n",
    "`lib/basic/operations.scm`에 정의한 power 프로시저를 사용하였습니다.  \n",
    "[테스트 코드 참조](https://github.com/my-snippet/SICP/blob/master/sicp/ex-1-10-test.scm)"
   ]
  },
  {
   "cell_type": "code",
   "execution_count": 5,
   "metadata": {
    "collapsed": true
   },
   "outputs": [],
   "source": [
    "(define (A x y)\n",
    "  (cond ((= y 0) 0)\n",
    "\t\t((= x 0) (* 2 y))\n",
    "\t\t((= y 1) 2)\n",
    "\t\t(else (A (- x 1)\n",
    "\t\t\t\t (A x (- y 1))))))"
   ]
  },
  {
   "cell_type": "code",
   "execution_count": 6,
   "metadata": {
    "collapsed": false
   },
   "outputs": [
    {
     "data": {
      "text/plain": [
       "#t"
      ]
     },
     "execution_count": 6,
     "metadata": {},
     "output_type": "execute_result"
    }
   ],
   "source": [
    "(and (= (A 1 10) (pow 2 10))\n",
    "     (= (A 2 2) (pow 2 2))\n",
    "     (= (A 2 3) (pow 2 (pow 2 2)))\n",
    "     (= (A 2 4) (pow 2 (pow 2 (pow 2 2))))\n",
    "     (= (A 3 2) (A 2 2))\n",
    "     (= (A 3 3) (A 2 4)))"
   ]
  }
 ],
 "metadata": {
  "kernelspec": {
   "display_name": "Calysto Scheme 3",
   "language": "scheme",
   "name": "calysto_scheme"
  },
  "language_info": {
   "codemirror_mode": {
    "name": "scheme"
   },
   "mimetype": "text/x-scheme",
   "name": "scheme",
   "pygments_lexer": "scheme"
  }
 },
 "nbformat": 4,
 "nbformat_minor": 0
}
