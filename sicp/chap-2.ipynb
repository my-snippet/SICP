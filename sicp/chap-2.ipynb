{
 "cells": [
  {
   "cell_type": "markdown",
   "metadata": {},
   "source": [
    "*** \n",
    "\n",
    "Chapter 2.1\n",
    "===\n",
    "누가 이렇게 말했다고 칩시다.  \n",
    "\"뭐야, 다 아는 거잖아. 나 이거 다 __'어떻게'__ 만드는지 __'알아'__\".  \n",
    "\n",
    "사실 위의 말이 크게 틀리지 않은 말이라는 생각이 듭니다. 그렇지만 이 장의 관련 내용을 조금 다르게 보기로   \n",
    "합니다. 즉 이 장이 다루는 내용을 '기억여부'와 '사용여부'로 '판단'하지 않는 대신, 데이터가 무엇인지, 왜   \n",
    "데이터를 묶어서 사용하는지, 그리고 데이터 인터페이스를 어떻게 구성하는지 생각해보고 연습해보는 것에 초점을     \n",
    "맞춰보도록 하겠습니다. 그런 관점에서 본다면 왜 데이터를 정의하기 위해서 `list`나 `dictionary` 같은 편리한  \n",
    "데이터 구조가 아닌 `pair`를 사용하는지 이해할 수 있을 것입니다.\n",
    "\n",
    "* `pair`는 최소 단위의 묶음 데이터compound data이자 어떠한 데이터 구조라도 만들 수 있는(universal)  \n",
    "빌딩 블록building block으로 기능합니다."
   ]
  },
  {
   "cell_type": "code",
   "execution_count": null,
   "metadata": {
    "collapsed": true
   },
   "outputs": [],
   "source": []
  }
 ],
 "metadata": {
  "kernelspec": {
   "display_name": "Calysto Scheme 3",
   "language": "scheme",
   "name": "calysto_scheme"
  },
  "language_info": {
   "codemirror_mode": {
    "name": "scheme"
   },
   "mimetype": "text/x-scheme",
   "name": "scheme",
   "pygments_lexer": "scheme"
  }
 },
 "nbformat": 4,
 "nbformat_minor": 0
}
