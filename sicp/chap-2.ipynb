{
 "cells": [
  {
   "cell_type": "markdown",
   "metadata": {},
   "source": [
    "*** \n",
    "\n",
    "Chapter 2.1\n",
    "===\n",
    "누가 이렇게 말했다고 칩시다.  \n",
    "\"뭐야, 다 아는 거잖아. 나 이거 다 __'어떻게'__ 만드는지 __'알아'__\".  \n",
    "\n",
    "사실 위의 말이 크게 틀리지 않은 말이라는 생각이 듭니다. 그렇지만 이 장의 관련 내용을 조금 다르게 보기로   \n",
    "합니다. 즉 이 장이 다루는 내용을 '기억여부'와 '사용여부'로 '판단'하지 않는 대신, 데이터가 무엇인지, 왜   \n",
    "데이터를 묶어서 사용하는지, 그리고 데이터 인터페이스를 어떻게 구성하는지 생각해보고 연습해보는 것에 초점을     \n",
    "맞춰보도록 하겠습니다. 그런 관점에서 본다면 왜 데이터를 정의하기 위해서 `list`나 `dictionary` 같은 편리한  \n",
    "데이터 구조가 아닌 `pair`를 사용하는지 이해할 수 있을 것입니다.\n",
    "\n",
    "* `pair`는 최소 단위의 묶음 데이터compound data이자 어떠한 데이터 구조라도 만들 수 있는(universal)  \n",
    "빌딩 블록building block으로 기능합니다.\n",
    "\n",
    "***\n",
    "\n",
    "__데이터 요약__  \n",
    "데이터 구조를 생성하는 방식contruction과 골라내는 방식selection을 나누어 생각하는 방법입니다. ( 책 2장  \n",
    "서문 참조 ) \n",
    "\n",
    "* 그런 의미에서 `cons`는 constructor이고 `car, cdr`은 selector입니다.\n",
    "\n",
    "***\n",
    "\n",
    "__요약의 경계Abstraction Barrier__  \n",
    "[User-defined_data_types](https://en.wikibooks.org/wiki/A-level_Computing_2009/AQA/Problem_Solving,_Programming,_Data_Representation_and_Practical_Exercise/Fundamentals_of_Programming/User-defined_data_types)을 떠올리게 합니다. '왜 `int`, `char` 같은 익숙한 타입에 이름을 지정해서 피곤하게  \n",
    "만드는 걸까'하고 생각할 지도 모르겠습니다. 하지만 문제가 복잡해질 수록, 프로그램의 구조를 수정하는 일이  \n",
    "빈번해질 수록, 그리고 시간이 지날 수록(이게 무슨 데이터인지 기억에서 사라질 정도로) 그것이 필요할 것입니다.  \n",
    "\n",
    "* 물론, 데이터 타입을 예로 든 것은 예시입니다. 데이터를 요약하는 경계와는 차이가 있는 부분입니다. 요약의  \n",
    "경계는 계층으로 나누어 데이터를 바라보고 설계한 (계층)구조입니다. \n",
    "\n",
    "\n",
    "* 책에서는 유리수를 예를 들어 설명합니다. 유리수를 '문제 영역에서 보느냐(+, - 등 연산), 개념 영역에서  \n",
    "보느냐(유리수는 분자와 분모로 구성), 컴퓨터 데이터 영역(유리수는 `pair`로 구성)에서 보느냐' 등에 따라  \n",
    "그 계층을 나눌 수 있습니다."
   ]
  },
  {
   "cell_type": "markdown",
   "metadata": {},
   "source": [
    "***\n",
    "\n",
    "[Exercise 2.1](https://github.com/my-snippet/SICP/blob/master/sicp/ex-2-1.scm)\n",
    "===\n",
    "분수가 음수일 경우는 분자만 음수이거나, 분모만 음수일 때입니다. 그 이외에는 양수가 됩니다. 이것을   \n",
    "조건문으로만 만들면 문제가 풀립니다. 하지만 여기서 약간의 기술skill을 발휘하면 굉장히 깔끔하게 분수의   \n",
    "Constructor 프로시저를 만들 수 있습니다. Chap 1에서 '조건부 연산'을 해본 적이 있을 것입니다. 이 문제는  \n",
    "그것의 응용으로 깔끔하게 구현할 수 있습니다.\n",
    "\n",
    "* 여기서 말하는 조건부 연산은 술어가 참True이면 -를 거짓이면 +를 반환하는 연산을 뜻합니다."
   ]
  },
  {
   "cell_type": "code",
   "execution_count": 3,
   "metadata": {
    "collapsed": true
   },
   "outputs": [],
   "source": [
    ";; reference : http://community.schemewiki.org/?sicp-ex-2.1\n",
    " (define (make-rat n d) \n",
    "   (let ((g ((if (< d 0) - +) (gcd n d)))) \n",
    "     (cons (/ n g) (/ d g)))) "
   ]
  },
  {
   "cell_type": "markdown",
   "metadata": {},
   "source": [
    "***\n",
    "\n",
    "[Exercise 2.3](https://github.com/my-snippet/SICP/blob/master/sicp/ex-2-3.scm)\n",
    "===\n",
    "[Exercise 2.2](https://github.com/my-snippet/SICP/blob/master/sicp/ex-2-2.scm)에 나온 선분을 긋는 문제처럼 간단해보입니다. 하지만 이 문제는 생각보다 복잡한 문제입니다.  \n",
    "\n",
    "__Q1. 무엇을 직사각형의 최소 형태로 볼 것인가.__  \n",
    "1. 4개의 선분  \n",
    "2. 4개의 점  \n",
    "3. 3개의 점( 직사각형을 이루는 점 중에서 인접한 3개 )  \n",
    "4. 1개의 대각선( 직사각형을 가로지르는 )  \n",
    "5. 2개의 점( 4.와 동일하지만 점 2개로 지정한다는게 다릅니다 )\n",
    "\n",
    "\n",
    "* 3.4.5.의 경우 불완전한 직사각형이지만 이것으로 1.과 2.의 형태로 만들 수 있으며 넓이와 둘레 역시  \n",
    "계산할 수 있습니다. 예를 들어 4.의 경우 대각선의 양 끝점을 기준으로 넓이와 둘레를 계산할 수 있습니다.\n",
    "\n",
    "\n",
    "__Q2. 어떻게 Contructor를 만들 것인가.__  \n",
    "1. 사용자 입력\n",
    "2. 컴퓨터가 임의 지정\n",
    "\n",
    "__Q3. 어떻게 일관되게Consistently 성분들(점 또는 선분)의 위치를 인덱싱할 것인가.__  \n",
    "\n",
    "아래와 같은 모양이 나오도록 하는 방법을 구상해야 합니다.\n",
    "```\n",
    "p1 -- p3\n",
    ":      :\n",
    "p2 -- p4\n",
    "```\n",
    "예를 들면 \"나머지 2개에 비해서 y좌표가 작으면서 각각의 y 값은 서로 같은 2개 성분 가운데 x좌표가 작은  \n",
    "것이 첫번째, 큰 것이 세번째 인덱스이다\"하는 식으로 구성을 할 수 있을 것입니다.\n",
    "\n",
    "* 여기까지만 생각해봐도 이 문제가 생각보다 복잡함을 알 수 있습니다.  \n",
    "\n",
    "여기서는 이런 문제들을 일단 제쳐두고 이 프로그램의 사용자가 __아주 영리해서__ 인자값을 입력할 때 반시계  \n",
    "방향으로 '왼쪽-위'부터 '오른쪽-위'의 순서대로 입력한다고 가정을 하도록 하겠습니다. 이런 가정을 할 때  \n",
    "각 성분으로 만든 직사각형은 이런 모양이 됩니다.\n",
    "\n",
    "```\n",
    "p : point\n",
    "s : segment\n",
    "tl : top left\n",
    "tr : top right\n",
    "bl : bottom left\n",
    "br : bottom right\n",
    "\n",
    "        s-t\n",
    "   p-tl -- p-tr\n",
    "s-l :        : s-r\n",
    "   p-bl -- p-br\n",
    "        s-b\n",
    "```\n",
    "좌표를 다룰 때의 관점에서는 최소 단위가 가로값 x, 세로값 y이며 이것은 점 p로 구성된다는 점을 주목해볼만    \n",
    "합니다. 이것은 직사각형을 만드는 데에 여러가지 방법이 있지만 어떤 경우로든 내부적으로는 점 p을 다루는   \n",
    "프로시저를 사용한다는 것을 의미합니다. 즉 이 문제는 데이터 요약의 경계를 통해 모듈화를 구현할 수 있습니다.  \n",
    "[Test reference](https://github.com/my-snippet/SICP/blob/master/sicp/ex-2-3-test.scm)\n",
    "\n",
    "* 아래는 '요약의 경계'를 이용해 어떤 구현을 하든 공통으로 사용하는 모듈의 예입니다. ( 두 점 사이에  \n",
    "성분 차 구하기 )"
   ]
  },
  {
   "cell_type": "code",
   "execution_count": 1,
   "metadata": {
    "collapsed": true
   },
   "outputs": [],
   "source": [
    "(define (y-diff-points p1 p2)\n",
    "  (abs (- (y-point p1)\n",
    "      (y-point p2))))\n",
    "\n",
    "(define (x-diff-points p1 p2)\n",
    "  (abs (- (x-point p1)\n",
    "      (x-point p2))))"
   ]
  },
  {
   "cell_type": "markdown",
   "metadata": {
    "collapsed": true
   },
   "source": [
    "***\n",
    "\n",
    "[Exercise 2.4](https://github.com/my-snippet/SICP/blob/master/sicp/ex-2-4.scm)\n",
    "===\n",
    "(문제 링크 참조) 이 문제에서 `cons`는 인자 2개(x, y)를 받는 __어떤__ 프로시저 m을 반환합니다. 만약   \n",
    "`cons`가 pair를 만드는 constructor이라면 이 때 인자 m으로 들어올 수 있는 프로시저에는 `car`,   \n",
    "`cdr` 등이 있을 수 있습니다. 여기서 `car`이면 x를, `cdr`이면 y를 반환해주면 됩니다. 즉, `cons`로   \n",
    "만들어진 데이터를 고르는 selector인 `car, cdr`은 constructor로 생성된 데이터( 데이터 구조에  \n",
    "알맞게 들어간 데이터 ) 그 자체를 인자로 받아 해당하는 고르기selection 연산을 수행합니다.  \n",
    "\n",
    "* 이런 형태의 구현은 일종의 [미루어진 계산delayed evaluation](https://en.wikipedia.org/wiki/Lazy_evaluation) 형태를 갖추는 것을 확인할 수  \n",
    "있습니다. $\\rightarrow$ 아래의 `cdr_` 연산 참조"
   ]
  },
  {
   "cell_type": "code",
   "execution_count": 1,
   "metadata": {
    "collapsed": true
   },
   "outputs": [],
   "source": [
    "(load \"ex-2-4.scm\")"
   ]
  },
  {
   "cell_type": "code",
   "execution_count": 2,
   "metadata": {
    "collapsed": false
   },
   "outputs": [
    {
     "name": "stdout",
     "output_type": "stream",
     "text": [
      "3\n",
      "#<procedure>\n",
      "1\n",
      "2\n"
     ]
    }
   ],
   "source": [
    "(define p1 (cons_ 2 1))\n",
    "(define p2 (cons_ 3 p1))\n",
    "(print (car_ p2)\n",
    "       (cdr_ p2)\n",
    "       (cddr_ p2)\n",
    "       (cdar_ p2))"
   ]
  },
  {
   "cell_type": "markdown",
   "metadata": {
    "collapsed": true
   },
   "source": [
    "***\n",
    "\n",
    "[Exercise 2.5](https://github.com/my-snippet/SICP/blob/master/sicp/ex-2-5.scm)\n",
    "===\n",
    "이 문제의 `cons`는 a, b를 인자로 받아 $2^a3^b$을 만드는 constructor입니다. 여기서 이미 만들어진  \n",
    "값(=$2^a3^b$)으로부터 '어떻게 다시 a, b를 골라낼 수 있을 것인가'에 대한 답이 곧 selector 구현으로  \n",
    "이어집니다. [Test reference](https://github.com/my-snippet/SICP/blob/master/sicp/ex-2-5-test.scm)\n",
    "\n",
    "* $2^k$은 $3$(홀수)으로 나뉘지 않는다는 점을 이용하면, k를 점점 늘려가면서(k=0,1,2, ...) 해당하는  \n",
    "k 값을 구할 수 있습니다. 이 때의 k 값이 `car`입니다( `cdr`은 같은 원리로 $3^k$을 이용하면 됩니다 ).\n",
    "\n",
    "\n",
    "* 로그log를 이용해서도 가능할 것 같은데 구현은 해보지 않았습니다."
   ]
  },
  {
   "cell_type": "markdown",
   "metadata": {},
   "source": [
    "***\n",
    "\n",
    "[Exercise 2.6](https://github.com/my-snippet/SICP/blob/master/sicp/ex-2-6.scm)\n",
    "===\n",
    "[Church encoding](https://en.wikipedia.org/wiki/Church_encoding)을 소개하는 문제입니다. [Exercise 2.4](https://github.com/my-snippet/SICP/blob/master/sicp/ex-2-4.scm)에서 본 것처럼 다른 것들도 값(숫자) 없이  \n",
    "함수만으로 데이터 구조를 포함한 여러 기능을 만들 수 있습니다. 그렇지만 프로세스가 수행되면서  \n",
    "각각의 기호(변수명)가 지금 어떤 상태인지, 그리고 어떤 결과값이 만들어지고 있는지를 생각해야 해서  \n",
    "쉽지가 않습니다. 마치 '젓가락 한 개로 라면 먹는 기분이 이런게 아닐까' 싶습니다. [Test reference](https://github.com/my-snippet/SICP/blob/master/sicp/ex-2-6-test.scm)\n",
    "\n",
    "* [Exercise 2.4](https://github.com/my-snippet/SICP/blob/master/sicp/ex-2-4.scm)에서 만든 `pair` 구현은 Church Pairs와 같습니다.\n",
    "\n",
    "***\n",
    "\n",
    "__Church Booleans__  \n",
    "$True \\equiv \\lambda a. \\lambda b.\\ a$,  \n",
    "$False \\equiv \\lambda a. \\lambda b.\\ b$  \n",
    "$And \\equiv \\lambda p. \\lambda q. p\\ q\\ p$  \n",
    "$Or \\equiv \\lambda p. \\lambda q. p\\ p\\ q$\n",
    "\n",
    "위의 식은 함수로 구현한 Boolean 식들expressions입니다. True, False는 양자택일의 상황에서  \n",
    "하나를 선택한 것일 뿐입니다. 하지만 And와 Or는 다소 와닿지 않을 수 있습니다. 여기서 생각해두면  \n",
    "좋은 것이 And와 Or 식은 인자로 술어의 판단 결과, 즉 True 또는 False만 받는다는 것입니다. 이것을  \n",
    "생각해보면 And의 인자에는 False가 단 하나만 포함되어 있어도 False이고( And 구현 중  \n",
    "`(p (q p))` 부분), Or의 경우에는 False 인자만 있는 경우에만 False가 됨을( Or 구현 중  \n",
    "`(p (p q))` 부분) 이해할 수 있습니다.\n",
    "\n",
    "* 언제부턴가 너무나도 당연하게 1을 true, 0을 false로 판단해서 그렇지 프로그래밍을 처음 배우는  \n",
    "사람들에게는 이 개념 역시 낯설지 모릅니다.\n",
    "\n",
    "***\n",
    "\n",
    "__Church Numerals__  \n",
    "$0 = \\lambda f. \\lambda x.\\ x$,  \n",
    "$n = \\lambda f. \\lambda x.\\ f^n x$,  \n",
    "$Succ \\equiv \\lambda n. \\lambda f. \\lambda x. f\\ (n\\ f)\\ x$,  \n",
    "\n",
    "$value \\equiv \\lambda v. (\\lambda h. h\\ v)$  \n",
    "$inc \\equiv \\lambda g. \\lambda h. h\\ (g\\ f)$  \n",
    "$const \\equiv \\lambda u. x$  \n",
    "$Identity \\equiv \\lambda u.u$  \n",
    "$Pred \\equiv \\lambda n. \\lambda f. \\lambda x. n\\ inc\\ const\\ identity$\n",
    "\n",
    "$Plus \\equiv \\lambda m. \\lambda n. \\lambda f. \\lambda x.m\\ f\\ (n\\ f\\ x)$,  \n",
    "$Minus \\equiv \\lambda m. \\lambda n. (n\\ Pred)\\ m$,  \n",
    "\n",
    "* `mult`, `exp` 계산은 수학에서의 지수법칙이 잘 적용됩니다.  \n",
    "( [위키백과 Church encoding](https://en.wikipedia.org/wiki/Church_encoding) 참조 )\n",
    "\n",
    "\n",
    "* 위의 Pred는 모듈($inc,\\ const,\\ identity$)로 축약해놓은 형태입니다. 실제로 저렇게 모듈로  \n",
    "pred 함수를 구현하려면 변수 범위scope에 주의해야 합니다. 함수 이름(`inc` 등)보다는 각  \n",
    "함수끼리 어떻게 상호작용해서 (n-1)의 구현이 가능한지 보는게 좋을 것 같습니다.\n",
    "\n",
    "\n",
    "* Succ은 n이라는 함수에 f를 적용합니다.  \n",
    "n : church 숫자(함수식)\n",
    "f : 디코딩 시에 적용할 함수  \n",
    "x : 디코딩 시에 적용될 초기값(실제 수)으로 `(f (n f))`를 통해 최종적으로 만든 함수에 인자로  \n",
    "넣어줄 값\n",
    "\n",
    "이것이 그냥 Church가 아니라 Church encoding인 이유는 decoding을 통해서 수로 표현할 수  \n",
    "있기 때문입니다. church numerals 식에서의 f가 바로 디코딩의 핵심입니다.\n",
    "\n",
    "* Decoding : $f = inc\\ x = x + 1$   \n",
    "\n",
    "\n",
    "* Encoding :  \n",
    "```if x = 0? \n",
    "then zero\n",
    "else ((succ (((encoding (- n 1)))) x)```\n",
    "\n",
    "\n",
    "아래는 minus에 대한 테스트입니다. 다른 연산들의 테스트는 [여기](https://github.com/my-snippet/SICP/blob/master/sicp/ex-2-6-test.scm)에 있습니다."
   ]
  },
  {
   "cell_type": "code",
   "execution_count": 1,
   "metadata": {
    "collapsed": true
   },
   "outputs": [],
   "source": [
    "(load \"ex-2-6.scm\")"
   ]
  },
  {
   "cell_type": "code",
   "execution_count": 2,
   "metadata": {
    "collapsed": false
   },
   "outputs": [
    {
     "data": {
      "text/plain": [
       "#t"
      ]
     },
     "execution_count": 2,
     "metadata": {},
     "output_type": "execute_result"
    }
   ],
   "source": [
    ";; \"3-2 = 2-1 = 1\"\n",
    "(and (= (church-decode (church-minus three two))\n",
    "        (church-decode (church-minus two one)))\n",
    "     (= 1\n",
    "        (church-decode (church-minus two one))))"
   ]
  },
  {
   "cell_type": "markdown",
   "metadata": {},
   "source": [
    "***\n",
    "\n",
    "[Exercise 2.7](https://github.com/my-snippet/SICP/blob/master/sicp/ex-2-7.scm)\n",
    "===\n",
    "[Chapter 2.1.4](https://github.com/my-snippet/SICP/blob/master/sicp/chap-2-1-4.scm)에서 구현한 구간산술 연산을 수행하기 위한 `Contructor, Selector`를  \n",
    "구현하는 예제입니다."
   ]
  },
  {
   "cell_type": "markdown",
   "metadata": {},
   "source": [
    "***\n",
    "\n",
    "[Exercise 2.8](https://github.com/my-snippet/SICP/blob/master/sicp/ex-2-8.scm)\n",
    "===\n",
    "두 구간을 더할 때는 각 구간의 하한값끼리, 그리고 상한값끼리 더해주면 새로운 오차범위tolerance를 가진   \n",
    "구간이 완성되었습니다. 이 문제에서 요구한 두 구간을 빼는 경우에는 구간이 어떻게 해야 최소값(하한Lower   \n",
    "bound)과 최대값(상한Upper bound)을 가지는지를 생각해보면 됩니다. 식은 아래와 같습니다.\n",
    "\n",
    "```\n",
    "A = [lower-bound-of-A, upper-bound-of-A] = [la, ua], \n",
    "B = [lower-bound-of-B, upper-bound-of-B] = [lb, ub]\n",
    "A - B = [la-ub, ua-lb]\n",
    "```"
   ]
  },
  {
   "cell_type": "code",
   "execution_count": 1,
   "metadata": {
    "collapsed": true
   },
   "outputs": [],
   "source": [
    "(load \"ex-2-7.scm\")\n",
    "(load \"ex-2-8.scm\")"
   ]
  },
  {
   "cell_type": "code",
   "execution_count": 2,
   "metadata": {
    "collapsed": false
   },
   "outputs": [],
   "source": [
    "(define A (make-interval (- 2) 2))\n",
    "(define B (make-interval (- 7) (- 1)))"
   ]
  },
  {
   "cell_type": "code",
   "execution_count": 3,
   "metadata": {
    "collapsed": false
   },
   "outputs": [
    {
     "data": {
      "text/plain": [
       "(-1 . 9)"
      ]
     },
     "execution_count": 3,
     "metadata": {},
     "output_type": "execute_result"
    }
   ],
   "source": [
    "(sub-interval A B)"
   ]
  },
  {
   "cell_type": "markdown",
   "metadata": {},
   "source": [
    "***\n",
    "\n",
    "[Exercise 2.9](https://github.com/my-snippet/SICP/blob/master/sicp/ex-2-9.scm)\n",
    "===\n",
    "위의 문제에서 예로 든 간격들intervals을 다시 정의하겠습니다.\n",
    "```\n",
    "A = [lower-bound-of-A, upper-bound-of-A] = [la, ua], \n",
    "B = [lower-bound-of-B, upper-bound-of-B] = [lb, ub],\n",
    "A + B = [la+lb, ua+ub],\n",
    "A - B = [la-ub, ua-lb]\n",
    "```\n",
    "\n",
    "위의 정의를 토대로 문제를 풀어보면 구간값의 덧셈은 가산성Additivity이 성립함을, 뺄셈은 뺄셈이 아닌 반대   \n",
    "방향으로의(덧셈으로) 가산성Additivity 성립함을 알 수 있습니다( 뺄셈의 경우 정확히 말하면 가산성이   \n",
    "성립하지는 않습니다. 규칙이 있을 뿐입니다. ).\n",
    "\n",
    "`width(A+B)` = $\\frac{(ua+ub)-(la+lb)}{2}$ = $\\frac{ua-la}{2} + \\frac{ub-lb}{2}$ = `width(A) + width(B)`\n",
    "\n",
    "`width(A-B)` = $\\frac{(ua-lb)-(la-ub)}{2}$ = $\\frac{(ua+ub)-(la+lb)}{2}$ = `width(A+B)`\n",
    "\n",
    "`width(A) * width(B)` = $\\frac{(ua-lb)*(la-ub)}{2}$\n",
    "\n",
    "하지만 곱셈, 나눗셈의 경우에는 이런 규칙이 성립하지 않습니다. 먼저 구간값의 곱셈의 경우 위에서 적은  \n",
    "`width(A) * width(B)`식의 결과와 달리 `width(A*B)`는 `mul-interval`연산으로 인해 하한과  \n",
    "상한의 부호sign에 따라 9가지 경우의 수가 발생하여 결과가 달라지기 때문입니다( 즉, 규칙이 성립하지 않음 ).  \n",
    "또한 책의 구현에서 나눗셈은 곱셈을 내부 프로시저로 가지고 있으므로 나눗셈 역시 규칙을 가지지 않습니다.   \n",
    "\n",
    "[Test reference](https://github.com/my-snippet/SICP/blob/master/sicp/ex-2-9-test.scm)"
   ]
  },
  {
   "cell_type": "markdown",
   "metadata": {},
   "source": [
    "***\n",
    "\n",
    "[Exercise 2.10](https://github.com/my-snippet/SICP/blob/master/sicp/ex-2-10.scm)\n",
    "===\n",
    "'구간에 0이 들어있는가'가 뜻하는 것은( an interval that spans zero ) 하한과 상한 사이에 0이 포함되어    \n",
    "있는지를 물어보는 것입니다. 즉, 하한과 상한은 값이 0일 수도 있지만 부호가 다를 수도 있다는 것입니다.   \n",
    "그리고 0이 포함되면 안되는 이유는 수를 0으로 나눌 수 없다는 이유도 있지만 이 문제에서 정의한 구간 나눗셈   \n",
    "연산에서는 또 다른 문제가 있습니다.  \n",
    "\n",
    "하한과 상한의 부호가 서로 다를 경우 나눗셈 연산에서 하한과 상한이 뒤바뀌는 현상이  \n",
    "발생하기 때문입니다.  \n",
    "예 : `reverse([-3, 2]) = [1/2, -1/3]`, ( * Chap2.1.4에 정의된 `div-interval` 참조  )\n"
   ]
  },
  {
   "cell_type": "code",
   "execution_count": 1,
   "metadata": {
    "collapsed": true
   },
   "outputs": [],
   "source": [
    "(load \"ex-2-7.scm\")"
   ]
  },
  {
   "cell_type": "code",
   "execution_count": 2,
   "metadata": {
    "collapsed": true
   },
   "outputs": [],
   "source": [
    ";; code ref\n",
    ";; http://community.schemewiki.org/?sicp-ex-2.10\n",
    "(define (div-interval x y)\n",
    "  (if (>= 0 (* (lower-bound y) (upper-bound y)))\n",
    "\t  (print \"Division error (interval spans 0)\")\n",
    "\t  (mul-interval x\n",
    "\t\t\t\t\t(make-interval (/ 1. (upper-bound y))\n",
    "\t\t\t\t\t\t\t\t   (/ 1. (lower-bound y))))))"
   ]
  },
  {
   "cell_type": "code",
   "execution_count": 3,
   "metadata": {
    "collapsed": false
   },
   "outputs": [],
   "source": [
    "(define A (make-interval 1 5))\n",
    "(define B (make-interval 0 2))"
   ]
  },
  {
   "cell_type": "code",
   "execution_count": 5,
   "metadata": {
    "collapsed": false
   },
   "outputs": [
    {
     "name": "stdout",
     "output_type": "stream",
     "text": [
      "\"Division error (interval spans 0)\"\n"
     ]
    }
   ],
   "source": [
    "(div-interval A B)"
   ]
  },
  {
   "cell_type": "markdown",
   "metadata": {
    "collapsed": true
   },
   "source": [
    "***\n",
    "\n",
    "[Exercise 2.11](https://github.com/my-snippet/SICP/blob/master/sicp/ex-2-11.scm)\n",
    "===\n",
    "하한은 상한보다 클 수 없습니다. 이 조건에 들어맞는 두 구간 사이에 곱 연산은 9가지입니다.\n",
    "\n",
    "`[ + + ] * [ + + ]`   \n",
    "`[ + + ] * [ - + ]`   \n",
    "`[ + + ] * [ - - ]`   \n",
    "`[ - + ] * [ + + ]`   \n",
    "__`[ - + ] * [ - + ]`__   \n",
    "`[ - + ] * [ - - ]`   \n",
    "`[ - - ] * [ + + ]`   \n",
    "`[ - - ] * [ - + ]`   \n",
    "`[ - - ] * [ - - ]`   \n",
    "\n",
    "이 중에서 __`[ - + ] * [ - + ]`__의 경우에는 어떤 경우가 더 작은지(하한) 더 큰지(상한) 부가적인 연산  \n",
    "없이는 알 수가 없습니다. 예를 들어 `[ 하한 * 하한 ]`이 `[ 상한 * 상한 ]`보다 작을 수도 있지만 클    \n",
    "수도 있습니다. 따라서 가능한 방법들을 고려해야 합니다. 여기서는 이것을 간단히 `min`, `max`로 판단하기로  \n",
    "합니다. [Test reference](https://github.com/my-snippet/SICP/blob/master/sicp/ex-2-11-test.scm)"
   ]
  },
  {
   "cell_type": "code",
   "execution_count": 3,
   "metadata": {
    "collapsed": true
   },
   "outputs": [],
   "source": [
    "(load \"ex-2-7.scm\")\n",
    "(load \"ex-2-11.scm\")"
   ]
  },
  {
   "cell_type": "code",
   "execution_count": 4,
   "metadata": {
    "collapsed": false
   },
   "outputs": [],
   "source": [
    "(define n (- 2))\n",
    "(define p 3) \n",
    "\n",
    "(define nn (make-interval (* 2 n) n))\n",
    "(define np (make-interval n p))\n",
    "(define pp (make-interval p (* 2 p)))"
   ]
  },
  {
   "cell_type": "code",
   "execution_count": 5,
   "metadata": {
    "collapsed": false
   },
   "outputs": [
    {
     "name": "stdout",
     "output_type": "stream",
     "text": [
      "(9 . 36)\n",
      "(-12 . 18)\n",
      "(-24 . -12)\n",
      "(-12 . 18)\n",
      "(-6 . 9)\n",
      "(-12 . 8)\n",
      "(-24 . -24)\n",
      "(-12 . 8)\n",
      "(4 . 16)\n"
     ]
    }
   ],
   "source": [
    "(print \n",
    "    (mul-interval-9-cases pp pp)\n",
    "    (mul-interval-9-cases pp np)\n",
    "    (mul-interval-9-cases pp nn)\n",
    "\n",
    "    (mul-interval-9-cases np pp)\n",
    "    (mul-interval-9-cases np np)\n",
    "    (mul-interval-9-cases np nn)\n",
    "\n",
    "    (mul-interval-9-cases nn pp)\n",
    "    (mul-interval-9-cases nn np)\n",
    "    (mul-interval-9-cases nn nn))"
   ]
  },
  {
   "cell_type": "markdown",
   "metadata": {},
   "source": [
    "***\n",
    "\n",
    "[Exercise 2.12](https://github.com/my-snippet/SICP/blob/master/sicp/ex-2-12.scm)\n",
    "===\n",
    "이 문제는 쉽지만 중요한 것을 물어봅니다. 주어진 도구를 쓸 줄 아냐고 물어봅니다. 먼저 아래는 도구를   \n",
    "덜 사용한 형태의 구현입니다.  "
   ]
  },
  {
   "cell_type": "code",
   "execution_count": 1,
   "metadata": {
    "collapsed": true
   },
   "outputs": [],
   "source": [
    "(load \"ex-2-7.scm\")"
   ]
  },
  {
   "cell_type": "code",
   "execution_count": 2,
   "metadata": {
    "collapsed": true
   },
   "outputs": [],
   "source": [
    "(define (make-center-percent-version-0 center percent-tolerance)\n",
    "  (make-interval (- center (* center (/ percent-tolerance 100.0)))\n",
    "\t\t\t\t (+ center (* center (/ percent-tolerance 100.0)))))"
   ]
  },
  {
   "cell_type": "markdown",
   "metadata": {},
   "source": [
    "그리고 도구를 더 사용한 형태의 구현입니다."
   ]
  },
  {
   "cell_type": "code",
   "execution_count": 3,
   "metadata": {
    "collapsed": true
   },
   "outputs": [],
   "source": [
    "(define (make-center-width c w)\n",
    "  (make-interval (- c w) (+ c w)))"
   ]
  },
  {
   "cell_type": "code",
   "execution_count": 4,
   "metadata": {
    "collapsed": true
   },
   "outputs": [],
   "source": [
    "(define (make-center-percent center percent-tolerance)\n",
    "  (make-center-width center\n",
    "\t\t\t\t\t (* center (/ percent-tolerance 100.0))))"
   ]
  },
  {
   "cell_type": "markdown",
   "metadata": {},
   "source": [
    "도구를 더 사용한 형태가 더 간결하며 더 분명하게 목적을 드러냄을 확인할 수 있습니다. "
   ]
  },
  {
   "cell_type": "markdown",
   "metadata": {
    "collapsed": true
   },
   "source": [
    "[Exercise 2.13](https://github.com/my-snippet/SICP/blob/master/sicp/ex-2-13.scm)\n",
    "===\n",
    "문제에서 제시한 대로 두 구간의 성분이 모두 '양수'라고 가정하면 두 구간의 각 성분간의 곱들의 대소비교가   \n",
    "되지 않은 모호한 상태를 피할 수 있습니다. 이 때의 조건은 [Exercise 2.11](https://github.com/my-snippet/SICP/blob/master/sicp/ex-2-11.scm)에서 구한 `mul-interval`  \n",
    "프로시저의 첫번째 조건 `(mul-interval-9-cases pp pp)`과 같습니다. ( Exercise 2.11 문제   \n",
    "풀이 참조 )  \n",
    "\n",
    "`Center_of_interval_of_a = ca =  \n",
    "(lower_interval_of_a + upper_interval_of_a) / 2`\n",
    "\n",
    "`Tolerance_of_a = ta = `    \n",
    "`(Percent_tolerance_of_a / 100.0) * Center_of_interval_of_a =   \n",
    "(pa / 100.0) * ca = `  \n",
    "\n",
    "\n",
    "\n",
    "`X = [cx - tx, cx + tx]`  \n",
    "`Y = [cy - ty, cy + ty]`  \n",
    "`XY = [(cx - tx)(cy - ty), (cx + tx)(cy + ty)]`  \n",
    "\n",
    "하한값을 계산해보면,  \n",
    "$(cx - tx)(cy - ty) = $  \n",
    "$cx(1 - \\frac{px}{100.0}) * cy(1 - \\frac{py}{100.0}) = $  \n",
    "$(cx * cy)(1 - \\frac{py}{100.0} - \\frac{px}{100.0} + (\\frac{px}{100.0})(\\frac{py}{100.0})) = $  \n",
    "$(cx * cy)(1 - \\frac{px + py}{100.0} + \\frac{px * py}{10000.0})$\n",
    "\n",
    "여기서 `px, py`(허용 오차)가 매우 작다고 가정하면 $\\frac{px * py}{10000.0}) \\approx$ 0\n",
    "\n",
    "상한의 경우에도 같은 방식으로 계산하면 X와 Y의 곱의 결과는 아래 구간과 근사값을 이룹니다.  \n",
    "`XY = [\n",
    "    (cx * cy)(1 - (px + py / 100.0)), \n",
    "    (cx * cy)(1 + (px + py / 100.0))\n",
    "]`\n",
    "\n",
    "[Description reference](http://www.billthelizard.com/2010/12/sicp-212-216-extended-exercise-interval.html), [Test reference ](https://github.com/my-snippet/SICP/blob/master/sicp/ex-2-13-test.scm)"
   ]
  },
  {
   "cell_type": "code",
   "execution_count": 4,
   "metadata": {
    "collapsed": true
   },
   "outputs": [],
   "source": [
    "(load \"ex-2-7.scm\")\n",
    "(load \"ex-2-12.scm\")"
   ]
  },
  {
   "cell_type": "code",
   "execution_count": 5,
   "metadata": {
    "collapsed": true
   },
   "outputs": [],
   "source": [
    "(define (mul-interval-approx x y)\n",
    "  (let ((cx*cy (* (center x) (center y)))\n",
    "\t\t(px+py (+ (percent x) (percent y))))\n",
    "\t(make-interval (* cx*cy (- 1 (/ px+py 100.0)))\n",
    "\t\t\t\t   (* cx*cy (+ 1 (/ px+py 100.0))))))"
   ]
  },
  {
   "cell_type": "code",
   "execution_count": 7,
   "metadata": {
    "collapsed": false
   },
   "outputs": [
    {
     "name": "stdout",
     "output_type": "stream",
     "text": [
      "(4999.9974999999995 . 5015.0075)\n",
      "(5000.0 . 5015.01)\n"
     ]
    }
   ],
   "source": [
    "(define i1 (make-interval 50.0 50.1))\n",
    "(define i2 (make-interval 100.0 100.1))\n",
    "(print \n",
    "    (mul-interval-approx i1 i2)\n",
    "    (mul-interval i1 i2))"
   ]
  },
  {
   "cell_type": "markdown",
   "metadata": {},
   "source": [
    "위의 예처럼 허용오차가 작은 경우 이론값과 상당히 근접한 값을 보여줍니다( 허용오차 1% 이내, 이론값과   \n",
    "99.99%의 근사치 ). 하지만 아래의 예처럼 허용오차가 크면 이론값과 완전히 다른 값을 보여줍니다.  "
   ]
  },
  {
   "cell_type": "code",
   "execution_count": 8,
   "metadata": {
    "collapsed": false
   },
   "outputs": [
    {
     "name": "stdout",
     "output_type": "stream",
     "text": [
      "(-1250.0000000000007 . 17750.0)\n",
      "(1000.0 . 20000.0)\n"
     ]
    }
   ],
   "source": [
    "(define i3 (make-interval 10.0 100.0))\n",
    "(define i4 (make-interval 100.0 200.0))\n",
    "(print \n",
    "    (mul-interval-approx i3 i4)\n",
    "    (mul-interval i3 i4))"
   ]
  }
 ],
 "metadata": {
  "kernelspec": {
   "display_name": "Calysto Scheme 3",
   "language": "scheme",
   "name": "calysto_scheme"
  },
  "language_info": {
   "codemirror_mode": {
    "name": "scheme"
   },
   "mimetype": "text/x-scheme",
   "name": "scheme",
   "pygments_lexer": "scheme"
  }
 },
 "nbformat": 4,
 "nbformat_minor": 0
}
