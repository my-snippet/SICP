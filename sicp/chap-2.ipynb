{
 "cells": [
  {
   "cell_type": "markdown",
   "metadata": {},
   "source": [
    "*** \n",
    "\n",
    "Chapter 2.1\n",
    "===\n",
    "누가 이렇게 말했다고 칩시다.  \n",
    "\"뭐야, 다 아는 거잖아. 나 이거 다 __'어떻게'__ 만드는지 __'알아'__\".  \n",
    "\n",
    "사실 위의 말이 크게 틀리지 않은 말이라는 생각이 듭니다. 그렇지만 이 장의 관련 내용을 조금 다르게 보기로   \n",
    "합니다. 즉 이 장이 다루는 내용을 '기억여부'와 '사용여부'로 '판단'하지 않는 대신, 데이터가 무엇인지, 왜   \n",
    "데이터를 묶어서 사용하는지, 그리고 데이터 인터페이스를 어떻게 구성하는지 생각해보고 연습해보는 것에 초점을     \n",
    "맞춰보도록 하겠습니다. 그런 관점에서 본다면 왜 데이터를 정의하기 위해서 `list`나 `dictionary` 같은 편리한  \n",
    "데이터 구조가 아닌 `pair`를 사용하는지 이해할 수 있을 것입니다.\n",
    "\n",
    "* `pair`는 최소 단위의 묶음 데이터compound data이자 어떠한 데이터 구조라도 만들 수 있는(universal)  \n",
    "빌딩 블록building block으로 기능합니다.\n",
    "\n",
    "***\n",
    "\n",
    "__데이터 요약__  \n",
    "데이터 구조를 생성하는 방식contruction과 골라내는 방식selection을 나누어 생각하는 방법입니다. ( 책 2장  \n",
    "서문 참조 ) \n",
    "\n",
    "* 그런 의미에서 `cons`는 constructor이고 `car, cdr`은 selector입니다.\n",
    "\n",
    "***\n",
    "\n",
    "__요약의 경계Abstraction Barrier__  \n",
    "[User-defined_data_types](https://en.wikibooks.org/wiki/A-level_Computing_2009/AQA/Problem_Solving,_Programming,_Data_Representation_and_Practical_Exercise/Fundamentals_of_Programming/User-defined_data_types)을 떠올리게 합니다. '왜 `int`, `char` 같은 익숙한 타입에 이름을 지정해서 피곤하게  \n",
    "만드는 걸까'하고 생각할 지도 모르겠습니다. 하지만 문제가 복잡해질 수록, 프로그램의 구조를 수정하는 일이  \n",
    "빈번해질 수록, 그리고 시간이 지날 수록(이게 무슨 데이터인지 기억에서 사라질 정도로) 그것이 필요할 것입니다.  \n",
    "\n",
    "* 물론, 데이터 타입을 예로 든 것은 예시입니다. 데이터를 요약하는 경계와는 차이가 있는 부분입니다. 요약의  \n",
    "경계는 계층으로 나누어 데이터를 바라보고 설계한 (계층)구조입니다. \n",
    "\n",
    "\n",
    "* 책에서 나온 예로 '문제 영역에서 보느냐(+, - 등 연산), 개념 영역에서 보느냐(유리수는 분자와 분모로 구성),  \n",
    "컴퓨터 데이터 영역(유리수는 `pair`로 구성)에서 보느냐' 등에 따라 그 계층을 나눌 수 있습니다."
   ]
  },
  {
   "cell_type": "markdown",
   "metadata": {
    "collapsed": true
   },
   "source": [
    "***\n",
    "\n",
    "[Exercise 2.4](https://github.com/my-snippet/SICP/blob/master/sicp/ex-2-4.scm)\n",
    "===\n",
    "(문제 링크 참조) 이 문제에서 `cons`는 인자 2개(x, y)를 받는 __어떤__ 프로시저 m을 반환합니다. 만약   \n",
    "`cons`가 pair를 만드는 constructor이라면 이 때 인자 m으로 들어올 수 있는 프로시저에는 `car`,   \n",
    "`cdr` 등이 있을 수 있습니다. 여기서 `car`이면 x를, `cdr`이면 y를 반환해주면 됩니다. 즉, `cons`로   \n",
    "만들어진 데이터를 고르는 selector인 `car, cdr`은 constructor로 생성된 데이터( 데이터 구조에  \n",
    "알맞게 들어간 데이터 ) 그 자체를 인자로 받아 해당하는 고르기selection 연산을 수행합니다.  \n",
    "\n",
    "* 이런 형태의 구현은 일종의 [미루어진 계산delayed evaluation](https://en.wikipedia.org/wiki/Lazy_evaluation) 형태를 갖추는 것을 확인할 수  \n",
    "있습니다. $\\rightarrow$ 아래의 `cdr_` 연산 참조"
   ]
  },
  {
   "cell_type": "code",
   "execution_count": 1,
   "metadata": {
    "collapsed": true
   },
   "outputs": [],
   "source": [
    "(load \"ex-2-4.scm\")"
   ]
  },
  {
   "cell_type": "code",
   "execution_count": 2,
   "metadata": {
    "collapsed": false
   },
   "outputs": [
    {
     "name": "stdout",
     "output_type": "stream",
     "text": [
      "3\n",
      "#<procedure>\n",
      "1\n",
      "2\n"
     ]
    }
   ],
   "source": [
    "(define p1 (cons_ 2 1))\n",
    "(define p2 (cons_ 3 p1))\n",
    "(print (car_ p2)\n",
    "       (cdr_ p2)\n",
    "       (cddr_ p2)\n",
    "       (cdar_ p2))"
   ]
  },
  {
   "cell_type": "markdown",
   "metadata": {
    "collapsed": true
   },
   "source": [
    "***\n",
    "\n",
    "[Exercise 2.5](https://github.com/my-snippet/SICP/blob/master/sicp/ex-2-5.scm)\n",
    "===\n",
    "이 문제의 `cons`는 a, b를 인자로 받아 $2^a3^b$을 만드는 constructor입니다. 여기서 이미 만들어진  \n",
    "값(=$2^a3^b$)으로부터 '어떻게 다시 a, b를 골라낼 수 있을 것인가'에 대한 답이 곧 selector 구현으로  \n",
    "이어집니다. [Test reference](https://github.com/my-snippet/SICP/blob/master/sicp/ex-2-5-test.scm)\n",
    "\n",
    "* $2^k$은 $3$(홀수)으로 나뉘지 않는다는 점을 이용하면, k를 점점 늘려가면서(k=0,1,2, ...) 해당하는  \n",
    "k 값을 구할 수 있습니다. 이 때의 k 값이 `car`입니다( `cdr`은 같은 원리로 $3^k$을 이용하면 됩니다 ).\n",
    "\n",
    "\n",
    "* 로그log를 이용해서도 가능할 것 같은데 구현은 해보지 않았습니다."
   ]
  },
  {
   "cell_type": "code",
   "execution_count": null,
   "metadata": {
    "collapsed": true
   },
   "outputs": [],
   "source": []
  }
 ],
 "metadata": {
  "kernelspec": {
   "display_name": "Calysto Scheme 3",
   "language": "scheme",
   "name": "calysto_scheme"
  },
  "language_info": {
   "codemirror_mode": {
    "name": "scheme"
   },
   "mimetype": "text/x-scheme",
   "name": "scheme",
   "pygments_lexer": "scheme"
  }
 },
 "nbformat": 4,
 "nbformat_minor": 0
}
