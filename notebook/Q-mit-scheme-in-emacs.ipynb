{
 "cells": [
  {
   "cell_type": "markdown",
   "metadata": {},
   "source": [
    "`SICP`는 원래 `MIT-scheme`에서 만들어야 기본 모듈이 없는 문제로 골머리를 썩지 않을 수 있습니다.\n",
    "\n",
    "하지만 `DR-scheme`이 주는 화려한(?) GUI 덕분에 `Emacs`를 기본으로 돌아가는 `MIT-scheme`을 실행할 엄두가 안나게 됩니다.\n",
    "\n",
    "여기서는 터미널 환경에서 `MIT-scheme`을 실행하도록 설정하는 작업을 하겠습니다."
   ]
  },
  {
   "cell_type": "markdown",
   "metadata": {},
   "source": [
    "\\* `MIT-scheme`은 http://www.gnu.org/software/mit-scheme/)[http://www.gnu.org/software/mit-scheme/ 에서 설치할 수 있습니다."
   ]
  },
  {
   "cell_type": "markdown",
   "metadata": {},
   "source": [
    "### 1. Emacs 설정\n",
    "\n",
    "`~/.emacs.d/init.el` 또는 `~/.emacs` 파일에 아래의 코드를 붙여넣습니다.\n"
   ]
  },
  {
   "cell_type": "markdown",
   "metadata": {},
   "source": [
    "```lisp\n",
    ";; MIT Scheme\n",
    "(setq scheme-program-name \"/usr/local/bin/mit-scheme\")\n",
    "(require 'xscheme)\n",
    "```"
   ]
  },
  {
   "cell_type": "markdown",
   "metadata": {},
   "source": [
    "\\* 위의 코드는 설치한 `scheme`으로 구현된 파일 실행시 `MIT-scheme`으로 실행을 하도록 하는 설정입니다."
   ]
  },
  {
   "cell_type": "markdown",
   "metadata": {},
   "source": [
    "### 2. Meta 키 설정\n",
    "\n",
    "만약, `MAC OS X` 환경에서 실행중이라면 옵션 키를 메타 키로 활성화해주시기 바랍니다.\n",
    "\n",
    "예를들어 터미널로 `iTerm`을 사용하고 있다면,\n",
    "\n",
    "`iTerm` 북마크 바에서 `Preferences -> Profiles -> Keys -> Left option key acts as:`를 `+Esc`로 맞춰주시면 됩니다."
   ]
  },
  {
   "cell_type": "markdown",
   "metadata": {},
   "source": [
    "### * 검증\n",
    "\n",
    "\n",
    "1. `display`, `stream-car`, `cons-stream` 등의 기본 모듈이 있는지, \n",
    "2. `parallel-execute`와 같은 외부 모듈을 불러와 적용할 수 있는지 확인해보겠습니다."
   ]
  },
  {
   "cell_type": "markdown",
   "metadata": {},
   "source": [
    "```scheme\n",
    "(load \"../../modules/3/parallel.scm\")\n",
    "\n",
    "(define (square x)\n",
    "  (* x x))\n",
    "\n",
    "(square 3)\n",
    "\n",
    "(display \"dddddddddddd\")\n",
    "(display (square 3))\n",
    "\n",
    "(stream-car (cons-stream 1 2))\n",
    "\n",
    "(define x 10)\n",
    "(parallel-execute (lambda () (set! x (* x x)))\n",
    "                  (lambda () (set! x (+ x 1))))\n",
    "```\n"
   ]
  },
  {
   "cell_type": "markdown",
   "metadata": {},
   "source": [
    "그다음 `M-x run-scheme`을 입력합니다. ( `scheme` 프로세스를 실행하는 과정으로 __반드시 입력__해야 합니다. )\n",
    "\n",
    "실행해보면, (커서 키를 파일의 끝에 두고 `M-o`를 입력)"
   ]
  },
  {
   "cell_type": "markdown",
   "metadata": {},
   "source": [
    "```scheme\n",
    ";Loading \"../../modules/3/parallel.scm\"... done\n",
    ";Value: write\n",
    "\n",
    ";Value: square\n",
    "\n",
    ";Value: 9\n",
    "\n",
    "dddddddddddd\n",
    ";Unspecified return value\n",
    "\n",
    "9\n",
    ";Unspecified return value\n",
    "\n",
    ";Value: 1\n",
    "\n",
    ";Value: x\n",
    "\n",
    ";Value 4: #[compound-procedure 4 terminator]\n",
    "```"
   ]
  },
  {
   "cell_type": "markdown",
   "metadata": {},
   "source": [
    "잘 실행되었음을 확인할 수있습니다."
   ]
  },
  {
   "cell_type": "markdown",
   "metadata": {},
   "source": [
    "### References\n",
    "\n",
    "http://praveen.kumar.in/2011/03/06/gnu-emacs-and-mit-scheme-on-mac-os-x/\n",
    "\n",
    "http://stackoverflow.com/questions/196357/making-iterm-to-translate-meta-key-in-the-same-way-as-in-other-oses\n",
    "\n",
    "http://nosyu.pe.kr/1595"
   ]
  }
 ],
 "metadata": {
  "kernelspec": {
   "display_name": "Python 3",
   "language": "python",
   "name": "python3"
  },
  "language_info": {
   "codemirror_mode": {
    "name": "ipython",
    "version": 3
   },
   "file_extension": ".py",
   "mimetype": "text/x-python",
   "name": "python",
   "nbconvert_exporter": "python",
   "pygments_lexer": "ipython3",
   "version": "3.4.3"
  }
 },
 "nbformat": 4,
 "nbformat_minor": 0
}
