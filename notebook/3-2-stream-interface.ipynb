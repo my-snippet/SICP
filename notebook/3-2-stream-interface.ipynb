{
 "cells": [
  {
   "cell_type": "markdown",
   "metadata": {},
   "source": [
    "이전에 작성한 글에서 프로그램은 결과를 내보이는 것이 목적이었습니다.\n",
    "\n",
    "여기서는 결과가 아닌 과정(상태)을 내보이는 프로그램을 작성하겠습니다.\n",
    "\n",
    "아래 코드를 보겠습니다."
   ]
  },
  {
   "cell_type": "markdown",
   "metadata": {},
   "source": [
    "### 1. Lazy Execution"
   ]
  },
  {
   "cell_type": "code",
   "execution_count": 1,
   "metadata": {
    "collapsed": true
   },
   "outputs": [],
   "source": [
    "def promise(x):\n",
    "    yield x\n",
    "\n",
    "\n",
    "def cons_stream(a, b):\n",
    "    return (a, promise(b))"
   ]
  },
  {
   "cell_type": "code",
   "execution_count": 2,
   "metadata": {
    "collapsed": false
   },
   "outputs": [
    {
     "data": {
      "text/plain": [
       "(1, <generator object promise at 0x104213678>)"
      ]
     },
     "execution_count": 2,
     "metadata": {},
     "output_type": "execute_result"
    }
   ],
   "source": [
    "s0 = cons_stream(1, cons_stream(2, cons_stream(3, 4)))\n",
    "s0"
   ]
  },
  {
   "cell_type": "markdown",
   "metadata": {},
   "source": [
    "위의 `tuple`이 가진 첫번째 원소인 `1`은 `s0`의 현재 상태입니다. \n",
    "\n",
    "그리고 두번째 원소는 `promise` 함수를 통해 값을 [제너레이터](https://wiki.python.org/moin/Generators)로 저장하고 있습니다.\n",
    "\n",
    "즉, 이 `promise`는 다음 상태에 대한 __약속__일 뿐, 그에대한 계산을 하지 않습니다. \n",
    "\n",
    "( '약속'을 함으로써 다음 계산을 미루고 있기 때문에 이런 방법을 `Delayed execution` 또는 `Lazy execution`이라고 합니다. )\n",
    "\n",
    "이처럼 스트림은 현재 상태를 가지고 다음 상태를 약속하는 차례열의(여기서는 `tuple`로 표현한) 연속입니다.\n",
    "\n"
   ]
  },
  {
   "cell_type": "markdown",
   "metadata": {},
   "source": [
    "\\* 원래 `SICP`에서는 '제너레이터'가 아닌 프로시저 실행을 지연함으로써 '약속'을 구현합니다.\n",
    "\n",
    "간단히는, 아래처럼 구현할 수 있습니다.\n",
    "\n",
    "```scheme\n",
    "(define (delay proc)\n",
    "    (lambda () proc))\n",
    "```"
   ]
  },
  {
   "cell_type": "markdown",
   "metadata": {},
   "source": [
    "적절한 함수를 만들어 `s0`를 한 번 쭉 뽑아보면,"
   ]
  },
  {
   "cell_type": "code",
   "execution_count": 3,
   "metadata": {
    "collapsed": false
   },
   "outputs": [],
   "source": [
    "def display_stream(s):\n",
    "    if isinstance(s, tuple):\n",
    "        print(s[0])\n",
    "        return display_stream(next(s[1]))\n",
    "    else:\n",
    "        print(s)"
   ]
  },
  {
   "cell_type": "code",
   "execution_count": 4,
   "metadata": {
    "collapsed": false
   },
   "outputs": [
    {
     "name": "stdout",
     "output_type": "stream",
     "text": [
      "1\n",
      "2\n",
      "3\n",
      "4\n"
     ]
    }
   ],
   "source": [
    "display_stream(s0)"
   ]
  },
  {
   "cell_type": "markdown",
   "metadata": {},
   "source": [
    "### 2. 스트림을 위한 인터페이스"
   ]
  },
  {
   "cell_type": "markdown",
   "metadata": {},
   "source": [
    "다음으로, \n",
    "\n",
    "1. 임의의 정수 a부터 b까지($a < b$) 연속하는 스트림을 만들고,\n",
    "\n",
    "2. 그 스트림에 특정 조건을 걸어서 필터링시키는 코드를 작성하겠습니다."
   ]
  },
  {
   "cell_type": "code",
   "execution_count": 5,
   "metadata": {
    "collapsed": false
   },
   "outputs": [],
   "source": [
    "def stream_enumerate_interval(low, high):\n",
    "    if high > low:\n",
    "        return cons_stream(\n",
    "            low, \n",
    "            stream_enumerate_interval(low+1, high))\n",
    "    else:\n",
    "        return high\n",
    "    \n",
    "    \n",
    "def stream_filter(pred, stream):\n",
    "    if not isinstance(stream, tuple):\n",
    "        return stream\n",
    "    elif pred(stream[0]):\n",
    "        return cons_stream(\n",
    "            stream[0],\n",
    "            stream_filter(pred, next(stream[1])))\n",
    "    else:\n",
    "        return stream_filter(pred, next(stream[1]))"
   ]
  },
  {
   "cell_type": "markdown",
   "metadata": {},
   "source": [
    "검증을 위해 1부터 10까지의 정수로 만들어진 스트림을 2로 나누어 떨어지는 경우만 필터링해보면,"
   ]
  },
  {
   "cell_type": "code",
   "execution_count": 6,
   "metadata": {
    "collapsed": false
   },
   "outputs": [
    {
     "name": "stdout",
     "output_type": "stream",
     "text": [
      "2\n",
      "4\n",
      "6\n",
      "8\n",
      "10\n"
     ]
    }
   ],
   "source": [
    "s1 = stream_enumerate_interval(1, 10)\n",
    "filtered_s1 = stream_filter(lambda x: x%2 == 0, s1)\n",
    "display_stream(filtered_s1)"
   ]
  },
  {
   "cell_type": "markdown",
   "metadata": {},
   "source": [
    "스트림을 위한 `map`함수를 만들면,"
   ]
  },
  {
   "cell_type": "code",
   "execution_count": 7,
   "metadata": {
    "collapsed": true
   },
   "outputs": [],
   "source": [
    "def stream_map(f, stream):\n",
    "    if not isinstance(stream, tuple):\n",
    "        return f(stream)\n",
    "    else:\n",
    "        return cons_stream(\n",
    "            f(stream[0]),\n",
    "            stream_map(f, next(stream[1]))\n",
    "        )"
   ]
  },
  {
   "cell_type": "markdown",
   "metadata": {},
   "source": [
    "`stream_map`이 여러 스트림을 받아들일 수 있도록 조금 더 개선해보겠습니다.\n",
    "\n",
    "`stream_map` 함수는 1. 각 스트림의 현재상태를 묶은 후, 2. 거기에 필요한 연산을 수행한 결과를 3. 다시 스트림으로 만드는 기능을 합니다.\n",
    "\n",
    "먼저, 1.의 경우인 각 스트림의 현재 상태를 묶기 위한 함수를 만들겠습니다.\n",
    "\n",
    "스트림은 현재 상태와 다음 상태를 '약속'으로 가지고 있습니다. \n",
    "\n",
    "각 스트림의 0번째 원소는 현재상태를, 1번째 원소는 다음 상태의 약속을 나타냅니다.\n",
    "\n",
    "따라서, 각 스트림의 n번째 원소를 추출해서 묶어주는( 여기서는 `tuple`로 ) 함수인  `nth_elements_extractor`을 만들어보면, \n",
    "\n",
    "```\n",
    "nth_elements_extractor(sequences, index)\n",
    "sequences : stream_map을 적용할 각 스트림을 이차원 tuple의 형태로 묶어 전달합니다.\n",
    "index : 몇번째 인덱스의 원소들을 추출할지 입력합니다.\n",
    "```\n",
    "다음으로, 추출해서 묶은 데이터에 필요한 연산을 수행하는 함수를 만들겠습니다.\n",
    "\n",
    "2장 [공통 인터페이스](http://wikibootup.github.io/sicp/2-1-conventional-interface.html)에서 만들었던 `accumulate`와 동일한 원리로 만들어주면 됩니다. 차이점은 초기값이 없다는 점입니다.\n",
    "\n",
    "```\n",
    "apply(op, sequence)\n",
    "op : 필요한 연산\n",
    "sequence : 데이터 묶음을 1차원 tuple 또는 list 형태로 전달\n",
    "```\n"
   ]
  },
  {
   "cell_type": "markdown",
   "metadata": {},
   "source": [
    "이제 `stream_map`을 개선하면,"
   ]
  },
  {
   "cell_type": "code",
   "execution_count": 23,
   "metadata": {
    "collapsed": false
   },
   "outputs": [],
   "source": [
    "def apply(op, sequence):\n",
    "    if len(sequence) == 1:\n",
    "        return sequence[0]\n",
    "    else:\n",
    "        return op(sequence[0], apply(op, sequence[1:]))\n",
    "    \n",
    "    \n",
    "def nth_elements_extractor(index, sequences):\n",
    "    if len(sequences) == 0:\n",
    "        return ()\n",
    "    else:\n",
    "        return (sequences[0][index],) + \\\n",
    "            nth_elements_extractor(index, sequences[1:])\n",
    "\n",
    "\n",
    "def stream_map(f, argstreams):\n",
    "    if not isinstance(argstreams[0], tuple):\n",
    "        return apply(f, argstreams)\n",
    "    else:\n",
    "        return cons_stream(\n",
    "            apply(f, nth_elements_extractor(0, argstreams)),\n",
    "            apply(stream_map, (\n",
    "                    f, \n",
    "                    tuple(map(lambda e: next(e), \n",
    "                              nth_elements_extractor(1, argstreams))))))"
   ]
  },
  {
   "cell_type": "markdown",
   "metadata": {},
   "source": [
    "검증을 위해 두 스트림의 각 원소끼리 더하는 연산을 수행하면,"
   ]
  },
  {
   "cell_type": "code",
   "execution_count": 24,
   "metadata": {
    "collapsed": false,
    "scrolled": false
   },
   "outputs": [
    {
     "name": "stdout",
     "output_type": "stream",
     "text": [
      "15\n",
      "17\n",
      "19\n",
      "21\n",
      "23\n",
      "25\n",
      "27\n",
      "29\n",
      "31\n",
      "33\n",
      "35\n"
     ]
    }
   ],
   "source": [
    "from operator import add\n",
    "s2 = stream_enumerate_interval(5, 15)\n",
    "s3 = stream_enumerate_interval(10, 20)\n",
    "\n",
    "a = stream_map(add, (s2, s3))\n",
    "display_stream(a)"
   ]
  },
  {
   "cell_type": "markdown",
   "metadata": {},
   "source": [
    "다음 번 글에 이어서 설명하도록 하겠습니다."
   ]
  }
 ],
 "metadata": {
  "kernelspec": {
   "display_name": "Python 3",
   "language": "python",
   "name": "python3"
  },
  "language_info": {
   "codemirror_mode": {
    "name": "ipython",
    "version": 3
   },
   "file_extension": ".py",
   "mimetype": "text/x-python",
   "name": "python",
   "nbconvert_exporter": "python",
   "pygments_lexer": "ipython3",
   "version": "3.4.3"
  }
 },
 "nbformat": 4,
 "nbformat_minor": 0
}
