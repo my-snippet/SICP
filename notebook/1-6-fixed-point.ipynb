{
 "cells": [
  {
   "cell_type": "markdown",
   "metadata": {},
   "source": [
    "* `Haskell`을 이용하여 작성한 글입니다."
   ]
  },
  {
   "cell_type": "markdown",
   "metadata": {},
   "source": [
    "앞서 했던 [제곱근 구하기](http://wikibootup.github.io/sicp/1-2-sqrt-flowchart.html)를 돌이켜보면, 원하는 결과가 나올 때까지 '동일한 연산'을 계속 적용했다는 것을 알 수 있습니다.\n",
    "\n",
    "연산은 함수 형태로 표현했고, 이전 함수의 결과가 다음 함수의 인자로 쓰이는 과정을 밟고 있습니다."
   ]
  },
  {
   "cell_type": "markdown",
   "metadata": {},
   "source": [
    "수식으로 표현하면,\n",
    "\n",
    "### $f(f(f...(f(x)))...) = x$\n",
    "\n",
    "이 때의 x를 f의 고정점fixed point이라고 합니다."
   ]
  },
  {
   "cell_type": "markdown",
   "metadata": {},
   "source": [
    "여기서는 이 방법을 이용해 몇가지 문제들을 풀어보도록 하겠습니다."
   ]
  },
  {
   "cell_type": "markdown",
   "metadata": {},
   "source": [
    "먼저 함수를 구현하면,"
   ]
  },
  {
   "cell_type": "code",
   "execution_count": 1,
   "metadata": {
    "collapsed": false
   },
   "outputs": [
    {
     "data": {
      "text/html": [
       "<style>/*\n",
       "Custom IHaskell CSS.\n",
       "*/\n",
       "\n",
       "/* Styles used for the Hoogle display in the pager */\n",
       ".hoogle-doc {\n",
       "    display: block;\n",
       "    padding-bottom: 1.3em;\n",
       "    padding-left: 0.4em;\n",
       "}\n",
       ".hoogle-code {\n",
       "    display: block;\n",
       "    font-family: monospace;\n",
       "    white-space: pre;\n",
       "}\n",
       ".hoogle-text {\n",
       "    display: block;\n",
       "}\n",
       ".hoogle-name {\n",
       "    color: green;\n",
       "    font-weight: bold;\n",
       "}\n",
       ".hoogle-head {\n",
       "    font-weight: bold;\n",
       "}\n",
       ".hoogle-sub {\n",
       "    display: block;\n",
       "    margin-left: 0.4em;\n",
       "}\n",
       ".hoogle-package {\n",
       "    font-weight: bold;\n",
       "    font-style: italic;\n",
       "}\n",
       ".hoogle-module {\n",
       "    font-weight: bold;\n",
       "}\n",
       ".hoogle-class {\n",
       "    font-weight: bold;\n",
       "}\n",
       "\n",
       "/* Styles used for basic displays */\n",
       ".get-type {\n",
       "    color: green;\n",
       "    font-weight: bold;\n",
       "    font-family: monospace;\n",
       "    display: block;\n",
       "    white-space: pre-wrap;\n",
       "}\n",
       "\n",
       ".show-type {\n",
       "    color: green;\n",
       "    font-weight: bold;\n",
       "    font-family: monospace;\n",
       "    margin-left: 1em;\n",
       "}\n",
       "\n",
       ".mono {\n",
       "    font-family: monospace;\n",
       "    display: block;\n",
       "}\n",
       "\n",
       ".err-msg {\n",
       "    color: red;\n",
       "    font-style: italic;\n",
       "    font-family: monospace;\n",
       "    white-space: pre;\n",
       "    display: block;\n",
       "}\n",
       "\n",
       "#unshowable {\n",
       "    color: red;\n",
       "    font-weight: bold;\n",
       "}\n",
       "\n",
       ".err-msg.in.collapse {\n",
       "  padding-top: 0.7em;\n",
       "}\n",
       "\n",
       "/* Code that will get highlighted before it is highlighted */\n",
       ".highlight-code {\n",
       "    white-space: pre;\n",
       "    font-family: monospace;\n",
       "}\n",
       "\n",
       "/* Hlint styles */\n",
       ".suggestion-warning { \n",
       "    font-weight: bold;\n",
       "    color: rgb(200, 130, 0);\n",
       "}\n",
       ".suggestion-error { \n",
       "    font-weight: bold;\n",
       "    color: red;\n",
       "}\n",
       ".suggestion-name {\n",
       "    font-weight: bold;\n",
       "}\n",
       "</style><span class='err-msg'>Not in scope: ‘tolerance’</span>"
      ],
      "text/plain": [
       "Not in scope: ‘tolerance’"
      ]
     },
     "metadata": {},
     "output_type": "display_data"
    }
   ],
   "source": [
    "fixedPoint :: (Fractional a, Ord a) => (a -> a) -> a -> a\n",
    "fixedPoint function firstGuess = try firstGuess\n",
    "    where\n",
    "        closeEnough v1 v2 = abs (v1-v2) < tolerance\n",
    "        try guess\n",
    "            | closeEnough guess next = next\n",
    "            | otherwise = try next\n",
    "            where next = function guess"
   ]
  },
  {
   "cell_type": "markdown",
   "metadata": {},
   "source": [
    "오류 창에 `Not in scope: ‘tolerance’`를 확인하실 수 있습니다. \n",
    "\n",
    "`try` 함수의 내부를 살펴보면,\n",
    "\n",
    "얼마나 고정점에 가까워지는지는 `tolerance( 허용오차 )`를 몇으로 설정하느냐에 달려있음을 알 수 있습니다."
   ]
  },
  {
   "cell_type": "code",
   "execution_count": 2,
   "metadata": {
    "collapsed": true
   },
   "outputs": [],
   "source": [
    "tolerance = 0.00001"
   ]
  },
  {
   "cell_type": "code",
   "execution_count": 3,
   "metadata": {
    "collapsed": false
   },
   "outputs": [],
   "source": [
    "fixedPoint :: (Fractional a, Ord a) => (a -> a) -> a -> a\n",
    "fixedPoint function firstGuess = try firstGuess\n",
    "    where\n",
    "        closeEnough v1 v2 = abs (v1-v2) < tolerance\n",
    "        try guess\n",
    "            | closeEnough guess next = next\n",
    "            | otherwise = try next\n",
    "            where next = function guess"
   ]
  },
  {
   "cell_type": "markdown",
   "metadata": {},
   "source": [
    "이제 이 함수로 cos 함수의 고정점을 구해보면, ( [SICP](http://sarabander.github.io/sicp/html/1_002e3.xhtml#g_t1_002e3_002e3) 참조 )"
   ]
  },
  {
   "cell_type": "code",
   "execution_count": 4,
   "metadata": {
    "collapsed": false
   },
   "outputs": [
    {
     "data": {
      "text/plain": [
       "0.7390822985224023"
      ]
     },
     "metadata": {},
     "output_type": "display_data"
    }
   ],
   "source": [
    "fixedPoint cos 1.0"
   ]
  },
  {
   "cell_type": "markdown",
   "metadata": {},
   "source": [
    "$y = sin y + cos y$ 의 고정점도 찾아보면,"
   ]
  },
  {
   "cell_type": "code",
   "execution_count": 5,
   "metadata": {
    "collapsed": false
   },
   "outputs": [
    {
     "data": {
      "text/plain": [
       "1.2587315962971173"
      ]
     },
     "metadata": {},
     "output_type": "display_data"
    }
   ],
   "source": [
    "fixedPoint (\\y -> sin y + cos y) 1.0"
   ]
  },
  {
   "cell_type": "markdown",
   "metadata": {},
   "source": [
    "이번엔 황금비를 구해보겠습니다.\n",
    "\n",
    "피보나치 수열의 n번째 항을 n-1번 째 항으로 나누면 황금비에 근접한다고 알려져있습니다.\n",
    "\n",
    "$\\frac{a_n}{a_{n-1}} = 1.618...$\n",
    "\n",
    "이를 첫번째 항의 비(ratio)부터 n번째 항의 비까지 구하는 $lambda$ 식으로 표현하면 다음과 같습니다.\n",
    "\n",
    "$x↦1+1/x$\n",
    "\n",
    "함수로 풀어보면,"
   ]
  },
  {
   "cell_type": "code",
   "execution_count": 6,
   "metadata": {
    "collapsed": false
   },
   "outputs": [
    {
     "data": {
      "text/plain": [
       "1.6180327868852458"
      ]
     },
     "metadata": {},
     "output_type": "display_data"
    }
   ],
   "source": [
    "fixedPoint (\\x -> 1+1/x) 1.0"
   ]
  },
  {
   "cell_type": "markdown",
   "metadata": {},
   "source": [
    "또한, 보다시피 `fixedPoint`가 허용오차 이내로 들어올 때까지 반복하는 기능을 하므로\n",
    "\n",
    "이전에 구했던 [제곱근 구하기](http://wikibootup.github.io/sicp/1-2-sqrt-flowchart.html) 역시 이 함수를 이용하여 재구현할 수 있습니다.\n",
    "\n",
    "다음 글에 이어서 설명하도록 하겠습니다."
   ]
  }
 ],
 "metadata": {
  "kernelspec": {
   "display_name": "Haskell",
   "language": "haskell",
   "name": "haskell"
  },
  "language_info": {
   "codemirror_mode": "ihaskell",
   "file_extension": ".hs",
   "name": "haskell",
   "version": "7.10.2"
  }
 },
 "nbformat": 4,
 "nbformat_minor": 0
}
