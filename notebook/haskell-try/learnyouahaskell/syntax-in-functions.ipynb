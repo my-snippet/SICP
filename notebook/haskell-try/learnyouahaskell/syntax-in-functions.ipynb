{
 "cells": [
  {
   "cell_type": "code",
   "execution_count": 1,
   "metadata": {
    "collapsed": true
   },
   "outputs": [],
   "source": [
    "lucky :: (Integral a) => a -> String  \n",
    "lucky 7 = \"LUCKY NUMBER SEVEN!\"  \n",
    "lucky x = \"Sorry, you're out of luck, pal!\""
   ]
  },
  {
   "cell_type": "code",
   "execution_count": 2,
   "metadata": {
    "collapsed": false
   },
   "outputs": [
    {
     "data": {
      "text/plain": [
       "\"LUCKY NUMBER SEVEN!\""
      ]
     },
     "metadata": {},
     "output_type": "display_data"
    }
   ],
   "source": [
    "lucky 7"
   ]
  },
  {
   "cell_type": "code",
   "execution_count": 3,
   "metadata": {
    "collapsed": false
   },
   "outputs": [
    {
     "data": {
      "text/plain": [
       "\"Sorry, you're out of luck, pal!\""
      ]
     },
     "metadata": {},
     "output_type": "display_data"
    }
   ],
   "source": [
    "lucky 6"
   ]
  },
  {
   "cell_type": "code",
   "execution_count": 5,
   "metadata": {
    "collapsed": false
   },
   "outputs": [
    {
     "data": {
      "text/plain": [
       "\"Sorry, you're out of luck, pal!\""
      ]
     },
     "metadata": {},
     "output_type": "display_data"
    }
   ],
   "source": [
    "lucky 8"
   ]
  },
  {
   "cell_type": "code",
   "execution_count": 7,
   "metadata": {
    "collapsed": false
   },
   "outputs": [
    {
     "data": {
      "text/html": [
       "<style>/*\n",
       "Custom IHaskell CSS.\n",
       "*/\n",
       "\n",
       "/* Styles used for the Hoogle display in the pager */\n",
       ".hoogle-doc {\n",
       "    display: block;\n",
       "    padding-bottom: 1.3em;\n",
       "    padding-left: 0.4em;\n",
       "}\n",
       ".hoogle-code {\n",
       "    display: block;\n",
       "    font-family: monospace;\n",
       "    white-space: pre;\n",
       "}\n",
       ".hoogle-text {\n",
       "    display: block;\n",
       "}\n",
       ".hoogle-name {\n",
       "    color: green;\n",
       "    font-weight: bold;\n",
       "}\n",
       ".hoogle-head {\n",
       "    font-weight: bold;\n",
       "}\n",
       ".hoogle-sub {\n",
       "    display: block;\n",
       "    margin-left: 0.4em;\n",
       "}\n",
       ".hoogle-package {\n",
       "    font-weight: bold;\n",
       "    font-style: italic;\n",
       "}\n",
       ".hoogle-module {\n",
       "    font-weight: bold;\n",
       "}\n",
       ".hoogle-class {\n",
       "    font-weight: bold;\n",
       "}\n",
       "\n",
       "/* Styles used for basic displays */\n",
       ".get-type {\n",
       "    color: green;\n",
       "    font-weight: bold;\n",
       "    font-family: monospace;\n",
       "    display: block;\n",
       "    white-space: pre-wrap;\n",
       "}\n",
       "\n",
       ".show-type {\n",
       "    color: green;\n",
       "    font-weight: bold;\n",
       "    font-family: monospace;\n",
       "    margin-left: 1em;\n",
       "}\n",
       "\n",
       ".mono {\n",
       "    font-family: monospace;\n",
       "    display: block;\n",
       "}\n",
       "\n",
       ".err-msg {\n",
       "    color: red;\n",
       "    font-style: italic;\n",
       "    font-family: monospace;\n",
       "    white-space: pre;\n",
       "    display: block;\n",
       "}\n",
       "\n",
       "#unshowable {\n",
       "    color: red;\n",
       "    font-weight: bold;\n",
       "}\n",
       "\n",
       ".err-msg.in.collapse {\n",
       "  padding-top: 0.7em;\n",
       "}\n",
       "\n",
       "/* Code that will get highlighted before it is highlighted */\n",
       ".highlight-code {\n",
       "    white-space: pre;\n",
       "    font-family: monospace;\n",
       "}\n",
       "\n",
       "/* Hlint styles */\n",
       ".suggestion-warning { \n",
       "    font-weight: bold;\n",
       "    color: rgb(200, 130, 0);\n",
       "}\n",
       ".suggestion-error { \n",
       "    font-weight: bold;\n",
       "    color: red;\n",
       "}\n",
       ".suggestion-name {\n",
       "    font-weight: bold;\n",
       "}\n",
       "</style><span class='get-type'>lucky :: forall a. Integral a => a -> String</span>"
      ],
      "text/plain": [
       "lucky :: forall a. Integral a => a -> String"
      ]
     },
     "metadata": {},
     "output_type": "display_data"
    }
   ],
   "source": [
    ":t lucky"
   ]
  },
  {
   "cell_type": "code",
   "execution_count": 11,
   "metadata": {
    "collapsed": false
   },
   "outputs": [],
   "source": [
    "charName :: Char -> String  \n",
    "charName 'a' = \"Albert\"  \n",
    "charName 'b' = \"Broseph\"  \n",
    "charName 'c' = \"Cecil\" "
   ]
  },
  {
   "cell_type": "code",
   "execution_count": 12,
   "metadata": {
    "collapsed": false
   },
   "outputs": [
    {
     "data": {
      "text/plain": [
       "\"Albert\""
      ]
     },
     "metadata": {},
     "output_type": "display_data"
    }
   ],
   "source": [
    "charName 'a'"
   ]
  },
  {
   "cell_type": "code",
   "execution_count": 13,
   "metadata": {
    "collapsed": false
   },
   "outputs": [
    {
     "data": {
      "text/html": [
       "<style>/*\n",
       "Custom IHaskell CSS.\n",
       "*/\n",
       "\n",
       "/* Styles used for the Hoogle display in the pager */\n",
       ".hoogle-doc {\n",
       "    display: block;\n",
       "    padding-bottom: 1.3em;\n",
       "    padding-left: 0.4em;\n",
       "}\n",
       ".hoogle-code {\n",
       "    display: block;\n",
       "    font-family: monospace;\n",
       "    white-space: pre;\n",
       "}\n",
       ".hoogle-text {\n",
       "    display: block;\n",
       "}\n",
       ".hoogle-name {\n",
       "    color: green;\n",
       "    font-weight: bold;\n",
       "}\n",
       ".hoogle-head {\n",
       "    font-weight: bold;\n",
       "}\n",
       ".hoogle-sub {\n",
       "    display: block;\n",
       "    margin-left: 0.4em;\n",
       "}\n",
       ".hoogle-package {\n",
       "    font-weight: bold;\n",
       "    font-style: italic;\n",
       "}\n",
       ".hoogle-module {\n",
       "    font-weight: bold;\n",
       "}\n",
       ".hoogle-class {\n",
       "    font-weight: bold;\n",
       "}\n",
       "\n",
       "/* Styles used for basic displays */\n",
       ".get-type {\n",
       "    color: green;\n",
       "    font-weight: bold;\n",
       "    font-family: monospace;\n",
       "    display: block;\n",
       "    white-space: pre-wrap;\n",
       "}\n",
       "\n",
       ".show-type {\n",
       "    color: green;\n",
       "    font-weight: bold;\n",
       "    font-family: monospace;\n",
       "    margin-left: 1em;\n",
       "}\n",
       "\n",
       ".mono {\n",
       "    font-family: monospace;\n",
       "    display: block;\n",
       "}\n",
       "\n",
       ".err-msg {\n",
       "    color: red;\n",
       "    font-style: italic;\n",
       "    font-family: monospace;\n",
       "    white-space: pre;\n",
       "    display: block;\n",
       "}\n",
       "\n",
       "#unshowable {\n",
       "    color: red;\n",
       "    font-weight: bold;\n",
       "}\n",
       "\n",
       ".err-msg.in.collapse {\n",
       "  padding-top: 0.7em;\n",
       "}\n",
       "\n",
       "/* Code that will get highlighted before it is highlighted */\n",
       ".highlight-code {\n",
       "    white-space: pre;\n",
       "    font-family: monospace;\n",
       "}\n",
       "\n",
       "/* Hlint styles */\n",
       ".suggestion-warning { \n",
       "    font-weight: bold;\n",
       "    color: rgb(200, 130, 0);\n",
       "}\n",
       ".suggestion-error { \n",
       "    font-weight: bold;\n",
       "    color: red;\n",
       "}\n",
       ".suggestion-name {\n",
       "    font-weight: bold;\n",
       "}\n",
       "</style><span class='err-msg'><interactive>:(2,1)-(4,22): Non-exhaustive patterns in function charName</span>"
      ],
      "text/plain": [
       "<interactive>:(2,1)-(4,22): Non-exhaustive patterns in function charName"
      ]
     },
     "metadata": {},
     "output_type": "display_data"
    }
   ],
   "source": [
    "charName 'd'"
   ]
  },
  {
   "cell_type": "code",
   "execution_count": 19,
   "metadata": {
    "collapsed": false
   },
   "outputs": [
    {
     "data": {
      "text/html": [
       "<style>/*\n",
       "Custom IHaskell CSS.\n",
       "*/\n",
       "\n",
       "/* Styles used for the Hoogle display in the pager */\n",
       ".hoogle-doc {\n",
       "    display: block;\n",
       "    padding-bottom: 1.3em;\n",
       "    padding-left: 0.4em;\n",
       "}\n",
       ".hoogle-code {\n",
       "    display: block;\n",
       "    font-family: monospace;\n",
       "    white-space: pre;\n",
       "}\n",
       ".hoogle-text {\n",
       "    display: block;\n",
       "}\n",
       ".hoogle-name {\n",
       "    color: green;\n",
       "    font-weight: bold;\n",
       "}\n",
       ".hoogle-head {\n",
       "    font-weight: bold;\n",
       "}\n",
       ".hoogle-sub {\n",
       "    display: block;\n",
       "    margin-left: 0.4em;\n",
       "}\n",
       ".hoogle-package {\n",
       "    font-weight: bold;\n",
       "    font-style: italic;\n",
       "}\n",
       ".hoogle-module {\n",
       "    font-weight: bold;\n",
       "}\n",
       ".hoogle-class {\n",
       "    font-weight: bold;\n",
       "}\n",
       "\n",
       "/* Styles used for basic displays */\n",
       ".get-type {\n",
       "    color: green;\n",
       "    font-weight: bold;\n",
       "    font-family: monospace;\n",
       "    display: block;\n",
       "    white-space: pre-wrap;\n",
       "}\n",
       "\n",
       ".show-type {\n",
       "    color: green;\n",
       "    font-weight: bold;\n",
       "    font-family: monospace;\n",
       "    margin-left: 1em;\n",
       "}\n",
       "\n",
       ".mono {\n",
       "    font-family: monospace;\n",
       "    display: block;\n",
       "}\n",
       "\n",
       ".err-msg {\n",
       "    color: red;\n",
       "    font-style: italic;\n",
       "    font-family: monospace;\n",
       "    white-space: pre;\n",
       "    display: block;\n",
       "}\n",
       "\n",
       "#unshowable {\n",
       "    color: red;\n",
       "    font-weight: bold;\n",
       "}\n",
       "\n",
       ".err-msg.in.collapse {\n",
       "  padding-top: 0.7em;\n",
       "}\n",
       "\n",
       "/* Code that will get highlighted before it is highlighted */\n",
       ".highlight-code {\n",
       "    white-space: pre;\n",
       "    font-family: monospace;\n",
       "}\n",
       "\n",
       "/* Hlint styles */\n",
       ".suggestion-warning { \n",
       "    font-weight: bold;\n",
       "    color: rgb(200, 130, 0);\n",
       "}\n",
       ".suggestion-error { \n",
       "    font-weight: bold;\n",
       "    color: red;\n",
       "}\n",
       ".suggestion-name {\n",
       "    font-weight: bold;\n",
       "}\n",
       "</style><span class='err-msg'>Couldn't match expected type ‘(a, b0)’ with actual type ‘(Integer, Integer, Integer)’<br/>Relevant bindings include it :: a (bound at <interactive>:1:1)<br/>In the first argument of ‘fst’, namely ‘(1, 2, 3)’<br/>In the expression: fst (1, 2, 3)<br/>In an equation for ‘it’: it = fst (1, 2, 3)</span>"
      ],
      "text/plain": [
       "Couldn't match expected type ‘(a, b0)’ with actual type ‘(Integer, Integer, Integer)’\n",
       "Relevant bindings include it :: a (bound at <interactive>:1:1)\n",
       "In the first argument of ‘fst’, namely ‘(1, 2, 3)’\n",
       "In the expression: fst (1, 2, 3)\n",
       "In an equation for ‘it’: it = fst (1, 2, 3)"
      ]
     },
     "metadata": {},
     "output_type": "display_data"
    }
   ],
   "source": [
    "fst (1,2,3)"
   ]
  },
  {
   "cell_type": "code",
   "execution_count": 20,
   "metadata": {
    "collapsed": true
   },
   "outputs": [],
   "source": [
    "first :: (a, b, c) -> a  \n",
    "first (x, _, _) = x  \n",
    "  \n",
    "second :: (a, b, c) -> b  \n",
    "second (_, y, _) = y  \n",
    "  \n",
    "third :: (a, b, c) -> c  \n",
    "third (_, _, z) = z  "
   ]
  },
  {
   "cell_type": "code",
   "execution_count": 21,
   "metadata": {
    "collapsed": false
   },
   "outputs": [
    {
     "data": {
      "text/plain": [
       "1"
      ]
     },
     "metadata": {},
     "output_type": "display_data"
    }
   ],
   "source": [
    "first (1,2,3)"
   ]
  },
  {
   "cell_type": "code",
   "execution_count": 22,
   "metadata": {
    "collapsed": false
   },
   "outputs": [
    {
     "data": {
      "text/plain": [
       "2"
      ]
     },
     "metadata": {},
     "output_type": "display_data"
    }
   ],
   "source": [
    "second (1,2,3)"
   ]
  },
  {
   "cell_type": "code",
   "execution_count": 23,
   "metadata": {
    "collapsed": false
   },
   "outputs": [
    {
     "data": {
      "text/plain": [
       "3"
      ]
     },
     "metadata": {},
     "output_type": "display_data"
    }
   ],
   "source": [
    "third (1,2,3)"
   ]
  },
  {
   "cell_type": "code",
   "execution_count": 25,
   "metadata": {
    "collapsed": false
   },
   "outputs": [
    {
     "data": {
      "text/plain": [
       "[4,7,6,8,11,4]"
      ]
     },
     "metadata": {},
     "output_type": "display_data"
    }
   ],
   "source": [
    "{-- Which reminds me, you can also pattern match in list comprehensions. Check this out: --}\n",
    "xs = [(1,3), (4,3), (2,4), (5,3), (5,6), (3,1)]\n",
    "[a+b | (a,b) <- xs]  "
   ]
  },
  {
   "cell_type": "code",
   "execution_count": null,
   "metadata": {
    "collapsed": true
   },
   "outputs": [],
   "source": []
  }
 ],
 "metadata": {
  "kernelspec": {
   "display_name": "Haskell",
   "language": "haskell",
   "name": "haskell"
  },
  "language_info": {
   "codemirror_mode": "ihaskell",
   "file_extension": ".hs",
   "name": "haskell",
   "version": "7.10.2"
  }
 },
 "nbformat": 4,
 "nbformat_minor": 0
}
