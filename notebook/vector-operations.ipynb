{
 "cells": [
  {
   "cell_type": "markdown",
   "metadata": {},
   "source": [
    "__\\* 이번 장부터는 데이터구조를 다루기 시작합니다.__\n",
    " \n",
    "__SICP는 모든 코드를 Scheme으로 구현하기 때문에 데이터 구조 역시 Scheme에 적합하게 설계하고 있습니다.__\n",
    "\n",
    "__따라서 본 SICP 문서들은 이것을 Python으로 재구현하고 있긴 하지만 Scheme의 형태로 쉽게 바꿀 수 있도록 구현하도록 하겠습니다.__"
   ]
  },
  {
   "cell_type": "markdown",
   "metadata": {},
   "source": [
    "'이 학과에 학생은 몇명인가?'와 같은 질문의 답은 'oo명'으로 떨어집니다.\n",
    "\n",
    "하지만 '이 학과에 김씨 성을 가진 사람의 리스트를 만들라' 같은 요구의 답은 하나로 떨어지지 않습니다.\n",
    "\n",
    "이와같이 문제에서 다루는 물체가 복합적인 경우가 많습니다."
   ]
  },
  {
   "cell_type": "markdown",
   "metadata": {},
   "source": [
    "행렬은 그런 좋은 예입니다.\n",
    "\n",
    "여기서는 벡터의 기본연산을 구현해보도록 하겠습니다."
   ]
  },
  {
   "cell_type": "markdown",
   "metadata": {},
   "source": [
    "먼저 필요한 함수를 설명하겠습니다.\n",
    "\n",
    "`accumulate()`는 리스트의 각 원소에 연산을 적용하여 축적하여 반환하는 함수입니다.\n",
    "\n",
    "```\n",
    "accumulate(op, initial, sequence)\n",
    "op : 사용할 연산\n",
    "initial : 초기값\n",
    "sequence : 연산을 적용할 리스트\n",
    "```\n",
    "\n",
    "구현은 아래와 같습니다."
   ]
  },
  {
   "cell_type": "code",
   "execution_count": 1,
   "metadata": {
    "collapsed": true
   },
   "outputs": [],
   "source": [
    "def accumulate(op, initial, sequence):\n",
    "    if sequence == []:\n",
    "        return initial\n",
    "    else:\n",
    "        return op(sequence[0], accumulate(op, initial, sequence[1:]))"
   ]
  },
  {
   "cell_type": "markdown",
   "metadata": {},
   "source": [
    "\\* Python에서 제공하는 `itertools.accumulate`와는 다릅니다.\n",
    "\n",
    "Python의 `accumulate`에는 축적하는 과정이 담기는데 반해 여기서의 `accumulate`에는 축적한 결과가 담깁니다."
   ]
  },
  {
   "cell_type": "markdown",
   "metadata": {},
   "source": [
    "이해를 돕기위해 입력받은 수를 모두 합하는 함수 summation을 만들면,"
   ]
  },
  {
   "cell_type": "code",
   "execution_count": 3,
   "metadata": {
    "collapsed": false
   },
   "outputs": [
    {
     "data": {
      "text/plain": [
       "21"
      ]
     },
     "execution_count": 3,
     "metadata": {},
     "output_type": "execute_result"
    }
   ],
   "source": [
    "def summation(numbers):\n",
    "    return accumulate(lambda a1, a2: a1 + a2, 0, numbers)\n",
    "    \n",
    "summation([1, 2, 3, 4, 5, 6])"
   ]
  },
  {
   "cell_type": "code",
   "execution_count": null,
   "metadata": {
    "collapsed": true
   },
   "outputs": [],
   "source": []
  }
 ],
 "metadata": {
  "kernelspec": {
   "display_name": "Python 3",
   "language": "python",
   "name": "python3"
  },
  "language_info": {
   "codemirror_mode": {
    "name": "ipython",
    "version": 3
   },
   "file_extension": ".py",
   "mimetype": "text/x-python",
   "name": "python",
   "nbconvert_exporter": "python",
   "pygments_lexer": "ipython3",
   "version": "3.4.3"
  }
 },
 "nbformat": 4,
 "nbformat_minor": 0
}
