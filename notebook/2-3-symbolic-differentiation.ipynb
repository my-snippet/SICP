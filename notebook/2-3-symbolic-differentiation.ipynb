{
 "cells": [
  {
   "cell_type": "markdown",
   "metadata": {},
   "source": [
    "\\* 이 글에서는 `Scheme`을 이용하여 설명하겠습니다."
   ]
  },
  {
   "cell_type": "markdown",
   "metadata": {},
   "source": [
    "__내가 그의 이름을 불러주었을 때__\n",
    "\n",
    "\n",
    "__그는 나에게로 와서__\n",
    "\n",
    "\n",
    "__꽃이 되었다.__\n",
    "\n",
    "( 김춘수의 시 '꽃' 중에서 )"
   ]
  },
  {
   "cell_type": "markdown",
   "metadata": {},
   "source": [
    "위의 시에서 '그의 이름'은 '어떤 타자'를 지칭하는 의미입니다.\n",
    "\n",
    "그런데 만약, '-그의 이름-이라고 말해봐'하고 말하면 거기서 -그의 이름-은 __글자 그대로__ -그의 이름-이 됩니다.\n",
    "\n",
    "이처럼 '글자 그대로'를 데이터로 다룰 때 그것을 __글자 데이터( Symbolic data )__라고 합니다."
   ]
  },
  {
   "cell_type": "markdown",
   "metadata": {},
   "source": [
    "여기서는 글자 데이터를 가지고 만든 식을 미분하는 코드를 작성하겠습니다.\n",
    "\n",
    "먼저, 미분을 할 때 사용하는 규칙을 정리하면,"
   ]
  },
  {
   "cell_type": "markdown",
   "metadata": {},
   "source": [
    "### $\\frac{dc}{dx} = 0$\n",
    "\n",
    "### $\\frac{dx}{dx} = 1$\n",
    "\n",
    "### $\\frac{d(u+v)}{dx} = \\frac{d(u)}{dx} + \\frac{d(v)}{dx}$\n",
    "\n",
    "### $\\frac{d(uv)}{dx} = u(\\frac{dv}{dx}) + v(\\frac{du}{dx})$"
   ]
  },
  {
   "cell_type": "markdown",
   "metadata": {},
   "source": [
    "그다음, 여기서 구현해볼 미분 규칙을 정리하면,"
   ]
  },
  {
   "cell_type": "markdown",
   "metadata": {},
   "source": [
    "### $\\frac{d(u+v+w+...)}{dx} = \\frac{d(u)}{dx} + \\frac{d(v)}{dx} + \\frac{d(w)}{dx} +\\ ...$\n",
    "\n",
    "### $\\frac{d(u^n)}{dx} = nu^{n-1}(\\frac{du}{dx})$"
   ]
  },
  {
   "cell_type": "code",
   "execution_count": null,
   "metadata": {
    "collapsed": true
   },
   "outputs": [],
   "source": []
  }
 ],
 "metadata": {
  "kernelspec": {
   "display_name": "Python 3",
   "language": "python",
   "name": "python3"
  },
  "language_info": {
   "codemirror_mode": {
    "name": "ipython",
    "version": 3
   },
   "file_extension": ".py",
   "mimetype": "text/x-python",
   "name": "python",
   "nbconvert_exporter": "python",
   "pygments_lexer": "ipython3",
   "version": "3.4.3"
  }
 },
 "nbformat": 4,
 "nbformat_minor": 0
}
