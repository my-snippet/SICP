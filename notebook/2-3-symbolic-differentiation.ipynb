{
 "cells": [
  {
   "cell_type": "markdown",
   "metadata": {},
   "source": [
    "\\* 이 글에서는 `Scheme`을 이용하여 설명하겠습니다."
   ]
  },
  {
   "cell_type": "markdown",
   "metadata": {},
   "source": [
    "__내가 그의 이름을 불러주었을 때__\n",
    "\n",
    "\n",
    "__그는 나에게로 와서__\n",
    "\n",
    "\n",
    "__꽃이 되었다.__\n",
    "\n",
    "( 김춘수의 시 '꽃' 중에서 )"
   ]
  },
  {
   "cell_type": "markdown",
   "metadata": {},
   "source": [
    "위의 시에서 '그의 이름'은 '어떤 타자'를 지칭하는 의미입니다.\n",
    "\n",
    "그런데 만약, '-그의 이름-이라고 말해봐'하고 말하면 거기서 -그의 이름-은 __글자 그대로__ -그의 이름-이 됩니다.\n",
    "\n",
    "이처럼 '글자 그대로'를 데이터로 다룰 때 그것을 __글자 데이터( Symbolic data )__라고 합니다."
   ]
  },
  {
   "cell_type": "markdown",
   "metadata": {},
   "source": [
    "여기서는 글자 데이터를 가지고 만든 식을 미분하는 코드를 작성하겠습니다.\n",
    "\n",
    "먼저, 미분을 할 때 사용하는 규칙을 정리하면,"
   ]
  },
  {
   "cell_type": "markdown",
   "metadata": {},
   "source": [
    "### 1. $\\frac{dc}{dx} = 0$\n",
    "\n",
    "### 2. $\\frac{dx}{dx} = 1$\n",
    "\n",
    "### 3. $\\frac{d(u+v)}{dx} = \\frac{d(u)}{dx} + \\frac{d(v)}{dx}$\n",
    "\n",
    "### 4. $\\frac{d(uv)}{dx} = u(\\frac{dv}{dx}) + v(\\frac{du}{dx})$"
   ]
  },
  {
   "cell_type": "markdown",
   "metadata": {},
   "source": [
    "3.과 4.에 대한 코드는 모듈로 아래와 같습니다."
   ]
  },
  {
   "cell_type": "markdown",
   "metadata": {},
   "source": [
    "```scheme\n",
    ";; Judge exp is a number?(not symbol?) and num = exp?\n",
    "(define (=number? exp num)\n",
    "  (and (number? exp) (= exp num)))\n",
    "\n",
    "\n",
    ";; 3. make-sum\n",
    "(define (make-sum a1 a2)\n",
    "  (cond ((=number? a1 0) a2)\n",
    "        ((=number? a2 0) a1)\n",
    "        ((and (number? a1) (number? a2)) (+ a1 a2))\n",
    "        (else (list '+ a1 a2))))\n",
    "\n",
    "\n",
    ";; 4. make-product\n",
    "(define (make-product m1 m2)\n",
    "  (cond ((or (=number? m1 0) (=number? m2 0)) 0)\n",
    "        ((=number? m1 1) m2)\n",
    "        ((=number? m2 1) m1)\n",
    "        ((and (number? m1) (number? m2)) (* m1 m2))\n",
    "        (else (list '* m1 m2))))\n",
    "```"
   ]
  },
  {
   "cell_type": "markdown",
   "metadata": {},
   "source": [
    "위의 모듈은 들어온 데이터가 \n",
    "\n",
    "1) 숫자인지( 숫자가 아니면 글자로 인식 ) 판단\n",
    "\n",
    "2) 1.과 2.에 해당하는지\n",
    "\n",
    "3) 그게 아니면 3.과 4.의 정의대로 글자식으로 만듭니다.\n",
    "\n",
    "( \\* 이 코드는 아래에서 더 보완합니다. )"
   ]
  },
  {
   "cell_type": "markdown",
   "metadata": {},
   "source": [
    "그다음, 대수식에서 사용할 기본 프로시저를 코드 없이 설명만 나열하겠습니다.\n",
    "\n",
    "\n",
    "\n",
    "```\n",
    "( Referenced by SICP )\n",
    "\n",
    "\n",
    "(variable? e) Is e a variable?\n",
    "\n",
    "(same-variable? v1 v2) Are v1 and v2 the same variable?\n",
    "\n",
    "(sum? e) Is e a sum?\n",
    "\n",
    "(addend e) Addend of the sum e.\n",
    "\n",
    "(augend e) Augend of the sum e.\n",
    "\n",
    "(make-sum a1 a2) Construct the sum of a1 and a2.\n",
    "\n",
    "(product? e) Is e a product?\n",
    "\n",
    "(multiplier e) Multiplier of the product e.\n",
    "\n",
    "(multiplicand e) Multiplicand of the product e.\n",
    "```\n",
    "\n",
    "\\* `augend`는 덧셈수에서 첫째 마디, `addend`는 덧셈수에서 둘째 마디입니다. \n",
    "\n",
    "예를들어, `a1 + a2`이면 `a1`은 `augend`, `a2`는 `addend`입니다.\n",
    "\n",
    "\\* 마찬가지로 `multiplicand`는 곱셈수에서 첫째 마디, `multiplier입니다`는 곱셈수에서 둘째 마디입니다. \n",
    "\n",
    "예를들어, `m1 * m2`이면 `m1`은 `multiplicand`, `m2`는 `multiplier`입니다."
   ]
  },
  {
   "cell_type": "markdown",
   "metadata": {},
   "source": [
    "이제, 여기서 구현해볼 미분 규칙을 정리하면,"
   ]
  },
  {
   "cell_type": "markdown",
   "metadata": {},
   "source": [
    "### 5. $\\frac{d(u^n)}{dx} = nu^{n-1}(\\frac{du}{dx})$\n",
    "\n",
    "### 6. $\\frac{d(u+v+w+...)}{dx} = \\frac{d(u)}{dx} + \\frac{d(v)}{dx} + \\frac{d(w)}{dx} +\\ ...$\n",
    "\n",
    "### 7. $\\frac{d(uvw...)}{dx} = uw...(\\frac{dv}{dx}) + vw...(\\frac{du}{dx}) + uv...(\\frac{dw}{dx})$"
   ]
  },
  {
   "cell_type": "markdown",
   "metadata": {},
   "source": [
    "5.를 구현하기 위해서는, 위에서 만든 `make-sum`, `make-product`처럼 지수를 계산하는 `make-exponentiation`이 필요합니다.\n",
    "\n",
    "\n",
    "그리고 지수인지 확인하는 `exponentiation?`, 식에서 밑과 지수를 분리하는 `base`, `exponent`도 만들면,"
   ]
  },
  {
   "cell_type": "markdown",
   "metadata": {},
   "source": [
    "```scheme\n",
    "(define (base x)\n",
    "  (cadr x))\n",
    "\n",
    "\n",
    "(define (exponent x)\n",
    "  (caddr x))\n",
    "\n",
    "\n",
    "(define (exponentiation? x)\n",
    "  (and (pair? x) (eq? (car x) '**)))  \n",
    "\n",
    "\n",
    "(define (make-exponentiation base exponent)\n",
    "  (cond ((=number? exponent 0) 1)\n",
    "        ((=number? exponent 1) base)\n",
    "        (else (list '** base exponent))))\n",
    "```"
   ]
  },
  {
   "cell_type": "markdown",
   "metadata": {},
   "source": [
    "5.의 규칙을 살펴보면,\n",
    "\n",
    "$\\frac{d(u^n)}{dx} = nu^{n-1}(\\frac{du}{dx})$\n",
    "\n",
    "세 수의 곱으로 되어있음을 알 수 있습니다. 따라서 이것은 `make-product`로 표현할 수 있습니다.\n",
    "\n",
    "`make-product`$(n, u^{n-1}, \\frac{du}{dx}$)\n",
    "\n",
    "이런 방법으로 계속 연산자를 함수화하면,\n",
    "\n",
    "`make-product`$(n,$ `make-exponentiation`$(u^{n-1})$, `derivation`$(\\frac{du}{dx})$)\n",
    "\n",
    "다만, 코드의 구현상 make-product는 2개의 마디(항)를 가지므로, \n",
    "\n",
    "`make-product`(`make-product`$(n,$ `make-exponentiation`$(u^{n-1})$), `derivation`$(\\frac{du}{dx})$))\n",
    "\n",
    "위와 같이 표현하도록 하겠습니다."
   ]
  },
  {
   "cell_type": "markdown",
   "metadata": {},
   "source": [
    "이에 대한 핵심 부분을 구현하면,"
   ]
  },
  {
   "cell_type": "markdown",
   "metadata": {
    "collapsed": true
   },
   "source": [
    "```scheme\n",
    "...\n",
    "(cond ...\n",
    "    ((exponentiation? exp)\n",
    "     (if (number? (exponent exp))\n",
    "         (make-product (make-product (exponent exp)\n",
    "                                     (make-exponentiation (base exp)\n",
    "                                                          (- (exponent exp) 1))\n",
    "                                     )\n",
    "                       (deriv (base exp) var))\n",
    "         (make-product (make-product (exponent exp)\n",
    "                                     (make-exponentiation (base exp)\n",
    "                                                          (list '- (exponent exp) 1))\n",
    "                                     )\n",
    "                       (deriv (base exp) var))))\n",
    "                       ...\n",
    "         ```"
   ]
  },
  {
   "cell_type": "markdown",
   "metadata": {},
   "source": [
    "여기서 '지수가 숫자인가, 문자인가'에 따라 어디까지를 계산하고 어디까지를 글자식으로 표현할지 결정합니다.\n",
    "\n",
    "( \\* 그리고 이 부분이 구현을 다소 중복되게 만들었습니다. 이 부분에 대한 함수화를 거치면 코드를 더 간결하게 만들 수 있을 것입니다. )\n",
    "\n",
    "아래의 몇가지 경우에 대해 검증해보면,\n",
    "\n",
    "###$\\frac{d(x^0)}{dx}$, $\\frac{d(x^1)}{dx}$, $\\frac{d(x^2)}{dx}$, $\\frac{d(x^3)}{dx}$, $\\frac{d(x^4)}{dx}$"
   ]
  },
  {
   "cell_type": "markdown",
   "metadata": {},
   "source": [
    "```scheme\n",
    "(deriv '(** x 0) 'x)\n",
    "(deriv '(** x 1) 'x)\n",
    "(deriv '(** x 2) 'x)\n",
    "(deriv '(** x 3) 'x)\n",
    "(deriv '(** x 4) 'x)\n",
    "```\n",
    "```scheme\n",
    ";; RESULT\n",
    "0\n",
    "1\n",
    "'(* 2 x)\n",
    "'(* 3 (** x 2))\n",
    "'(* 4 (** x 3))\n",
    "```"
   ]
  },
  {
   "cell_type": "markdown",
   "metadata": {},
   "source": [
    "### $\\frac{d(y^2)}{dx}$, $\\frac{d(xy)}{dx}$, $\\frac{d(uy)}{dx}$"
   ]
  },
  {
   "cell_type": "markdown",
   "metadata": {},
   "source": [
    "```scheme\n",
    "(deriv '(** y 2) 'x)\n",
    "(deriv '(** (* x y) n) 'x)\n",
    "(deriv '(** (* u y) n) 'x)\n",
    "```\n",
    "```scheme\n",
    ";; RESULT\n",
    "0\n",
    "'(* (* n (** (* x y) (- n 1))) y)\n",
    "0\n",
    "```"
   ]
  },
  {
   "cell_type": "markdown",
   "metadata": {},
   "source": [
    "`deriv`의 전체 구현은 아래와 같습니다.\n",
    "\n",
    "\n",
    "```scheme\n",
    "(define (deriv exp var)\n",
    "  (cond ((number? exp) 0)\n",
    "        ((variable? exp)\n",
    "         (if (same-variable? exp var) 1 0))\n",
    "        ((sum? exp)\n",
    "         (make-sum (deriv (addend exp) var)\n",
    "                   (deriv (augend exp) var)))\n",
    "        ((product? exp)\n",
    "         (make-sum\n",
    "          (make-product (multiplier exp)\n",
    "                        (deriv (multiplicand exp) var))\n",
    "          (make-product (deriv (multiplier exp) var)\n",
    "                        (multiplicand exp))))\n",
    "        ((exponentiation? exp)\n",
    "         (if (number? (exponent exp))\n",
    "             (make-product (make-product (exponent exp)\n",
    "                                         (make-exponentiation (base exp)\n",
    "                                                              (- (exponent exp) 1))\n",
    "                                         )\n",
    "                           (deriv (base exp) var))\n",
    "             (make-product (make-product (exponent exp)\n",
    "                                         (make-exponentiation (base exp)\n",
    "                                                              (list '- (exponent exp) 1))\n",
    "                                         )\n",
    "                           (deriv (base exp) var))))\n",
    "        (else\n",
    "         (error \"unknown expression type -- DERIV\" exp))))\n",
    "```\n",
    "\n",
    "https://github.com/my-snippet/SICP/blob/master/2-Building-Abstractions-with-Data/2-3-Symbolic-Data/practice/pr-2-56-deriv-with-exponent.ss\n"
   ]
  },
  {
   "cell_type": "markdown",
   "metadata": {},
   "source": [
    "\\* 6.7.의 구현은 추후에 다른 글에서 작성하도록 하겠습니다.\n",
    "\n",
    "다음 글에서는 문자를 압축하는 알고리즘인 '허프만 인코딩'에 대해서 알아보겠습니다."
   ]
  }
 ],
 "metadata": {
  "kernelspec": {
   "display_name": "Python 3",
   "language": "python",
   "name": "python3"
  },
  "language_info": {
   "codemirror_mode": {
    "name": "ipython",
    "version": 3
   },
   "file_extension": ".py",
   "mimetype": "text/x-python",
   "name": "python",
   "nbconvert_exporter": "python",
   "pygments_lexer": "ipython3",
   "version": "3.4.3"
  }
 },
 "nbformat": 4,
 "nbformat_minor": 0
}
