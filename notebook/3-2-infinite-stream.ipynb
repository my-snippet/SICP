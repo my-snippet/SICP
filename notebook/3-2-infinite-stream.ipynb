{
 "cells": [
  {
   "cell_type": "markdown",
   "metadata": {},
   "source": [
    "이전에 작성한 글에서 프로그램은 결과를 내보이는 것이 목적이었습니다.\n",
    "\n",
    "여기서는 결과가 아닌 과정(상태)을 내보이는 프로그램을 작성하겠습니다.\n",
    "\n",
    "아래 코드를 보겠습니다."
   ]
  },
  {
   "cell_type": "markdown",
   "metadata": {},
   "source": [
    "### 1. Lazy Execution"
   ]
  },
  {
   "cell_type": "code",
   "execution_count": 93,
   "metadata": {
    "collapsed": true
   },
   "outputs": [],
   "source": [
    "def promise(x):\n",
    "    yield x\n",
    "\n",
    "\n",
    "def cons_stream(a, b):\n",
    "    return (a, promise(b))"
   ]
  },
  {
   "cell_type": "code",
   "execution_count": 94,
   "metadata": {
    "collapsed": false
   },
   "outputs": [
    {
     "data": {
      "text/plain": [
       "(1, <generator object promise at 0x104c1c5e8>)"
      ]
     },
     "execution_count": 94,
     "metadata": {},
     "output_type": "execute_result"
    }
   ],
   "source": [
    "s0 = cons_stream(1, cons_stream(2, cons_stream(3, 4)))\n",
    "s0"
   ]
  },
  {
   "cell_type": "markdown",
   "metadata": {},
   "source": [
    "위의 `tuple`이 가진 첫번째 원소인 `1`은 `s0`의 현재 상태입니다. \n",
    "\n",
    "그리고 두번째 원소는 `promise` 함수를 통해 값을 [제너레이터](https://wiki.python.org/moin/Generators)로 저장하고 있습니다.\n",
    "\n",
    "즉, 이 `promise`는 다음 상태에 대한 __약속__일 뿐, 그에대한 계산을 하지 않습니다. \n",
    "\n",
    "( '약속'을 함으로써 다음 계산을 미루고 있기 때문에 이런 방법을 `Delayed execution` 또는 `Lazy execution`이라고 합니다. )\n",
    "\n",
    "이처럼 스트림은 현재 상태를 가지고 다음 상태를 약속하는 차례열의(여기서는 `tuple`로 표현한) 연속입니다.\n",
    "\n"
   ]
  },
  {
   "cell_type": "markdown",
   "metadata": {},
   "source": [
    "\\* 원래 `SICP`에서는 '제너레이터'가 아닌 프로시저 실행을 지연함으로써 '약속'을 구현합니다.\n",
    "\n",
    "간단히는, 아래처럼 구현할 수 있습니다.\n",
    "\n",
    "```scheme\n",
    "(define (delay proc)\n",
    "    (lambda () proc))\n",
    "```"
   ]
  },
  {
   "cell_type": "markdown",
   "metadata": {},
   "source": [
    "적절한 함수를 만들어 `s0`를 한 번 쭉 뽑아보면,"
   ]
  },
  {
   "cell_type": "code",
   "execution_count": 95,
   "metadata": {
    "collapsed": true
   },
   "outputs": [],
   "source": [
    "def display_stream(s):\n",
    "    if type(s) is tuple:\n",
    "        print(s[0])\n",
    "        return display_stream(next(s[1]))\n",
    "    else:\n",
    "        print(s)"
   ]
  },
  {
   "cell_type": "code",
   "execution_count": 96,
   "metadata": {
    "collapsed": false
   },
   "outputs": [
    {
     "name": "stdout",
     "output_type": "stream",
     "text": [
      "1\n",
      "2\n",
      "3\n",
      "4\n"
     ]
    }
   ],
   "source": [
    "display_stream(s0)"
   ]
  },
  {
   "cell_type": "markdown",
   "metadata": {},
   "source": [
    "### 2. 스트림을 위한 인터페이스"
   ]
  },
  {
   "cell_type": "markdown",
   "metadata": {},
   "source": [
    "다음으로, \n",
    "\n",
    "1. 임의의 정수 a부터 b까지($a < b$) 연속하는 스트림을 만들고,\n",
    "\n",
    "2. 그 스트림에 특정 조건을 걸어서 필터링시키는 코드를 작성하겠습니다."
   ]
  },
  {
   "cell_type": "code",
   "execution_count": 97,
   "metadata": {
    "collapsed": false
   },
   "outputs": [],
   "source": [
    "def stream_enumerate_interval(low, high):\n",
    "    if high > low:\n",
    "        return cons_stream(\n",
    "            low, \n",
    "            stream_enumerate_interval(low+1, high))\n",
    "    else:\n",
    "        return high\n",
    "    \n",
    "    \n",
    "def stream_filter(pred, stream):\n",
    "    if type(stream) is not tuple:\n",
    "        return stream\n",
    "    elif pred(stream[0]):\n",
    "        return cons_stream(\n",
    "            stream[0],\n",
    "            stream_filter(pred, next(stream[1])))\n",
    "    else:\n",
    "        return stream_filter(pred, next(stream[1]))"
   ]
  },
  {
   "cell_type": "markdown",
   "metadata": {},
   "source": [
    "검증을 위해 1부터 10까지의 정수로 만들어진 스트림을 2로 나누어 떨어지는 경우만 필터링해보면,"
   ]
  },
  {
   "cell_type": "code",
   "execution_count": 98,
   "metadata": {
    "collapsed": false
   },
   "outputs": [
    {
     "name": "stdout",
     "output_type": "stream",
     "text": [
      "2\n",
      "4\n",
      "6\n",
      "8\n",
      "10\n"
     ]
    }
   ],
   "source": [
    "s1 = stream_enumerate_interval(1, 10)\n",
    "filtered_s1 = stream_filter(lambda x: x%2 == 0, s1)\n",
    "display_stream(filtered_s1)"
   ]
  },
  {
   "cell_type": "markdown",
   "metadata": {},
   "source": [
    "스트림을 위한 `map`함수를 만들면,"
   ]
  },
  {
   "cell_type": "code",
   "execution_count": 106,
   "metadata": {
    "collapsed": true
   },
   "outputs": [],
   "source": [
    "def stream_map(f, stream):\n",
    "    if type(stream) is not tuple:\n",
    "        return f(stream)\n",
    "    else:\n",
    "        return cons_stream(\n",
    "            f(stream[0]),\n",
    "            stream_map(f, next(stream[1]))\n",
    "        )"
   ]
  },
  {
   "cell_type": "markdown",
   "metadata": {},
   "source": [
    "여러 스트림을 받아들일 수 있도록 조금 더 개선하면,"
   ]
  },
  {
   "cell_type": "code",
   "execution_count": 154,
   "metadata": {
    "collapsed": false
   },
   "outputs": [],
   "source": [
    "def apply(op, sequence):\n",
    "    if len(sequence) == 1:\n",
    "        return sequence[0]\n",
    "    else:\n",
    "        return op(sequence[0], apply(op, sequence[1:]))\n",
    "\n",
    "\n",
    "def stream_map(f, *argstreams):\n",
    "    print(argstreams)\n",
    "    if len(argstreams) == 0:\n",
    "        pass\n",
    "    else:\n",
    "        return cons_stream(\n",
    "            apply(f, map(lambda s: s[0], argstreams[0]),\n",
    "            apply(stream_map, (f, map(lambda s: next(s[1]), argstreams)))))"
   ]
  },
  {
   "cell_type": "code",
   "execution_count": 156,
   "metadata": {
    "collapsed": false
   },
   "outputs": [
    {
     "ename": "SyntaxError",
     "evalue": "invalid syntax (<ipython-input-156-9b1c1bf91b0a>, line 3)",
     "output_type": "error",
     "traceback": [
      "\u001b[0;36m  File \u001b[0;32m\"<ipython-input-156-9b1c1bf91b0a>\"\u001b[0;36m, line \u001b[0;32m3\u001b[0m\n\u001b[0;31m    stream_map(lambda e1, e2: print(e1, e2), s2, s3)\u001b[0m\n\u001b[0m             ^\u001b[0m\n\u001b[0;31mSyntaxError\u001b[0m\u001b[0;31m:\u001b[0m invalid syntax\n"
     ]
    }
   ],
   "source": [
    "s2 = stream_enumerate_interval(5, 15)\n",
    "s3 = stream_enumerate_interval(5, 15)\n",
    "stream_map(lambda e1, e2: print(e1, e2), s2, s3)"
   ]
  },
  {
   "cell_type": "code",
   "execution_count": 150,
   "metadata": {
    "collapsed": false
   },
   "outputs": [
    {
     "name": "stdout",
     "output_type": "stream",
     "text": [
      "(5, <generator object promise at 0x104c4fa20>)\n"
     ]
    },
    {
     "ename": "TypeError",
     "evalue": "'int' object is not iterable",
     "output_type": "error",
     "traceback": [
      "\u001b[0;31m---------------------------------------------------------------------------\u001b[0m",
      "\u001b[0;31mTypeError\u001b[0m                                 Traceback (most recent call last)",
      "\u001b[0;32m<ipython-input-150-eb87f9faedb8>\u001b[0m in \u001b[0;36m<module>\u001b[0;34m()\u001b[0m\n\u001b[1;32m      1\u001b[0m \u001b[0ms2\u001b[0m \u001b[0;34m=\u001b[0m \u001b[0mstream_enumerate_interval\u001b[0m\u001b[0;34m(\u001b[0m\u001b[0;36m5\u001b[0m\u001b[0;34m,\u001b[0m \u001b[0;36m15\u001b[0m\u001b[0;34m)\u001b[0m\u001b[0;34m\u001b[0m\u001b[0m\n\u001b[0;32m----> 2\u001b[0;31m \u001b[0mstream_map\u001b[0m\u001b[0;34m(\u001b[0m\u001b[0;32mlambda\u001b[0m \u001b[0me1\u001b[0m\u001b[0;34m,\u001b[0m \u001b[0me2\u001b[0m\u001b[0;34m:\u001b[0m \u001b[0me1\u001b[0m\u001b[0;34m+\u001b[0m\u001b[0me2\u001b[0m\u001b[0;34m,\u001b[0m \u001b[0ms2\u001b[0m\u001b[0;34m)\u001b[0m\u001b[0;34m\u001b[0m\u001b[0m\n\u001b[0m",
      "\u001b[0;32m<ipython-input-149-46eb3f9f0de2>\u001b[0m in \u001b[0;36mstream_map\u001b[0;34m(f, argstreams)\u001b[0m\n\u001b[1;32m     12\u001b[0m     \u001b[0;32melse\u001b[0m\u001b[0;34m:\u001b[0m\u001b[0;34m\u001b[0m\u001b[0m\n\u001b[1;32m     13\u001b[0m         return cons_stream(\n\u001b[0;32m---> 14\u001b[0;31m             apply(f, map(lambda s: s[0], argstreams[0]),\n\u001b[0m\u001b[1;32m     15\u001b[0m             apply(stream_map, (f, map(lambda s: next(s[1]), argstreams)))))\n",
      "\u001b[0;31mTypeError\u001b[0m: 'int' object is not iterable"
     ]
    }
   ],
   "source": [
    "s2 = stream_enumerate_interval(5, 15)\n",
    "stream_map(lambda e1, e2: e1+e2, s2)"
   ]
  },
  {
   "cell_type": "code",
   "execution_count": 142,
   "metadata": {
    "collapsed": false
   },
   "outputs": [
    {
     "name": "stdout",
     "output_type": "stream",
     "text": [
      "(1, 2, 3)\n",
      "(2, 3)\n",
      "(3,)\n"
     ]
    },
    {
     "data": {
      "text/plain": [
       "6"
      ]
     },
     "execution_count": 142,
     "metadata": {},
     "output_type": "execute_result"
    }
   ],
   "source": [
    "\n",
    "apply(lambda e1, e2: e1+e2, (1, 2, 3))"
   ]
  },
  {
   "cell_type": "code",
   "execution_count": 105,
   "metadata": {
    "collapsed": false
   },
   "outputs": [
    {
     "name": "stdout",
     "output_type": "stream",
     "text": [
      "6\n",
      "7\n",
      "8\n",
      "9\n",
      "10\n",
      "11\n",
      "12\n",
      "13\n",
      "14\n",
      "15\n",
      "16\n"
     ]
    }
   ],
   "source": [
    "#next(s1[1])\n",
    "s2 = stream_enumerate_interval(5, 15)\n",
    "#display_stream(s2)\n",
    "#next(s0[1])\n",
    "display_stream(stream_map(lambda e: e+1, s2))"
   ]
  },
  {
   "cell_type": "code",
   "execution_count": 58,
   "metadata": {
    "collapsed": false
   },
   "outputs": [],
   "source": [
    "def apply(op, sequence):\n",
    "    if sequence == ():\n",
    "        pass\n",
    "    else:\n",
    "        return op(sequence[0], apply(op, sequence[1:]))\n",
    "    \n",
    "# apply 프로시저를 어떻게 구현하지\n",
    "def stream_map(f, argstreams):\n",
    "    if len(argstreams) == 0:\n",
    "        pass\n",
    "    return apply(map(lambda e1, : e[0], argstreams))"
   ]
  },
  {
   "cell_type": "code",
   "execution_count": 59,
   "metadata": {
    "collapsed": false
   },
   "outputs": [
    {
     "ename": "TypeError",
     "evalue": "apply() missing 1 required positional argument: 'sequence'",
     "output_type": "error",
     "traceback": [
      "\u001b[0;31m---------------------------------------------------------------------------\u001b[0m",
      "\u001b[0;31mTypeError\u001b[0m                                 Traceback (most recent call last)",
      "\u001b[0;32m<ipython-input-59-600fac3be8ae>\u001b[0m in \u001b[0;36m<module>\u001b[0;34m()\u001b[0m\n\u001b[0;32m----> 1\u001b[0;31m \u001b[0mstream_map\u001b[0m\u001b[0;34m(\u001b[0m\u001b[0;32mlambda\u001b[0m \u001b[0me\u001b[0m\u001b[0;34m:\u001b[0m \u001b[0me\u001b[0m\u001b[0;34m+\u001b[0m\u001b[0;36m1\u001b[0m\u001b[0;34m,\u001b[0m \u001b[0ms1\u001b[0m\u001b[0;34m)\u001b[0m\u001b[0;34m\u001b[0m\u001b[0m\n\u001b[0m",
      "\u001b[0;32m<ipython-input-58-cedefcc89981>\u001b[0m in \u001b[0;36mstream_map\u001b[0;34m(f, argstreams)\u001b[0m\n\u001b[1;32m      9\u001b[0m     \u001b[0;32mif\u001b[0m \u001b[0mlen\u001b[0m\u001b[0;34m(\u001b[0m\u001b[0margstreams\u001b[0m\u001b[0;34m)\u001b[0m \u001b[0;34m==\u001b[0m \u001b[0;36m0\u001b[0m\u001b[0;34m:\u001b[0m\u001b[0;34m\u001b[0m\u001b[0m\n\u001b[1;32m     10\u001b[0m         \u001b[0;32mpass\u001b[0m\u001b[0;34m\u001b[0m\u001b[0m\n\u001b[0;32m---> 11\u001b[0;31m     \u001b[0;32mreturn\u001b[0m \u001b[0mapply\u001b[0m\u001b[0;34m(\u001b[0m\u001b[0mmap\u001b[0m\u001b[0;34m(\u001b[0m\u001b[0;32mlambda\u001b[0m \u001b[0me\u001b[0m\u001b[0;34m:\u001b[0m \u001b[0me\u001b[0m\u001b[0;34m[\u001b[0m\u001b[0;36m0\u001b[0m\u001b[0;34m]\u001b[0m\u001b[0;34m,\u001b[0m \u001b[0margstreams\u001b[0m\u001b[0;34m)\u001b[0m\u001b[0;34m)\u001b[0m\u001b[0;34m\u001b[0m\u001b[0m\n\u001b[0m",
      "\u001b[0;31mTypeError\u001b[0m: apply() missing 1 required positional argument: 'sequence'"
     ]
    }
   ],
   "source": [
    "stream_map(lambda e: e+1, s1)"
   ]
  },
  {
   "cell_type": "markdown",
   "metadata": {},
   "source": [
    "### 2. 무한 스트림"
   ]
  },
  {
   "cell_type": "markdown",
   "metadata": {},
   "source": [
    "방금전 만든 `stream_enumerate_interval` 함수에 주는 두 인자의 값 사이의 크기를 무한히 크게 둘 수 있다면 스트림은 끝나지 않을 것입니다.\n",
    "\n",
    "\\* 예를 들면, `stream_enumerate_interval`($1, \\infty$) \n",
    "\n"
   ]
  },
  {
   "cell_type": "code",
   "execution_count": 54,
   "metadata": {
    "collapsed": false
   },
   "outputs": [
    {
     "data": {
      "text/plain": [
       "0"
      ]
     },
     "execution_count": 54,
     "metadata": {},
     "output_type": "execute_result"
    }
   ],
   "source": [
    "p = (1, 2)\n",
    "q = ()\n",
    "len(q)"
   ]
  },
  {
   "cell_type": "code",
   "execution_count": 30,
   "metadata": {
    "collapsed": false
   },
   "outputs": [
    {
     "ename": "StopIteration",
     "evalue": "",
     "output_type": "error",
     "traceback": [
      "\u001b[0;31m---------------------------------------------------------------------------\u001b[0m",
      "\u001b[0;31mStopIteration\u001b[0m                             Traceback (most recent call last)",
      "\u001b[0;32m<ipython-input-30-db4bc172d6c4>\u001b[0m in \u001b[0;36m<module>\u001b[0;34m()\u001b[0m\n\u001b[1;32m      9\u001b[0m \u001b[0mnext\u001b[0m\u001b[0;34m(\u001b[0m\u001b[0mq\u001b[0m\u001b[0;34m)\u001b[0m\u001b[0;34m\u001b[0m\u001b[0m\n\u001b[1;32m     10\u001b[0m \u001b[0mnext\u001b[0m\u001b[0;34m(\u001b[0m\u001b[0mq\u001b[0m\u001b[0;34m)\u001b[0m\u001b[0;34m\u001b[0m\u001b[0m\n\u001b[0;32m---> 11\u001b[0;31m \u001b[0mnext\u001b[0m\u001b[0;34m(\u001b[0m\u001b[0mq\u001b[0m\u001b[0;34m)\u001b[0m\u001b[0;34m\u001b[0m\u001b[0m\n\u001b[0m",
      "\u001b[0;31mStopIteration\u001b[0m: "
     ]
    }
   ],
   "source": [
    "def t(init_values=()):\n",
    "    for value in init_values:\n",
    "        yield value\n",
    "    yield 0\n",
    "        \n",
    "q = t((1, 2, 3))\n",
    "next(q)\n",
    "next(q)\n",
    "next(q)\n",
    "next(q)\n",
    "next(q)"
   ]
  },
  {
   "cell_type": "code",
   "execution_count": 56,
   "metadata": {
    "collapsed": false
   },
   "outputs": [
    {
     "ename": "SyntaxError",
     "evalue": "invalid syntax (<ipython-input-56-41ac3cce4d1f>, line 5)",
     "output_type": "error",
     "traceback": [
      "\u001b[0;36m  File \u001b[0;32m\"<ipython-input-56-41ac3cce4d1f>\"\u001b[0;36m, line \u001b[0;32m5\u001b[0m\n\u001b[0;31m    if not is_already_run:\u001b[0m\n\u001b[0m     ^\u001b[0m\n\u001b[0;31mSyntaxError\u001b[0m\u001b[0;31m:\u001b[0m invalid syntax\n"
     ]
    }
   ],
   "source": [
    "def mero_f(f):\n",
    "    (\n",
    "        lambda is_alreday_run, result:\n",
    "            lambda:\n",
    "                result = (f)\n",
    "                is_already_run = True\n",
    "        \n",
    "                if not is_already_run:\n",
    "                    return result\n",
    "    )(False, False)"
   ]
  },
  {
   "cell_type": "code",
   "execution_count": null,
   "metadata": {
    "collapsed": true
   },
   "outputs": [],
   "source": []
  }
 ],
 "metadata": {
  "kernelspec": {
   "display_name": "Python 3",
   "language": "python",
   "name": "python3"
  },
  "language_info": {
   "codemirror_mode": {
    "name": "ipython",
    "version": 3
   },
   "file_extension": ".py",
   "mimetype": "text/x-python",
   "name": "python",
   "nbconvert_exporter": "python",
   "pygments_lexer": "ipython3",
   "version": "3.4.3"
  }
 },
 "nbformat": 4,
 "nbformat_minor": 0
}
