{
 "cells": [
  {
   "cell_type": "markdown",
   "metadata": {},
   "source": [
    "이전에 작성한 글에서 프로그램은 결과를 내보이는 것이 목적이었습니다.\n",
    "\n",
    "여기서는 결과가 아닌 과정(상태)을 내보이는 프로그램을 작성하겠습니다.\n",
    "\n",
    "아래 코드를 보겠습니다."
   ]
  },
  {
   "cell_type": "markdown",
   "metadata": {},
   "source": [
    "### 1. Lazy Execution"
   ]
  },
  {
   "cell_type": "code",
   "execution_count": 207,
   "metadata": {
    "collapsed": true
   },
   "outputs": [],
   "source": [
    "def promise(x):\n",
    "    yield x\n",
    "\n",
    "\n",
    "def cons_stream(a, b):\n",
    "    return (a, promise(b))"
   ]
  },
  {
   "cell_type": "code",
   "execution_count": 208,
   "metadata": {
    "collapsed": false
   },
   "outputs": [
    {
     "data": {
      "text/plain": [
       "(1, <generator object promise at 0x1057da900>)"
      ]
     },
     "execution_count": 208,
     "metadata": {},
     "output_type": "execute_result"
    }
   ],
   "source": [
    "s0 = cons_stream(1, cons_stream(2, cons_stream(3, 4)))\n",
    "s0"
   ]
  },
  {
   "cell_type": "markdown",
   "metadata": {},
   "source": [
    "위의 `tuple`이 가진 첫번째 원소인 `1`은 `s0`의 현재 상태입니다. \n",
    "\n",
    "그리고 두번째 원소는 `promise` 함수를 통해 값을 [제너레이터](https://wiki.python.org/moin/Generators)로 저장하고 있습니다.\n",
    "\n",
    "즉, 이 `promise`는 다음 상태에 대한 __약속__일 뿐, 그에대한 계산을 하지 않습니다. \n",
    "\n",
    "( '약속'을 함으로써 다음 계산을 미루고 있기 때문에 이런 방법을 `Delayed execution` 또는 `Lazy execution`이라고 합니다. )\n",
    "\n",
    "이처럼 스트림은 현재 상태를 가지고 다음 상태를 약속하는 차례열의(여기서는 `tuple`로 표현한) 연속입니다.\n",
    "\n"
   ]
  },
  {
   "cell_type": "markdown",
   "metadata": {},
   "source": [
    "\\* 원래 `SICP`에서는 '제너레이터'가 아닌 프로시저 실행을 지연함으로써 '약속'을 구현합니다.\n",
    "\n",
    "간단히는, 아래처럼 구현할 수 있습니다.\n",
    "\n",
    "```scheme\n",
    "(define (delay proc)\n",
    "    (lambda () proc))\n",
    "```"
   ]
  },
  {
   "cell_type": "markdown",
   "metadata": {},
   "source": [
    "적절한 함수를 만들어 `s0`를 한 번 쭉 뽑아보면,"
   ]
  },
  {
   "cell_type": "code",
   "execution_count": 209,
   "metadata": {
    "collapsed": false
   },
   "outputs": [],
   "source": [
    "def display_stream(s):\n",
    "    if isinstance(s, tuple):\n",
    "        print(s[0])\n",
    "        return display_stream(next(s[1]))\n",
    "    else:\n",
    "        print(s)"
   ]
  },
  {
   "cell_type": "code",
   "execution_count": 210,
   "metadata": {
    "collapsed": false
   },
   "outputs": [
    {
     "name": "stdout",
     "output_type": "stream",
     "text": [
      "1\n",
      "2\n",
      "3\n",
      "4\n"
     ]
    }
   ],
   "source": [
    "display_stream(s0)"
   ]
  },
  {
   "cell_type": "markdown",
   "metadata": {},
   "source": [
    "### 2. 스트림을 위한 인터페이스"
   ]
  },
  {
   "cell_type": "markdown",
   "metadata": {},
   "source": [
    "다음으로, \n",
    "\n",
    "1. 임의의 정수 a부터 b까지($a < b$) 연속하는 스트림을 만들고,\n",
    "\n",
    "2. 그 스트림에 특정 조건을 걸어서 필터링시키는 코드를 작성하겠습니다."
   ]
  },
  {
   "cell_type": "code",
   "execution_count": 213,
   "metadata": {
    "collapsed": false
   },
   "outputs": [],
   "source": [
    "def stream_enumerate_interval(low, high):\n",
    "    if high > low:\n",
    "        return cons_stream(\n",
    "            low, \n",
    "            stream_enumerate_interval(low+1, high))\n",
    "    else:\n",
    "        return high\n",
    "    \n",
    "    \n",
    "def stream_filter(pred, stream):\n",
    "    if not isinstance(stream, tuple):\n",
    "        return stream\n",
    "    elif pred(stream[0]):\n",
    "        return cons_stream(\n",
    "            stream[0],\n",
    "            stream_filter(pred, next(stream[1])))\n",
    "    else:\n",
    "        return stream_filter(pred, next(stream[1]))"
   ]
  },
  {
   "cell_type": "markdown",
   "metadata": {},
   "source": [
    "검증을 위해 1부터 10까지의 정수로 만들어진 스트림을 2로 나누어 떨어지는 경우만 필터링해보면,"
   ]
  },
  {
   "cell_type": "code",
   "execution_count": 214,
   "metadata": {
    "collapsed": false
   },
   "outputs": [
    {
     "name": "stdout",
     "output_type": "stream",
     "text": [
      "2\n",
      "4\n",
      "6\n",
      "8\n",
      "10\n"
     ]
    }
   ],
   "source": [
    "s1 = stream_enumerate_interval(1, 10)\n",
    "filtered_s1 = stream_filter(lambda x: x%2 == 0, s1)\n",
    "display_stream(filtered_s1)"
   ]
  },
  {
   "cell_type": "markdown",
   "metadata": {},
   "source": [
    "스트림을 위한 `map`함수를 만들면,"
   ]
  },
  {
   "cell_type": "code",
   "execution_count": 215,
   "metadata": {
    "collapsed": true
   },
   "outputs": [],
   "source": [
    "def stream_map(f, stream):\n",
    "    if not isinstance(stream, tuple):\n",
    "        return f(stream)\n",
    "    else:\n",
    "        return cons_stream(\n",
    "            f(stream[0]),\n",
    "            stream_map(f, next(stream[1]))\n",
    "        )"
   ]
  },
  {
   "cell_type": "markdown",
   "metadata": {},
   "source": [
    "여러 스트림을 받아들일 수 있도록 조금 더 개선하면,"
   ]
  },
  {
   "cell_type": "code",
   "execution_count": 8,
   "metadata": {
    "collapsed": false
   },
   "outputs": [],
   "source": [
    "def apply(op, sequence):\n",
    "    if len(sequence) == 1:\n",
    "        return sequence[0]\n",
    "    else:\n",
    "        return op(sequence[0], apply(op, sequence[1:]))\n",
    "    \n",
    "    \n",
    "def nth_elements_extractor(sqs, index):\n",
    "    if len(sqs) == 0:\n",
    "        return ()\n",
    "    else:\n",
    "        return (sqs[0][index],) + nth_elements_extractor(sqs[1:], index)\n",
    "\n",
    "\n",
    "def stream_map(f, *argstreams):\n",
    "    print(argstreams)\n",
    "    if len(argstreams) == 0:\n",
    "        pass\n",
    "    else:\n",
    "        return cons_stream(\n",
    "            apply(f, nth_elements_extractor(argstreams, 0)),\n",
    "            apply(stream_map, (f, nth_elements_extractor(argstreams, 1))))"
   ]
  },
  {
   "cell_type": "code",
   "execution_count": 25,
   "metadata": {
    "collapsed": false
   },
   "outputs": [
    {
     "data": {
      "text/plain": [
       "(1, 2)"
      ]
     },
     "execution_count": 25,
     "metadata": {},
     "output_type": "execute_result"
    }
   ],
   "source": [
    "p = iter([1])\n",
    "q = iter([2])\n",
    "a = ((1,p), (3,q))\n",
    "\n",
    "#apply(f, first_elements_extractor(argstreams))\n",
    "\n",
    "\n",
    "# it's clue to solve the stream\n",
    "a= map(lambda e: next(e), nth_elements_extractor(a, 1))\n",
    "a\n",
    "tuple(a)\n",
    "#nth_elements_extractor(a, 1)\n"
   ]
  },
  {
   "cell_type": "code",
   "execution_count": 319,
   "metadata": {
    "collapsed": false
   },
   "outputs": [
    {
     "data": {
      "text/plain": [
       "4"
      ]
     },
     "execution_count": 319,
     "metadata": {},
     "output_type": "execute_result"
    }
   ],
   "source": [
    "#from itertools import filterfalse\n",
    "from operator import add\n",
    "#apply(add, (1, 2,3))\n",
    "a = ((1,2), (3,4))\n",
    "\n",
    "#apply(f, first_elements_extractor(argstreams))\n",
    "\n",
    "a= apply(add, first_elements_extractor(a))\n",
    "a\n",
    "#next(a)\n",
    "#next(a)"
   ]
  },
  {
   "cell_type": "code",
   "execution_count": 304,
   "metadata": {
    "collapsed": false
   },
   "outputs": [
    {
     "data": {
      "text/plain": [
       "((5, 10), ())"
      ]
     },
     "execution_count": 304,
     "metadata": {},
     "output_type": "execute_result"
    }
   ],
   "source": [
    "from types import GeneratorType\n",
    "\n",
    "s2 = stream_enumerate_interval(5, 15)\n",
    "s3 = stream_enumerate_interval(10, 20)\n",
    "a = map(\n",
    "    lambda *streams: ()\n",
    "        if isinstance(streams[0], GeneratorType)\n",
    "        else streams,\n",
    "    s2, s3\n",
    ")\n",
    "tuple(a)\n",
    "\n",
    "\n",
    "#isinstance(s2[1], GeneratorType)\n"
   ]
  },
  {
   "cell_type": "code",
   "execution_count": 313,
   "metadata": {
    "collapsed": false
   },
   "outputs": [
    {
     "data": {
      "text/plain": [
       "(1, 3)"
      ]
     },
     "execution_count": 313,
     "metadata": {},
     "output_type": "execute_result"
    }
   ],
   "source": [
    "a = ((1,2), (3,4))\n",
    "\n",
    "def first_elements_extractor(sqs):\n",
    "    if len(sqs) == 0:\n",
    "        return ()\n",
    "    else:\n",
    "        return (sqs[0][0],) + ex(sqs[1:])\n",
    "ex(a)"
   ]
  },
  {
   "cell_type": "code",
   "execution_count": 314,
   "metadata": {
    "collapsed": true
   },
   "outputs": [],
   "source": [
    "def accumulate(op, initial, sequence):\n",
    "    if sequence == []:\n",
    "        return initial\n",
    "    else:\n",
    "        return op(sequence[0], accumulate(op, initial, sequence[1:]))"
   ]
  },
  {
   "cell_type": "code",
   "execution_count": null,
   "metadata": {
    "collapsed": true
   },
   "outputs": [],
   "source": [
    "from types import GeneratorType\n",
    "\n",
    "s2 = stream_enumerate_interval(5, 15)\n",
    "s3 = stream_enumerate_interval(10, 20)\n",
    "isinstance(s2, GeneratorType)\n",
    "\n",
    "\"\"\"\n",
    "a = map(\n",
    "    lambda *streams: None\n",
    "        if isinstance(streams, GeneratorType)\n",
    "        else streams,\n",
    "    s2, s3\n",
    ")\n",
    "\n",
    "# and type(e2) is not GeneratorType\n",
    "a\n",
    "tuple(a)\n",
    "\"\"\"\n",
    "#sqs = (s2, s2, s2)\n",
    "#for a in sqs:\n",
    "#    print(a[0])\n",
    "\n",
    "\n",
    "\n",
    "#apply(lambda e: e+1, s2[0])\n",
    "#tuple(a)"
   ]
  },
  {
   "cell_type": "code",
   "execution_count": 233,
   "metadata": {
    "collapsed": false
   },
   "outputs": [
    {
     "data": {
      "text/plain": [
       "<generator object imap at 0x1057da240>"
      ]
     },
     "execution_count": 233,
     "metadata": {},
     "output_type": "execute_result"
    }
   ],
   "source": [
    "s2 = stream_enumerate_interval(5, 15)\n",
    "s3 = stream_enumerate_interval(10, 20)\n",
    "#apply(lambda e1, e2: print(e1, e2), s2)\n",
    "#p = map(lambda e1, e2: next(e1)[0]+next(e2)[0] if type(e1) is GeneratorType else e1+e2, s2, s3)\n",
    "#tuple(p)\n",
    "#stream_map(lambda e1, e2: print(e1, e2), s2, s3)\n",
    "\n",
    "#tuple(map(lambda e1, e2: e1+e2, [1,2],[3,4]))\n",
    "\n",
    "\n",
    "def imap(function, *iterables):\n",
    "    # imap(pow, (2,3,10), (5,2,3)) --> 32 9 1000\n",
    "    iterables = map(iter, iterables)\n",
    "    while True:\n",
    "        args = [next(it) for it in iterables]\n",
    "        if function is None:\n",
    "            yield tuple(args)\n",
    "        else:\n",
    "            yield function(*args)\n",
    "\n",
    "#tuple(imap(pow, [1,2,3], [4,5,6]))\n",
    "#imap(pow, [1,2,3], [4,5,6])\n",
    "a = imap(pow, [1,2,3], [4,5,6])\n",
    "a\n",
    "#next(a)"
   ]
  },
  {
   "cell_type": "code",
   "execution_count": 218,
   "metadata": {
    "collapsed": false,
    "scrolled": true
   },
   "outputs": [
    {
     "data": {
      "text/plain": [
       "True"
      ]
     },
     "execution_count": 218,
     "metadata": {},
     "output_type": "execute_result"
    }
   ],
   "source": [
    "from types import GeneratorType\n",
    "\n",
    "s2 = stream_enumerate_interval(5, 15)\n",
    "#type(s2[1])\n",
    "#s2[1]\n",
    "isinstance(s2[1], GeneratorType)\n",
    "#s2[1] is GeneratorType\n",
    "#stream_map(lambda e1, e2: e1+e2, s2)"
   ]
  },
  {
   "cell_type": "code",
   "execution_count": 142,
   "metadata": {
    "collapsed": false
   },
   "outputs": [
    {
     "name": "stdout",
     "output_type": "stream",
     "text": [
      "(1, 2, 3)\n",
      "(2, 3)\n",
      "(3,)\n"
     ]
    },
    {
     "data": {
      "text/plain": [
       "6"
      ]
     },
     "execution_count": 142,
     "metadata": {},
     "output_type": "execute_result"
    }
   ],
   "source": [
    "\n",
    "apply(lambda e1, e2: e1+e2, (1, 2, 3))"
   ]
  },
  {
   "cell_type": "code",
   "execution_count": 105,
   "metadata": {
    "collapsed": false
   },
   "outputs": [
    {
     "name": "stdout",
     "output_type": "stream",
     "text": [
      "6\n",
      "7\n",
      "8\n",
      "9\n",
      "10\n",
      "11\n",
      "12\n",
      "13\n",
      "14\n",
      "15\n",
      "16\n"
     ]
    }
   ],
   "source": [
    "#next(s1[1])\n",
    "s2 = stream_enumerate_interval(5, 15)\n",
    "#display_stream(s2)\n",
    "#next(s0[1])\n",
    "display_stream(stream_map(lambda e: e+1, s2))"
   ]
  },
  {
   "cell_type": "code",
   "execution_count": 58,
   "metadata": {
    "collapsed": false
   },
   "outputs": [],
   "source": [
    "def apply(op, sequence):\n",
    "    if sequence == ():\n",
    "        pass\n",
    "    else:\n",
    "        return op(sequence[0], apply(op, sequence[1:]))\n",
    "    \n",
    "# apply 프로시저를 어떻게 구현하지\n",
    "def stream_map(f, argstreams):\n",
    "    if len(argstreams) == 0:\n",
    "        pass\n",
    "    return apply(map(lambda e1, : e[0], argstreams))"
   ]
  },
  {
   "cell_type": "code",
   "execution_count": 59,
   "metadata": {
    "collapsed": false
   },
   "outputs": [
    {
     "ename": "TypeError",
     "evalue": "apply() missing 1 required positional argument: 'sequence'",
     "output_type": "error",
     "traceback": [
      "\u001b[0;31m---------------------------------------------------------------------------\u001b[0m",
      "\u001b[0;31mTypeError\u001b[0m                                 Traceback (most recent call last)",
      "\u001b[0;32m<ipython-input-59-600fac3be8ae>\u001b[0m in \u001b[0;36m<module>\u001b[0;34m()\u001b[0m\n\u001b[0;32m----> 1\u001b[0;31m \u001b[0mstream_map\u001b[0m\u001b[0;34m(\u001b[0m\u001b[0;32mlambda\u001b[0m \u001b[0me\u001b[0m\u001b[0;34m:\u001b[0m \u001b[0me\u001b[0m\u001b[0;34m+\u001b[0m\u001b[0;36m1\u001b[0m\u001b[0;34m,\u001b[0m \u001b[0ms1\u001b[0m\u001b[0;34m)\u001b[0m\u001b[0;34m\u001b[0m\u001b[0m\n\u001b[0m",
      "\u001b[0;32m<ipython-input-58-cedefcc89981>\u001b[0m in \u001b[0;36mstream_map\u001b[0;34m(f, argstreams)\u001b[0m\n\u001b[1;32m      9\u001b[0m     \u001b[0;32mif\u001b[0m \u001b[0mlen\u001b[0m\u001b[0;34m(\u001b[0m\u001b[0margstreams\u001b[0m\u001b[0;34m)\u001b[0m \u001b[0;34m==\u001b[0m \u001b[0;36m0\u001b[0m\u001b[0;34m:\u001b[0m\u001b[0;34m\u001b[0m\u001b[0m\n\u001b[1;32m     10\u001b[0m         \u001b[0;32mpass\u001b[0m\u001b[0;34m\u001b[0m\u001b[0m\n\u001b[0;32m---> 11\u001b[0;31m     \u001b[0;32mreturn\u001b[0m \u001b[0mapply\u001b[0m\u001b[0;34m(\u001b[0m\u001b[0mmap\u001b[0m\u001b[0;34m(\u001b[0m\u001b[0;32mlambda\u001b[0m \u001b[0me\u001b[0m\u001b[0;34m:\u001b[0m \u001b[0me\u001b[0m\u001b[0;34m[\u001b[0m\u001b[0;36m0\u001b[0m\u001b[0;34m]\u001b[0m\u001b[0;34m,\u001b[0m \u001b[0margstreams\u001b[0m\u001b[0;34m)\u001b[0m\u001b[0;34m)\u001b[0m\u001b[0;34m\u001b[0m\u001b[0m\n\u001b[0m",
      "\u001b[0;31mTypeError\u001b[0m: apply() missing 1 required positional argument: 'sequence'"
     ]
    }
   ],
   "source": [
    "stream_map(lambda e: e+1, s1)"
   ]
  },
  {
   "cell_type": "markdown",
   "metadata": {},
   "source": [
    "### 2. 무한 스트림"
   ]
  },
  {
   "cell_type": "markdown",
   "metadata": {},
   "source": [
    "방금전 만든 `stream_enumerate_interval` 함수에 주는 두 인자의 값 사이의 크기를 무한히 크게 둘 수 있다면 스트림은 끝나지 않을 것입니다.\n",
    "\n",
    "\\* 예를 들면, `stream_enumerate_interval`($1, \\infty$) \n",
    "\n"
   ]
  },
  {
   "cell_type": "code",
   "execution_count": 54,
   "metadata": {
    "collapsed": false
   },
   "outputs": [
    {
     "data": {
      "text/plain": [
       "0"
      ]
     },
     "execution_count": 54,
     "metadata": {},
     "output_type": "execute_result"
    }
   ],
   "source": [
    "p = (1, 2)\n",
    "q = ()\n",
    "len(q)"
   ]
  },
  {
   "cell_type": "code",
   "execution_count": 30,
   "metadata": {
    "collapsed": false
   },
   "outputs": [
    {
     "ename": "StopIteration",
     "evalue": "",
     "output_type": "error",
     "traceback": [
      "\u001b[0;31m---------------------------------------------------------------------------\u001b[0m",
      "\u001b[0;31mStopIteration\u001b[0m                             Traceback (most recent call last)",
      "\u001b[0;32m<ipython-input-30-db4bc172d6c4>\u001b[0m in \u001b[0;36m<module>\u001b[0;34m()\u001b[0m\n\u001b[1;32m      9\u001b[0m \u001b[0mnext\u001b[0m\u001b[0;34m(\u001b[0m\u001b[0mq\u001b[0m\u001b[0;34m)\u001b[0m\u001b[0;34m\u001b[0m\u001b[0m\n\u001b[1;32m     10\u001b[0m \u001b[0mnext\u001b[0m\u001b[0;34m(\u001b[0m\u001b[0mq\u001b[0m\u001b[0;34m)\u001b[0m\u001b[0;34m\u001b[0m\u001b[0m\n\u001b[0;32m---> 11\u001b[0;31m \u001b[0mnext\u001b[0m\u001b[0;34m(\u001b[0m\u001b[0mq\u001b[0m\u001b[0;34m)\u001b[0m\u001b[0;34m\u001b[0m\u001b[0m\n\u001b[0m",
      "\u001b[0;31mStopIteration\u001b[0m: "
     ]
    }
   ],
   "source": [
    "def t(init_values=()):\n",
    "    for value in init_values:\n",
    "        yield value\n",
    "    yield 0\n",
    "        \n",
    "q = t((1, 2, 3))\n",
    "next(q)\n",
    "next(q)\n",
    "next(q)\n",
    "next(q)\n",
    "next(q)"
   ]
  },
  {
   "cell_type": "code",
   "execution_count": 56,
   "metadata": {
    "collapsed": false
   },
   "outputs": [
    {
     "ename": "SyntaxError",
     "evalue": "invalid syntax (<ipython-input-56-41ac3cce4d1f>, line 5)",
     "output_type": "error",
     "traceback": [
      "\u001b[0;36m  File \u001b[0;32m\"<ipython-input-56-41ac3cce4d1f>\"\u001b[0;36m, line \u001b[0;32m5\u001b[0m\n\u001b[0;31m    if not is_already_run:\u001b[0m\n\u001b[0m     ^\u001b[0m\n\u001b[0;31mSyntaxError\u001b[0m\u001b[0;31m:\u001b[0m invalid syntax\n"
     ]
    }
   ],
   "source": [
    "def mero_f(f):\n",
    "    (\n",
    "        lambda is_alreday_run, result:\n",
    "            lambda:\n",
    "                result = (f)\n",
    "                is_already_run = True\n",
    "        \n",
    "                if not is_already_run:\n",
    "                    return result\n",
    "    )(False, False)"
   ]
  },
  {
   "cell_type": "code",
   "execution_count": null,
   "metadata": {
    "collapsed": true
   },
   "outputs": [],
   "source": []
  }
 ],
 "metadata": {
  "kernelspec": {
   "display_name": "Python 3",
   "language": "python",
   "name": "python3"
  },
  "language_info": {
   "codemirror_mode": {
    "name": "ipython",
    "version": 3
   },
   "file_extension": ".py",
   "mimetype": "text/x-python",
   "name": "python",
   "nbconvert_exporter": "python",
   "pygments_lexer": "ipython3",
   "version": "3.4.3"
  }
 },
 "nbformat": 4,
 "nbformat_minor": 0
}
