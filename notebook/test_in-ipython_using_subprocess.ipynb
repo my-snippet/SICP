{
 "cells": [
  {
   "cell_type": "code",
   "execution_count": 1,
   "metadata": {
    "collapsed": false
   },
   "outputs": [],
   "source": [
    "from modules.py.nose.show_nose import show_all_tests, show_test\n",
    "\n",
    "\n",
    "MODULE_PATH = (\"py/queue/test_queue.py\")"
   ]
  },
  {
   "cell_type": "code",
   "execution_count": 2,
   "metadata": {
    "collapsed": false
   },
   "outputs": [
    {
     "name": "stdout",
     "output_type": "stream",
     "text": [
      "test_make_queue (py.queue.test_queue.TestQueue) ... ok\n",
      "\n",
      "----------------------------------------------------------------------\n",
      "Ran 1 test in 0.012s\n",
      "\n",
      "OK\n",
      "\n"
     ]
    }
   ],
   "source": [
    "show_all_tests()"
   ]
  },
  {
   "cell_type": "code",
   "execution_count": 3,
   "metadata": {
    "collapsed": false
   },
   "outputs": [
    {
     "name": "stdout",
     "output_type": "stream",
     "text": [
      "E\n",
      "======================================================================\n",
      "ERROR: Failure: ImportError (No module named 'p')\n",
      "----------------------------------------------------------------------\n",
      "Traceback (most recent call last):\n",
      "  File \"/Users/wikibootup/Documents/github/toys/sicp/notebook/venv/lib/python3.4/site-packages/nose/failure.py\", line 39, in runTest\n",
      "    raise self.exc_val.with_traceback(self.tb)\n",
      "  File \"/Users/wikibootup/Documents/github/toys/sicp/notebook/venv/lib/python3.4/site-packages/nose/loader.py\", line 407, in loadTestsFromName\n",
      "    module = resolve_name(addr.module)\n",
      "  File \"/Users/wikibootup/Documents/github/toys/sicp/notebook/venv/lib/python3.4/site-packages/nose/util.py\", line 312, in resolve_name\n",
      "    module = __import__('.'.join(parts_copy))\n",
      "ImportError: No module named 'p'\n",
      "\n",
      "----------------------------------------------------------------------\n",
      "Ran 1 test in 0.001s\n",
      "\n",
      "FAILED (errors=1)\n",
      "\n"
     ]
    }
   ],
   "source": [
    "show_test(MODULE_PATH[0])"
   ]
  },
  {
   "cell_type": "code",
   "execution_count": null,
   "metadata": {
    "collapsed": true
   },
   "outputs": [],
   "source": []
  }
 ],
 "metadata": {
  "kernelspec": {
   "display_name": "Python 3",
   "language": "python",
   "name": "python3"
  },
  "language_info": {
   "codemirror_mode": {
    "name": "ipython",
    "version": 3
   },
   "file_extension": ".py",
   "mimetype": "text/x-python",
   "name": "python",
   "nbconvert_exporter": "python",
   "pygments_lexer": "ipython3",
   "version": "3.4.3"
  }
 },
 "nbformat": 4,
 "nbformat_minor": 0
}
