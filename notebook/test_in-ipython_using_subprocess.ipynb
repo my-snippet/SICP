{
 "cells": [
  {
   "cell_type": "code",
   "execution_count": 1,
   "metadata": {
    "collapsed": false
   },
   "outputs": [],
   "source": [
    "from modules.py.nose.show_nose import show_test\n",
    "\n",
    "\n",
    "QUEUE_TEST_MODULE_PATH = (\"py/queue/tests/test_queue.py\",)"
   ]
  },
  {
   "cell_type": "code",
   "execution_count": 7,
   "metadata": {
    "collapsed": false
   },
   "outputs": [
    {
     "name": "stdout",
     "output_type": "stream",
     "text": [
      "1) If empty, Error should occur ... ok\n",
      "First node should be equal to last node ... ok\n",
      "1) Last node should contaions inserted self.item ... ok\n",
      "Initial Queue        1) First node, second node is initialized to 'None'        2) Size should be zero. ( isEmpty() == True ) ... ok\n",
      "1) 'peek' returns first node item. ... ok\n",
      "\n",
      "----------------------------------------------------------------------\n",
      "Ran 5 tests in 0.001s\n",
      "\n",
      "OK\n",
      "\n"
     ]
    }
   ],
   "source": [
    "show_test(QUEUE_TEST_MODULE_PATH[0])"
   ]
  },
  {
   "cell_type": "code",
   "execution_count": null,
   "metadata": {
    "collapsed": true
   },
   "outputs": [],
   "source": []
  },
  {
   "cell_type": "code",
   "execution_count": null,
   "metadata": {
    "collapsed": true
   },
   "outputs": [],
   "source": []
  }
 ],
 "metadata": {
  "kernelspec": {
   "display_name": "Python 2",
   "language": "python",
   "name": "python2"
  },
  "language_info": {
   "codemirror_mode": {
    "name": "ipython",
    "version": 2
   },
   "file_extension": ".py",
   "mimetype": "text/x-python",
   "name": "python",
   "nbconvert_exporter": "python",
   "pygments_lexer": "ipython2",
   "version": "2.7.10"
  }
 },
 "nbformat": 4,
 "nbformat_minor": 0
}
