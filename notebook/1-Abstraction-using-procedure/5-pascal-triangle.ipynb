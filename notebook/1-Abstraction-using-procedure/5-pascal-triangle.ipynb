{
 "cells": [
  {
   "cell_type": "markdown",
   "metadata": {},
   "source": [
    "지금까지 풀었던 문제들은 일정한 공식이 있어 그것을 그대로 코드에 적용할 수 있었습니다.\n",
    "\n",
    "여기서는 규칙은 있지만 그것을 그대로 코드에 적용할 수 없는 형태의 문제를 풀어보도록 하겠습니다.\n",
    "\n",
    "'파스칼의 삼각형'에 관한 문제입니다."
   ]
  },
  {
   "cell_type": "markdown",
   "metadata": {},
   "source": [
    "먼저 규칙을 정리하면,\n",
    "\n",
    "###1. n번째 줄에는 n개의 수가 놓인다\n",
    "\n",
    "###2. 그 다음 줄의 수는 바로 위의 왼쪽 수와 오른 쪽 수의 합으로 결정된다\n",
    "\n",
    "###3. 각 줄의 양 끝 수는 1이다\n"
   ]
  },
  {
   "cell_type": "markdown",
   "metadata": {},
   "source": [
    "\n",
    "이걸 수식으로 정리하면,\n",
    "\n",
    "###1. $a_{n1} = a_{nn} = 1$\n",
    "\n",
    "###2. $a_{nk} = a_{n-1k-1} + a_{n-1k}\\ \\ $ (k는 n번째 줄의 k번째 수)"
   ]
  },
  {
   "cell_type": "markdown",
   "metadata": {},
   "source": [
    "이런 규칙을 따라 만든 파스칼의 삼각형 모양은 아래와 같습니다."
   ]
  },
  {
   "cell_type": "markdown",
   "metadata": {},
   "source": [
    "$\\ \\ \\ \\ \\ \\ \\ \\ 1$\n",
    "\n",
    "$\\ \\ \\ \\ \\ \\ 1\\ \\ \\ 1 $\n",
    "\n",
    "$\\ \\ \\ \\ 1\\ \\ \\ 2\\ \\ \\ 1$\n",
    "\n",
    "$\\ \\ 1\\ \\ \\  3\\ \\ \\ 3\\ \\ \\ 1$\n",
    "\n",
    "$1\\ \\ \\ 4\\ \\ \\ 6\\ \\ \\ 4\\ \\ \\ 1$\n",
    "\n",
    "$ . . .$"
   ]
  },
  {
   "cell_type": "code",
   "execution_count": null,
   "metadata": {
    "collapsed": true
   },
   "outputs": [],
   "source": []
  },
  {
   "cell_type": "code",
   "execution_count": null,
   "metadata": {
    "collapsed": true
   },
   "outputs": [],
   "source": []
  },
  {
   "cell_type": "code",
   "execution_count": null,
   "metadata": {
    "collapsed": true
   },
   "outputs": [],
   "source": []
  },
  {
   "cell_type": "code",
   "execution_count": null,
   "metadata": {
    "collapsed": true
   },
   "outputs": [],
   "source": []
  },
  {
   "cell_type": "markdown",
   "metadata": {},
   "source": [
    "규칙을 알고있고, 예외 상황을 통제할 수 있다면 프로그램으로 만들 수 있다는 가정을 증명하듯,\n"
   ]
  },
  {
   "cell_type": "code",
   "execution_count": null,
   "metadata": {
    "collapsed": true
   },
   "outputs": [],
   "source": []
  }
 ],
 "metadata": {
  "kernelspec": {
   "display_name": "Python 3",
   "language": "python",
   "name": "python3"
  },
  "language_info": {
   "codemirror_mode": {
    "name": "ipython",
    "version": 3
   },
   "file_extension": ".py",
   "mimetype": "text/x-python",
   "name": "python",
   "nbconvert_exporter": "python",
   "pygments_lexer": "ipython3",
   "version": "3.4.3"
  }
 },
 "nbformat": 4,
 "nbformat_minor": 0
}
