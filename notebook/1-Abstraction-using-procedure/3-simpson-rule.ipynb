{
 "cells": [
  {
   "cell_type": "markdown",
   "metadata": {},
   "source": [
    "적분을 구하는 방법은 여러가지가 있습니다.\n",
    "\n",
    "여기서는 심슨의 규칙Simpson's Rule을 이용하여 구해보겠습니다.\n",
    "\n"
   ]
  },
  {
   "cell_type": "markdown",
   "metadata": {
    "collapsed": true
   },
   "source": [
    "### $\\int_{a}^{b} f(x) dx =\\frac{h}{3}[y_{0}+4y_{1}+2y_{2}+4y_{3}+2y_{4}+...+2y_{n-2}+4y_{n-1}+y_{n}]$\n",
    "### $h = \\frac{b-a}{n}$ (단, n은 짝수)\n",
    "### $y = f(a+kh)$"
   ]
  },
  {
   "cell_type": "markdown",
   "metadata": {},
   "source": [
    "### 대괄호 안에 수식만 정리해보면,\n",
    "## $[y_{0}+4y_{1}+2y_{2}+4y_{3}+2y_{4}+...+2y_{n-2}+4y_{n-1}+y_{n}]$\n",
    "## $= [y_{0}+\\sum_{1}^{n}4y_{2k-1}+\\sum_{2}^{n-1}2y_{2k-2}+y_{n}]$"
   ]
  },
  {
   "cell_type": "markdown",
   "metadata": {},
   "source": [
    "이제 이 식은 수열의 합으로 만들 수 있다는 것을 알게되었으므로\n",
    "\n",
    "각 항들($y_{k}$)에 대한 합($\\sum$)을 구할 수 있도록 함수를 제작합니다."
   ]
  },
  {
   "cell_type": "code",
   "execution_count": 20,
   "metadata": {
    "collapsed": true
   },
   "outputs": [],
   "source": [
    "def sum(term, a, next, b):\n",
    "    if a > b:\n",
    "        return 0\n",
    "    else:\n",
    "        return (term(a) + sum(term, next(a), next, b))"
   ]
  },
  {
   "cell_type": "markdown",
   "metadata": {},
   "source": [
    "준비가 끝났으니 본 함수를 작성하면,"
   ]
  },
  {
   "cell_type": "code",
   "execution_count": 54,
   "metadata": {
    "collapsed": false
   },
   "outputs": [],
   "source": [
    "n = 3\n",
    "\n",
    "def simpson_law(f, a, b):\n",
    "    h = (b - a) / n\n",
    "    \n",
    "    def get_y(k):\n",
    "        return f(a + k * h)\n",
    "    \n",
    "    def result_of_simpson_law():\n",
    "        return h/3 * (\n",
    "            get_y(0) +\n",
    "            sum(lambda k: 4 * get_y(k), 1, lambda k: k + 2, n) +\n",
    "            sum(lambda k: 2 * get_y(k), 2, lambda k: k + 2, n-1) +\n",
    "            get_y(n)\n",
    "            )        \n",
    "    \n",
    "    return result_of_simpson_law()"
   ]
  },
  {
   "cell_type": "markdown",
   "metadata": {},
   "source": [
    "###이 함수를 가지고 세가지 경우를 적분하겠습니다.\n",
    "\n",
    "###1. $\\int_{0}^{1} f(x) dx$\n",
    "###2. $\\int_{0}^{1} f(x^2) dx$\n",
    "###3. $\\int_{0}^{2} f(x^3) dx$"
   ]
  },
  {
   "cell_type": "code",
   "execution_count": 55,
   "metadata": {
    "collapsed": false
   },
   "outputs": [
    {
     "data": {
      "text/plain": [
       "0.8518518518518517"
      ]
     },
     "execution_count": 55,
     "metadata": {},
     "output_type": "execute_result"
    }
   ],
   "source": [
    "simpson_law(lambda x: x, 0, 1)"
   ]
  },
  {
   "cell_type": "code",
   "execution_count": 56,
   "metadata": {
    "collapsed": false
   },
   "outputs": [
    {
     "data": {
      "text/plain": [
       "0.7037037037037037"
      ]
     },
     "execution_count": 56,
     "metadata": {},
     "output_type": "execute_result"
    }
   ],
   "source": [
    "simpson_law(lambda x: x**2, 0, 1)"
   ]
  },
  {
   "cell_type": "code",
   "execution_count": 57,
   "metadata": {
    "collapsed": false
   },
   "outputs": [
    {
     "data": {
      "text/plain": [
       "10.205761316872428"
      ]
     },
     "execution_count": 57,
     "metadata": {},
     "output_type": "execute_result"
    }
   ],
   "source": [
    "simpson_law(lambda x: x**3, 0, 2)"
   ]
  },
  {
   "cell_type": "markdown",
   "metadata": {},
   "source": [
    "오차가 아주 심하므로 n을 3에서 10으로 증가시키고\n",
    "다시 구해보면,"
   ]
  },
  {
   "cell_type": "code",
   "execution_count": 58,
   "metadata": {
    "collapsed": true
   },
   "outputs": [],
   "source": [
    "n = 10"
   ]
  },
  {
   "cell_type": "code",
   "execution_count": 62,
   "metadata": {
    "collapsed": false
   },
   "outputs": [
    {
     "data": {
      "text/plain": [
       "0.5000000000000001"
      ]
     },
     "execution_count": 62,
     "metadata": {},
     "output_type": "execute_result"
    }
   ],
   "source": [
    "simpson_law(lambda x: x, 0, 1)"
   ]
  },
  {
   "cell_type": "code",
   "execution_count": 60,
   "metadata": {
    "collapsed": false
   },
   "outputs": [
    {
     "data": {
      "text/plain": [
       "0.33333333333333337"
      ]
     },
     "execution_count": 60,
     "metadata": {},
     "output_type": "execute_result"
    }
   ],
   "source": [
    "simpson_law(lambda x: x**2, 0, 1)"
   ]
  },
  {
   "cell_type": "code",
   "execution_count": 61,
   "metadata": {
    "collapsed": false
   },
   "outputs": [
    {
     "data": {
      "text/plain": [
       "4.0"
      ]
     },
     "execution_count": 61,
     "metadata": {},
     "output_type": "execute_result"
    }
   ],
   "source": [
    "simpson_law(lambda x: x**3, 0, 2)"
   ]
  },
  {
   "cell_type": "markdown",
   "metadata": {},
   "source": [
    "실제 적분값에 매우 근사하게 다가갔음을 알 수 있습니다."
   ]
  }
 ],
 "metadata": {
  "kernelspec": {
   "display_name": "Python 3",
   "language": "python",
   "name": "python3"
  },
  "language_info": {
   "codemirror_mode": {
    "name": "ipython",
    "version": 3
   },
   "file_extension": ".py",
   "mimetype": "text/x-python",
   "name": "python",
   "nbconvert_exporter": "python",
   "pygments_lexer": "ipython3",
   "version": "3.4.3"
  }
 },
 "nbformat": 4,
 "nbformat_minor": 0
}
