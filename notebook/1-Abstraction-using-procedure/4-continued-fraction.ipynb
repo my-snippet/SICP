{
 "cells": [
  {
   "cell_type": "markdown",
   "metadata": {},
   "source": [
    "앞서 했던 [제곱근 구하기](http://wikibootup.github.io/sicp/1-Abstraction-using-procedure/1-sqrt.html)를 돌이켜보면, 원하는 결과가 나올 때까지 '동일한 연산'을 계속 적용했다는 것을 알 수 있습니다.\n",
    "\n",
    "이 연산은 함수 형태로 표현되고, 이전 함수의 결과가 다음 함수의 인자로 쓰이는 과정을 밟고 있습니다."
   ]
  },
  {
   "cell_type": "markdown",
   "metadata": {},
   "source": [
    "수식으로 표현하면,\n",
    "\n",
    "### $f(f(f...(f(x)))...) = x$\n",
    "\n",
    "이 때의 x를 f의 고정점fixed point이라고 합니다."
   ]
  },
  {
   "cell_type": "markdown",
   "metadata": {},
   "source": [
    "여기서는 이 방법을 이용해 연속분수 문제를 해결해보겠습니다."
   ]
  },
  {
   "cell_type": "markdown",
   "metadata": {},
   "source": [
    "연속분수를 표현하면,\n",
    "\n",
    "##$f = \\frac{N_1}{D_1 + \\frac{N_2}{D_2 + \\frac{N_3}{D_3 + ...}}}$\n",
    "\n",
    "위와 같습니다."
   ]
  },
  {
   "cell_type": "markdown",
   "metadata": {},
   "source": [
    "약간 복잡해보이지만 순서대로 분리해서 보면 간단해집니다.\n",
    "\n",
    "첫번째 차례에 $\\frac{N_1}{D_1}$으로 시작해서,\n",
    "\n",
    "두번째 차례에 $\\frac{N_2}{D_2}$를 첫번째 결과의 분모에 더해줍니다.\n",
    "\n",
    "이후 과정은 두번째 차례와 동일한 방식으로 진행됩니다."
   ]
  },
  {
   "cell_type": "code",
   "execution_count": null,
   "metadata": {
    "collapsed": true
   },
   "outputs": [],
   "source": []
  }
 ],
 "metadata": {
  "kernelspec": {
   "display_name": "Python 3",
   "language": "python",
   "name": "python3"
  },
  "language_info": {
   "codemirror_mode": {
    "name": "ipython",
    "version": 3
   },
   "file_extension": ".py",
   "mimetype": "text/x-python",
   "name": "python",
   "nbconvert_exporter": "python",
   "pygments_lexer": "ipython3",
   "version": "3.4.3"
  }
 },
 "nbformat": 4,
 "nbformat_minor": 0
}
