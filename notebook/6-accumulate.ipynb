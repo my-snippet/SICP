{
 "cells": [
  {
   "cell_type": "markdown",
   "metadata": {},
   "source": [
    "__\\* 이번 장부터는 데이터구조를 다루기 시작합니다.__\n",
    " \n",
    "__SICP는 모든 코드를 Scheme으로 구현하기 때문에 데이터 구조 역시 Scheme에 적합하게 설계하고 있습니다.__\n",
    "\n",
    "__따라서 본 SICP 문서들은 이것을 Python으로 재구현하고 있긴 하지만 Scheme의 형태로 쉽게 바꿀 수 있도록 구현하도록 하겠습니다.__"
   ]
  },
  {
   "cell_type": "markdown",
   "metadata": {},
   "source": [
    "'이 학과에 학생은 몇명인가?'와 같은 질문의 답은 'oo명'으로 떨어집니다.\n",
    "\n",
    "하지만 '이 학과에 김씨 성을 가진 사람의 리스트를 만들라' 같은 요구의 답은 하나로 떨어지지 않습니다.\n",
    "\n",
    "이와같이 문제에서 다루는 물체가 복합적인 경우가 많습니다."
   ]
  },
  {
   "cell_type": "markdown",
   "metadata": {},
   "source": [
    "그런 문제들을 다루기 위해 필요한 공통 인터페이스를(Conventional Inerface) 정의하도록 하겠습니다."
   ]
  },
  {
   "cell_type": "markdown",
   "metadata": {},
   "source": [
    "`accumulate()`는 리스트의 각 원소에 연산을 적용하여 축적하여 반환하는 함수입니다.\n",
    "\n",
    "```\n",
    "accumulate(op, initial, sequence)\n",
    "op : 사용할 연산\n",
    "initial : 초기값\n",
    "sequence : 연산을 적용할 리스트\n",
    "```\n",
    "\n",
    "구현은 아래와 같습니다."
   ]
  },
  {
   "cell_type": "code",
   "execution_count": 1,
   "metadata": {
    "collapsed": true
   },
   "outputs": [],
   "source": [
    "def accumulate(op, initial, sequence):\n",
    "    if sequence == []:\n",
    "        return initial\n",
    "    else:\n",
    "        return op(sequence[0], accumulate(op, initial, sequence[1:]))"
   ]
  },
  {
   "cell_type": "markdown",
   "metadata": {},
   "source": [
    "\\* Python에서 제공하는 `itertools.accumulate`와는 다릅니다.\n",
    "\n",
    "Python의 `accumulate`에는 축적하는 과정이 담기는데 반해 여기서의 `accumulate`에는 축적한 결과가 담깁니다."
   ]
  },
  {
   "cell_type": "markdown",
   "metadata": {},
   "source": [
    "이해를 돕기위해 입력받은 수를 모두 합하는 함수 `summation`을 만들면,"
   ]
  },
  {
   "cell_type": "code",
   "execution_count": 2,
   "metadata": {
    "collapsed": false
   },
   "outputs": [
    {
     "data": {
      "text/plain": [
       "21"
      ]
     },
     "execution_count": 2,
     "metadata": {},
     "output_type": "execute_result"
    }
   ],
   "source": [
    "def summation(numbers):\n",
    "    return accumulate(lambda a1, a2: a1 + a2, 0, numbers)\n",
    "    \n",
    "summation([1, 2, 3, 4, 5, 6])"
   ]
  },
  {
   "cell_type": "markdown",
   "metadata": {},
   "source": [
    "다음으로, `accumulate_n`을 정의하겠습니다.\n",
    "\n",
    "이 함수는 '이차원 리스트'를 입력받습니다.\n",
    "\n",
    "각 리스트의 같은 자리의 위치한 원소들을 모아서 `accumulate` 함수를 적용한 후\n",
    "\n",
    "각 결과를 다시 리스트로 결합하는 함수입니다.\n",
    "\n",
    "\n",
    "```\n",
    "accumulate_n(op, init, seqs)\n",
    "op : 사용할 연산\n",
    "init : 초기값\n",
    "seqs : 연산을 적용할 이차원 리스트\n",
    "```\n",
    "\n",
    "구현은 아래와 같습니다."
   ]
  },
  {
   "cell_type": "code",
   "execution_count": 3,
   "metadata": {
    "collapsed": true
   },
   "outputs": [],
   "source": [
    "def accumulate_n(op, init, seqs):\n",
    "    if seqs[0] == ():\n",
    "        return []\n",
    "    else:\n",
    "        return [\n",
    "            accumulate(\n",
    "                op, \n",
    "                init, \n",
    "                list(map(lambda sqs: sqs[0], seqs)))\n",
    "        ] + accumulate_n(\n",
    "                op,\n",
    "                init,\n",
    "                list(map(lambda sqs: sqs[1:], seqs)))"
   ]
  },
  {
   "cell_type": "markdown",
   "metadata": {},
   "source": [
    "마찬가지로 이해를 돕기위해 `summation`을 리스트의 각 리스트에 적용하는 함수 `sum_sequences`를 만들면,"
   ]
  },
  {
   "cell_type": "code",
   "execution_count": 4,
   "metadata": {
    "collapsed": false
   },
   "outputs": [
    {
     "data": {
      "text/plain": [
       "[25, 30, 35]"
      ]
     },
     "execution_count": 4,
     "metadata": {},
     "output_type": "execute_result"
    }
   ],
   "source": [
    "def sum_sequences(seqs):\n",
    "    return accumulate_n(\n",
    "        lambda x, y: x + y,\n",
    "        0,\n",
    "        seqs\n",
    "    )\n",
    "\n",
    "sum_sequences([(1,2,3),(3,4,5),(5,6,7),(7,8,9),(9,10,11)])"
   ]
  },
  {
   "cell_type": "markdown",
   "metadata": {},
   "source": [
    "다음 번 글에 이어서 설명하도록 하겠습니다."
   ]
  }
 ],
 "metadata": {
  "kernelspec": {
   "display_name": "Python 3",
   "language": "python",
   "name": "python3"
  },
  "language_info": {
   "codemirror_mode": {
    "name": "ipython",
    "version": 3
   },
   "file_extension": ".py",
   "mimetype": "text/x-python",
   "name": "python",
   "nbconvert_exporter": "python",
   "pygments_lexer": "ipython3",
   "version": "3.4.3"
  }
 },
 "nbformat": 4,
 "nbformat_minor": 0
}
