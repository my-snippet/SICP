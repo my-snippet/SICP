{
 "cells": [
  {
   "cell_type": "markdown",
   "metadata": {},
   "source": [
    "이번 글에서는 [벡터 연산](http://wikibootup.github.io/sicp/2-2-vector-operations.html)에 이어서 고차함수를(`map`과 같은) 이용하여 두가지 알고리즘을 구현하겠습니다."
   ]
  },
  {
   "cell_type": "markdown",
   "metadata": {},
   "source": [
    "### 호너의 규칙\n",
    "\n",
    "$a_nx^n + a_{n-1}x^{n-1} + ... + a_1x + a_0$\n",
    "\n",
    "위의 다항식은 호너의 규칙에 따라 아래와 같이 바꿀 수 있습니다.\n",
    "\n",
    "$(...(a_nx + a_{n-1})x + ... + a_1)x + a_0$\n",
    "\n",
    "(특이한 공식을 사용한 것은 아니고 공통 인수인 $x$로 묶어둔 것입니다.) \n",
    "\n",
    "이것을 함수적으로 바꿔보면,\n",
    "\n",
    "```HornerEval x higherTerms\n",
    "-> FirstTerm + x * HornerEval x (higherTerms+1)\n",
    "-> FirstTerm + x * (SecondTerm + x * HornerEval x (higherTerms+1))\n",
    "-> ...\n",
    "```"
   ]
  },
  {
   "cell_type": "markdown",
   "metadata": {},
   "source": [
    "`map`과 `accumulate` 함수를 이용해 이런 생각을 그대로 옮겨보면,"
   ]
  },
  {
   "cell_type": "code",
   "execution_count": 8,
   "metadata": {
    "collapsed": true
   },
   "outputs": [],
   "source": [
    "hornerEval :: (Num a, Foldable t) => a -> t a -> a\n",
    "hornerEval x coeffSeqs = \n",
    "    foldl1  (\\thisCoeff higherTerms -> x * thisCoeff + higherTerms)\n",
    "            coeffSeqs"
   ]
  },
  {
   "cell_type": "markdown",
   "metadata": {},
   "source": [
    "* 이전에 `Python`이나 `Scheme`(Git repo 상에 있는)에서는 `accumulate`라는 함수를 이용해서 리스트의 각 항에 필요한 연산을 적용했습니다. 여기서는 같은 기능인데 이름만 다른 `fold`라는 함수를 이용하였습니다."
   ]
  },
  {
   "cell_type": "markdown",
   "metadata": {},
   "source": [
    "아래의 경우로 테스트해보겠습니다.\n",
    "\n",
    "1. 계수 고정 : $2^{15} + 2^{14} + ... + 2 + 1 = 2^{16}-1$\n",
    "\n",
    "2. 홀수 항만 : $2^{15} + 2^{13} + ... + 2^3 + 2^1 = ?$\n",
    "\n",
    "3. 짝수 항만 : $2^{14} + 2^{12} + ... + 2^2 = ?$\n",
    "\n",
    "4. 계수 변화 : $1*2^{15} + 2*2^{14} + ... + 16 = ?$\n",
    "\n",
    "\n",
    "* 편의상 $x=2$로 고정하겠습니다."
   ]
  },
  {
   "cell_type": "code",
   "execution_count": 285,
   "metadata": {
    "collapsed": false
   },
   "outputs": [
    {
     "data": {
      "text/plain": [
       "True"
      ]
     },
     "metadata": {},
     "output_type": "display_data"
    }
   ],
   "source": [
    "hornerEval 2 (replicate 16 1) == 2^16-1"
   ]
  },
  {
   "cell_type": "code",
   "execution_count": 225,
   "metadata": {
    "collapsed": false
   },
   "outputs": [
    {
     "data": {
      "text/plain": [
       "True"
      ]
     },
     "metadata": {},
     "output_type": "display_data"
    }
   ],
   "source": [
    "hornerEval 2 (concat (replicate 7 [1,0]) ++ [0]) == \n",
    "    foldl (\\acc x -> 2^x + acc) 0 [x*2 | x <- [1..7]] "
   ]
  },
  {
   "cell_type": "code",
   "execution_count": 226,
   "metadata": {
    "collapsed": false
   },
   "outputs": [
    {
     "data": {
      "text/plain": [
       "True"
      ]
     },
     "metadata": {},
     "output_type": "display_data"
    }
   ],
   "source": [
    "hornerEval 2 (concat (replicate 8 [0,1]) ++ [0]) == \n",
    "    foldl (\\acc x -> 2^x + acc) 0 [x*2-1 | x <- [1..8]] "
   ]
  },
  {
   "cell_type": "code",
   "execution_count": 9,
   "metadata": {
    "collapsed": false,
    "scrolled": true
   },
   "outputs": [
    {
     "data": {
      "text/plain": [
       "True"
      ]
     },
     "metadata": {},
     "output_type": "display_data"
    }
   ],
   "source": [
    "hornerEval 2 [1..16] == \n",
    "    sum (zipWith (*) (map (\\ x -> 2 ^ x) (reverse [0 .. 15])) \n",
    "        [1..16])"
   ]
  },
  {
   "cell_type": "markdown",
   "metadata": {},
   "source": [
    "### 퀸 퍼즐"
   ]
  },
  {
   "cell_type": "markdown",
   "metadata": {},
   "source": [
    "퀸 퍼즐은 체스판에 퀸을 배열하는 문제입니다. 규칙은 다음과 같습니다.\n",
    "\n",
    "1. 세로줄마다 퀸은 더도 덜도 말고 딱 1개 위치해야 한다.\n",
    "2. 각 퀸은 서로 공격할 수 없는 위치에 있어야 한다.\n",
    "\n",
    "( * 구현 방식을 이해하는 데 있어서 다음 링크에 나와 있는 시뮬레이션이 많은 도움이 되었습니다. https://www.cs.usfca.edu/~galles/visualization/RecQueens.html )"
   ]
  },
  {
   "cell_type": "markdown",
   "metadata": {},
   "source": [
    "문제가 다소 복잡하므로 부분적인 기능부터 완전히 만들도록 하겠습니다.\n",
    "\n",
    "먼저, 체스판 위에 새로운 퀸을 두려 할 때 그 위치에 놓을 수 있는지를 확인하는 기능을 구현하겠습니다.\n",
    "\n",
    "```\n",
    "이름 : isSafe\n",
    "인자 : tryPos, posQueens\n",
    "    tryPos : 새로운 퀸을 두려는 위치, 데이터 타입은 (a,a)\n",
    "    posQueens : 이미 위치한 퀸의 위치, 데이터 타입은 [(a,a)]\n",
    "\n",
    "```\n",
    "퀸은 1. 수직, 2. 수평, 3. 대각선이면 어디든 갈 수 있습니다. 반대로 말하면, 방금 말한 세가지만 확인하면 안전한 위치인지 확인할 수 있습니다.\n",
    "\n",
    "예를 들어, $0 < b <= a < n$인 $(a,b)$의 위치에 퀸을 두려한다고 하면, 다음 위치에 퀸이 없어야 합니다.\n",
    "\n",
    "```\n",
    "1. 수직 : (0,b), (1,b), ... , (n-1,b)\n",
    "2. 수평 : (a,0), (a,1), ... , (a, n-1)\n",
    "3. 대각선 : (a-b, 0), (a-b+1, 1), ... , (n, n-(a-b))\n",
    "```\n",
    "\n",
    "위를 통해, 수직과 수평에 대해서 확인을 할 때는 0부터 n-1의 위치까지 확인하면 됨을 알 수 있습니다.\n",
    "\n",
    "하지만 여기서는 그럴 필요 없이,\n",
    "\n",
    "1. 수직에 대해서는 같은 열Column에 위치한 퀸이 있는지 확인\n",
    "2. 수평에 대해서는 같은 행Row에 위치한 퀸이 있는지 확인\n",
    "\n",
    "위와 같이 확인하도록 하겠습니다.\n",
    "\n",
    "비슷하게 대각선에 대해서는 좌표를 이동하며 비교하지 않고 아래의 방법으로 확인하겠습니다.\n",
    "\n",
    "1. 각 퀸의 위치 마다, 그리고 새로 두려는 위치에 `(a-b, 0)` 연산을 수행 (이 때, $0 < b <= a < n$)\n",
    "2. 같은 경우가 있는지 확인\n",
    "\n",
    "\n",
    "* 이렇게 구현하면 체스판의 크기(n)와 무관하게 수직,수평,대각선을 확인할 수 있습니다. 따라서 함수의 기능을 파악하는게 한결 간단해집니다.\n",
    "\n",
    "구현하면,"
   ]
  },
  {
   "cell_type": "code",
   "execution_count": 3,
   "metadata": {
    "collapsed": false
   },
   "outputs": [],
   "source": [
    "isSafe :: (Num a, Ord a) => (a, a) -> [(a, a)] -> Bool\n",
    "isSafe tryPos posQueens = isSafeRow && isSafeCol && isSafeCross\n",
    "    where\n",
    "        isSafeRow = snd tryPos `notElem` map snd posQueens\n",
    "        isSafeCol = fst tryPos `notElem` map fst posQueens\n",
    "        isSafeCross = crossStartingPos tryPos `notElem` map crossStartingPos posQueens\n",
    "            where\n",
    "                crossStartingPos posQueens\n",
    "                    | uncurry (<=) posQueens = (0, snd posQueens - fst posQueens)\n",
    "                    | otherwise = (uncurry (-) posQueens, 0)"
   ]
  },
  {
   "cell_type": "markdown",
   "metadata": {},
   "source": [
    "8퀸 퍼즐의 답 중 하나를 이용해 테스트 해보면,"
   ]
  },
  {
   "cell_type": "code",
   "execution_count": 85,
   "metadata": {
    "collapsed": false
   },
   "outputs": [],
   "source": [
    "queens1 = [(6,0),(4,1),(2,2),(0,3),(5,4),(7,5),(1,6)]\n",
    "tryPositions = map (\\x -> (x,7)) [1..7]"
   ]
  },
  {
   "cell_type": "code",
   "execution_count": 86,
   "metadata": {
    "collapsed": false,
    "scrolled": true
   },
   "outputs": [
    {
     "data": {
      "text/plain": [
       "[(3,7)]"
      ]
     },
     "metadata": {},
     "output_type": "display_data"
    }
   ],
   "source": [
    "filter (`isSafe` queens1) tryPositions"
   ]
  },
  {
   "cell_type": "markdown",
   "metadata": {},
   "source": [
    "queens1의 배열에서 7번째 열Column에 퀸을 둘 수 있는 위치는 (3,7) 하나입니다. (답과 같습니다)\n",
    "\n",
    "이제 위의 방법을 이용해 열Column마다 퀸을 둘 수 있는 위치를 걸러내도록 하겠습니다."
   ]
  },
  {
   "cell_type": "code",
   "execution_count": 177,
   "metadata": {
    "collapsed": false,
    "scrolled": false
   },
   "outputs": [
    {
     "data": {
      "text/plain": [
       "[(3,7)]"
      ]
     },
     "metadata": {},
     "output_type": "display_data"
    }
   ],
   "source": [
    "n = 7 {--# temp value for board size #--}\n",
    "safeColPos col = filter (`isSafe` queens1) (map (\\row -> (row, col)) [0..n])\n",
    "safeColPos 7"
   ]
  },
  {
   "cell_type": "code",
   "execution_count": null,
   "metadata": {
    "collapsed": true
   },
   "outputs": [],
   "source": []
  },
  {
   "cell_type": "code",
   "execution_count": 71,
   "metadata": {
    "collapsed": false,
    "scrolled": true
   },
   "outputs": [
    {
     "data": {
      "text/html": [
       "<style>/*\n",
       "Custom IHaskell CSS.\n",
       "*/\n",
       "\n",
       "/* Styles used for the Hoogle display in the pager */\n",
       ".hoogle-doc {\n",
       "    display: block;\n",
       "    padding-bottom: 1.3em;\n",
       "    padding-left: 0.4em;\n",
       "}\n",
       ".hoogle-code {\n",
       "    display: block;\n",
       "    font-family: monospace;\n",
       "    white-space: pre;\n",
       "}\n",
       ".hoogle-text {\n",
       "    display: block;\n",
       "}\n",
       ".hoogle-name {\n",
       "    color: green;\n",
       "    font-weight: bold;\n",
       "}\n",
       ".hoogle-head {\n",
       "    font-weight: bold;\n",
       "}\n",
       ".hoogle-sub {\n",
       "    display: block;\n",
       "    margin-left: 0.4em;\n",
       "}\n",
       ".hoogle-package {\n",
       "    font-weight: bold;\n",
       "    font-style: italic;\n",
       "}\n",
       ".hoogle-module {\n",
       "    font-weight: bold;\n",
       "}\n",
       ".hoogle-class {\n",
       "    font-weight: bold;\n",
       "}\n",
       "\n",
       "/* Styles used for basic displays */\n",
       ".get-type {\n",
       "    color: green;\n",
       "    font-weight: bold;\n",
       "    font-family: monospace;\n",
       "    display: block;\n",
       "    white-space: pre-wrap;\n",
       "}\n",
       "\n",
       ".show-type {\n",
       "    color: green;\n",
       "    font-weight: bold;\n",
       "    font-family: monospace;\n",
       "    margin-left: 1em;\n",
       "}\n",
       "\n",
       ".mono {\n",
       "    font-family: monospace;\n",
       "    display: block;\n",
       "}\n",
       "\n",
       ".err-msg {\n",
       "    color: red;\n",
       "    font-style: italic;\n",
       "    font-family: monospace;\n",
       "    white-space: pre;\n",
       "    display: block;\n",
       "}\n",
       "\n",
       "#unshowable {\n",
       "    color: red;\n",
       "    font-weight: bold;\n",
       "}\n",
       "\n",
       ".err-msg.in.collapse {\n",
       "  padding-top: 0.7em;\n",
       "}\n",
       "\n",
       "/* Code that will get highlighted before it is highlighted */\n",
       ".highlight-code {\n",
       "    white-space: pre;\n",
       "    font-family: monospace;\n",
       "}\n",
       "\n",
       "/* Hlint styles */\n",
       ".suggestion-warning { \n",
       "    font-weight: bold;\n",
       "    color: rgb(200, 130, 0);\n",
       "}\n",
       ".suggestion-error { \n",
       "    font-weight: bold;\n",
       "    color: red;\n",
       "}\n",
       ".suggestion-name {\n",
       "    font-weight: bold;\n",
       "}\n",
       "</style><span class='err-msg'>Parse error (line 1, column 22): parse error on input ‘,’</span>"
      ],
      "text/plain": [
       "Parse error (line 1, column 22): parse error on input ‘,’"
      ]
     },
     "metadata": {},
     "output_type": "display_data"
    },
    {
     "data": {
      "text/html": [
       "<style>/*\n",
       "Custom IHaskell CSS.\n",
       "*/\n",
       "\n",
       "/* Styles used for the Hoogle display in the pager */\n",
       ".hoogle-doc {\n",
       "    display: block;\n",
       "    padding-bottom: 1.3em;\n",
       "    padding-left: 0.4em;\n",
       "}\n",
       ".hoogle-code {\n",
       "    display: block;\n",
       "    font-family: monospace;\n",
       "    white-space: pre;\n",
       "}\n",
       ".hoogle-text {\n",
       "    display: block;\n",
       "}\n",
       ".hoogle-name {\n",
       "    color: green;\n",
       "    font-weight: bold;\n",
       "}\n",
       ".hoogle-head {\n",
       "    font-weight: bold;\n",
       "}\n",
       ".hoogle-sub {\n",
       "    display: block;\n",
       "    margin-left: 0.4em;\n",
       "}\n",
       ".hoogle-package {\n",
       "    font-weight: bold;\n",
       "    font-style: italic;\n",
       "}\n",
       ".hoogle-module {\n",
       "    font-weight: bold;\n",
       "}\n",
       ".hoogle-class {\n",
       "    font-weight: bold;\n",
       "}\n",
       "\n",
       "/* Styles used for basic displays */\n",
       ".get-type {\n",
       "    color: green;\n",
       "    font-weight: bold;\n",
       "    font-family: monospace;\n",
       "    display: block;\n",
       "    white-space: pre-wrap;\n",
       "}\n",
       "\n",
       ".show-type {\n",
       "    color: green;\n",
       "    font-weight: bold;\n",
       "    font-family: monospace;\n",
       "    margin-left: 1em;\n",
       "}\n",
       "\n",
       ".mono {\n",
       "    font-family: monospace;\n",
       "    display: block;\n",
       "}\n",
       "\n",
       ".err-msg {\n",
       "    color: red;\n",
       "    font-style: italic;\n",
       "    font-family: monospace;\n",
       "    white-space: pre;\n",
       "    display: block;\n",
       "}\n",
       "\n",
       "#unshowable {\n",
       "    color: red;\n",
       "    font-weight: bold;\n",
       "}\n",
       "\n",
       ".err-msg.in.collapse {\n",
       "  padding-top: 0.7em;\n",
       "}\n",
       "\n",
       "/* Code that will get highlighted before it is highlighted */\n",
       ".highlight-code {\n",
       "    white-space: pre;\n",
       "    font-family: monospace;\n",
       "}\n",
       "\n",
       "/* Hlint styles */\n",
       ".suggestion-warning { \n",
       "    font-weight: bold;\n",
       "    color: rgb(200, 130, 0);\n",
       "}\n",
       ".suggestion-error { \n",
       "    font-weight: bold;\n",
       "    color: red;\n",
       "}\n",
       ".suggestion-name {\n",
       "    font-weight: bold;\n",
       "}\n",
       "</style><span class='err-msg'>Parse error (line 2, column 21): parse error on input ‘,’</span>"
      ],
      "text/plain": [
       "Parse error (line 2, column 21): parse error on input ‘,’"
      ]
     },
     "metadata": {},
     "output_type": "display_data"
    }
   ],
   "source": [
    "when combine position, use :\n",
    "extract one position, use tail"
   ]
  },
  {
   "cell_type": "markdown",
   "metadata": {},
   "source": [
    "필터로 후보들을 넣어두자"
   ]
  },
  {
   "cell_type": "code",
   "execution_count": null,
   "metadata": {
    "collapsed": true
   },
   "outputs": [],
   "source": [
    "queens2 = []"
   ]
  },
  {
   "cell_type": "code",
   "execution_count": 87,
   "metadata": {
    "collapsed": false,
    "scrolled": true
   },
   "outputs": [
    {
     "data": {
      "text/plain": [
       "[(1,7),(2,7),(3,7),(4,7),(5,7),(6,7),(7,7)]"
      ]
     },
     "metadata": {},
     "output_type": "display_data"
    }
   ],
   "source": [
    "filter (`isSafe` []) tryPositions"
   ]
  },
  {
   "cell_type": "code",
   "execution_count": 88,
   "metadata": {
    "collapsed": false,
    "scrolled": false
   },
   "outputs": [
    {
     "data": {
      "text/plain": [
       "(1,7)"
      ]
     },
     "metadata": {},
     "output_type": "display_data"
    }
   ],
   "source": [
    "head $ filter (`isSafe` []) map (\\row-> $ row,col)"
   ]
  },
  {
   "cell_type": "code",
   "execution_count": 139,
   "metadata": {
    "collapsed": false
   },
   "outputs": [
    {
     "data": {
      "text/plain": [
       "[(0,0),(1,0),(2,0),(3,0),(4,0),(5,0),(6,0),(7,0),(0,1),(1,1),(2,1),(3,1),(4,1),(5,1),(6,1),(7,1),(0,2),(1,2),(2,2),(3,2),(4,2),(5,2),(6,2),(7,2),(0,3),(1,3),(2,3),(3,3),(4,3),(5,3),(6,3),(7,3),(0,4),(1,4),(2,4),(3,4),(4,4),(5,4),(6,4),(7,4),(0,5),(1,5),(2,5),(3,5),(4,5),(5,5),(6,5),(7,5),(0,6),(1,6),(2,6),(3,6),(4,6),(5,6),(6,6),(7,6),(0,7),(1,7),(2,7),(3,7),(4,7),(5,7),(6,7),(7,7)]"
      ]
     },
     "metadata": {},
     "output_type": "display_data"
    }
   ],
   "source": [
    "flatmap (\\col -> (map (\\row -> (row,col)) [0..7])) [0..7]"
   ]
  },
  {
   "cell_type": "code",
   "execution_count": 131,
   "metadata": {
    "collapsed": false
   },
   "outputs": [
    {
     "data": {
      "text/plain": [
       "[(0,0),(1,0),(2,0),(3,0),(4,0),(5,0),(6,0),(7,0),(0,1),(1,1),(2,1),(3,1),(4,1),(5,1),(6,1),(7,1),(0,2),(1,2),(2,2),(3,2),(4,2),(5,2),(6,2),(7,2),(0,3),(1,3),(2,3),(3,3),(4,3),(5,3),(6,3),(7,3),(0,4),(1,4),(2,4),(3,4),(4,4),(5,4),(6,4),(7,4),(0,5),(1,5),(2,5),(3,5),(4,5),(5,5),(6,5),(7,5),(0,6),(1,6),(2,6),(3,6),(4,6),(5,6),(6,6),(7,6),(0,7),(1,7),(2,7),(3,7),(4,7),(5,7),(6,7),(7,7)]"
      ]
     },
     "metadata": {},
     "output_type": "display_data"
    }
   ],
   "source": [
    "flatmap (\\col -> (map (\\row -> (row,col)) [0..7])) [0..7]"
   ]
  },
  {
   "cell_type": "code",
   "execution_count": 159,
   "metadata": {
    "collapsed": false
   },
   "outputs": [
    {
     "data": {
      "text/plain": [
       "[0,1,2,3,4,5,6,7]"
      ]
     },
     "metadata": {},
     "output_type": "display_data"
    }
   ],
   "source": [
    "filter (\\x -> isSafe (x,0) []) [0..7]"
   ]
  },
  {
   "cell_type": "code",
   "execution_count": 150,
   "metadata": {
    "collapsed": false
   },
   "outputs": [
    {
     "data": {
      "text/plain": [
       "[1]"
      ]
     },
     "metadata": {},
     "output_type": "display_data"
    }
   ],
   "source": [
    "[] ++ [1]"
   ]
  },
  {
   "cell_type": "code",
   "execution_count": 165,
   "metadata": {
    "collapsed": false
   },
   "outputs": [],
   "source": [
    "abc col = filter (`isSafe` queens1) (map (\\row -> (row, col)) [0..7])"
   ]
  },
  {
   "cell_type": "code",
   "execution_count": 167,
   "metadata": {
    "collapsed": false
   },
   "outputs": [
    {
     "data": {
      "text/plain": [
       "[(3,7)]"
      ]
     },
     "metadata": {},
     "output_type": "display_data"
    }
   ],
   "source": [
    "abc 7"
   ]
  },
  {
   "cell_type": "code",
   "execution_count": null,
   "metadata": {
    "collapsed": true
   },
   "outputs": [],
   "source": []
  },
  {
   "cell_type": "code",
   "execution_count": null,
   "metadata": {
    "collapsed": true
   },
   "outputs": [],
   "source": []
  },
  {
   "cell_type": "code",
   "execution_count": null,
   "metadata": {
    "collapsed": true
   },
   "outputs": [],
   "source": []
  },
  {
   "cell_type": "code",
   "execution_count": null,
   "metadata": {
    "collapsed": true
   },
   "outputs": [],
   "source": []
  },
  {
   "cell_type": "code",
   "execution_count": null,
   "metadata": {
    "collapsed": true
   },
   "outputs": [],
   "source": []
  },
  {
   "cell_type": "code",
   "execution_count": 144,
   "metadata": {
    "collapsed": false
   },
   "outputs": [],
   "source": [
    "flatmap :: (a1 -> [a]) -> [a1] -> [a]\n",
    "flatmap f s = foldl1 (++) (map f s)"
   ]
  },
  {
   "cell_type": "code",
   "execution_count": 5,
   "metadata": {
    "collapsed": false
   },
   "outputs": [
    {
     "data": {
      "text/plain": [
       "[[1,1],[1,2],[1,3],[2,1],[2,2],[2,3],[3,1],[3,2],[3,3]]"
      ]
     },
     "metadata": {},
     "output_type": "display_data"
    }
   ],
   "source": [
    "flatmap (\\i -> map (\\j -> [i,j]) [1..3]) [1..3]"
   ]
  },
  {
   "cell_type": "code",
   "execution_count": 6,
   "metadata": {
    "collapsed": false
   },
   "outputs": [
    {
     "data": {
      "text/html": [
       "<style>/*\n",
       "Custom IHaskell CSS.\n",
       "*/\n",
       "\n",
       "/* Styles used for the Hoogle display in the pager */\n",
       ".hoogle-doc {\n",
       "    display: block;\n",
       "    padding-bottom: 1.3em;\n",
       "    padding-left: 0.4em;\n",
       "}\n",
       ".hoogle-code {\n",
       "    display: block;\n",
       "    font-family: monospace;\n",
       "    white-space: pre;\n",
       "}\n",
       ".hoogle-text {\n",
       "    display: block;\n",
       "}\n",
       ".hoogle-name {\n",
       "    color: green;\n",
       "    font-weight: bold;\n",
       "}\n",
       ".hoogle-head {\n",
       "    font-weight: bold;\n",
       "}\n",
       ".hoogle-sub {\n",
       "    display: block;\n",
       "    margin-left: 0.4em;\n",
       "}\n",
       ".hoogle-package {\n",
       "    font-weight: bold;\n",
       "    font-style: italic;\n",
       "}\n",
       ".hoogle-module {\n",
       "    font-weight: bold;\n",
       "}\n",
       ".hoogle-class {\n",
       "    font-weight: bold;\n",
       "}\n",
       "\n",
       "/* Styles used for basic displays */\n",
       ".get-type {\n",
       "    color: green;\n",
       "    font-weight: bold;\n",
       "    font-family: monospace;\n",
       "    display: block;\n",
       "    white-space: pre-wrap;\n",
       "}\n",
       "\n",
       ".show-type {\n",
       "    color: green;\n",
       "    font-weight: bold;\n",
       "    font-family: monospace;\n",
       "    margin-left: 1em;\n",
       "}\n",
       "\n",
       ".mono {\n",
       "    font-family: monospace;\n",
       "    display: block;\n",
       "}\n",
       "\n",
       ".err-msg {\n",
       "    color: red;\n",
       "    font-style: italic;\n",
       "    font-family: monospace;\n",
       "    white-space: pre;\n",
       "    display: block;\n",
       "}\n",
       "\n",
       "#unshowable {\n",
       "    color: red;\n",
       "    font-weight: bold;\n",
       "}\n",
       "\n",
       ".err-msg.in.collapse {\n",
       "  padding-top: 0.7em;\n",
       "}\n",
       "\n",
       "/* Code that will get highlighted before it is highlighted */\n",
       ".highlight-code {\n",
       "    white-space: pre;\n",
       "    font-family: monospace;\n",
       "}\n",
       "\n",
       "/* Hlint styles */\n",
       ".suggestion-warning { \n",
       "    font-weight: bold;\n",
       "    color: rgb(200, 130, 0);\n",
       "}\n",
       ".suggestion-error { \n",
       "    font-weight: bold;\n",
       "    color: red;\n",
       "}\n",
       ".suggestion-name {\n",
       "    font-weight: bold;\n",
       "}\n",
       "</style><span class='get-type'>flatmap :: forall a1 a. (a1 -> [a]) -> [a1] -> [a]</span>"
      ],
      "text/plain": [
       "flatmap :: forall a1 a. (a1 -> [a]) -> [a1] -> [a]"
      ]
     },
     "metadata": {},
     "output_type": "display_data"
    }
   ],
   "source": [
    ":t flatmap"
   ]
  },
  {
   "cell_type": "markdown",
   "metadata": {
    "collapsed": true
   },
   "source": [
    "8 Queens good reference\n",
    "https://www.cs.usfca.edu/~galles/visualization/RecQueens.html"
   ]
  },
  {
   "cell_type": "markdown",
   "metadata": {},
   "source": [
    "```\n",
    "queen idea\n",
    "1. 리스트에 위치 입력\n",
    "맨 처음은 (0,0)에 퀸을 찍는다. 이 좌표를 리스트로 만들고 재귀 함수에 인자로 집어 넣는다. (이 때, 늦게 들어오는 퀸 위치를 리스트에 처음에 삽입한다)\n",
    "\n",
    "2. 위치 탐색\n",
    "그 다음은 (0,1)좌표에 퀸을 둘 수 있는지 인자로 넘어온 리스트를 통해 확인한다(직선과 대각선에서 만나지 않도록)\n",
    "\n",
    "3. 백트래킹\n",
    "(n,1)까지 그런 식으로 진행해서 가능한 위치가 존재하지 않는다면 이전에 지정한 리스트를 삭제하고 column은 -1 한 뒤 다시 시작한다.\n",
    "\n",
    "4. 가능한 경우의 수 모두 수집\n",
    "\n",
    "\n",
    "준비\n",
    "1. (0 0)~(n-1 n-1)을 출력하는 함수를 만든다\n",
    "2. setPosition\n",
    "3. isSafe\n",
    "```"
   ]
  },
  {
   "cell_type": "markdown",
   "metadata": {
    "collapsed": true
   },
   "source": []
  },
  {
   "cell_type": "code",
   "execution_count": 1,
   "metadata": {
    "collapsed": false
   },
   "outputs": [],
   "source": [
    "isSafeVertical col colPosQueen = _isSafeVertical (0, col)\n",
    "    where \n",
    "        _isSafeVertical (a,b)\n",
    "            | a <= 7 = (a,b) /= colPosQueen && _isSafeVertical (a+1,b)\n",
    "            | otherwise = True"
   ]
  },
  {
   "cell_type": "code",
   "execution_count": 4,
   "metadata": {
    "collapsed": false
   },
   "outputs": [
    {
     "data": {
      "text/html": [
       "<style>/*\n",
       "Custom IHaskell CSS.\n",
       "*/\n",
       "\n",
       "/* Styles used for the Hoogle display in the pager */\n",
       ".hoogle-doc {\n",
       "    display: block;\n",
       "    padding-bottom: 1.3em;\n",
       "    padding-left: 0.4em;\n",
       "}\n",
       ".hoogle-code {\n",
       "    display: block;\n",
       "    font-family: monospace;\n",
       "    white-space: pre;\n",
       "}\n",
       ".hoogle-text {\n",
       "    display: block;\n",
       "}\n",
       ".hoogle-name {\n",
       "    color: green;\n",
       "    font-weight: bold;\n",
       "}\n",
       ".hoogle-head {\n",
       "    font-weight: bold;\n",
       "}\n",
       ".hoogle-sub {\n",
       "    display: block;\n",
       "    margin-left: 0.4em;\n",
       "}\n",
       ".hoogle-package {\n",
       "    font-weight: bold;\n",
       "    font-style: italic;\n",
       "}\n",
       ".hoogle-module {\n",
       "    font-weight: bold;\n",
       "}\n",
       ".hoogle-class {\n",
       "    font-weight: bold;\n",
       "}\n",
       "\n",
       "/* Styles used for basic displays */\n",
       ".get-type {\n",
       "    color: green;\n",
       "    font-weight: bold;\n",
       "    font-family: monospace;\n",
       "    display: block;\n",
       "    white-space: pre-wrap;\n",
       "}\n",
       "\n",
       ".show-type {\n",
       "    color: green;\n",
       "    font-weight: bold;\n",
       "    font-family: monospace;\n",
       "    margin-left: 1em;\n",
       "}\n",
       "\n",
       ".mono {\n",
       "    font-family: monospace;\n",
       "    display: block;\n",
       "}\n",
       "\n",
       ".err-msg {\n",
       "    color: red;\n",
       "    font-style: italic;\n",
       "    font-family: monospace;\n",
       "    white-space: pre;\n",
       "    display: block;\n",
       "}\n",
       "\n",
       "#unshowable {\n",
       "    color: red;\n",
       "    font-weight: bold;\n",
       "}\n",
       "\n",
       ".err-msg.in.collapse {\n",
       "  padding-top: 0.7em;\n",
       "}\n",
       "\n",
       "/* Code that will get highlighted before it is highlighted */\n",
       ".highlight-code {\n",
       "    white-space: pre;\n",
       "    font-family: monospace;\n",
       "}\n",
       "\n",
       "/* Hlint styles */\n",
       ".suggestion-warning { \n",
       "    font-weight: bold;\n",
       "    color: rgb(200, 130, 0);\n",
       "}\n",
       ".suggestion-error { \n",
       "    font-weight: bold;\n",
       "    color: red;\n",
       "}\n",
       ".suggestion-name {\n",
       "    font-weight: bold;\n",
       "}\n",
       "</style><span class='get-type'>isSafe :: forall a. (Num a, Ord a) => (a, a) -> [(a, a)] -> Bool</span>"
      ],
      "text/plain": [
       "isSafe :: forall a. (Num a, Ord a) => (a, a) -> [(a, a)] -> Bool"
      ]
     },
     "metadata": {},
     "output_type": "display_data"
    }
   ],
   "source": [
    ":t isSafe"
   ]
  },
  {
   "cell_type": "code",
   "execution_count": null,
   "metadata": {
    "collapsed": true
   },
   "outputs": [],
   "source": []
  }
 ],
 "metadata": {
  "kernelspec": {
   "display_name": "Haskell",
   "language": "haskell",
   "name": "haskell"
  },
  "language_info": {
   "codemirror_mode": "ihaskell",
   "file_extension": ".hs",
   "name": "haskell",
   "version": "7.10.2"
  }
 },
 "nbformat": 4,
 "nbformat_minor": 0
}
