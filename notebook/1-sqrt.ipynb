{
 "cells": [
  {
   "cell_type": "markdown",
   "metadata": {},
   "source": [
    "SICP 1장은 시작과 끝이 '제곱근 구하기'로 이어졌던 것 같습니다.\n",
    "\n",
    "그런 의미에서 '제곱근 구하기'를 주제로 글을 작성하려 합니다."
   ]
  },
  {
   "cell_type": "markdown",
   "metadata": {},
   "source": [
    "제곱근은 똑같은 수를 두 번 곱하면 그 수가 되게 하는 수 입니다.\n",
    "\n",
    "예를 들어 x는 y를 제곱한 수와 같다면, $x = \\sqrt{y^2}$ 으로 표현합니다."
   ]
  },
  {
   "cell_type": "markdown",
   "metadata": {},
   "source": [
    "제곱근 표현은 보다시피 간단합니다. 하지만 제곱근을 막상 구하려고 하면 구하기가 힘듭니다.\n",
    "\n",
    "왜냐하면 제곱근은 연산으로는 구할 수가 없기 때문입니다. 그리고 많은 제곱근은 무한소수이기 때문에 정확한 값을 구하기도 어렵습니다.\n",
    "\n",
    "그래서 책에서는 '뉴튼법'이라고 불리는 방법을 통해 제곱근을 구하고 있습니다."
   ]
  },
  {
   "cell_type": "markdown",
   "metadata": {},
   "source": [
    "###거두절미하고 이 방법을 2가지 절차로 풀어보면\n",
    "\n",
    "###1. guess = $\\frac{(y + \\frac{x}{y})}{2}$\n",
    "###2. 만약 우리의 추측(guess)이 x와 근접하면 그게 제곱근, 아니면 다시 1. 수행"
   ]
  },
  {
   "cell_type": "markdown",
   "metadata": {},
   "source": [
    "그리고 이에 대한 소스코드를 작성해보면,"
   ]
  },
  {
   "cell_type": "code",
   "execution_count": 1,
   "metadata": {
    "collapsed": false
   },
   "outputs": [
    {
     "data": {
      "text/plain": [
       "1.4142156862745097"
      ]
     },
     "execution_count": 1,
     "metadata": {},
     "output_type": "execute_result"
    }
   ],
   "source": [
    "ALLOWABLE_ERROR = 0.001\n",
    "\n",
    "def sqrt_iter(guess, x):\n",
    "    if abs(guess**2 - x) < ALLOWABLE_ERROR:\n",
    "        return guess\n",
    "    else:\n",
    "        return sqrt_iter((guess + x/guess)/2, x)\n",
    "\n",
    "sqrt_iter(1.0, 2)\n"
   ]
  },
  {
   "cell_type": "markdown",
   "metadata": {},
   "source": [
    "제곱근을 구하는 Python 내장함수인 sqrt를 이용해 값을 대조해보면,"
   ]
  },
  {
   "cell_type": "code",
   "execution_count": 2,
   "metadata": {
    "collapsed": false
   },
   "outputs": [
    {
     "data": {
      "text/plain": [
       "2.123901414519125e-06"
      ]
     },
     "execution_count": 2,
     "metadata": {},
     "output_type": "execute_result"
    }
   ],
   "source": [
    "import math\n",
    "abs(sqrt_iter(1.0, 2) - math.sqrt(2))"
   ]
  },
  {
   "cell_type": "markdown",
   "metadata": {},
   "source": [
    "소수점 5째 자리까지 값이 일치함을 알 수 있습니다."
   ]
  },
  {
   "cell_type": "markdown",
   "metadata": {},
   "source": [
    "하지만, 수정해야할 부분이 있습니다.\n",
    "\n",
    "지금 구현한 함수 `sqrt_iter()`은 지금 당장은 이해할 수 있을지라도\n",
    "다음날만 되어도 해석하는데 시간을 들여야할게 뻔합니다.\n",
    "\n",
    "그래서 사람이 이해하기 쉽게 바꿀 필요가 있습니다."
   ]
  },
  {
   "cell_type": "markdown",
   "metadata": {},
   "source": [
    "다음 번 글에 이어서 설명하도록 하겠습니다."
   ]
  }
 ],
 "metadata": {
  "kernelspec": {
   "display_name": "Python 3",
   "language": "python",
   "name": "python3"
  },
  "language_info": {
   "codemirror_mode": {
    "name": "ipython",
    "version": 3
   },
   "file_extension": ".py",
   "mimetype": "text/x-python",
   "name": "python",
   "nbconvert_exporter": "python",
   "pygments_lexer": "ipython3",
   "version": "3.4.3"
  }
 },
 "nbformat": 4,
 "nbformat_minor": 0
}
