{
 "cells": [
  {
   "cell_type": "markdown",
   "metadata": {},
   "source": [
    "## [머리말 : SICP](http://wikibootup.github.io/sicp/intro.html)\n",
    "\n",
    "## [* Emacs 기본 scheme을&nbsp;Mit scheme으로 설정하는 방법](http://wikibootup.github.io/sicp/Q-mit-scheme-in-emacs.html)\n"
   ]
  },
  {
   "cell_type": "markdown",
   "metadata": {},
   "source": [
    "## [1-1 제곱근 구하기 : 프로그래밍 입문](http://wikibootup.github.io/sicp/1-1-sqrt.html)\n",
    "\n",
    "## [1-2 제곱근 구하기 2 : 이해하기 쉬운 프로그래밍이란? ](http://wikibootup.github.io/sicp/1-2-sqrt-flowchart.html)\n",
    "\n",
    "## [1-3 심슨 규칙을 이용한 적분 : 복잡해보이는 문제 간소화하기](http://wikibootup.github.io/sicp/1-3-simpson-rule.html)\n",
    "\n",
    "## [1-4 연속분수와 응용 : 모듈화 프로그래밍 입문](http://wikibootup.github.io/sicp/1-4-continued-fraction.html)\n",
    "\n",
    "## [1-5 파스칼의 삼각형 : 프로그램을 만들 수 있는 조건에 대한 가정](http://wikibootup.github.io/sicp/1-5-pascal-triangle.html)"
   ]
  },
  {
   "cell_type": "markdown",
   "metadata": {},
   "source": [
    "## [2-1 공통 인터페이스 : 리스트 매핑과 함께 사용할 모듈 제작](http://wikibootup.github.io/sicp/2-1-conventional-interface.html)\n",
    "\n",
    "## [2-2 벡터 기본 연산 : 공통 인터페이스 응용](http://wikibootup.github.io/sicp/2-2-vector-operations.html)\n",
    "\n",
    "## [2-3 글자식의 미분 : 글자를 데이터처럼](http://wikibootup.github.io/sicp/2-3-symbolic-differentiation.html)\n"
   ]
  },
  {
   "cell_type": "markdown",
   "metadata": {},
   "source": [
    "## [3-1 병행성 : 동시에 프로세스를 건드린다면](http://wikibootup.github.io/sicp/3-1-concurrency.html)\n",
    "\n",
    "## [3-3 스트림 패러다임 : 스트림 입문](http://wikibootup.github.io/sicp/3-2-stream-interface.html)"
   ]
  }
 ],
 "metadata": {
  "kernelspec": {
   "display_name": "Python 3",
   "language": "python",
   "name": "python3"
  },
  "language_info": {
   "codemirror_mode": {
    "name": "ipython",
    "version": 3
   },
   "file_extension": ".py",
   "mimetype": "text/x-python",
   "name": "python",
   "nbconvert_exporter": "python",
   "pygments_lexer": "ipython3",
   "version": "3.4.3"
  }
 },
 "nbformat": 4,
 "nbformat_minor": 0
}
