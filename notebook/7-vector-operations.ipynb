{
 "cells": [
  {
   "cell_type": "markdown",
   "metadata": {},
   "source": [
    "벡터가 좋은 예 -> sympy로 행렬 연산 표현 -> 벡터 연산 코드 작성 -> 연산 결과를 sympy로 보이기"
   ]
  },
  {
   "cell_type": "markdown",
   "metadata": {
    "collapsed": true
   },
   "source": [
    "행렬 벡터는 복합 데이터Compound data를 표현하는 좋은 예입니다.\n",
    "\n",
    "여기서는 이전에 만들었던 [accumulate](http://wikibootup.github.io/sicp/6-accumulate.html)를 이용하여 벡터의 기본 연산을 구현하도록 하겠습니다."
   ]
  },
  {
   "cell_type": "code",
   "execution_count": 1,
   "metadata": {
    "collapsed": true
   },
   "outputs": [],
   "source": [
    "from modules.basic import accumulate, accumulate_n"
   ]
  },
  {
   "cell_type": "markdown",
   "metadata": {
    "collapsed": true
   },
   "source": [
    "먼저, 내적을 구해보겠습니다.\n",
    "\n",
    "두 벡터의 1. 각 성분을 곱한 결과를 2. 모두 더하면 그게 내적이므로 ( $\\sum_iv_iw_i$ )\n",
    "\n",
    "1.의 과정은 `map`을 이용해서,\n",
    "\n",
    "2.의 과정은 `accumulate`를 이용하여 코드를 구현하면,"
   ]
  },
  {
   "cell_type": "code",
   "execution_count": 2,
   "metadata": {
    "collapsed": true
   },
   "outputs": [],
   "source": [
    "def dot_product(v, w):\n",
    "    return accumulate(\n",
    "        lambda p1, p2: p1 + p2,\n",
    "        0,\n",
    "        list(map(lambda m1, m2: m1 * m2, v, w)))"
   ]
  },
  {
   "cell_type": "markdown",
   "metadata": {},
   "source": [
    "아래의 한 문제만 검증해보면,\n",
    "\n",
    "$\n",
    "    A =\n",
    "    \\begin{pmatrix}\n",
    "    1\\ 2\\ 3\\ 4\n",
    "    \\end{pmatrix},\n",
    "    \\ B =\n",
    "    \\begin{pmatrix}\n",
    "    5\\ 6\\ 7\\ 8\n",
    "    \\end{pmatrix}\n",
    "    ,\\ A·B = B·A =\\ ?\n",
    "$"
   ]
  },
  {
   "cell_type": "code",
   "execution_count": 3,
   "metadata": {
    "collapsed": true
   },
   "outputs": [],
   "source": [
    "A = [1, 2, 3, 4]\n",
    "B = [5, 6, 7, 8]"
   ]
  },
  {
   "cell_type": "code",
   "execution_count": 4,
   "metadata": {
    "collapsed": false
   },
   "outputs": [
    {
     "data": {
      "text/plain": [
       "True"
      ]
     },
     "execution_count": 4,
     "metadata": {},
     "output_type": "execute_result"
    }
   ],
   "source": [
    "dot_product(A, B) == dot_product(B, A)"
   ]
  },
  {
   "cell_type": "code",
   "execution_count": 5,
   "metadata": {
    "collapsed": false
   },
   "outputs": [
    {
     "data": {
      "text/plain": [
       "70"
      ]
     },
     "execution_count": 5,
     "metadata": {},
     "output_type": "execute_result"
    }
   ],
   "source": [
    "dot_product(A, B)"
   ]
  },
  {
   "cell_type": "code",
   "execution_count": null,
   "metadata": {
    "collapsed": true
   },
   "outputs": [],
   "source": []
  }
 ],
 "metadata": {
  "kernelspec": {
   "display_name": "Python 3",
   "language": "python",
   "name": "python3"
  },
  "language_info": {
   "codemirror_mode": {
    "name": "ipython",
    "version": 3
   },
   "file_extension": ".py",
   "mimetype": "text/x-python",
   "name": "python",
   "nbconvert_exporter": "python",
   "pygments_lexer": "ipython3",
   "version": "3.4.3"
  }
 },
 "nbformat": 4,
 "nbformat_minor": 0
}
