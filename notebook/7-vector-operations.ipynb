{
 "cells": [
  {
   "cell_type": "markdown",
   "metadata": {},
   "source": [
    "벡터가 좋은 예 -> sympy로 행렬 연산 표현 -> 벡터 연산 코드 작성 -> 연산 결과를 sympy로 보이기"
   ]
  },
  {
   "cell_type": "markdown",
   "metadata": {
    "collapsed": true
   },
   "source": [
    "행렬 벡터는 복합 데이터Compound data를 표현하는 좋은 예입니다.\n",
    "\n",
    "여기서는 이전에 만들었던 [accumulate](http://wikibootup.github.io/sicp/6-accumulate.html)를 이용하여 벡터의 기본 연산을 구현하도록 하겠습니다."
   ]
  },
  {
   "cell_type": "code",
   "execution_count": null,
   "metadata": {
    "collapsed": true
   },
   "outputs": [],
   "source": []
  }
 ],
 "metadata": {
  "kernelspec": {
   "display_name": "Python 3",
   "language": "python",
   "name": "python3"
  },
  "language_info": {
   "codemirror_mode": {
    "name": "ipython",
    "version": 3
   },
   "file_extension": ".py",
   "mimetype": "text/x-python",
   "name": "python",
   "nbconvert_exporter": "python",
   "pygments_lexer": "ipython3",
   "version": "3.4.3"
  }
 },
 "nbformat": 4,
 "nbformat_minor": 0
}
