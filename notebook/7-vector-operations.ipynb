{
 "cells": [
  {
   "cell_type": "markdown",
   "metadata": {
    "collapsed": true
   },
   "source": [
    "행렬 벡터는 복합 데이터Compound data를 표현하는 좋은 예입니다.\n",
    "\n",
    "여기서는 이전에 만들었던 [accumulate](http://wikibootup.github.io/sicp/6-accumulate.html)를 이용하여 벡터의 기본 연산을 구현하도록 하겠습니다."
   ]
  },
  {
   "cell_type": "code",
   "execution_count": 1,
   "metadata": {
    "collapsed": true
   },
   "outputs": [],
   "source": [
    "from modules.basic import accumulate, accumulate_n"
   ]
  },
  {
   "cell_type": "markdown",
   "metadata": {},
   "source": [
    "\\* 여기서 벡터는 $v = (v_i)$으로 표현되는 일차원 행렬이고, 행렬은 $m = (m_{ij})$으로 표현되어 이차원 행렬입니다."
   ]
  },
  {
   "cell_type": "markdown",
   "metadata": {
    "collapsed": true
   },
   "source": [
    "먼저, 내적을 구현하겠습니다.\n",
    "\n",
    "두 벡터의 1. 각 성분을 곱한 결과를 2. 모두 더하면 그게 내적입니다. ( $\\sum_iv_iw_i$ )\n",
    "\n",
    "1.의 과정은 `map`을 이용해서,\n",
    "\n",
    "2.의 과정은 `accumulate`를 이용하여 코드를 구현하면,"
   ]
  },
  {
   "cell_type": "code",
   "execution_count": 2,
   "metadata": {
    "collapsed": true
   },
   "outputs": [],
   "source": [
    "def dot_product(v, w):\n",
    "    return accumulate(\n",
    "        lambda p1, p2: p1 + p2,\n",
    "        0,\n",
    "        list(map(lambda m1, m2: m1 * m2, v, w)))"
   ]
  },
  {
   "cell_type": "markdown",
   "metadata": {},
   "source": [
    "아래의 한 문제만 검증해보면,\n",
    "\n",
    "$\n",
    "    A =\n",
    "    \\begin{pmatrix}\n",
    "    1\\ 2\\ 3\\ 4\n",
    "    \\end{pmatrix},\n",
    "    \\ B =\n",
    "    \\begin{pmatrix}\n",
    "    5\\ 6\\ 7\\ 8\n",
    "    \\end{pmatrix}\n",
    "    ,\\ A·B = B·A =\\ ?\n",
    "$"
   ]
  },
  {
   "cell_type": "code",
   "execution_count": 3,
   "metadata": {
    "collapsed": true
   },
   "outputs": [],
   "source": [
    "A = [1, 2, 3, 4]\n",
    "B = [5, 6, 7, 8]"
   ]
  },
  {
   "cell_type": "code",
   "execution_count": 4,
   "metadata": {
    "collapsed": false
   },
   "outputs": [
    {
     "data": {
      "text/plain": [
       "True"
      ]
     },
     "execution_count": 4,
     "metadata": {},
     "output_type": "execute_result"
    }
   ],
   "source": [
    "dot_product(A, B) == dot_product(B, A)"
   ]
  },
  {
   "cell_type": "code",
   "execution_count": 5,
   "metadata": {
    "collapsed": false
   },
   "outputs": [
    {
     "data": {
      "text/plain": [
       "70"
      ]
     },
     "execution_count": 5,
     "metadata": {},
     "output_type": "execute_result"
    }
   ],
   "source": [
    "dot_product(A, B)"
   ]
  },
  {
   "cell_type": "markdown",
   "metadata": {
    "collapsed": true
   },
   "source": [
    "다음으로, '행렬과 벡터의 곱'을 구현하겠습니다.\n",
    "\n",
    "행렬의 1. 한 행의 각 성분을 벡터의 각 성분에 곱하는 과정을 2. 행렬의 처음부터 끝 행까지 반복, 3. 행 마다의 결과를 벡터로 만들면 그게 '행렬-벡터 곱'입니다. ( $\\sum_jm_{ij}v_j$ )\n",
    "\n",
    "1.과 2.의 과정은 내적`dot_product`을 구할 때와 같으므로 `dot_product`를 사용하고\n",
    "\n",
    "3.은 `map`을 이용하여 행마다 그 과정을 반복하여 나온 결과를 행의 값으로 만들어 코드를 구현하면,"
   ]
  },
  {
   "cell_type": "code",
   "execution_count": 19,
   "metadata": {
    "collapsed": false
   },
   "outputs": [],
   "source": [
    "def matrix_by_vector(m, v):\n",
    "    return list(map(\n",
    "        lambda row: dot_product(row, v),\n",
    "        m))"
   ]
  },
  {
   "cell_type": "markdown",
   "metadata": {},
   "source": [
    "'행렬-벡터 곱'의 결과는 행렬의 각 행과 벡터를 내적한 값들로 만든 행렬과 같으므로\n",
    "\n",
    "이것으로 아래의 경우를 검증하면,\n",
    "\n",
    "$\n",
    "    M =\n",
    "    \\begin{pmatrix}\n",
    "    1\\ 2\\ 3\\\\\n",
    "    4\\ 5\\ 6\\\\\n",
    "    7\\ 8\\ 9\\\\\n",
    "    \\end{pmatrix},\n",
    "    \\ V =\n",
    "    \\begin{pmatrix}\n",
    "    5\\ 6\\ 7\n",
    "    \\end{pmatrix}\n",
    "$"
   ]
  },
  {
   "cell_type": "code",
   "execution_count": 35,
   "metadata": {
    "collapsed": false
   },
   "outputs": [],
   "source": [
    "M = [(1,2,3), (4,5,6), (7,8,9)]\n",
    "V = [5,6,7]\n",
    "RESULT = matrix_by_vector(M, V)"
   ]
  },
  {
   "cell_type": "code",
   "execution_count": 36,
   "metadata": {
    "collapsed": false
   },
   "outputs": [
    {
     "data": {
      "text/plain": [
       "[38, 92, 146]"
      ]
     },
     "execution_count": 36,
     "metadata": {},
     "output_type": "execute_result"
    }
   ],
   "source": [
    "RESULT"
   ]
  },
  {
   "cell_type": "code",
   "execution_count": 37,
   "metadata": {
    "collapsed": true
   },
   "outputs": [],
   "source": [
    "def test_matrix_by_vector_using_dot_product(m, v, result):\n",
    "    if m == []:\n",
    "        pass\n",
    "    else:\n",
    "        return result[0] == dot_product(m[0], v) and \\\n",
    "            test_matrix_by_vector_using_dot_product(m[1:], v, result[1:])"
   ]
  },
  {
   "cell_type": "code",
   "execution_count": 38,
   "metadata": {
    "collapsed": true
   },
   "outputs": [],
   "source": [
    "test_matrix_by_vector_using_dot_product(M, V, RESULT)"
   ]
  },
  {
   "cell_type": "markdown",
   "metadata": {},
   "source": [
    "하지만 행렬의 행 순서를 거꾸로 뒤집어 다른 값을 가지도록 한 후 검증해보면,"
   ]
  },
  {
   "cell_type": "code",
   "execution_count": 39,
   "metadata": {
    "collapsed": false
   },
   "outputs": [
    {
     "data": {
      "text/plain": [
       "False"
      ]
     },
     "execution_count": 39,
     "metadata": {},
     "output_type": "execute_result"
    }
   ],
   "source": [
    "test_matrix_by_vector_using_dot_product(M, V, RESULT[::-1])"
   ]
  },
  {
   "cell_type": "markdown",
   "metadata": {},
   "source": [
    "다음으로, '전치 행렬transposed matrix'을 구현하겠습니다.\n",
    "\n",
    "같은 열에 위치한 값을 모아 행으로 바꾸어주면 끝이기 때문에\n",
    "\n",
    "`accumulate_n` 함수를 사용하여 구현하면,"
   ]
  },
  {
   "cell_type": "code",
   "execution_count": 173,
   "metadata": {
    "collapsed": false
   },
   "outputs": [],
   "source": [
    "def transpose(mat):\n",
    "    return accumulate_n(\n",
    "        lambda e1, e2: \n",
    "            [e2] + [e1] if type(e2) is int \n",
    "            else e2 + [e1], [], mat[::-1])"
   ]
  },
  {
   "cell_type": "markdown",
   "metadata": {},
   "source": [
    "`matrix_by_vector`을 검증할 때 사용한 M을 다시 이용하면,\n",
    "\n",
    "$\n",
    "    M =\n",
    "    \\begin{pmatrix}\n",
    "    1\\ 2\\ 3\\\\\n",
    "    4\\ 5\\ 6\\\\\n",
    "    7\\ 8\\ 9\\\\\n",
    "    \\end{pmatrix},\n",
    "    \\ M^T =\n",
    "    \\begin{pmatrix}\n",
    "    1\\ 4\\ 7\\\\\n",
    "    2\\ 5\\ 8\\\\\n",
    "    3\\ 6\\ 9\\\\\n",
    "    \\end{pmatrix}\n",
    "$"
   ]
  },
  {
   "cell_type": "code",
   "execution_count": 174,
   "metadata": {
    "collapsed": false
   },
   "outputs": [
    {
     "data": {
      "text/plain": [
       "[(1, 2, 3), (4, 5, 6), (7, 8, 9)]"
      ]
     },
     "execution_count": 174,
     "metadata": {},
     "output_type": "execute_result"
    }
   ],
   "source": [
    "M"
   ]
  },
  {
   "cell_type": "code",
   "execution_count": 175,
   "metadata": {
    "collapsed": false
   },
   "outputs": [
    {
     "data": {
      "text/plain": [
       "[[1, 4, 7], [2, 5, 8], [3, 6, 9]]"
      ]
     },
     "execution_count": 175,
     "metadata": {},
     "output_type": "execute_result"
    }
   ],
   "source": [
    "transpose(M)"
   ]
  },
  {
   "cell_type": "markdown",
   "metadata": {},
   "source": [
    "이제 '행렬-행렬 곱'을 구현하겠습니다.\n",
    "\n",
    "방금전 구현한 '행렬-벡터 곱'을 이용하면 쉽게 만들 수 있습니다.\n",
    "\n",
    "우선, 행렬을 여러 벡터가 모인 테이블이라고 보겠습니다.\n",
    "\n",
    "그러면 1. 행렬의 각 열에(각각의 벡터) 대하여 2. '행렬-벡터 곱'을 수행한 결과들을 결합하면 '행렬-행렬 곱'이 된다는 사실을 알 수 있습니다. ( $P_{ij} = \\sum_km_{ik}v_{kj}$ )\n",
    "\n",
    "1.은 map을 이용해 각 열에 2.를 적용하고\n",
    "\n",
    "2.는 `matrix_by_vector`를 사용하여 코드를 구현하면,"
   ]
  },
  {
   "cell_type": "code",
   "execution_count": 171,
   "metadata": {
    "collapsed": false
   },
   "outputs": [],
   "source": [
    "def matrix_by_matrix(m, v):\n",
    "    return list(map(lambda cols: matrix_by_vector(m, cols), transpose(v)))"
   ]
  },
  {
   "cell_type": "markdown",
   "metadata": {},
   "source": [
    "여기서 모듈화 프로그래밍의 효과를 톡톡히 알 수 있습니다.\n",
    "\n",
    "분명 내적`dot_product`이나 '행렬-벡터 곱'`matrix_by_vector`이 더 간단한 연산임에도 불구하고,\n",
    "\n",
    "그것들보다 '행렬-행렬 곱'`matrix_by_matrix`을 더 간결하게 구현을 할 수 있음을 알 수 있습니다."
   ]
  }
 ],
 "metadata": {
  "kernelspec": {
   "display_name": "Python 3",
   "language": "python",
   "name": "python3"
  },
  "language_info": {
   "codemirror_mode": {
    "name": "ipython",
    "version": 3
   },
   "file_extension": ".py",
   "mimetype": "text/x-python",
   "name": "python",
   "nbconvert_exporter": "python",
   "pygments_lexer": "ipython3",
   "version": "3.4.3"
  }
 },
 "nbformat": 4,
 "nbformat_minor": 0
}
