{
 "cells": [
  {
   "cell_type": "markdown",
   "metadata": {
    "collapsed": true
   },
   "source": [
    "행렬 벡터는 복합 데이터Compound data를 표현하는 좋은 예입니다.\n",
    "\n",
    "여기서는 이전에 만들었던 [accumulate](http://wikibootup.github.io/sicp/6-accumulate.html)를 이용하여 벡터의 기본 연산을 구현하도록 하겠습니다."
   ]
  },
  {
   "cell_type": "code",
   "execution_count": 1,
   "metadata": {
    "collapsed": true
   },
   "outputs": [],
   "source": [
    "from modules.basic import accumulate, accumulate_n"
   ]
  },
  {
   "cell_type": "markdown",
   "metadata": {},
   "source": [
    "\\* 여기서 벡터는 $v = (v_i)$으로 표현되는 일차원 행렬이고, 행렬은 $m = (m_{ij})$으로 표현되어 이차원 행렬입니다."
   ]
  },
  {
   "cell_type": "markdown",
   "metadata": {
    "collapsed": true
   },
   "source": [
    "먼저, 내적을 구현하겠습니다.\n",
    "\n",
    "두 벡터의 1. 각 성분을 곱한 결과를 2. 모두 더하면 그게 내적이므로 ( $\\sum_iv_iw_i$ )\n",
    "\n",
    "1.의 과정은 `map`을 이용해서,\n",
    "\n",
    "2.의 과정은 `accumulate`를 이용하여 코드를 구현하면,"
   ]
  },
  {
   "cell_type": "code",
   "execution_count": 2,
   "metadata": {
    "collapsed": true
   },
   "outputs": [],
   "source": [
    "def dot_product(v, w):\n",
    "    return accumulate(\n",
    "        lambda p1, p2: p1 + p2,\n",
    "        0,\n",
    "        list(map(lambda m1, m2: m1 * m2, v, w)))"
   ]
  },
  {
   "cell_type": "markdown",
   "metadata": {},
   "source": [
    "아래의 한 문제만 검증해보면,\n",
    "\n",
    "$\n",
    "    A =\n",
    "    \\begin{pmatrix}\n",
    "    1\\ 2\\ 3\\ 4\n",
    "    \\end{pmatrix},\n",
    "    \\ B =\n",
    "    \\begin{pmatrix}\n",
    "    5\\ 6\\ 7\\ 8\n",
    "    \\end{pmatrix}\n",
    "    ,\\ A·B = B·A =\\ ?\n",
    "$"
   ]
  },
  {
   "cell_type": "code",
   "execution_count": 3,
   "metadata": {
    "collapsed": true
   },
   "outputs": [],
   "source": [
    "A = [1, 2, 3, 4]\n",
    "B = [5, 6, 7, 8]"
   ]
  },
  {
   "cell_type": "code",
   "execution_count": 4,
   "metadata": {
    "collapsed": false
   },
   "outputs": [
    {
     "data": {
      "text/plain": [
       "True"
      ]
     },
     "execution_count": 4,
     "metadata": {},
     "output_type": "execute_result"
    }
   ],
   "source": [
    "dot_product(A, B) == dot_product(B, A)"
   ]
  },
  {
   "cell_type": "code",
   "execution_count": 5,
   "metadata": {
    "collapsed": false
   },
   "outputs": [
    {
     "data": {
      "text/plain": [
       "70"
      ]
     },
     "execution_count": 5,
     "metadata": {},
     "output_type": "execute_result"
    }
   ],
   "source": [
    "dot_product(A, B)"
   ]
  },
  {
   "cell_type": "markdown",
   "metadata": {
    "collapsed": true
   },
   "source": [
    "다음으로, '행렬과 벡터의 곱'을 구현하겠습니다.\n",
    "\n",
    "행렬의 1. 한 행의 각 성분을 벡터의 각 성분에 곱하는 과정을 2. 행렬의 처음부터 끝 행까지 반복, 3. 행 마다의 결과를 벡터로 만들면 그게 '행렬-벡터 곱'이므로( $\\sum_jm_{ij}v_j$ )\n",
    "\n",
    "1.과 2.의 과정은 내적`dot_product`을 구할 때와 같은 방법을 사용하고\n",
    "\n",
    "3.은 `map`을 이용하여 행마다 그 과정을 반복하여 나온 결과를 행의 값으로 만들어 코드를 구현하면,"
   ]
  },
  {
   "cell_type": "code",
   "execution_count": 6,
   "metadata": {
    "collapsed": true
   },
   "outputs": [],
   "source": [
    "def matrix_by_vector(m, v):\n",
    "    return list(map(\n",
    "        lambda row: accumulate(\n",
    "            lambda p1, p2: p1 + p2,\n",
    "            0,\n",
    "            list(map(lambda m1, m2: m1 * m2, row, v))),\n",
    "        m))"
   ]
  },
  {
   "cell_type": "code",
   "execution_count": null,
   "metadata": {
    "collapsed": true
   },
   "outputs": [],
   "source": []
  }
 ],
 "metadata": {
  "kernelspec": {
   "display_name": "Python 3",
   "language": "python",
   "name": "python3"
  },
  "language_info": {
   "codemirror_mode": {
    "name": "ipython",
    "version": 3
   },
   "file_extension": ".py",
   "mimetype": "text/x-python",
   "name": "python",
   "nbconvert_exporter": "python",
   "pygments_lexer": "ipython3",
   "version": "3.4.3"
  }
 },
 "nbformat": 4,
 "nbformat_minor": 0
}
