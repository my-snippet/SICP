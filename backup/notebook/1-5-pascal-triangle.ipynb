{
 "cells": [
  {
   "cell_type": "markdown",
   "metadata": {},
   "source": [
    "지금까지 풀었던 문제들은 일정한 공식이 있어 그것을 그대로 코드에 적용할 수 있었습니다.\n",
    "\n",
    "여기서는 규칙은 있지만 그것을 그대로 코드에 적용할 수 없는 형태의 문제를 풀어보도록 하겠습니다.\n",
    "\n",
    "'파스칼의 삼각형'에 관한 문제입니다."
   ]
  },
  {
   "cell_type": "markdown",
   "metadata": {},
   "source": [
    "'파스칼의 삼각형 수' 구하기 문제는 마치 '규칙을 알고있고, 예외 상황을 통제할 수 있다면 프로그램으로 만들 수 있다'는 가정을 증명이라도 하는 듯,\n",
    "\n",
    "규칙과 예외상황을 딱 떨어지게 통제할 수 있는 문제입니다."
   ]
  },
  {
   "cell_type": "markdown",
   "metadata": {},
   "source": [
    "먼저 규칙을 정리하면,\n",
    "\n",
    "###1. n번째 줄에는 n개의 수가 놓인다\n",
    "\n",
    "###2. 그 다음 줄의 수는 바로 위의 왼쪽 수와 오른 쪽 수의 합으로 결정된다\n",
    "\n",
    "###3. 각 줄의 양 끝 수는 1이다\n"
   ]
  },
  {
   "cell_type": "markdown",
   "metadata": {},
   "source": [
    "\n",
    "이걸 수식으로 정리하면,\n",
    "\n",
    "###1. $a_{n1} = a_{nn} = 1$\n",
    "\n",
    "###2. $a_{nk} = a_{n-1k-1} + a_{n-1k}\\ \\ $ (k는 n번째 줄의 k번째 수)"
   ]
  },
  {
   "cell_type": "markdown",
   "metadata": {},
   "source": [
    "이런 규칙을 따라 만든 파스칼의 삼각형 모양은 아래와 같습니다."
   ]
  },
  {
   "cell_type": "markdown",
   "metadata": {},
   "source": [
    "$\\ \\ \\ \\ \\ \\ \\ \\ 1$\n",
    "\n",
    "$\\ \\ \\ \\ \\ \\ 1\\ \\ \\ 1 $\n",
    "\n",
    "$\\ \\ \\ \\ 1\\ \\ \\ 2\\ \\ \\ 1$\n",
    "\n",
    "$\\ \\ 1\\ \\ \\  3\\ \\ \\ 3\\ \\ \\ 1$\n",
    "\n",
    "$1\\ \\ \\ 4\\ \\ \\ 6\\ \\ \\ 4\\ \\ \\ 1$\n",
    "\n",
    "$ . . .$"
   ]
  },
  {
   "cell_type": "markdown",
   "metadata": {
    "collapsed": true
   },
   "source": [
    "이제 프로그램으로 만들기 위한 방법을 구상해보겠습니다.\n",
    "\n",
    "위에서, '아래 줄은 바로 위 줄의 값들로 만들어진다'는 규칙을 통해\n",
    "\n",
    "어떤 위치의 수든 거슬러 올라가(재귀로) 구할 수 있다는 것을 확인할 수 있습니다.\n",
    "\n",
    "즉, $a_{nk}$를 구할 수 있다면 파스칼의 삼각형을 만들 수 있다는 것입니다."
   ]
  },
  {
   "cell_type": "markdown",
   "metadata": {
    "collapsed": true
   },
   "source": [
    "이 생각을 그대로 코드로 옮기면,"
   ]
  },
  {
   "cell_type": "code",
   "execution_count": 1,
   "metadata": {
    "collapsed": true
   },
   "outputs": [],
   "source": [
    "def first_idea(n, k):\n",
    "    return first_idea(n-1, k-1) + first_idea(n-1, k)"
   ]
  },
  {
   "cell_type": "markdown",
   "metadata": {
    "collapsed": true
   },
   "source": [
    "핵심 부분을 완성했으니, 이제 예외상황 및 최초의 값( $n=1\\ $인 상태 )만 지정해주면 됩니다."
   ]
  },
  {
   "cell_type": "markdown",
   "metadata": {},
   "source": [
    "첫번째 아이디어를 토대로 n번째 줄의 k번째 파스칼 수를 구하는 코드를 작성하면,"
   ]
  },
  {
   "cell_type": "code",
   "execution_count": 2,
   "metadata": {
    "collapsed": true
   },
   "outputs": [],
   "source": [
    "def get_pascal_value(n, k):\n",
    "    if n <= 0 or k <= 0 or k > n:\n",
    "        return 0\n",
    "    if k == 1 or n == k:\n",
    "        return 1\n",
    "    else:\n",
    "        return get_pascal_value(n-1, k-1) + get_pascal_value(n-1, k)"
   ]
  },
  {
   "cell_type": "markdown",
   "metadata": {
    "collapsed": true
   },
   "source": [
    "코드가 맞는지 검증을 하기 위하여 테스트 코드를 작성하도록 하겠습니다.\n",
    "\n",
    "앞서 사용한 ( n번째 줄의 k번째 ) 파스칼 수를 구하는 방법을 그대로 응용하여\n",
    "\n",
    "$(n, k)$ 보다 작은 모든 파스칼 수에 대하여 검증을 하는 코드를 작성하면,"
   ]
  },
  {
   "cell_type": "code",
   "execution_count": 3,
   "metadata": {
    "collapsed": true
   },
   "outputs": [],
   "source": [
    "def test_get_pascal_value(n, k):\n",
    "    def condition():\n",
    "        return n >= 2 and k >= 1\n",
    "    \n",
    "    def compare_pascal_values():\n",
    "        return get_pascal_value(n, k) == \\\n",
    "            get_pascal_value(n-1, k-1) + \\\n",
    "            get_pascal_value(n-1, k)\n",
    "\n",
    "    if condition():\n",
    "        return compare_pascal_values() and \\\n",
    "            test_get_pascal_value(n-1, k) and \\\n",
    "            test_get_pascal_value(n, k-1)\n",
    "    else:\n",
    "        return True"
   ]
  },
  {
   "cell_type": "markdown",
   "metadata": {},
   "source": [
    "위의 코드는 재귀적으로 아래와 같은 순서로 검증을 해나갑니다.\n",
    "\n",
    "$(2, 1)\\ , (2, 2)\\ ,\\ ...\\ ,\\ (2, k)\\ ,\\ ...\\ ,\\ (n, 1)\\ , (n, 1),\\ (n, 2)\\ ,\\ ...\\ ,\\ (n, k)$ \n",
    "\n",
    "\\* 다만, 위의 코드는 재귀로 구현한 피보나치 수열처럼 수가 증가하면 복잡도가 지수배로(exponential) 증가하므로\n",
    "\n",
    "큰 범위를 검증하기엔 무리가 있습니다.\n",
    "\n",
    "따라서 비교적 적은 범위인 $(2, 1)\\ ~ (8,8)$ 까지만 검증을 해보면,"
   ]
  },
  {
   "cell_type": "code",
   "execution_count": 4,
   "metadata": {
    "collapsed": false
   },
   "outputs": [
    {
     "data": {
      "text/plain": [
       "True"
      ]
     },
     "execution_count": 4,
     "metadata": {},
     "output_type": "execute_result"
    }
   ],
   "source": [
    "test_get_pascal_value(8, 8)"
   ]
  },
  {
   "cell_type": "markdown",
   "metadata": {},
   "source": [
    "위의 범위에서는 참인 코드임을 증명하였습니다.\n",
    "\n",
    "또한, 위와 같은 경우 함수의 작동원리를 모르더라도\n",
    "\n",
    "파스칼 수를 구하는 함수가 ```get_pascal_value(n, k)```이라는 사실을 알고 있다면\n",
    "\n",
    "함수를 구현하기 이전에 함수가 만족해야하는 조건을 먼저 지정할 수 있음을 알 수 있습니다.\n",
    "\n",
    "위의 테스트 함수인 ```test_get_pascal_value(n, k)```는 그러한 조건을 검증하고 있습니다."
   ]
  }
 ],
 "metadata": {
  "kernelspec": {
   "display_name": "Python 3",
   "language": "python",
   "name": "python3"
  },
  "language_info": {
   "codemirror_mode": {
    "name": "ipython",
    "version": 3
   },
   "file_extension": ".py",
   "mimetype": "text/x-python",
   "name": "python",
   "nbconvert_exporter": "python",
   "pygments_lexer": "ipython3",
   "version": "3.4.3"
  }
 },
 "nbformat": 4,
 "nbformat_minor": 0
}
