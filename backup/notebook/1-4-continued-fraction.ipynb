{
 "cells": [
  {
   "cell_type": "markdown",
   "metadata": {},
   "source": [
    "앞서 했던 [제곱근 구하기](http://wikibootup.github.io/sicp/1-2-sqrt-flowchart.html)를 돌이켜보면, 원하는 결과가 나올 때까지 '동일한 연산'을 계속 적용했다는 것을 알 수 있습니다.\n",
    "\n",
    "연산은 함수 형태로 표현했고, 이전 함수의 결과가 다음 함수의 인자로 쓰이는 과정을 밟고 있습니다."
   ]
  },
  {
   "cell_type": "markdown",
   "metadata": {},
   "source": [
    "여기서는 이런 반복 연산을 적용할 수 있는 다른 예로 __'연속 분수'__ 문제를 풀어보겠습니다."
   ]
  },
  {
   "cell_type": "markdown",
   "metadata": {},
   "source": [
    "연속 분수를 표현하면,\n",
    "\n",
    "##$f = \\frac{N_1}{D_1 + \\frac{N_2}{D_2 + \\frac{N_3}{D_3 + ...}}}$\n",
    "\n",
    "위와 같습니다."
   ]
  },
  {
   "cell_type": "markdown",
   "metadata": {},
   "source": [
    "약간 복잡해보이지만 순서대로 분리해서 보면 간단해집니다.\n",
    "\n",
    "첫번째 차례에 $\\frac{N_1}{D_1}$으로 시작해서,\n",
    "\n",
    "두번째 차례에 $\\frac{N_2}{D_2}$를 첫번째 결과의 분모에 더해줍니다.\n",
    "\n",
    "이후 과정은 두번째 차례와 동일한 방식으로 진행됩니다."
   ]
  },
  {
   "cell_type": "markdown",
   "metadata": {},
   "source": [
    "연속 분수를 표현하는 함수를 ```continued_fraction```이라고 명칭하겠습니다."
   ]
  },
  {
   "cell_type": "markdown",
   "metadata": {},
   "source": [
    "만들어야 할 ```continued_fraction``` 함수는 다음과 같은 성질을 가집니다.\n",
    "\n",
    "```\n",
    "continued_fraction(n, d, op, k)\n",
    "n: 분자값을 구하기 위한 함수\n",
    "d: 분모값을 구하기 위한 함수\n",
    "op: 분수 사이에 들어갈 연산\n",
    "k: k번째까지의 분자값, 분모값이 있는 연속 분수\n",
    "```"
   ]
  },
  {
   "cell_type": "markdown",
   "metadata": {},
   "source": [
    "```continued_fraction``` 함수가 있다고 가정하고,\n",
    "\n",
    "문제를 하나 풀어보겠습니다.\n",
    "\n",
    "아래는 연속 분수로 나타낸 탄젠트 함수입니다."
   ]
  },
  {
   "cell_type": "markdown",
   "metadata": {},
   "source": [
    "#$tan\\ x = \\frac{x}{1 - \\frac{x^2}{3 - \\frac{x^2}{5 - ...}}}$"
   ]
  },
  {
   "cell_type": "code",
   "execution_count": 1,
   "metadata": {
    "collapsed": true
   },
   "outputs": [],
   "source": [
    "def tan(x, k):\n",
    "    return continued_fraction(\n",
    "        lambda i: x if i == 1 else x ** 2,\n",
    "        lambda i: 2 * i - 1,\n",
    "        lambda op1, op2: op1 - op2,\n",
    "        k\n",
    "    )"
   ]
  },
  {
   "cell_type": "markdown",
   "metadata": {},
   "source": [
    "보통은 재귀보다 반복 프로시저가 구현하기 성가신데\n",
    "\n",
    "연속분수는 반복 프로시저가 더 깔끔하게 나온다는 생각이 들었습니다.\n",
    "\n",
    "그런 의미에서 반복 프로시저로 ```continued_fraction``` 함수를 구현하면,"
   ]
  },
  {
   "cell_type": "code",
   "execution_count": 2,
   "metadata": {
    "collapsed": true
   },
   "outputs": [],
   "source": [
    "def continued_fraction(n, d, op, k):\n",
    "    def cf_iter(k, result):\n",
    "        if k == 0:\n",
    "            return result\n",
    "        else:\n",
    "            return cf_iter(k-1, n(k) / op(d(k), result))\n",
    "    return cf_iter(k, 0)"
   ]
  },
  {
   "cell_type": "markdown",
   "metadata": {},
   "source": [
    "\\* 위의 구현은 k번째 분자와 분모 값을 구하는 것에서부터 시작합니다."
   ]
  },
  {
   "cell_type": "markdown",
   "metadata": {},
   "source": [
    "이 함수를 Python에서 제공하는 ```tan``` 함수와 대조해보면,\n",
    "\n",
    "### $\\frac{\\pi}{6},\\ \\frac{\\pi}{4},\\ \\frac{\\pi}{3}$"
   ]
  },
  {
   "cell_type": "code",
   "execution_count": 6,
   "metadata": {
    "collapsed": false,
    "scrolled": true
   },
   "outputs": [
    {
     "name": "stdout",
     "output_type": "stream",
     "text": [
      "0.5773502691896257\n",
      "0.5773502691896256\n",
      "1.0\n",
      "0.9999999999999999\n",
      "1.732050807568877\n",
      "1.7320508075688767\n"
     ]
    }
   ],
   "source": [
    "import math\n",
    "\n",
    "print(tan(math.pi / 6, 300))\n",
    "print(math.tan(math.pi / 6))\n",
    "\n",
    "print(tan(math.pi / 4, 300))\n",
    "print(math.tan(math.pi / 4))\n",
    "\n",
    "print(tan(math.pi / 3, 300))\n",
    "print(math.tan(math.pi / 3))"
   ]
  },
  {
   "cell_type": "markdown",
   "metadata": {},
   "source": [
    "$\\frac{\\pi}{2}$가 $\\infty$로 발산하므로 이 근방을 피하여\n",
    "\n",
    "범위를 $\\frac{\\pi}{8} < x < \\frac{\\pi}{3}$, $-\\frac{\\pi}{3} < x < -\\frac{\\pi}{8}$ 으로 설정하여\n",
    "\n",
    "좀 더 대조해보면,"
   ]
  },
  {
   "cell_type": "code",
   "execution_count": 7,
   "metadata": {
    "collapsed": true
   },
   "outputs": [],
   "source": [
    "ALLOWABLE_ERROR = 0.00001\n",
    "\n",
    "def accuracy_test(op1, op2, start, end, diff):\n",
    "    if start > end:\n",
    "        return True\n",
    "    return abs(op1(start) - op2(start)) < ALLOWABLE_ERROR and\\\n",
    "        accuracy_test(op1, op2, start + diff, end, diff)"
   ]
  },
  {
   "cell_type": "code",
   "execution_count": 8,
   "metadata": {
    "collapsed": false
   },
   "outputs": [
    {
     "data": {
      "text/plain": [
       "True"
      ]
     },
     "execution_count": 8,
     "metadata": {},
     "output_type": "execute_result"
    }
   ],
   "source": [
    "accuracy_test(lambda angle: tan(angle, 100), math.tan, math.pi/8, math.pi/3, 0.001)"
   ]
  },
  {
   "cell_type": "code",
   "execution_count": 12,
   "metadata": {
    "collapsed": false
   },
   "outputs": [
    {
     "data": {
      "text/plain": [
       "True"
      ]
     },
     "execution_count": 12,
     "metadata": {},
     "output_type": "execute_result"
    }
   ],
   "source": [
    "accuracy_test(lambda angle: tan(angle, 100), math.tan, - math.pi / 3, - math.pi / 8, 0.001)"
   ]
  },
  {
   "cell_type": "markdown",
   "metadata": {},
   "source": [
    "n을 100에서 5로 낮추어 시도해보면,"
   ]
  },
  {
   "cell_type": "code",
   "execution_count": 10,
   "metadata": {
    "collapsed": false
   },
   "outputs": [
    {
     "data": {
      "text/plain": [
       "True"
      ]
     },
     "execution_count": 10,
     "metadata": {},
     "output_type": "execute_result"
    }
   ],
   "source": [
    "accuracy_test(lambda angle: tan(angle, 5), math.tan, math.pi/8, math.pi/3, 0.001)"
   ]
  },
  {
   "cell_type": "code",
   "execution_count": 13,
   "metadata": {
    "collapsed": false
   },
   "outputs": [
    {
     "data": {
      "text/plain": [
       "True"
      ]
     },
     "execution_count": 13,
     "metadata": {},
     "output_type": "execute_result"
    }
   ],
   "source": [
    "accuracy_test(lambda angle: tan(angle, 5), math.tan, - math.pi / 3, - math.pi / 8, 0.001)"
   ]
  },
  {
   "cell_type": "markdown",
   "metadata": {},
   "source": [
    "매우 적은 n 값으로도($n=5$) 파이썬 라이브러리에서 제공하는 $tan$ 값과 근사하게 다다감을 알 수 있습니다."
   ]
  }
 ],
 "metadata": {
  "kernelspec": {
   "display_name": "Python 3",
   "language": "python",
   "name": "python3"
  },
  "language_info": {
   "codemirror_mode": {
    "name": "ipython",
    "version": 3
   },
   "file_extension": ".py",
   "mimetype": "text/x-python",
   "name": "python",
   "nbconvert_exporter": "python",
   "pygments_lexer": "ipython3",
   "version": "3.4.3"
  }
 },
 "nbformat": 4,
 "nbformat_minor": 0
}
