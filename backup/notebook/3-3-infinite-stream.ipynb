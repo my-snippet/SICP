{
 "cells": [
  {
   "cell_type": "markdown",
   "metadata": {},
   "source": [
    "지난 글 [스트림 인터페이스](http://wikibootup.github.io/sicp/3-2-stream-interface.html)에서는 연산을 필요한 만큼만 계산하는 스트림의 개념을 살펴보았고,\n",
    "\n",
    "스트림을 만들기 위한 기본 인터페이스를 만들어보았습니다. \n",
    "\n",
    "여기서는 만들었던 인터페이스를 이용해\n",
    "\n",
    "1. __무한스트림__을 만들어보고,\n",
    "2. 무한스트림 방식으로 팩토리얼 구하기 및 스트림의 부분합 구하기를 해보겠습니다.\n",
    "3. 그리고, 근사값 구하기 문제를 스트림 가속기를 이용하여 풀어보겠습니다."
   ]
  },
  {
   "cell_type": "markdown",
   "metadata": {},
   "source": [
    "저번 글에서 `pair` 타입으로 `stream`을 만들었습니다.\n",
    "\n",
    "쌍의 첫번째에는 현재 값이, 두번째에는 다음 값에 대한 '약속'이 들어있었습니다.\n",
    "\n",
    "만약, 어떤 스트림에 __끝 없이 다음 값이 존재한다면__ 그 스트림을 무한스트림이라고 합니다.\n",
    "\n",
    "'게으르지 않는' 프로그램에서는 한 번 명령하면 모든 연산을 한 방에 끝내려고 하기 떄문에,\n",
    "\n",
    "'무한 재귀 함수' 같은 경우 `Maximum recursion error`와 같은 오류를 일으킵니다.\n",
    "\n",
    "하지만 스트림 연산은 '한 번에 한 계산' 씩 수행하므로, 이런 오류를 피할 수 있습니다."
   ]
  },
  {
   "cell_type": "code",
   "execution_count": 1,
   "metadata": {
    "collapsed": true
   },
   "outputs": [],
   "source": [
    "from modules.basic import cons_stream, apply, \\\n",
    "    nth_elements_extractor, display_stream, stream_enumerate_interval\n",
    "from types import GeneratorType\n",
    "from operator import add\n",
    "import itertools"
   ]
  },
  {
   "cell_type": "markdown",
   "metadata": {},
   "source": [
    "만약, 무한스트림의 값이 영원히 1이라면,\n",
    "\n",
    "(1, 1, 1, ..., 1, ...)\n",
    "\n",
    "아래와 같이 구현을 할 수 있습니다."
   ]
  },
  {
   "cell_type": "code",
   "execution_count": 2,
   "metadata": {
    "collapsed": false
   },
   "outputs": [],
   "source": [
    "def ones():\n",
    "    yield cons_stream(1, ones())"
   ]
  },
  {
   "cell_type": "markdown",
   "metadata": {},
   "source": [
    "재귀 호출의 형태이므로 검증을 위해 처음 2개의 값만 확인해보면,"
   ]
  },
  {
   "cell_type": "code",
   "execution_count": 3,
   "metadata": {
    "collapsed": false
   },
   "outputs": [
    {
     "data": {
      "text/plain": [
       "True"
      ]
     },
     "execution_count": 3,
     "metadata": {},
     "output_type": "execute_result"
    }
   ],
   "source": [
    "1 == next(ones())[0] == next(next(next(ones())[1]))[0]"
   ]
  },
  {
   "cell_type": "markdown",
   "metadata": {},
   "source": [
    "무한 재귀 호출을 막기 위해 제너레이터를 과다 사용한 것 같아 아쉽긴 하지만\n",
    "\n",
    "우선은 이 방법으로 무한스트림을 구현해보겠습니다.\n",
    "\n",
    "깔끔한 연산을 위해서 제너레이터를 산출(`yield`)하는 함수를 추가로 만들겠습니다.\n",
    "\n",
    "1. 제너레이터인지 확인한 후(`is_generator_contained`), \n",
    "2. 산출을 수행하는 두 함수( `yield_sequence`, `yield_stream` )을 정의합니다.\n",
    "\n",
    "\n",
    "`yield_sequence`는 모든 차례열에 대하여,\n",
    "\n",
    "`yield_stream`은 한 스트림 자체에 대하여 연산을 수행합니다."
   ]
  },
  {
   "cell_type": "code",
   "execution_count": 4,
   "metadata": {
    "collapsed": false
   },
   "outputs": [],
   "source": [
    "from types import GeneratorType\n",
    "\n",
    "\n",
    "def is_generator_contained(sequence):\n",
    "    if isinstance(sequence, GeneratorType):\n",
    "        return True\n",
    "    \n",
    "    if len(sequence) == 0:\n",
    "        return False\n",
    "\n",
    "    if isinstance(sequence[0], GeneratorType):\n",
    "        return True\n",
    "    else:\n",
    "        return is_generator_contained(sequence[1:])\n",
    "\n",
    "    \n",
    "def yield_sequence(sequence):\n",
    "    def operate(s):\n",
    "        return tuple(map(lambda e:\n",
    "            next(e) if isinstance(e, GeneratorType)\n",
    "            else e, s))\n",
    "    \n",
    "    if is_generator_contained(sequence):\n",
    "        return yield_sequence(operate(sequence))\n",
    "    else:\n",
    "        return sequence\n",
    "    \n",
    "\n",
    "def yield_stream(stream):\n",
    "    if isinstance(stream, GeneratorType):\n",
    "        return yield_stream(next(stream))\n",
    "    else:\n",
    "        return stream"
   ]
  },
  {
   "cell_type": "markdown",
   "metadata": {},
   "source": [
    "이제 무한 스트림을 위한 `stream_map`을 만들어 보면( 위의 함수를 이용 ),"
   ]
  },
  {
   "cell_type": "code",
   "execution_count": 5,
   "metadata": {
    "collapsed": false
   },
   "outputs": [],
   "source": [
    "def stream_map(f, argstreams):\n",
    "    def inner(f, argstreams):\n",
    "        if not isinstance(argstreams[0], tuple):\n",
    "            yield apply(f, argstreams)\n",
    "        else:\n",
    "            yield cons_stream(\n",
    "                apply(f, nth_elements_extractor(0, argstreams)),\n",
    "                stream_map(f, yield_sequence(\n",
    "                            nth_elements_extractor(1, argstreams))))\n",
    "    return inner(f, yield_sequence(argstreams))"
   ]
  },
  {
   "cell_type": "markdown",
   "metadata": {},
   "source": [
    "검증을 위해 `ones()` 함수를 중복하여 `stream_map` 연산을 수행해보겠습니다.\n",
    "\n",
    "적용할 기능은 덧셈( `add` )입니다."
   ]
  },
  {
   "cell_type": "code",
   "execution_count": 6,
   "metadata": {
    "collapsed": false
   },
   "outputs": [
    {
     "data": {
      "text/plain": [
       "(2, <generator object promise at 0x104c9e3a8>)"
      ]
     },
     "execution_count": 6,
     "metadata": {},
     "output_type": "execute_result"
    }
   ],
   "source": [
    "yield_stream(stream_map(add, (ones(), ones())))"
   ]
  },
  {
   "cell_type": "code",
   "execution_count": 7,
   "metadata": {
    "collapsed": false
   },
   "outputs": [
    {
     "data": {
      "text/plain": [
       "(4, <generator object promise at 0x104c9e558>)"
      ]
     },
     "execution_count": 7,
     "metadata": {},
     "output_type": "execute_result"
    }
   ],
   "source": [
    "yield_stream(stream_map(add, (ones(), ones(), ones(), ones())))"
   ]
  },
  {
   "cell_type": "markdown",
   "metadata": {},
   "source": [
    "다음으로, 유한 스트림을 넣어보겠습니다.\n",
    "\n",
    "저번 글에서 풀었던 범위 내의 두 정수를 덧셈하는 연산을 해보면,"
   ]
  },
  {
   "cell_type": "code",
   "execution_count": 8,
   "metadata": {
    "collapsed": false
   },
   "outputs": [
    {
     "name": "stdout",
     "output_type": "stream",
     "text": [
      "15\n",
      "17\n",
      "19\n",
      "21\n",
      "23\n",
      "25\n",
      "27\n",
      "29\n",
      "31\n",
      "33\n",
      "35\n"
     ]
    }
   ],
   "source": [
    "s2 = stream_enumerate_interval(5, 15)\n",
    "s3 = stream_enumerate_interval(10, 20)\n",
    "\n",
    "a = stream_map(add, (s2, s3))\n",
    "display_stream(a)"
   ]
  },
  {
   "cell_type": "markdown",
   "metadata": {},
   "source": [
    "유한스트림에서도 기능이 동작함을 확인하였습니다."
   ]
  },
  {
   "cell_type": "markdown",
   "metadata": {},
   "source": [
    "다음 번 글에 이어서 설명하도록 하겠습니다."
   ]
  }
 ],
 "metadata": {
  "kernelspec": {
   "display_name": "Python 3",
   "language": "python",
   "name": "python3"
  },
  "language_info": {
   "codemirror_mode": {
    "name": "ipython",
    "version": 3
   },
   "file_extension": ".py",
   "mimetype": "text/x-python",
   "name": "python",
   "nbconvert_exporter": "python",
   "pygments_lexer": "ipython3",
   "version": "3.4.3"
  }
 },
 "nbformat": 4,
 "nbformat_minor": 0
}
